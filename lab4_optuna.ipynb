{
  "nbformat": 4,
  "nbformat_minor": 0,
  "metadata": {
    "colab": {
      "provenance": [],
      "authorship_tag": "ABX9TyOV77bdhM1OLHUcDDU0rEbF",
      "include_colab_link": true
    },
    "kernelspec": {
      "name": "python3",
      "display_name": "Python 3"
    },
    "language_info": {
      "name": "python"
    }
  },
  "cells": [
    {
      "cell_type": "markdown",
      "metadata": {
        "id": "view-in-github",
        "colab_type": "text"
      },
      "source": [
        "<a href=\"https://colab.research.google.com/github/TheClockworkk/ML-Labs-Homeworks/blob/main/lab4_optuna.ipynb\" target=\"_parent\"><img src=\"https://colab.research.google.com/assets/colab-badge.svg\" alt=\"Open In Colab\"/></a>"
      ]
    },
    {
      "cell_type": "markdown",
      "source": [
        "**ТЗ к Лабораторной работе №4:**\n",
        "\n",
        "Найти оптимум функциии с помощью Optuna;\n",
        "\n",
        "Осуществить подбор параметров модели классификации с помощью Optuna"
      ],
      "metadata": {
        "id": "T9ZfIM-LgoAJ"
      }
    },
    {
      "cell_type": "code",
      "execution_count": 174,
      "metadata": {
        "colab": {
          "base_uri": "https://localhost:8080/"
        },
        "id": "PPQEaUE7Gka-",
        "outputId": "1fb9a237-96f9-4f50-b2c7-f5891b2273c2"
      },
      "outputs": [
        {
          "output_type": "stream",
          "name": "stdout",
          "text": [
            "Looking in indexes: https://pypi.org/simple, https://us-python.pkg.dev/colab-wheels/public/simple/\n",
            "Requirement already satisfied: optuna in /usr/local/lib/python3.8/dist-packages (3.0.5)\n",
            "Requirement already satisfied: numpy in /usr/local/lib/python3.8/dist-packages (from optuna) (1.21.6)\n",
            "Requirement already satisfied: cmaes>=0.8.2 in /usr/local/lib/python3.8/dist-packages (from optuna) (0.9.0)\n",
            "Requirement already satisfied: PyYAML in /usr/local/lib/python3.8/dist-packages (from optuna) (6.0)\n",
            "Requirement already satisfied: colorlog in /usr/local/lib/python3.8/dist-packages (from optuna) (6.7.0)\n",
            "Requirement already satisfied: importlib-metadata<5.0.0 in /usr/local/lib/python3.8/dist-packages (from optuna) (4.13.0)\n",
            "Requirement already satisfied: scipy<1.9.0,>=1.7.0 in /usr/local/lib/python3.8/dist-packages (from optuna) (1.7.3)\n",
            "Requirement already satisfied: tqdm in /usr/local/lib/python3.8/dist-packages (from optuna) (4.64.1)\n",
            "Requirement already satisfied: cliff in /usr/local/lib/python3.8/dist-packages (from optuna) (4.1.0)\n",
            "Requirement already satisfied: alembic>=1.5.0 in /usr/local/lib/python3.8/dist-packages (from optuna) (1.9.1)\n",
            "Requirement already satisfied: packaging>=20.0 in /usr/local/lib/python3.8/dist-packages (from optuna) (21.3)\n",
            "Requirement already satisfied: sqlalchemy>=1.3.0 in /usr/local/lib/python3.8/dist-packages (from optuna) (1.4.45)\n",
            "Requirement already satisfied: Mako in /usr/local/lib/python3.8/dist-packages (from alembic>=1.5.0->optuna) (1.2.4)\n",
            "Requirement already satisfied: importlib-resources in /usr/local/lib/python3.8/dist-packages (from alembic>=1.5.0->optuna) (5.10.1)\n",
            "Requirement already satisfied: zipp>=0.5 in /usr/local/lib/python3.8/dist-packages (from importlib-metadata<5.0.0->optuna) (3.11.0)\n",
            "Requirement already satisfied: pyparsing!=3.0.5,>=2.0.2 in /usr/local/lib/python3.8/dist-packages (from packaging>=20.0->optuna) (3.0.9)\n",
            "Requirement already satisfied: greenlet!=0.4.17 in /usr/local/lib/python3.8/dist-packages (from sqlalchemy>=1.3.0->optuna) (2.0.1)\n",
            "Requirement already satisfied: cmd2>=1.0.0 in /usr/local/lib/python3.8/dist-packages (from cliff->optuna) (2.4.2)\n",
            "Requirement already satisfied: PrettyTable>=0.7.2 in /usr/local/lib/python3.8/dist-packages (from cliff->optuna) (3.5.0)\n",
            "Requirement already satisfied: autopage>=0.4.0 in /usr/local/lib/python3.8/dist-packages (from cliff->optuna) (0.5.1)\n",
            "Requirement already satisfied: stevedore>=2.0.1 in /usr/local/lib/python3.8/dist-packages (from cliff->optuna) (4.1.1)\n",
            "Requirement already satisfied: wcwidth>=0.1.7 in /usr/local/lib/python3.8/dist-packages (from cmd2>=1.0.0->cliff->optuna) (0.2.5)\n",
            "Requirement already satisfied: attrs>=16.3.0 in /usr/local/lib/python3.8/dist-packages (from cmd2>=1.0.0->cliff->optuna) (22.1.0)\n",
            "Requirement already satisfied: pyperclip>=1.6 in /usr/local/lib/python3.8/dist-packages (from cmd2>=1.0.0->cliff->optuna) (1.8.2)\n",
            "Requirement already satisfied: pbr!=2.1.0,>=2.0.0 in /usr/local/lib/python3.8/dist-packages (from stevedore>=2.0.1->cliff->optuna) (5.11.0)\n",
            "Requirement already satisfied: MarkupSafe>=0.9.2 in /usr/local/lib/python3.8/dist-packages (from Mako->alembic>=1.5.0->optuna) (2.0.1)\n"
          ]
        }
      ],
      "source": [
        "!pip install optuna"
      ]
    },
    {
      "cell_type": "code",
      "source": [
        "def draw_result(func: callable, bounds: np.array, title: str, x: np.float128, y: np.float128, z:np.float128) -> None:\n",
        "\n",
        "    \"\"\"Визуализация результатов работы оптуны\n",
        "\n",
        "    Args:\n",
        "        func (callable): функция искуственного ландшафта\n",
        "        bounds (np.array): область определения функции\n",
        "        title (str): содержание заголовка\n",
        "    \"\"\"\n",
        "\n",
        "    fig = plt.figure(figsize = (10, 10))\n",
        "    ax = plt.axes(projection = '3d')\n",
        "    ax.scatter(x, y, z, s=250, c=\"white\", lw=2, ec='black', marker = '*')\n",
        "    \n",
        "    x = np.linspace(bounds[0, 0], bounds[1, 0], 100)\n",
        "    y = np.linspace(bounds[0, 1], bounds[1, 1], 100)\n",
        "    \n",
        "    x_grid, y_grid = np.meshgrid(x, y)\n",
        "    z_grid = func(np.array(x_grid), np.array(y_grid))\n",
        "    \n",
        "    ax.plot_surface(x_grid, y_grid, z_grid, cmap = 'nipy_spectral_r', alpha=0.5)    \n",
        "\n",
        "    ax.set_title(title, fontsize = 12, fontweight=\"bold\",loc=\"left\")\n",
        "    ax.set_xlabel('x')\n",
        "    ax.set_ylabel('y')\n",
        "    ax.set_zlabel('z')"
      ],
      "metadata": {
        "id": "bDqSFTT-zfpp"
      },
      "execution_count": 175,
      "outputs": []
    },
    {
      "cell_type": "markdown",
      "source": [
        "**Найдем оптимумы функций из прошлых ЛР**"
      ],
      "metadata": {
        "id": "ORUa0W3u1khs"
      }
    },
    {
      "cell_type": "markdown",
      "source": [
        "Для функции Химмельблау:"
      ],
      "metadata": {
        "id": "YjSt_w8u1yOr"
      }
    },
    {
      "cell_type": "code",
      "source": [
        "import optuna\n",
        "import numpy as np\n",
        "from matplotlib import pyplot as plt\n",
        "\n",
        "def func_Himmelblau(x: np.array, y:np.array) -> np.float128:\n",
        "  return (x * x + y - 11) ** 2 + (x + y * y - 7) ** 2\n",
        "\n",
        "#принимает объект\n",
        "def objective_Himmelblau(trial):\n",
        "    x = trial.suggest_float('x', -5, 5)\n",
        "    y = trial.suggest_float('y', -5, 5)\n",
        "    return func_Himmelblau(x,y)\n",
        "#создает конструктором объект стади, затем через optimize допиливается\n",
        "study = optuna.create_study()\n",
        "study.optimize(objective_Himmelblau, n_trials=100)\n",
        "\n",
        "study.best_params  # E.g. {'x': 2.002108042}"
      ],
      "metadata": {
        "colab": {
          "base_uri": "https://localhost:8080/"
        },
        "id": "RHHxpnrsG1Vu",
        "outputId": "1522f2c0-4d5e-49e3-f8df-33103f8aeafa"
      },
      "execution_count": 176,
      "outputs": [
        {
          "output_type": "stream",
          "name": "stderr",
          "text": [
            "\u001b[32m[I 2022-12-24 15:44:34,142]\u001b[0m A new study created in memory with name: no-name-db1ecab7-ce38-4b24-bf4f-590fa67120e6\u001b[0m\n"
          ]
        },
        {
          "output_type": "stream",
          "name": "stdout",
          "text": [
            "A new study created in memory with name: no-name-db1ecab7-ce38-4b24-bf4f-590fa67120e6\n",
            "A new study created in memory with name: no-name-db1ecab7-ce38-4b24-bf4f-590fa67120e6\n",
            "A new study created in memory with name: no-name-db1ecab7-ce38-4b24-bf4f-590fa67120e6\n",
            "A new study created in memory with name: no-name-db1ecab7-ce38-4b24-bf4f-590fa67120e6\n",
            "A new study created in memory with name: no-name-db1ecab7-ce38-4b24-bf4f-590fa67120e6\n",
            "A new study created in memory with name: no-name-db1ecab7-ce38-4b24-bf4f-590fa67120e6\n",
            "A new study created in memory with name: no-name-db1ecab7-ce38-4b24-bf4f-590fa67120e6\n"
          ]
        },
        {
          "output_type": "stream",
          "name": "stderr",
          "text": [
            "\u001b[32m[I 2022-12-24 15:44:34,159]\u001b[0m Trial 0 finished with value: 120.063947079423 and parameters: {'x': -2.1978526826963174, 'y': -3.7281482112520714}. Best is trial 0 with value: 120.063947079423.\u001b[0m\n"
          ]
        },
        {
          "output_type": "stream",
          "name": "stdout",
          "text": [
            "Trial 0 finished with value: 120.063947079423 and parameters: {'x': -2.1978526826963174, 'y': -3.7281482112520714}. Best is trial 0 with value: 120.063947079423.\n",
            "Trial 0 finished with value: 120.063947079423 and parameters: {'x': -2.1978526826963174, 'y': -3.7281482112520714}. Best is trial 0 with value: 120.063947079423.\n",
            "Trial 0 finished with value: 120.063947079423 and parameters: {'x': -2.1978526826963174, 'y': -3.7281482112520714}. Best is trial 0 with value: 120.063947079423.\n",
            "Trial 0 finished with value: 120.063947079423 and parameters: {'x': -2.1978526826963174, 'y': -3.7281482112520714}. Best is trial 0 with value: 120.063947079423.\n",
            "Trial 0 finished with value: 120.063947079423 and parameters: {'x': -2.1978526826963174, 'y': -3.7281482112520714}. Best is trial 0 with value: 120.063947079423.\n",
            "Trial 0 finished with value: 120.063947079423 and parameters: {'x': -2.1978526826963174, 'y': -3.7281482112520714}. Best is trial 0 with value: 120.063947079423.\n",
            "Trial 0 finished with value: 120.063947079423 and parameters: {'x': -2.1978526826963174, 'y': -3.7281482112520714}. Best is trial 0 with value: 120.063947079423.\n"
          ]
        },
        {
          "output_type": "stream",
          "name": "stderr",
          "text": [
            "\u001b[32m[I 2022-12-24 15:44:34,174]\u001b[0m Trial 1 finished with value: 47.162932732771836 and parameters: {'x': 2.4739883372865847, 'y': -0.4750803234434562}. Best is trial 1 with value: 47.162932732771836.\u001b[0m\n"
          ]
        },
        {
          "output_type": "stream",
          "name": "stdout",
          "text": [
            "Trial 1 finished with value: 47.162932732771836 and parameters: {'x': 2.4739883372865847, 'y': -0.4750803234434562}. Best is trial 1 with value: 47.162932732771836.\n",
            "Trial 1 finished with value: 47.162932732771836 and parameters: {'x': 2.4739883372865847, 'y': -0.4750803234434562}. Best is trial 1 with value: 47.162932732771836.\n",
            "Trial 1 finished with value: 47.162932732771836 and parameters: {'x': 2.4739883372865847, 'y': -0.4750803234434562}. Best is trial 1 with value: 47.162932732771836.\n",
            "Trial 1 finished with value: 47.162932732771836 and parameters: {'x': 2.4739883372865847, 'y': -0.4750803234434562}. Best is trial 1 with value: 47.162932732771836.\n",
            "Trial 1 finished with value: 47.162932732771836 and parameters: {'x': 2.4739883372865847, 'y': -0.4750803234434562}. Best is trial 1 with value: 47.162932732771836.\n",
            "Trial 1 finished with value: 47.162932732771836 and parameters: {'x': 2.4739883372865847, 'y': -0.4750803234434562}. Best is trial 1 with value: 47.162932732771836.\n",
            "Trial 1 finished with value: 47.162932732771836 and parameters: {'x': 2.4739883372865847, 'y': -0.4750803234434562}. Best is trial 1 with value: 47.162932732771836.\n"
          ]
        },
        {
          "output_type": "stream",
          "name": "stderr",
          "text": [
            "\u001b[32m[I 2022-12-24 15:44:34,185]\u001b[0m Trial 2 finished with value: 152.8864130956445 and parameters: {'x': -1.2334600243723792, 'y': -2.8857884664901845}. Best is trial 1 with value: 47.162932732771836.\u001b[0m\n"
          ]
        },
        {
          "output_type": "stream",
          "name": "stdout",
          "text": [
            "Trial 2 finished with value: 152.8864130956445 and parameters: {'x': -1.2334600243723792, 'y': -2.8857884664901845}. Best is trial 1 with value: 47.162932732771836.\n",
            "Trial 2 finished with value: 152.8864130956445 and parameters: {'x': -1.2334600243723792, 'y': -2.8857884664901845}. Best is trial 1 with value: 47.162932732771836.\n",
            "Trial 2 finished with value: 152.8864130956445 and parameters: {'x': -1.2334600243723792, 'y': -2.8857884664901845}. Best is trial 1 with value: 47.162932732771836.\n",
            "Trial 2 finished with value: 152.8864130956445 and parameters: {'x': -1.2334600243723792, 'y': -2.8857884664901845}. Best is trial 1 with value: 47.162932732771836.\n",
            "Trial 2 finished with value: 152.8864130956445 and parameters: {'x': -1.2334600243723792, 'y': -2.8857884664901845}. Best is trial 1 with value: 47.162932732771836.\n",
            "Trial 2 finished with value: 152.8864130956445 and parameters: {'x': -1.2334600243723792, 'y': -2.8857884664901845}. Best is trial 1 with value: 47.162932732771836.\n",
            "Trial 2 finished with value: 152.8864130956445 and parameters: {'x': -1.2334600243723792, 'y': -2.8857884664901845}. Best is trial 1 with value: 47.162932732771836.\n"
          ]
        },
        {
          "output_type": "stream",
          "name": "stderr",
          "text": [
            "\u001b[32m[I 2022-12-24 15:44:34,196]\u001b[0m Trial 3 finished with value: 234.47859352145574 and parameters: {'x': -4.8154453309961, 'y': -1.113786901488527}. Best is trial 1 with value: 47.162932732771836.\u001b[0m\n"
          ]
        },
        {
          "output_type": "stream",
          "name": "stdout",
          "text": [
            "Trial 3 finished with value: 234.47859352145574 and parameters: {'x': -4.8154453309961, 'y': -1.113786901488527}. Best is trial 1 with value: 47.162932732771836.\n",
            "Trial 3 finished with value: 234.47859352145574 and parameters: {'x': -4.8154453309961, 'y': -1.113786901488527}. Best is trial 1 with value: 47.162932732771836.\n",
            "Trial 3 finished with value: 234.47859352145574 and parameters: {'x': -4.8154453309961, 'y': -1.113786901488527}. Best is trial 1 with value: 47.162932732771836.\n",
            "Trial 3 finished with value: 234.47859352145574 and parameters: {'x': -4.8154453309961, 'y': -1.113786901488527}. Best is trial 1 with value: 47.162932732771836.\n",
            "Trial 3 finished with value: 234.47859352145574 and parameters: {'x': -4.8154453309961, 'y': -1.113786901488527}. Best is trial 1 with value: 47.162932732771836.\n",
            "Trial 3 finished with value: 234.47859352145574 and parameters: {'x': -4.8154453309961, 'y': -1.113786901488527}. Best is trial 1 with value: 47.162932732771836.\n",
            "Trial 3 finished with value: 234.47859352145574 and parameters: {'x': -4.8154453309961, 'y': -1.113786901488527}. Best is trial 1 with value: 47.162932732771836.\n"
          ]
        },
        {
          "output_type": "stream",
          "name": "stderr",
          "text": [
            "\u001b[32m[I 2022-12-24 15:44:34,207]\u001b[0m Trial 4 finished with value: 224.44326905030314 and parameters: {'x': 2.3076926325690295, 'y': 4.429664338341144}. Best is trial 1 with value: 47.162932732771836.\u001b[0m\n"
          ]
        },
        {
          "output_type": "stream",
          "name": "stdout",
          "text": [
            "Trial 4 finished with value: 224.44326905030314 and parameters: {'x': 2.3076926325690295, 'y': 4.429664338341144}. Best is trial 1 with value: 47.162932732771836.\n",
            "Trial 4 finished with value: 224.44326905030314 and parameters: {'x': 2.3076926325690295, 'y': 4.429664338341144}. Best is trial 1 with value: 47.162932732771836.\n",
            "Trial 4 finished with value: 224.44326905030314 and parameters: {'x': 2.3076926325690295, 'y': 4.429664338341144}. Best is trial 1 with value: 47.162932732771836.\n",
            "Trial 4 finished with value: 224.44326905030314 and parameters: {'x': 2.3076926325690295, 'y': 4.429664338341144}. Best is trial 1 with value: 47.162932732771836.\n",
            "Trial 4 finished with value: 224.44326905030314 and parameters: {'x': 2.3076926325690295, 'y': 4.429664338341144}. Best is trial 1 with value: 47.162932732771836.\n",
            "Trial 4 finished with value: 224.44326905030314 and parameters: {'x': 2.3076926325690295, 'y': 4.429664338341144}. Best is trial 1 with value: 47.162932732771836.\n",
            "Trial 4 finished with value: 224.44326905030314 and parameters: {'x': 2.3076926325690295, 'y': 4.429664338341144}. Best is trial 1 with value: 47.162932732771836.\n"
          ]
        },
        {
          "output_type": "stream",
          "name": "stderr",
          "text": [
            "\u001b[32m[I 2022-12-24 15:44:34,218]\u001b[0m Trial 5 finished with value: 141.2027383151161 and parameters: {'x': 0.5240952514587836, 'y': 0.5630755577664326}. Best is trial 1 with value: 47.162932732771836.\u001b[0m\n"
          ]
        },
        {
          "output_type": "stream",
          "name": "stdout",
          "text": [
            "Trial 5 finished with value: 141.2027383151161 and parameters: {'x': 0.5240952514587836, 'y': 0.5630755577664326}. Best is trial 1 with value: 47.162932732771836.\n",
            "Trial 5 finished with value: 141.2027383151161 and parameters: {'x': 0.5240952514587836, 'y': 0.5630755577664326}. Best is trial 1 with value: 47.162932732771836.\n",
            "Trial 5 finished with value: 141.2027383151161 and parameters: {'x': 0.5240952514587836, 'y': 0.5630755577664326}. Best is trial 1 with value: 47.162932732771836.\n",
            "Trial 5 finished with value: 141.2027383151161 and parameters: {'x': 0.5240952514587836, 'y': 0.5630755577664326}. Best is trial 1 with value: 47.162932732771836.\n",
            "Trial 5 finished with value: 141.2027383151161 and parameters: {'x': 0.5240952514587836, 'y': 0.5630755577664326}. Best is trial 1 with value: 47.162932732771836.\n",
            "Trial 5 finished with value: 141.2027383151161 and parameters: {'x': 0.5240952514587836, 'y': 0.5630755577664326}. Best is trial 1 with value: 47.162932732771836.\n",
            "Trial 5 finished with value: 141.2027383151161 and parameters: {'x': 0.5240952514587836, 'y': 0.5630755577664326}. Best is trial 1 with value: 47.162932732771836.\n"
          ]
        },
        {
          "output_type": "stream",
          "name": "stderr",
          "text": [
            "\u001b[32m[I 2022-12-24 15:44:34,230]\u001b[0m Trial 6 finished with value: 64.92471160682695 and parameters: {'x': 1.8608631803427889, 'y': 0.8252518515670175}. Best is trial 1 with value: 47.162932732771836.\u001b[0m\n"
          ]
        },
        {
          "output_type": "stream",
          "name": "stdout",
          "text": [
            "Trial 6 finished with value: 64.92471160682695 and parameters: {'x': 1.8608631803427889, 'y': 0.8252518515670175}. Best is trial 1 with value: 47.162932732771836.\n",
            "Trial 6 finished with value: 64.92471160682695 and parameters: {'x': 1.8608631803427889, 'y': 0.8252518515670175}. Best is trial 1 with value: 47.162932732771836.\n",
            "Trial 6 finished with value: 64.92471160682695 and parameters: {'x': 1.8608631803427889, 'y': 0.8252518515670175}. Best is trial 1 with value: 47.162932732771836.\n",
            "Trial 6 finished with value: 64.92471160682695 and parameters: {'x': 1.8608631803427889, 'y': 0.8252518515670175}. Best is trial 1 with value: 47.162932732771836.\n",
            "Trial 6 finished with value: 64.92471160682695 and parameters: {'x': 1.8608631803427889, 'y': 0.8252518515670175}. Best is trial 1 with value: 47.162932732771836.\n",
            "Trial 6 finished with value: 64.92471160682695 and parameters: {'x': 1.8608631803427889, 'y': 0.8252518515670175}. Best is trial 1 with value: 47.162932732771836.\n",
            "Trial 6 finished with value: 64.92471160682695 and parameters: {'x': 1.8608631803427889, 'y': 0.8252518515670175}. Best is trial 1 with value: 47.162932732771836.\n"
          ]
        },
        {
          "output_type": "stream",
          "name": "stderr",
          "text": [
            "\u001b[32m[I 2022-12-24 15:44:34,240]\u001b[0m Trial 7 finished with value: 202.05564587535846 and parameters: {'x': 0.07973864230759986, 'y': -3.0350777147232755}. Best is trial 1 with value: 47.162932732771836.\u001b[0m\n"
          ]
        },
        {
          "output_type": "stream",
          "name": "stdout",
          "text": [
            "Trial 7 finished with value: 202.05564587535846 and parameters: {'x': 0.07973864230759986, 'y': -3.0350777147232755}. Best is trial 1 with value: 47.162932732771836.\n",
            "Trial 7 finished with value: 202.05564587535846 and parameters: {'x': 0.07973864230759986, 'y': -3.0350777147232755}. Best is trial 1 with value: 47.162932732771836.\n",
            "Trial 7 finished with value: 202.05564587535846 and parameters: {'x': 0.07973864230759986, 'y': -3.0350777147232755}. Best is trial 1 with value: 47.162932732771836.\n",
            "Trial 7 finished with value: 202.05564587535846 and parameters: {'x': 0.07973864230759986, 'y': -3.0350777147232755}. Best is trial 1 with value: 47.162932732771836.\n",
            "Trial 7 finished with value: 202.05564587535846 and parameters: {'x': 0.07973864230759986, 'y': -3.0350777147232755}. Best is trial 1 with value: 47.162932732771836.\n",
            "Trial 7 finished with value: 202.05564587535846 and parameters: {'x': 0.07973864230759986, 'y': -3.0350777147232755}. Best is trial 1 with value: 47.162932732771836.\n",
            "Trial 7 finished with value: 202.05564587535846 and parameters: {'x': 0.07973864230759986, 'y': -3.0350777147232755}. Best is trial 1 with value: 47.162932732771836.\n"
          ]
        },
        {
          "output_type": "stream",
          "name": "stderr",
          "text": [
            "\u001b[32m[I 2022-12-24 15:44:34,251]\u001b[0m Trial 8 finished with value: 324.1328230059939 and parameters: {'x': -4.891591000342389, 'y': 4.182468327449527}. Best is trial 1 with value: 47.162932732771836.\u001b[0m\n"
          ]
        },
        {
          "output_type": "stream",
          "name": "stdout",
          "text": [
            "Trial 8 finished with value: 324.1328230059939 and parameters: {'x': -4.891591000342389, 'y': 4.182468327449527}. Best is trial 1 with value: 47.162932732771836.\n",
            "Trial 8 finished with value: 324.1328230059939 and parameters: {'x': -4.891591000342389, 'y': 4.182468327449527}. Best is trial 1 with value: 47.162932732771836.\n",
            "Trial 8 finished with value: 324.1328230059939 and parameters: {'x': -4.891591000342389, 'y': 4.182468327449527}. Best is trial 1 with value: 47.162932732771836.\n",
            "Trial 8 finished with value: 324.1328230059939 and parameters: {'x': -4.891591000342389, 'y': 4.182468327449527}. Best is trial 1 with value: 47.162932732771836.\n",
            "Trial 8 finished with value: 324.1328230059939 and parameters: {'x': -4.891591000342389, 'y': 4.182468327449527}. Best is trial 1 with value: 47.162932732771836.\n",
            "Trial 8 finished with value: 324.1328230059939 and parameters: {'x': -4.891591000342389, 'y': 4.182468327449527}. Best is trial 1 with value: 47.162932732771836.\n",
            "Trial 8 finished with value: 324.1328230059939 and parameters: {'x': -4.891591000342389, 'y': 4.182468327449527}. Best is trial 1 with value: 47.162932732771836.\n"
          ]
        },
        {
          "output_type": "stream",
          "name": "stderr",
          "text": [
            "\u001b[32m[I 2022-12-24 15:44:34,262]\u001b[0m Trial 9 finished with value: 41.77845425930218 and parameters: {'x': -2.0225235367905894, 'y': 2.1549386415713903}. Best is trial 9 with value: 41.77845425930218.\u001b[0m\n"
          ]
        },
        {
          "output_type": "stream",
          "name": "stdout",
          "text": [
            "Trial 9 finished with value: 41.77845425930218 and parameters: {'x': -2.0225235367905894, 'y': 2.1549386415713903}. Best is trial 9 with value: 41.77845425930218.\n",
            "Trial 9 finished with value: 41.77845425930218 and parameters: {'x': -2.0225235367905894, 'y': 2.1549386415713903}. Best is trial 9 with value: 41.77845425930218.\n",
            "Trial 9 finished with value: 41.77845425930218 and parameters: {'x': -2.0225235367905894, 'y': 2.1549386415713903}. Best is trial 9 with value: 41.77845425930218.\n",
            "Trial 9 finished with value: 41.77845425930218 and parameters: {'x': -2.0225235367905894, 'y': 2.1549386415713903}. Best is trial 9 with value: 41.77845425930218.\n",
            "Trial 9 finished with value: 41.77845425930218 and parameters: {'x': -2.0225235367905894, 'y': 2.1549386415713903}. Best is trial 9 with value: 41.77845425930218.\n",
            "Trial 9 finished with value: 41.77845425930218 and parameters: {'x': -2.0225235367905894, 'y': 2.1549386415713903}. Best is trial 9 with value: 41.77845425930218.\n",
            "Trial 9 finished with value: 41.77845425930218 and parameters: {'x': -2.0225235367905894, 'y': 2.1549386415713903}. Best is trial 9 with value: 41.77845425930218.\n"
          ]
        },
        {
          "output_type": "stream",
          "name": "stderr",
          "text": [
            "\u001b[32m[I 2022-12-24 15:44:34,293]\u001b[0m Trial 10 finished with value: 183.0006121765095 and parameters: {'x': 4.687665703164013, 'y': 2.260826782979573}. Best is trial 9 with value: 41.77845425930218.\u001b[0m\n"
          ]
        },
        {
          "output_type": "stream",
          "name": "stdout",
          "text": [
            "Trial 10 finished with value: 183.0006121765095 and parameters: {'x': 4.687665703164013, 'y': 2.260826782979573}. Best is trial 9 with value: 41.77845425930218.\n",
            "Trial 10 finished with value: 183.0006121765095 and parameters: {'x': 4.687665703164013, 'y': 2.260826782979573}. Best is trial 9 with value: 41.77845425930218.\n",
            "Trial 10 finished with value: 183.0006121765095 and parameters: {'x': 4.687665703164013, 'y': 2.260826782979573}. Best is trial 9 with value: 41.77845425930218.\n",
            "Trial 10 finished with value: 183.0006121765095 and parameters: {'x': 4.687665703164013, 'y': 2.260826782979573}. Best is trial 9 with value: 41.77845425930218.\n",
            "Trial 10 finished with value: 183.0006121765095 and parameters: {'x': 4.687665703164013, 'y': 2.260826782979573}. Best is trial 9 with value: 41.77845425930218.\n",
            "Trial 10 finished with value: 183.0006121765095 and parameters: {'x': 4.687665703164013, 'y': 2.260826782979573}. Best is trial 9 with value: 41.77845425930218.\n",
            "Trial 10 finished with value: 183.0006121765095 and parameters: {'x': 4.687665703164013, 'y': 2.260826782979573}. Best is trial 9 with value: 41.77845425930218.\n"
          ]
        },
        {
          "output_type": "stream",
          "name": "stderr",
          "text": [
            "\u001b[32m[I 2022-12-24 15:44:34,327]\u001b[0m Trial 11 finished with value: 162.92571096424572 and parameters: {'x': 4.588366685512953, 'y': 2.3390394753377977}. Best is trial 9 with value: 41.77845425930218.\u001b[0m\n"
          ]
        },
        {
          "output_type": "stream",
          "name": "stdout",
          "text": [
            "Trial 11 finished with value: 162.92571096424572 and parameters: {'x': 4.588366685512953, 'y': 2.3390394753377977}. Best is trial 9 with value: 41.77845425930218.\n",
            "Trial 11 finished with value: 162.92571096424572 and parameters: {'x': 4.588366685512953, 'y': 2.3390394753377977}. Best is trial 9 with value: 41.77845425930218.\n",
            "Trial 11 finished with value: 162.92571096424572 and parameters: {'x': 4.588366685512953, 'y': 2.3390394753377977}. Best is trial 9 with value: 41.77845425930218.\n",
            "Trial 11 finished with value: 162.92571096424572 and parameters: {'x': 4.588366685512953, 'y': 2.3390394753377977}. Best is trial 9 with value: 41.77845425930218.\n",
            "Trial 11 finished with value: 162.92571096424572 and parameters: {'x': 4.588366685512953, 'y': 2.3390394753377977}. Best is trial 9 with value: 41.77845425930218.\n",
            "Trial 11 finished with value: 162.92571096424572 and parameters: {'x': 4.588366685512953, 'y': 2.3390394753377977}. Best is trial 9 with value: 41.77845425930218.\n",
            "Trial 11 finished with value: 162.92571096424572 and parameters: {'x': 4.588366685512953, 'y': 2.3390394753377977}. Best is trial 9 with value: 41.77845425930218.\n"
          ]
        },
        {
          "output_type": "stream",
          "name": "stderr",
          "text": [
            "\u001b[32m[I 2022-12-24 15:44:34,361]\u001b[0m Trial 12 finished with value: 108.61245711184137 and parameters: {'x': -2.368273230130424, 'y': -1.1035599976511021}. Best is trial 9 with value: 41.77845425930218.\u001b[0m\n"
          ]
        },
        {
          "output_type": "stream",
          "name": "stdout",
          "text": [
            "Trial 12 finished with value: 108.61245711184137 and parameters: {'x': -2.368273230130424, 'y': -1.1035599976511021}. Best is trial 9 with value: 41.77845425930218.\n",
            "Trial 12 finished with value: 108.61245711184137 and parameters: {'x': -2.368273230130424, 'y': -1.1035599976511021}. Best is trial 9 with value: 41.77845425930218.\n",
            "Trial 12 finished with value: 108.61245711184137 and parameters: {'x': -2.368273230130424, 'y': -1.1035599976511021}. Best is trial 9 with value: 41.77845425930218.\n",
            "Trial 12 finished with value: 108.61245711184137 and parameters: {'x': -2.368273230130424, 'y': -1.1035599976511021}. Best is trial 9 with value: 41.77845425930218.\n",
            "Trial 12 finished with value: 108.61245711184137 and parameters: {'x': -2.368273230130424, 'y': -1.1035599976511021}. Best is trial 9 with value: 41.77845425930218.\n",
            "Trial 12 finished with value: 108.61245711184137 and parameters: {'x': -2.368273230130424, 'y': -1.1035599976511021}. Best is trial 9 with value: 41.77845425930218.\n",
            "Trial 12 finished with value: 108.61245711184137 and parameters: {'x': -2.368273230130424, 'y': -1.1035599976511021}. Best is trial 9 with value: 41.77845425930218.\n"
          ]
        },
        {
          "output_type": "stream",
          "name": "stderr",
          "text": [
            "\u001b[32m[I 2022-12-24 15:44:34,389]\u001b[0m Trial 13 finished with value: 7.809267202977498 and parameters: {'x': 2.457179100163131, 'y': 2.356169336397018}. Best is trial 13 with value: 7.809267202977498.\u001b[0m\n"
          ]
        },
        {
          "output_type": "stream",
          "name": "stdout",
          "text": [
            "Trial 13 finished with value: 7.809267202977498 and parameters: {'x': 2.457179100163131, 'y': 2.356169336397018}. Best is trial 13 with value: 7.809267202977498.\n",
            "Trial 13 finished with value: 7.809267202977498 and parameters: {'x': 2.457179100163131, 'y': 2.356169336397018}. Best is trial 13 with value: 7.809267202977498.\n",
            "Trial 13 finished with value: 7.809267202977498 and parameters: {'x': 2.457179100163131, 'y': 2.356169336397018}. Best is trial 13 with value: 7.809267202977498.\n",
            "Trial 13 finished with value: 7.809267202977498 and parameters: {'x': 2.457179100163131, 'y': 2.356169336397018}. Best is trial 13 with value: 7.809267202977498.\n",
            "Trial 13 finished with value: 7.809267202977498 and parameters: {'x': 2.457179100163131, 'y': 2.356169336397018}. Best is trial 13 with value: 7.809267202977498.\n",
            "Trial 13 finished with value: 7.809267202977498 and parameters: {'x': 2.457179100163131, 'y': 2.356169336397018}. Best is trial 13 with value: 7.809267202977498.\n",
            "Trial 13 finished with value: 7.809267202977498 and parameters: {'x': 2.457179100163131, 'y': 2.356169336397018}. Best is trial 13 with value: 7.809267202977498.\n"
          ]
        },
        {
          "output_type": "stream",
          "name": "stderr",
          "text": [
            "\u001b[32m[I 2022-12-24 15:44:34,421]\u001b[0m Trial 14 finished with value: 14.139410511090587 and parameters: {'x': -2.942298979993327, 'y': 2.4869295396255873}. Best is trial 13 with value: 7.809267202977498.\u001b[0m\n"
          ]
        },
        {
          "output_type": "stream",
          "name": "stdout",
          "text": [
            "Trial 14 finished with value: 14.139410511090587 and parameters: {'x': -2.942298979993327, 'y': 2.4869295396255873}. Best is trial 13 with value: 7.809267202977498.\n",
            "Trial 14 finished with value: 14.139410511090587 and parameters: {'x': -2.942298979993327, 'y': 2.4869295396255873}. Best is trial 13 with value: 7.809267202977498.\n",
            "Trial 14 finished with value: 14.139410511090587 and parameters: {'x': -2.942298979993327, 'y': 2.4869295396255873}. Best is trial 13 with value: 7.809267202977498.\n",
            "Trial 14 finished with value: 14.139410511090587 and parameters: {'x': -2.942298979993327, 'y': 2.4869295396255873}. Best is trial 13 with value: 7.809267202977498.\n",
            "Trial 14 finished with value: 14.139410511090587 and parameters: {'x': -2.942298979993327, 'y': 2.4869295396255873}. Best is trial 13 with value: 7.809267202977498.\n",
            "Trial 14 finished with value: 14.139410511090587 and parameters: {'x': -2.942298979993327, 'y': 2.4869295396255873}. Best is trial 13 with value: 7.809267202977498.\n",
            "Trial 14 finished with value: 14.139410511090587 and parameters: {'x': -2.942298979993327, 'y': 2.4869295396255873}. Best is trial 13 with value: 7.809267202977498.\n"
          ]
        },
        {
          "output_type": "stream",
          "name": "stderr",
          "text": [
            "\u001b[32m[I 2022-12-24 15:44:34,457]\u001b[0m Trial 15 finished with value: 44.576288330299114 and parameters: {'x': -3.797613958235898, 'y': 3.2506917573099967}. Best is trial 13 with value: 7.809267202977498.\u001b[0m\n"
          ]
        },
        {
          "output_type": "stream",
          "name": "stdout",
          "text": [
            "Trial 15 finished with value: 44.576288330299114 and parameters: {'x': -3.797613958235898, 'y': 3.2506917573099967}. Best is trial 13 with value: 7.809267202977498.\n",
            "Trial 15 finished with value: 44.576288330299114 and parameters: {'x': -3.797613958235898, 'y': 3.2506917573099967}. Best is trial 13 with value: 7.809267202977498.\n",
            "Trial 15 finished with value: 44.576288330299114 and parameters: {'x': -3.797613958235898, 'y': 3.2506917573099967}. Best is trial 13 with value: 7.809267202977498.\n",
            "Trial 15 finished with value: 44.576288330299114 and parameters: {'x': -3.797613958235898, 'y': 3.2506917573099967}. Best is trial 13 with value: 7.809267202977498.\n",
            "Trial 15 finished with value: 44.576288330299114 and parameters: {'x': -3.797613958235898, 'y': 3.2506917573099967}. Best is trial 13 with value: 7.809267202977498.\n",
            "Trial 15 finished with value: 44.576288330299114 and parameters: {'x': -3.797613958235898, 'y': 3.2506917573099967}. Best is trial 13 with value: 7.809267202977498.\n",
            "Trial 15 finished with value: 44.576288330299114 and parameters: {'x': -3.797613958235898, 'y': 3.2506917573099967}. Best is trial 13 with value: 7.809267202977498.\n"
          ]
        },
        {
          "output_type": "stream",
          "name": "stderr",
          "text": [
            "\u001b[32m[I 2022-12-24 15:44:34,489]\u001b[0m Trial 16 finished with value: 10.23504355561322 and parameters: {'x': 3.4981391523023913, 'y': 1.191099213478148}. Best is trial 13 with value: 7.809267202977498.\u001b[0m\n"
          ]
        },
        {
          "output_type": "stream",
          "name": "stdout",
          "text": [
            "Trial 16 finished with value: 10.23504355561322 and parameters: {'x': 3.4981391523023913, 'y': 1.191099213478148}. Best is trial 13 with value: 7.809267202977498.\n",
            "Trial 16 finished with value: 10.23504355561322 and parameters: {'x': 3.4981391523023913, 'y': 1.191099213478148}. Best is trial 13 with value: 7.809267202977498.\n",
            "Trial 16 finished with value: 10.23504355561322 and parameters: {'x': 3.4981391523023913, 'y': 1.191099213478148}. Best is trial 13 with value: 7.809267202977498.\n",
            "Trial 16 finished with value: 10.23504355561322 and parameters: {'x': 3.4981391523023913, 'y': 1.191099213478148}. Best is trial 13 with value: 7.809267202977498.\n",
            "Trial 16 finished with value: 10.23504355561322 and parameters: {'x': 3.4981391523023913, 'y': 1.191099213478148}. Best is trial 13 with value: 7.809267202977498.\n",
            "Trial 16 finished with value: 10.23504355561322 and parameters: {'x': 3.4981391523023913, 'y': 1.191099213478148}. Best is trial 13 with value: 7.809267202977498.\n",
            "Trial 16 finished with value: 10.23504355561322 and parameters: {'x': 3.4981391523023913, 'y': 1.191099213478148}. Best is trial 13 with value: 7.809267202977498.\n"
          ]
        },
        {
          "output_type": "stream",
          "name": "stderr",
          "text": [
            "\u001b[32m[I 2022-12-24 15:44:34,522]\u001b[0m Trial 17 finished with value: 91.52643764841343 and parameters: {'x': 1.3439078282278403, 'y': 0.9218774616039416}. Best is trial 13 with value: 7.809267202977498.\u001b[0m\n"
          ]
        },
        {
          "output_type": "stream",
          "name": "stdout",
          "text": [
            "Trial 17 finished with value: 91.52643764841343 and parameters: {'x': 1.3439078282278403, 'y': 0.9218774616039416}. Best is trial 13 with value: 7.809267202977498.\n",
            "Trial 17 finished with value: 91.52643764841343 and parameters: {'x': 1.3439078282278403, 'y': 0.9218774616039416}. Best is trial 13 with value: 7.809267202977498.\n",
            "Trial 17 finished with value: 91.52643764841343 and parameters: {'x': 1.3439078282278403, 'y': 0.9218774616039416}. Best is trial 13 with value: 7.809267202977498.\n",
            "Trial 17 finished with value: 91.52643764841343 and parameters: {'x': 1.3439078282278403, 'y': 0.9218774616039416}. Best is trial 13 with value: 7.809267202977498.\n",
            "Trial 17 finished with value: 91.52643764841343 and parameters: {'x': 1.3439078282278403, 'y': 0.9218774616039416}. Best is trial 13 with value: 7.809267202977498.\n",
            "Trial 17 finished with value: 91.52643764841343 and parameters: {'x': 1.3439078282278403, 'y': 0.9218774616039416}. Best is trial 13 with value: 7.809267202977498.\n",
            "Trial 17 finished with value: 91.52643764841343 and parameters: {'x': 1.3439078282278403, 'y': 0.9218774616039416}. Best is trial 13 with value: 7.809267202977498.\n"
          ]
        },
        {
          "output_type": "stream",
          "name": "stderr",
          "text": [
            "\u001b[32m[I 2022-12-24 15:44:34,573]\u001b[0m Trial 18 finished with value: 124.08449252234531 and parameters: {'x': 3.5221514598338683, 'y': 3.660404825509324}. Best is trial 13 with value: 7.809267202977498.\u001b[0m\n"
          ]
        },
        {
          "output_type": "stream",
          "name": "stdout",
          "text": [
            "Trial 18 finished with value: 124.08449252234531 and parameters: {'x': 3.5221514598338683, 'y': 3.660404825509324}. Best is trial 13 with value: 7.809267202977498.\n",
            "Trial 18 finished with value: 124.08449252234531 and parameters: {'x': 3.5221514598338683, 'y': 3.660404825509324}. Best is trial 13 with value: 7.809267202977498.\n",
            "Trial 18 finished with value: 124.08449252234531 and parameters: {'x': 3.5221514598338683, 'y': 3.660404825509324}. Best is trial 13 with value: 7.809267202977498.\n",
            "Trial 18 finished with value: 124.08449252234531 and parameters: {'x': 3.5221514598338683, 'y': 3.660404825509324}. Best is trial 13 with value: 7.809267202977498.\n",
            "Trial 18 finished with value: 124.08449252234531 and parameters: {'x': 3.5221514598338683, 'y': 3.660404825509324}. Best is trial 13 with value: 7.809267202977498.\n",
            "Trial 18 finished with value: 124.08449252234531 and parameters: {'x': 3.5221514598338683, 'y': 3.660404825509324}. Best is trial 13 with value: 7.809267202977498.\n",
            "Trial 18 finished with value: 124.08449252234531 and parameters: {'x': 3.5221514598338683, 'y': 3.660404825509324}. Best is trial 13 with value: 7.809267202977498.\n"
          ]
        },
        {
          "output_type": "stream",
          "name": "stderr",
          "text": [
            "\u001b[32m[I 2022-12-24 15:44:34,629]\u001b[0m Trial 19 finished with value: 397.5264705756774 and parameters: {'x': 3.485784119840753, 'y': -4.807705281983531}. Best is trial 13 with value: 7.809267202977498.\u001b[0m\n"
          ]
        },
        {
          "output_type": "stream",
          "name": "stdout",
          "text": [
            "Trial 19 finished with value: 397.5264705756774 and parameters: {'x': 3.485784119840753, 'y': -4.807705281983531}. Best is trial 13 with value: 7.809267202977498.\n",
            "Trial 19 finished with value: 397.5264705756774 and parameters: {'x': 3.485784119840753, 'y': -4.807705281983531}. Best is trial 13 with value: 7.809267202977498.\n",
            "Trial 19 finished with value: 397.5264705756774 and parameters: {'x': 3.485784119840753, 'y': -4.807705281983531}. Best is trial 13 with value: 7.809267202977498.\n",
            "Trial 19 finished with value: 397.5264705756774 and parameters: {'x': 3.485784119840753, 'y': -4.807705281983531}. Best is trial 13 with value: 7.809267202977498.\n",
            "Trial 19 finished with value: 397.5264705756774 and parameters: {'x': 3.485784119840753, 'y': -4.807705281983531}. Best is trial 13 with value: 7.809267202977498.\n",
            "Trial 19 finished with value: 397.5264705756774 and parameters: {'x': 3.485784119840753, 'y': -4.807705281983531}. Best is trial 13 with value: 7.809267202977498.\n",
            "Trial 19 finished with value: 397.5264705756774 and parameters: {'x': 3.485784119840753, 'y': -4.807705281983531}. Best is trial 13 with value: 7.809267202977498.\n"
          ]
        },
        {
          "output_type": "stream",
          "name": "stderr",
          "text": [
            "\u001b[32m[I 2022-12-24 15:44:34,667]\u001b[0m Trial 20 finished with value: 8.294412069435825 and parameters: {'x': 3.464912398456944, 'y': 1.3934474670070618}. Best is trial 13 with value: 7.809267202977498.\u001b[0m\n"
          ]
        },
        {
          "output_type": "stream",
          "name": "stdout",
          "text": [
            "Trial 20 finished with value: 8.294412069435825 and parameters: {'x': 3.464912398456944, 'y': 1.3934474670070618}. Best is trial 13 with value: 7.809267202977498.\n",
            "Trial 20 finished with value: 8.294412069435825 and parameters: {'x': 3.464912398456944, 'y': 1.3934474670070618}. Best is trial 13 with value: 7.809267202977498.\n",
            "Trial 20 finished with value: 8.294412069435825 and parameters: {'x': 3.464912398456944, 'y': 1.3934474670070618}. Best is trial 13 with value: 7.809267202977498.\n",
            "Trial 20 finished with value: 8.294412069435825 and parameters: {'x': 3.464912398456944, 'y': 1.3934474670070618}. Best is trial 13 with value: 7.809267202977498.\n",
            "Trial 20 finished with value: 8.294412069435825 and parameters: {'x': 3.464912398456944, 'y': 1.3934474670070618}. Best is trial 13 with value: 7.809267202977498.\n",
            "Trial 20 finished with value: 8.294412069435825 and parameters: {'x': 3.464912398456944, 'y': 1.3934474670070618}. Best is trial 13 with value: 7.809267202977498.\n",
            "Trial 20 finished with value: 8.294412069435825 and parameters: {'x': 3.464912398456944, 'y': 1.3934474670070618}. Best is trial 13 with value: 7.809267202977498.\n"
          ]
        },
        {
          "output_type": "stream",
          "name": "stderr",
          "text": [
            "\u001b[32m[I 2022-12-24 15:44:34,705]\u001b[0m Trial 21 finished with value: 7.120468069078515 and parameters: {'x': 3.435567599895211, 'y': 1.4744974796616226}. Best is trial 21 with value: 7.120468069078515.\u001b[0m\n"
          ]
        },
        {
          "output_type": "stream",
          "name": "stdout",
          "text": [
            "Trial 21 finished with value: 7.120468069078515 and parameters: {'x': 3.435567599895211, 'y': 1.4744974796616226}. Best is trial 21 with value: 7.120468069078515.\n",
            "Trial 21 finished with value: 7.120468069078515 and parameters: {'x': 3.435567599895211, 'y': 1.4744974796616226}. Best is trial 21 with value: 7.120468069078515.\n",
            "Trial 21 finished with value: 7.120468069078515 and parameters: {'x': 3.435567599895211, 'y': 1.4744974796616226}. Best is trial 21 with value: 7.120468069078515.\n",
            "Trial 21 finished with value: 7.120468069078515 and parameters: {'x': 3.435567599895211, 'y': 1.4744974796616226}. Best is trial 21 with value: 7.120468069078515.\n",
            "Trial 21 finished with value: 7.120468069078515 and parameters: {'x': 3.435567599895211, 'y': 1.4744974796616226}. Best is trial 21 with value: 7.120468069078515.\n",
            "Trial 21 finished with value: 7.120468069078515 and parameters: {'x': 3.435567599895211, 'y': 1.4744974796616226}. Best is trial 21 with value: 7.120468069078515.\n",
            "Trial 21 finished with value: 7.120468069078515 and parameters: {'x': 3.435567599895211, 'y': 1.4744974796616226}. Best is trial 21 with value: 7.120468069078515.\n"
          ]
        },
        {
          "output_type": "stream",
          "name": "stderr",
          "text": [
            "\u001b[32m[I 2022-12-24 15:44:34,744]\u001b[0m Trial 22 finished with value: 5.0419300405084595 and parameters: {'x': 2.928562425677436, 'y': 1.4338358546993542}. Best is trial 22 with value: 5.0419300405084595.\u001b[0m\n"
          ]
        },
        {
          "output_type": "stream",
          "name": "stdout",
          "text": [
            "Trial 22 finished with value: 5.0419300405084595 and parameters: {'x': 2.928562425677436, 'y': 1.4338358546993542}. Best is trial 22 with value: 5.0419300405084595.\n",
            "Trial 22 finished with value: 5.0419300405084595 and parameters: {'x': 2.928562425677436, 'y': 1.4338358546993542}. Best is trial 22 with value: 5.0419300405084595.\n",
            "Trial 22 finished with value: 5.0419300405084595 and parameters: {'x': 2.928562425677436, 'y': 1.4338358546993542}. Best is trial 22 with value: 5.0419300405084595.\n",
            "Trial 22 finished with value: 5.0419300405084595 and parameters: {'x': 2.928562425677436, 'y': 1.4338358546993542}. Best is trial 22 with value: 5.0419300405084595.\n",
            "Trial 22 finished with value: 5.0419300405084595 and parameters: {'x': 2.928562425677436, 'y': 1.4338358546993542}. Best is trial 22 with value: 5.0419300405084595.\n",
            "Trial 22 finished with value: 5.0419300405084595 and parameters: {'x': 2.928562425677436, 'y': 1.4338358546993542}. Best is trial 22 with value: 5.0419300405084595.\n",
            "Trial 22 finished with value: 5.0419300405084595 and parameters: {'x': 2.928562425677436, 'y': 1.4338358546993542}. Best is trial 22 with value: 5.0419300405084595.\n"
          ]
        },
        {
          "output_type": "stream",
          "name": "stderr",
          "text": [
            "\u001b[32m[I 2022-12-24 15:44:34,778]\u001b[0m Trial 23 finished with value: 136.95346819123483 and parameters: {'x': 0.9565093400590055, 'y': 0.061358978714576295}. Best is trial 22 with value: 5.0419300405084595.\u001b[0m\n"
          ]
        },
        {
          "output_type": "stream",
          "name": "stdout",
          "text": [
            "Trial 23 finished with value: 136.95346819123483 and parameters: {'x': 0.9565093400590055, 'y': 0.061358978714576295}. Best is trial 22 with value: 5.0419300405084595.\n",
            "Trial 23 finished with value: 136.95346819123483 and parameters: {'x': 0.9565093400590055, 'y': 0.061358978714576295}. Best is trial 22 with value: 5.0419300405084595.\n",
            "Trial 23 finished with value: 136.95346819123483 and parameters: {'x': 0.9565093400590055, 'y': 0.061358978714576295}. Best is trial 22 with value: 5.0419300405084595.\n",
            "Trial 23 finished with value: 136.95346819123483 and parameters: {'x': 0.9565093400590055, 'y': 0.061358978714576295}. Best is trial 22 with value: 5.0419300405084595.\n",
            "Trial 23 finished with value: 136.95346819123483 and parameters: {'x': 0.9565093400590055, 'y': 0.061358978714576295}. Best is trial 22 with value: 5.0419300405084595.\n",
            "Trial 23 finished with value: 136.95346819123483 and parameters: {'x': 0.9565093400590055, 'y': 0.061358978714576295}. Best is trial 22 with value: 5.0419300405084595.\n",
            "Trial 23 finished with value: 136.95346819123483 and parameters: {'x': 0.9565093400590055, 'y': 0.061358978714576295}. Best is trial 22 with value: 5.0419300405084595.\n"
          ]
        },
        {
          "output_type": "stream",
          "name": "stderr",
          "text": [
            "\u001b[32m[I 2022-12-24 15:44:34,914]\u001b[0m Trial 24 finished with value: 62.44923549175283 and parameters: {'x': -0.5852222852940394, 'y': 3.188493946082241}. Best is trial 22 with value: 5.0419300405084595.\u001b[0m\n"
          ]
        },
        {
          "output_type": "stream",
          "name": "stdout",
          "text": [
            "Trial 24 finished with value: 62.44923549175283 and parameters: {'x': -0.5852222852940394, 'y': 3.188493946082241}. Best is trial 22 with value: 5.0419300405084595.\n",
            "Trial 24 finished with value: 62.44923549175283 and parameters: {'x': -0.5852222852940394, 'y': 3.188493946082241}. Best is trial 22 with value: 5.0419300405084595.\n",
            "Trial 24 finished with value: 62.44923549175283 and parameters: {'x': -0.5852222852940394, 'y': 3.188493946082241}. Best is trial 22 with value: 5.0419300405084595.\n",
            "Trial 24 finished with value: 62.44923549175283 and parameters: {'x': -0.5852222852940394, 'y': 3.188493946082241}. Best is trial 22 with value: 5.0419300405084595.\n",
            "Trial 24 finished with value: 62.44923549175283 and parameters: {'x': -0.5852222852940394, 'y': 3.188493946082241}. Best is trial 22 with value: 5.0419300405084595.\n",
            "Trial 24 finished with value: 62.44923549175283 and parameters: {'x': -0.5852222852940394, 'y': 3.188493946082241}. Best is trial 22 with value: 5.0419300405084595.\n",
            "Trial 24 finished with value: 62.44923549175283 and parameters: {'x': -0.5852222852940394, 'y': 3.188493946082241}. Best is trial 22 with value: 5.0419300405084595.\n"
          ]
        },
        {
          "output_type": "stream",
          "name": "stderr",
          "text": [
            "\u001b[32m[I 2022-12-24 15:44:35,009]\u001b[0m Trial 25 finished with value: 8.68411540700415 and parameters: {'x': 2.7373194980852604, 'y': 1.4629007651397758}. Best is trial 22 with value: 5.0419300405084595.\u001b[0m\n"
          ]
        },
        {
          "output_type": "stream",
          "name": "stdout",
          "text": [
            "Trial 25 finished with value: 8.68411540700415 and parameters: {'x': 2.7373194980852604, 'y': 1.4629007651397758}. Best is trial 22 with value: 5.0419300405084595.\n",
            "Trial 25 finished with value: 8.68411540700415 and parameters: {'x': 2.7373194980852604, 'y': 1.4629007651397758}. Best is trial 22 with value: 5.0419300405084595.\n",
            "Trial 25 finished with value: 8.68411540700415 and parameters: {'x': 2.7373194980852604, 'y': 1.4629007651397758}. Best is trial 22 with value: 5.0419300405084595.\n",
            "Trial 25 finished with value: 8.68411540700415 and parameters: {'x': 2.7373194980852604, 'y': 1.4629007651397758}. Best is trial 22 with value: 5.0419300405084595.\n",
            "Trial 25 finished with value: 8.68411540700415 and parameters: {'x': 2.7373194980852604, 'y': 1.4629007651397758}. Best is trial 22 with value: 5.0419300405084595.\n",
            "Trial 25 finished with value: 8.68411540700415 and parameters: {'x': 2.7373194980852604, 'y': 1.4629007651397758}. Best is trial 22 with value: 5.0419300405084595.\n",
            "Trial 25 finished with value: 8.68411540700415 and parameters: {'x': 2.7373194980852604, 'y': 1.4629007651397758}. Best is trial 22 with value: 5.0419300405084595.\n"
          ]
        },
        {
          "output_type": "stream",
          "name": "stderr",
          "text": [
            "\u001b[32m[I 2022-12-24 15:44:35,065]\u001b[0m Trial 26 finished with value: 162.5899402121031 and parameters: {'x': 4.8982342404741415, 'y': -0.39139009427903904}. Best is trial 22 with value: 5.0419300405084595.\u001b[0m\n"
          ]
        },
        {
          "output_type": "stream",
          "name": "stdout",
          "text": [
            "Trial 26 finished with value: 162.5899402121031 and parameters: {'x': 4.8982342404741415, 'y': -0.39139009427903904}. Best is trial 22 with value: 5.0419300405084595.\n",
            "Trial 26 finished with value: 162.5899402121031 and parameters: {'x': 4.8982342404741415, 'y': -0.39139009427903904}. Best is trial 22 with value: 5.0419300405084595.\n",
            "Trial 26 finished with value: 162.5899402121031 and parameters: {'x': 4.8982342404741415, 'y': -0.39139009427903904}. Best is trial 22 with value: 5.0419300405084595.\n",
            "Trial 26 finished with value: 162.5899402121031 and parameters: {'x': 4.8982342404741415, 'y': -0.39139009427903904}. Best is trial 22 with value: 5.0419300405084595.\n",
            "Trial 26 finished with value: 162.5899402121031 and parameters: {'x': 4.8982342404741415, 'y': -0.39139009427903904}. Best is trial 22 with value: 5.0419300405084595.\n",
            "Trial 26 finished with value: 162.5899402121031 and parameters: {'x': 4.8982342404741415, 'y': -0.39139009427903904}. Best is trial 22 with value: 5.0419300405084595.\n",
            "Trial 26 finished with value: 162.5899402121031 and parameters: {'x': 4.8982342404741415, 'y': -0.39139009427903904}. Best is trial 22 with value: 5.0419300405084595.\n"
          ]
        },
        {
          "output_type": "stream",
          "name": "stderr",
          "text": [
            "\u001b[32m[I 2022-12-24 15:44:35,137]\u001b[0m Trial 27 finished with value: 10.364622793326275 and parameters: {'x': 3.9449655111891277, 'y': -1.4699977361916063}. Best is trial 22 with value: 5.0419300405084595.\u001b[0m\n"
          ]
        },
        {
          "output_type": "stream",
          "name": "stdout",
          "text": [
            "Trial 27 finished with value: 10.364622793326275 and parameters: {'x': 3.9449655111891277, 'y': -1.4699977361916063}. Best is trial 22 with value: 5.0419300405084595.\n",
            "Trial 27 finished with value: 10.364622793326275 and parameters: {'x': 3.9449655111891277, 'y': -1.4699977361916063}. Best is trial 22 with value: 5.0419300405084595.\n",
            "Trial 27 finished with value: 10.364622793326275 and parameters: {'x': 3.9449655111891277, 'y': -1.4699977361916063}. Best is trial 22 with value: 5.0419300405084595.\n",
            "Trial 27 finished with value: 10.364622793326275 and parameters: {'x': 3.9449655111891277, 'y': -1.4699977361916063}. Best is trial 22 with value: 5.0419300405084595.\n",
            "Trial 27 finished with value: 10.364622793326275 and parameters: {'x': 3.9449655111891277, 'y': -1.4699977361916063}. Best is trial 22 with value: 5.0419300405084595.\n",
            "Trial 27 finished with value: 10.364622793326275 and parameters: {'x': 3.9449655111891277, 'y': -1.4699977361916063}. Best is trial 22 with value: 5.0419300405084595.\n",
            "Trial 27 finished with value: 10.364622793326275 and parameters: {'x': 3.9449655111891277, 'y': -1.4699977361916063}. Best is trial 22 with value: 5.0419300405084595.\n"
          ]
        },
        {
          "output_type": "stream",
          "name": "stderr",
          "text": [
            "\u001b[32m[I 2022-12-24 15:44:35,191]\u001b[0m Trial 28 finished with value: 50.4233856562791 and parameters: {'x': 1.5988727320708356, 'y': 1.74497166525522}. Best is trial 22 with value: 5.0419300405084595.\u001b[0m\n"
          ]
        },
        {
          "output_type": "stream",
          "name": "stdout",
          "text": [
            "Trial 28 finished with value: 50.4233856562791 and parameters: {'x': 1.5988727320708356, 'y': 1.74497166525522}. Best is trial 22 with value: 5.0419300405084595.\n",
            "Trial 28 finished with value: 50.4233856562791 and parameters: {'x': 1.5988727320708356, 'y': 1.74497166525522}. Best is trial 22 with value: 5.0419300405084595.\n",
            "Trial 28 finished with value: 50.4233856562791 and parameters: {'x': 1.5988727320708356, 'y': 1.74497166525522}. Best is trial 22 with value: 5.0419300405084595.\n",
            "Trial 28 finished with value: 50.4233856562791 and parameters: {'x': 1.5988727320708356, 'y': 1.74497166525522}. Best is trial 22 with value: 5.0419300405084595.\n",
            "Trial 28 finished with value: 50.4233856562791 and parameters: {'x': 1.5988727320708356, 'y': 1.74497166525522}. Best is trial 22 with value: 5.0419300405084595.\n",
            "Trial 28 finished with value: 50.4233856562791 and parameters: {'x': 1.5988727320708356, 'y': 1.74497166525522}. Best is trial 22 with value: 5.0419300405084595.\n",
            "Trial 28 finished with value: 50.4233856562791 and parameters: {'x': 1.5988727320708356, 'y': 1.74497166525522}. Best is trial 22 with value: 5.0419300405084595.\n"
          ]
        },
        {
          "output_type": "stream",
          "name": "stderr",
          "text": [
            "\u001b[32m[I 2022-12-24 15:44:35,225]\u001b[0m Trial 29 finished with value: 32.081033657410075 and parameters: {'x': 2.709765651640658, 'y': 3.15144794288101}. Best is trial 22 with value: 5.0419300405084595.\u001b[0m\n"
          ]
        },
        {
          "output_type": "stream",
          "name": "stdout",
          "text": [
            "Trial 29 finished with value: 32.081033657410075 and parameters: {'x': 2.709765651640658, 'y': 3.15144794288101}. Best is trial 22 with value: 5.0419300405084595.\n",
            "Trial 29 finished with value: 32.081033657410075 and parameters: {'x': 2.709765651640658, 'y': 3.15144794288101}. Best is trial 22 with value: 5.0419300405084595.\n",
            "Trial 29 finished with value: 32.081033657410075 and parameters: {'x': 2.709765651640658, 'y': 3.15144794288101}. Best is trial 22 with value: 5.0419300405084595.\n",
            "Trial 29 finished with value: 32.081033657410075 and parameters: {'x': 2.709765651640658, 'y': 3.15144794288101}. Best is trial 22 with value: 5.0419300405084595.\n",
            "Trial 29 finished with value: 32.081033657410075 and parameters: {'x': 2.709765651640658, 'y': 3.15144794288101}. Best is trial 22 with value: 5.0419300405084595.\n",
            "Trial 29 finished with value: 32.081033657410075 and parameters: {'x': 2.709765651640658, 'y': 3.15144794288101}. Best is trial 22 with value: 5.0419300405084595.\n",
            "Trial 29 finished with value: 32.081033657410075 and parameters: {'x': 2.709765651640658, 'y': 3.15144794288101}. Best is trial 22 with value: 5.0419300405084595.\n"
          ]
        },
        {
          "output_type": "stream",
          "name": "stderr",
          "text": [
            "\u001b[32m[I 2022-12-24 15:44:35,304]\u001b[0m Trial 30 finished with value: 47.452480565172735 and parameters: {'x': 4.122063715655131, 'y': 0.3106675651370412}. Best is trial 22 with value: 5.0419300405084595.\u001b[0m\n"
          ]
        },
        {
          "output_type": "stream",
          "name": "stdout",
          "text": [
            "Trial 30 finished with value: 47.452480565172735 and parameters: {'x': 4.122063715655131, 'y': 0.3106675651370412}. Best is trial 22 with value: 5.0419300405084595.\n",
            "Trial 30 finished with value: 47.452480565172735 and parameters: {'x': 4.122063715655131, 'y': 0.3106675651370412}. Best is trial 22 with value: 5.0419300405084595.\n",
            "Trial 30 finished with value: 47.452480565172735 and parameters: {'x': 4.122063715655131, 'y': 0.3106675651370412}. Best is trial 22 with value: 5.0419300405084595.\n",
            "Trial 30 finished with value: 47.452480565172735 and parameters: {'x': 4.122063715655131, 'y': 0.3106675651370412}. Best is trial 22 with value: 5.0419300405084595.\n",
            "Trial 30 finished with value: 47.452480565172735 and parameters: {'x': 4.122063715655131, 'y': 0.3106675651370412}. Best is trial 22 with value: 5.0419300405084595.\n",
            "Trial 30 finished with value: 47.452480565172735 and parameters: {'x': 4.122063715655131, 'y': 0.3106675651370412}. Best is trial 22 with value: 5.0419300405084595.\n",
            "Trial 30 finished with value: 47.452480565172735 and parameters: {'x': 4.122063715655131, 'y': 0.3106675651370412}. Best is trial 22 with value: 5.0419300405084595.\n"
          ]
        },
        {
          "output_type": "stream",
          "name": "stderr",
          "text": [
            "\u001b[32m[I 2022-12-24 15:44:35,355]\u001b[0m Trial 31 finished with value: 3.757931640913077 and parameters: {'x': 3.3029946937421757, 'y': 1.5596961105311062}. Best is trial 31 with value: 3.757931640913077.\u001b[0m\n"
          ]
        },
        {
          "output_type": "stream",
          "name": "stdout",
          "text": [
            "Trial 31 finished with value: 3.757931640913077 and parameters: {'x': 3.3029946937421757, 'y': 1.5596961105311062}. Best is trial 31 with value: 3.757931640913077.\n",
            "Trial 31 finished with value: 3.757931640913077 and parameters: {'x': 3.3029946937421757, 'y': 1.5596961105311062}. Best is trial 31 with value: 3.757931640913077.\n",
            "Trial 31 finished with value: 3.757931640913077 and parameters: {'x': 3.3029946937421757, 'y': 1.5596961105311062}. Best is trial 31 with value: 3.757931640913077.\n",
            "Trial 31 finished with value: 3.757931640913077 and parameters: {'x': 3.3029946937421757, 'y': 1.5596961105311062}. Best is trial 31 with value: 3.757931640913077.\n",
            "Trial 31 finished with value: 3.757931640913077 and parameters: {'x': 3.3029946937421757, 'y': 1.5596961105311062}. Best is trial 31 with value: 3.757931640913077.\n",
            "Trial 31 finished with value: 3.757931640913077 and parameters: {'x': 3.3029946937421757, 'y': 1.5596961105311062}. Best is trial 31 with value: 3.757931640913077.\n",
            "Trial 31 finished with value: 3.757931640913077 and parameters: {'x': 3.3029946937421757, 'y': 1.5596961105311062}. Best is trial 31 with value: 3.757931640913077.\n"
          ]
        },
        {
          "output_type": "stream",
          "name": "stderr",
          "text": [
            "\u001b[32m[I 2022-12-24 15:44:35,403]\u001b[0m Trial 32 finished with value: 383.89077384871587 and parameters: {'x': 2.576110498855622, 'y': 4.899967225064056}. Best is trial 31 with value: 3.757931640913077.\u001b[0m\n"
          ]
        },
        {
          "output_type": "stream",
          "name": "stdout",
          "text": [
            "Trial 32 finished with value: 383.89077384871587 and parameters: {'x': 2.576110498855622, 'y': 4.899967225064056}. Best is trial 31 with value: 3.757931640913077.\n",
            "Trial 32 finished with value: 383.89077384871587 and parameters: {'x': 2.576110498855622, 'y': 4.899967225064056}. Best is trial 31 with value: 3.757931640913077.\n",
            "Trial 32 finished with value: 383.89077384871587 and parameters: {'x': 2.576110498855622, 'y': 4.899967225064056}. Best is trial 31 with value: 3.757931640913077.\n",
            "Trial 32 finished with value: 383.89077384871587 and parameters: {'x': 2.576110498855622, 'y': 4.899967225064056}. Best is trial 31 with value: 3.757931640913077.\n",
            "Trial 32 finished with value: 383.89077384871587 and parameters: {'x': 2.576110498855622, 'y': 4.899967225064056}. Best is trial 31 with value: 3.757931640913077.\n",
            "Trial 32 finished with value: 383.89077384871587 and parameters: {'x': 2.576110498855622, 'y': 4.899967225064056}. Best is trial 31 with value: 3.757931640913077.\n",
            "Trial 32 finished with value: 383.89077384871587 and parameters: {'x': 2.576110498855622, 'y': 4.899967225064056}. Best is trial 31 with value: 3.757931640913077.\n"
          ]
        },
        {
          "output_type": "stream",
          "name": "stderr",
          "text": [
            "\u001b[32m[I 2022-12-24 15:44:35,456]\u001b[0m Trial 33 finished with value: 8.528913943706733 and parameters: {'x': 3.0187041707262714, 'y': 2.6097853359869454}. Best is trial 31 with value: 3.757931640913077.\u001b[0m\n"
          ]
        },
        {
          "output_type": "stream",
          "name": "stdout",
          "text": [
            "Trial 33 finished with value: 8.528913943706733 and parameters: {'x': 3.0187041707262714, 'y': 2.6097853359869454}. Best is trial 31 with value: 3.757931640913077.\n",
            "Trial 33 finished with value: 8.528913943706733 and parameters: {'x': 3.0187041707262714, 'y': 2.6097853359869454}. Best is trial 31 with value: 3.757931640913077.\n",
            "Trial 33 finished with value: 8.528913943706733 and parameters: {'x': 3.0187041707262714, 'y': 2.6097853359869454}. Best is trial 31 with value: 3.757931640913077.\n",
            "Trial 33 finished with value: 8.528913943706733 and parameters: {'x': 3.0187041707262714, 'y': 2.6097853359869454}. Best is trial 31 with value: 3.757931640913077.\n",
            "Trial 33 finished with value: 8.528913943706733 and parameters: {'x': 3.0187041707262714, 'y': 2.6097853359869454}. Best is trial 31 with value: 3.757931640913077.\n",
            "Trial 33 finished with value: 8.528913943706733 and parameters: {'x': 3.0187041707262714, 'y': 2.6097853359869454}. Best is trial 31 with value: 3.757931640913077.\n",
            "Trial 33 finished with value: 8.528913943706733 and parameters: {'x': 3.0187041707262714, 'y': 2.6097853359869454}. Best is trial 31 with value: 3.757931640913077.\n"
          ]
        },
        {
          "output_type": "stream",
          "name": "stderr",
          "text": [
            "\u001b[32m[I 2022-12-24 15:44:35,525]\u001b[0m Trial 34 finished with value: 64.23475227046414 and parameters: {'x': 4.157842239135254, 'y': 1.725845963693558}. Best is trial 31 with value: 3.757931640913077.\u001b[0m\n"
          ]
        },
        {
          "output_type": "stream",
          "name": "stdout",
          "text": [
            "Trial 34 finished with value: 64.23475227046414 and parameters: {'x': 4.157842239135254, 'y': 1.725845963693558}. Best is trial 31 with value: 3.757931640913077.\n",
            "Trial 34 finished with value: 64.23475227046414 and parameters: {'x': 4.157842239135254, 'y': 1.725845963693558}. Best is trial 31 with value: 3.757931640913077.\n",
            "Trial 34 finished with value: 64.23475227046414 and parameters: {'x': 4.157842239135254, 'y': 1.725845963693558}. Best is trial 31 with value: 3.757931640913077.\n",
            "Trial 34 finished with value: 64.23475227046414 and parameters: {'x': 4.157842239135254, 'y': 1.725845963693558}. Best is trial 31 with value: 3.757931640913077.\n",
            "Trial 34 finished with value: 64.23475227046414 and parameters: {'x': 4.157842239135254, 'y': 1.725845963693558}. Best is trial 31 with value: 3.757931640913077.\n",
            "Trial 34 finished with value: 64.23475227046414 and parameters: {'x': 4.157842239135254, 'y': 1.725845963693558}. Best is trial 31 with value: 3.757931640913077.\n",
            "Trial 34 finished with value: 64.23475227046414 and parameters: {'x': 4.157842239135254, 'y': 1.725845963693558}. Best is trial 31 with value: 3.757931640913077.\n"
          ]
        },
        {
          "output_type": "stream",
          "name": "stderr",
          "text": [
            "\u001b[32m[I 2022-12-24 15:44:35,554]\u001b[0m Trial 35 finished with value: 74.4822668377812 and parameters: {'x': 2.0701133509351703, 'y': -0.627168078035111}. Best is trial 31 with value: 3.757931640913077.\u001b[0m\n"
          ]
        },
        {
          "output_type": "stream",
          "name": "stdout",
          "text": [
            "Trial 35 finished with value: 74.4822668377812 and parameters: {'x': 2.0701133509351703, 'y': -0.627168078035111}. Best is trial 31 with value: 3.757931640913077.\n",
            "Trial 35 finished with value: 74.4822668377812 and parameters: {'x': 2.0701133509351703, 'y': -0.627168078035111}. Best is trial 31 with value: 3.757931640913077.\n",
            "Trial 35 finished with value: 74.4822668377812 and parameters: {'x': 2.0701133509351703, 'y': -0.627168078035111}. Best is trial 31 with value: 3.757931640913077.\n",
            "Trial 35 finished with value: 74.4822668377812 and parameters: {'x': 2.0701133509351703, 'y': -0.627168078035111}. Best is trial 31 with value: 3.757931640913077.\n",
            "Trial 35 finished with value: 74.4822668377812 and parameters: {'x': 2.0701133509351703, 'y': -0.627168078035111}. Best is trial 31 with value: 3.757931640913077.\n",
            "Trial 35 finished with value: 74.4822668377812 and parameters: {'x': 2.0701133509351703, 'y': -0.627168078035111}. Best is trial 31 with value: 3.757931640913077.\n",
            "Trial 35 finished with value: 74.4822668377812 and parameters: {'x': 2.0701133509351703, 'y': -0.627168078035111}. Best is trial 31 with value: 3.757931640913077.\n"
          ]
        },
        {
          "output_type": "stream",
          "name": "stderr",
          "text": [
            "\u001b[32m[I 2022-12-24 15:44:35,598]\u001b[0m Trial 36 finished with value: 51.41100791765416 and parameters: {'x': 1.1483625214369284, 'y': 2.8118184267502104}. Best is trial 31 with value: 3.757931640913077.\u001b[0m\n"
          ]
        },
        {
          "output_type": "stream",
          "name": "stdout",
          "text": [
            "Trial 36 finished with value: 51.41100791765416 and parameters: {'x': 1.1483625214369284, 'y': 2.8118184267502104}. Best is trial 31 with value: 3.757931640913077.\n",
            "Trial 36 finished with value: 51.41100791765416 and parameters: {'x': 1.1483625214369284, 'y': 2.8118184267502104}. Best is trial 31 with value: 3.757931640913077.\n",
            "Trial 36 finished with value: 51.41100791765416 and parameters: {'x': 1.1483625214369284, 'y': 2.8118184267502104}. Best is trial 31 with value: 3.757931640913077.\n",
            "Trial 36 finished with value: 51.41100791765416 and parameters: {'x': 1.1483625214369284, 'y': 2.8118184267502104}. Best is trial 31 with value: 3.757931640913077.\n",
            "Trial 36 finished with value: 51.41100791765416 and parameters: {'x': 1.1483625214369284, 'y': 2.8118184267502104}. Best is trial 31 with value: 3.757931640913077.\n",
            "Trial 36 finished with value: 51.41100791765416 and parameters: {'x': 1.1483625214369284, 'y': 2.8118184267502104}. Best is trial 31 with value: 3.757931640913077.\n",
            "Trial 36 finished with value: 51.41100791765416 and parameters: {'x': 1.1483625214369284, 'y': 2.8118184267502104}. Best is trial 31 with value: 3.757931640913077.\n"
          ]
        },
        {
          "output_type": "stream",
          "name": "stderr",
          "text": [
            "\u001b[32m[I 2022-12-24 15:44:35,635]\u001b[0m Trial 37 finished with value: 94.55626563203492 and parameters: {'x': 2.1653446221354313, 'y': 3.7710751489241296}. Best is trial 31 with value: 3.757931640913077.\u001b[0m\n"
          ]
        },
        {
          "output_type": "stream",
          "name": "stdout",
          "text": [
            "Trial 37 finished with value: 94.55626563203492 and parameters: {'x': 2.1653446221354313, 'y': 3.7710751489241296}. Best is trial 31 with value: 3.757931640913077.\n",
            "Trial 37 finished with value: 94.55626563203492 and parameters: {'x': 2.1653446221354313, 'y': 3.7710751489241296}. Best is trial 31 with value: 3.757931640913077.\n",
            "Trial 37 finished with value: 94.55626563203492 and parameters: {'x': 2.1653446221354313, 'y': 3.7710751489241296}. Best is trial 31 with value: 3.757931640913077.\n",
            "Trial 37 finished with value: 94.55626563203492 and parameters: {'x': 2.1653446221354313, 'y': 3.7710751489241296}. Best is trial 31 with value: 3.757931640913077.\n",
            "Trial 37 finished with value: 94.55626563203492 and parameters: {'x': 2.1653446221354313, 'y': 3.7710751489241296}. Best is trial 31 with value: 3.757931640913077.\n",
            "Trial 37 finished with value: 94.55626563203492 and parameters: {'x': 2.1653446221354313, 'y': 3.7710751489241296}. Best is trial 31 with value: 3.757931640913077.\n",
            "Trial 37 finished with value: 94.55626563203492 and parameters: {'x': 2.1653446221354313, 'y': 3.7710751489241296}. Best is trial 31 with value: 3.757931640913077.\n"
          ]
        },
        {
          "output_type": "stream",
          "name": "stderr",
          "text": [
            "\u001b[32m[I 2022-12-24 15:44:35,670]\u001b[0m Trial 38 finished with value: 14.209966884679945 and parameters: {'x': 3.0260750360811133, 'y': 0.6349025662144286}. Best is trial 31 with value: 3.757931640913077.\u001b[0m\n"
          ]
        },
        {
          "output_type": "stream",
          "name": "stdout",
          "text": [
            "Trial 38 finished with value: 14.209966884679945 and parameters: {'x': 3.0260750360811133, 'y': 0.6349025662144286}. Best is trial 31 with value: 3.757931640913077.\n",
            "Trial 38 finished with value: 14.209966884679945 and parameters: {'x': 3.0260750360811133, 'y': 0.6349025662144286}. Best is trial 31 with value: 3.757931640913077.\n",
            "Trial 38 finished with value: 14.209966884679945 and parameters: {'x': 3.0260750360811133, 'y': 0.6349025662144286}. Best is trial 31 with value: 3.757931640913077.\n",
            "Trial 38 finished with value: 14.209966884679945 and parameters: {'x': 3.0260750360811133, 'y': 0.6349025662144286}. Best is trial 31 with value: 3.757931640913077.\n",
            "Trial 38 finished with value: 14.209966884679945 and parameters: {'x': 3.0260750360811133, 'y': 0.6349025662144286}. Best is trial 31 with value: 3.757931640913077.\n",
            "Trial 38 finished with value: 14.209966884679945 and parameters: {'x': 3.0260750360811133, 'y': 0.6349025662144286}. Best is trial 31 with value: 3.757931640913077.\n",
            "Trial 38 finished with value: 14.209966884679945 and parameters: {'x': 3.0260750360811133, 'y': 0.6349025662144286}. Best is trial 31 with value: 3.757931640913077.\n"
          ]
        },
        {
          "output_type": "stream",
          "name": "stderr",
          "text": [
            "\u001b[32m[I 2022-12-24 15:44:35,705]\u001b[0m Trial 39 finished with value: 90.49624442622378 and parameters: {'x': 0.049901363471157326, 'y': 1.9799598713781377}. Best is trial 31 with value: 3.757931640913077.\u001b[0m\n"
          ]
        },
        {
          "output_type": "stream",
          "name": "stdout",
          "text": [
            "Trial 39 finished with value: 90.49624442622378 and parameters: {'x': 0.049901363471157326, 'y': 1.9799598713781377}. Best is trial 31 with value: 3.757931640913077.\n",
            "Trial 39 finished with value: 90.49624442622378 and parameters: {'x': 0.049901363471157326, 'y': 1.9799598713781377}. Best is trial 31 with value: 3.757931640913077.\n",
            "Trial 39 finished with value: 90.49624442622378 and parameters: {'x': 0.049901363471157326, 'y': 1.9799598713781377}. Best is trial 31 with value: 3.757931640913077.\n",
            "Trial 39 finished with value: 90.49624442622378 and parameters: {'x': 0.049901363471157326, 'y': 1.9799598713781377}. Best is trial 31 with value: 3.757931640913077.\n",
            "Trial 39 finished with value: 90.49624442622378 and parameters: {'x': 0.049901363471157326, 'y': 1.9799598713781377}. Best is trial 31 with value: 3.757931640913077.\n",
            "Trial 39 finished with value: 90.49624442622378 and parameters: {'x': 0.049901363471157326, 'y': 1.9799598713781377}. Best is trial 31 with value: 3.757931640913077.\n",
            "Trial 39 finished with value: 90.49624442622378 and parameters: {'x': 0.049901363471157326, 'y': 1.9799598713781377}. Best is trial 31 with value: 3.757931640913077.\n"
          ]
        },
        {
          "output_type": "stream",
          "name": "stderr",
          "text": [
            "\u001b[32m[I 2022-12-24 15:44:35,744]\u001b[0m Trial 40 finished with value: 142.73422767848146 and parameters: {'x': -0.5649665625573905, 'y': 0.8669409279684699}. Best is trial 31 with value: 3.757931640913077.\u001b[0m\n"
          ]
        },
        {
          "output_type": "stream",
          "name": "stdout",
          "text": [
            "Trial 40 finished with value: 142.73422767848146 and parameters: {'x': -0.5649665625573905, 'y': 0.8669409279684699}. Best is trial 31 with value: 3.757931640913077.\n",
            "Trial 40 finished with value: 142.73422767848146 and parameters: {'x': -0.5649665625573905, 'y': 0.8669409279684699}. Best is trial 31 with value: 3.757931640913077.\n",
            "Trial 40 finished with value: 142.73422767848146 and parameters: {'x': -0.5649665625573905, 'y': 0.8669409279684699}. Best is trial 31 with value: 3.757931640913077.\n",
            "Trial 40 finished with value: 142.73422767848146 and parameters: {'x': -0.5649665625573905, 'y': 0.8669409279684699}. Best is trial 31 with value: 3.757931640913077.\n",
            "Trial 40 finished with value: 142.73422767848146 and parameters: {'x': -0.5649665625573905, 'y': 0.8669409279684699}. Best is trial 31 with value: 3.757931640913077.\n",
            "Trial 40 finished with value: 142.73422767848146 and parameters: {'x': -0.5649665625573905, 'y': 0.8669409279684699}. Best is trial 31 with value: 3.757931640913077.\n",
            "Trial 40 finished with value: 142.73422767848146 and parameters: {'x': -0.5649665625573905, 'y': 0.8669409279684699}. Best is trial 31 with value: 3.757931640913077.\n"
          ]
        },
        {
          "output_type": "stream",
          "name": "stderr",
          "text": [
            "\u001b[32m[I 2022-12-24 15:44:35,778]\u001b[0m Trial 41 finished with value: 4.622451805070845 and parameters: {'x': 3.2664826602206425, 'y': 1.358463263701325}. Best is trial 31 with value: 3.757931640913077.\u001b[0m\n"
          ]
        },
        {
          "output_type": "stream",
          "name": "stdout",
          "text": [
            "Trial 41 finished with value: 4.622451805070845 and parameters: {'x': 3.2664826602206425, 'y': 1.358463263701325}. Best is trial 31 with value: 3.757931640913077.\n",
            "Trial 41 finished with value: 4.622451805070845 and parameters: {'x': 3.2664826602206425, 'y': 1.358463263701325}. Best is trial 31 with value: 3.757931640913077.\n",
            "Trial 41 finished with value: 4.622451805070845 and parameters: {'x': 3.2664826602206425, 'y': 1.358463263701325}. Best is trial 31 with value: 3.757931640913077.\n",
            "Trial 41 finished with value: 4.622451805070845 and parameters: {'x': 3.2664826602206425, 'y': 1.358463263701325}. Best is trial 31 with value: 3.757931640913077.\n",
            "Trial 41 finished with value: 4.622451805070845 and parameters: {'x': 3.2664826602206425, 'y': 1.358463263701325}. Best is trial 31 with value: 3.757931640913077.\n",
            "Trial 41 finished with value: 4.622451805070845 and parameters: {'x': 3.2664826602206425, 'y': 1.358463263701325}. Best is trial 31 with value: 3.757931640913077.\n",
            "Trial 41 finished with value: 4.622451805070845 and parameters: {'x': 3.2664826602206425, 'y': 1.358463263701325}. Best is trial 31 with value: 3.757931640913077.\n"
          ]
        },
        {
          "output_type": "stream",
          "name": "stderr",
          "text": [
            "\u001b[32m[I 2022-12-24 15:44:35,812]\u001b[0m Trial 42 finished with value: 33.28720446532019 and parameters: {'x': 3.914595537386533, 'y': 1.22006059257278}. Best is trial 31 with value: 3.757931640913077.\u001b[0m\n"
          ]
        },
        {
          "output_type": "stream",
          "name": "stdout",
          "text": [
            "Trial 42 finished with value: 33.28720446532019 and parameters: {'x': 3.914595537386533, 'y': 1.22006059257278}. Best is trial 31 with value: 3.757931640913077.\n",
            "Trial 42 finished with value: 33.28720446532019 and parameters: {'x': 3.914595537386533, 'y': 1.22006059257278}. Best is trial 31 with value: 3.757931640913077.\n",
            "Trial 42 finished with value: 33.28720446532019 and parameters: {'x': 3.914595537386533, 'y': 1.22006059257278}. Best is trial 31 with value: 3.757931640913077.\n",
            "Trial 42 finished with value: 33.28720446532019 and parameters: {'x': 3.914595537386533, 'y': 1.22006059257278}. Best is trial 31 with value: 3.757931640913077.\n",
            "Trial 42 finished with value: 33.28720446532019 and parameters: {'x': 3.914595537386533, 'y': 1.22006059257278}. Best is trial 31 with value: 3.757931640913077.\n",
            "Trial 42 finished with value: 33.28720446532019 and parameters: {'x': 3.914595537386533, 'y': 1.22006059257278}. Best is trial 31 with value: 3.757931640913077.\n",
            "Trial 42 finished with value: 33.28720446532019 and parameters: {'x': 3.914595537386533, 'y': 1.22006059257278}. Best is trial 31 with value: 3.757931640913077.\n"
          ]
        },
        {
          "output_type": "stream",
          "name": "stderr",
          "text": [
            "\u001b[32m[I 2022-12-24 15:44:35,850]\u001b[0m Trial 43 finished with value: 17.539009695929163 and parameters: {'x': 3.094423055851853, 'y': -0.29421603579025146}. Best is trial 31 with value: 3.757931640913077.\u001b[0m\n"
          ]
        },
        {
          "output_type": "stream",
          "name": "stdout",
          "text": [
            "Trial 43 finished with value: 17.539009695929163 and parameters: {'x': 3.094423055851853, 'y': -0.29421603579025146}. Best is trial 31 with value: 3.757931640913077.\n",
            "Trial 43 finished with value: 17.539009695929163 and parameters: {'x': 3.094423055851853, 'y': -0.29421603579025146}. Best is trial 31 with value: 3.757931640913077.\n",
            "Trial 43 finished with value: 17.539009695929163 and parameters: {'x': 3.094423055851853, 'y': -0.29421603579025146}. Best is trial 31 with value: 3.757931640913077.\n",
            "Trial 43 finished with value: 17.539009695929163 and parameters: {'x': 3.094423055851853, 'y': -0.29421603579025146}. Best is trial 31 with value: 3.757931640913077.\n",
            "Trial 43 finished with value: 17.539009695929163 and parameters: {'x': 3.094423055851853, 'y': -0.29421603579025146}. Best is trial 31 with value: 3.757931640913077.\n",
            "Trial 43 finished with value: 17.539009695929163 and parameters: {'x': 3.094423055851853, 'y': -0.29421603579025146}. Best is trial 31 with value: 3.757931640913077.\n",
            "Trial 43 finished with value: 17.539009695929163 and parameters: {'x': 3.094423055851853, 'y': -0.29421603579025146}. Best is trial 31 with value: 3.757931640913077.\n"
          ]
        },
        {
          "output_type": "stream",
          "name": "stderr",
          "text": [
            "\u001b[32m[I 2022-12-24 15:44:35,890]\u001b[0m Trial 44 finished with value: 84.29755440497878 and parameters: {'x': 1.7711290026245758, 'y': 0.26718665181418877}. Best is trial 31 with value: 3.757931640913077.\u001b[0m\n"
          ]
        },
        {
          "output_type": "stream",
          "name": "stdout",
          "text": [
            "Trial 44 finished with value: 84.29755440497878 and parameters: {'x': 1.7711290026245758, 'y': 0.26718665181418877}. Best is trial 31 with value: 3.757931640913077.\n",
            "Trial 44 finished with value: 84.29755440497878 and parameters: {'x': 1.7711290026245758, 'y': 0.26718665181418877}. Best is trial 31 with value: 3.757931640913077.\n",
            "Trial 44 finished with value: 84.29755440497878 and parameters: {'x': 1.7711290026245758, 'y': 0.26718665181418877}. Best is trial 31 with value: 3.757931640913077.\n",
            "Trial 44 finished with value: 84.29755440497878 and parameters: {'x': 1.7711290026245758, 'y': 0.26718665181418877}. Best is trial 31 with value: 3.757931640913077.\n",
            "Trial 44 finished with value: 84.29755440497878 and parameters: {'x': 1.7711290026245758, 'y': 0.26718665181418877}. Best is trial 31 with value: 3.757931640913077.\n",
            "Trial 44 finished with value: 84.29755440497878 and parameters: {'x': 1.7711290026245758, 'y': 0.26718665181418877}. Best is trial 31 with value: 3.757931640913077.\n",
            "Trial 44 finished with value: 84.29755440497878 and parameters: {'x': 1.7711290026245758, 'y': 0.26718665181418877}. Best is trial 31 with value: 3.757931640913077.\n"
          ]
        },
        {
          "output_type": "stream",
          "name": "stderr",
          "text": [
            "\u001b[32m[I 2022-12-24 15:44:35,923]\u001b[0m Trial 45 finished with value: 167.97153678970787 and parameters: {'x': 0.5082353697075765, 'y': -1.8501306213262287}. Best is trial 31 with value: 3.757931640913077.\u001b[0m\n"
          ]
        },
        {
          "output_type": "stream",
          "name": "stdout",
          "text": [
            "Trial 45 finished with value: 167.97153678970787 and parameters: {'x': 0.5082353697075765, 'y': -1.8501306213262287}. Best is trial 31 with value: 3.757931640913077.\n",
            "Trial 45 finished with value: 167.97153678970787 and parameters: {'x': 0.5082353697075765, 'y': -1.8501306213262287}. Best is trial 31 with value: 3.757931640913077.\n",
            "Trial 45 finished with value: 167.97153678970787 and parameters: {'x': 0.5082353697075765, 'y': -1.8501306213262287}. Best is trial 31 with value: 3.757931640913077.\n",
            "Trial 45 finished with value: 167.97153678970787 and parameters: {'x': 0.5082353697075765, 'y': -1.8501306213262287}. Best is trial 31 with value: 3.757931640913077.\n",
            "Trial 45 finished with value: 167.97153678970787 and parameters: {'x': 0.5082353697075765, 'y': -1.8501306213262287}. Best is trial 31 with value: 3.757931640913077.\n",
            "Trial 45 finished with value: 167.97153678970787 and parameters: {'x': 0.5082353697075765, 'y': -1.8501306213262287}. Best is trial 31 with value: 3.757931640913077.\n",
            "Trial 45 finished with value: 167.97153678970787 and parameters: {'x': 0.5082353697075765, 'y': -1.8501306213262287}. Best is trial 31 with value: 3.757931640913077.\n"
          ]
        },
        {
          "output_type": "stream",
          "name": "stderr",
          "text": [
            "\u001b[32m[I 2022-12-24 15:44:35,944]\u001b[0m Trial 46 finished with value: 127.95882666735518 and parameters: {'x': 4.527856057979037, 'y': 1.787319769606697}. Best is trial 31 with value: 3.757931640913077.\u001b[0m\n"
          ]
        },
        {
          "output_type": "stream",
          "name": "stdout",
          "text": [
            "Trial 46 finished with value: 127.95882666735518 and parameters: {'x': 4.527856057979037, 'y': 1.787319769606697}. Best is trial 31 with value: 3.757931640913077.\n",
            "Trial 46 finished with value: 127.95882666735518 and parameters: {'x': 4.527856057979037, 'y': 1.787319769606697}. Best is trial 31 with value: 3.757931640913077.\n",
            "Trial 46 finished with value: 127.95882666735518 and parameters: {'x': 4.527856057979037, 'y': 1.787319769606697}. Best is trial 31 with value: 3.757931640913077.\n",
            "Trial 46 finished with value: 127.95882666735518 and parameters: {'x': 4.527856057979037, 'y': 1.787319769606697}. Best is trial 31 with value: 3.757931640913077.\n",
            "Trial 46 finished with value: 127.95882666735518 and parameters: {'x': 4.527856057979037, 'y': 1.787319769606697}. Best is trial 31 with value: 3.757931640913077.\n",
            "Trial 46 finished with value: 127.95882666735518 and parameters: {'x': 4.527856057979037, 'y': 1.787319769606697}. Best is trial 31 with value: 3.757931640913077.\n",
            "Trial 46 finished with value: 127.95882666735518 and parameters: {'x': 4.527856057979037, 'y': 1.787319769606697}. Best is trial 31 with value: 3.757931640913077.\n"
          ]
        },
        {
          "output_type": "stream",
          "name": "stderr",
          "text": [
            "\u001b[32m[I 2022-12-24 15:44:35,973]\u001b[0m Trial 47 finished with value: 22.17007866598324 and parameters: {'x': 2.1677886815648844, 'y': 2.8311362401306175}. Best is trial 31 with value: 3.757931640913077.\u001b[0m\n"
          ]
        },
        {
          "output_type": "stream",
          "name": "stdout",
          "text": [
            "Trial 47 finished with value: 22.17007866598324 and parameters: {'x': 2.1677886815648844, 'y': 2.8311362401306175}. Best is trial 31 with value: 3.757931640913077.\n",
            "Trial 47 finished with value: 22.17007866598324 and parameters: {'x': 2.1677886815648844, 'y': 2.8311362401306175}. Best is trial 31 with value: 3.757931640913077.\n",
            "Trial 47 finished with value: 22.17007866598324 and parameters: {'x': 2.1677886815648844, 'y': 2.8311362401306175}. Best is trial 31 with value: 3.757931640913077.\n",
            "Trial 47 finished with value: 22.17007866598324 and parameters: {'x': 2.1677886815648844, 'y': 2.8311362401306175}. Best is trial 31 with value: 3.757931640913077.\n",
            "Trial 47 finished with value: 22.17007866598324 and parameters: {'x': 2.1677886815648844, 'y': 2.8311362401306175}. Best is trial 31 with value: 3.757931640913077.\n",
            "Trial 47 finished with value: 22.17007866598324 and parameters: {'x': 2.1677886815648844, 'y': 2.8311362401306175}. Best is trial 31 with value: 3.757931640913077.\n",
            "Trial 47 finished with value: 22.17007866598324 and parameters: {'x': 2.1677886815648844, 'y': 2.8311362401306175}. Best is trial 31 with value: 3.757931640913077.\n"
          ]
        },
        {
          "output_type": "stream",
          "name": "stderr",
          "text": [
            "\u001b[32m[I 2022-12-24 15:44:36,010]\u001b[0m Trial 48 finished with value: 3.3419255731024746 and parameters: {'x': 3.1980834622354046, 'y': 2.2182124030601034}. Best is trial 48 with value: 3.3419255731024746.\u001b[0m\n"
          ]
        },
        {
          "output_type": "stream",
          "name": "stdout",
          "text": [
            "Trial 48 finished with value: 3.3419255731024746 and parameters: {'x': 3.1980834622354046, 'y': 2.2182124030601034}. Best is trial 48 with value: 3.3419255731024746.\n",
            "Trial 48 finished with value: 3.3419255731024746 and parameters: {'x': 3.1980834622354046, 'y': 2.2182124030601034}. Best is trial 48 with value: 3.3419255731024746.\n",
            "Trial 48 finished with value: 3.3419255731024746 and parameters: {'x': 3.1980834622354046, 'y': 2.2182124030601034}. Best is trial 48 with value: 3.3419255731024746.\n",
            "Trial 48 finished with value: 3.3419255731024746 and parameters: {'x': 3.1980834622354046, 'y': 2.2182124030601034}. Best is trial 48 with value: 3.3419255731024746.\n",
            "Trial 48 finished with value: 3.3419255731024746 and parameters: {'x': 3.1980834622354046, 'y': 2.2182124030601034}. Best is trial 48 with value: 3.3419255731024746.\n",
            "Trial 48 finished with value: 3.3419255731024746 and parameters: {'x': 3.1980834622354046, 'y': 2.2182124030601034}. Best is trial 48 with value: 3.3419255731024746.\n",
            "Trial 48 finished with value: 3.3419255731024746 and parameters: {'x': 3.1980834622354046, 'y': 2.2182124030601034}. Best is trial 48 with value: 3.3419255731024746.\n"
          ]
        },
        {
          "output_type": "stream",
          "name": "stderr",
          "text": [
            "\u001b[32m[I 2022-12-24 15:44:36,045]\u001b[0m Trial 49 finished with value: 93.3721566714063 and parameters: {'x': 4.420613990448787, 'y': 0.9867540039604754}. Best is trial 48 with value: 3.3419255731024746.\u001b[0m\n"
          ]
        },
        {
          "output_type": "stream",
          "name": "stdout",
          "text": [
            "Trial 49 finished with value: 93.3721566714063 and parameters: {'x': 4.420613990448787, 'y': 0.9867540039604754}. Best is trial 48 with value: 3.3419255731024746.\n",
            "Trial 49 finished with value: 93.3721566714063 and parameters: {'x': 4.420613990448787, 'y': 0.9867540039604754}. Best is trial 48 with value: 3.3419255731024746.\n",
            "Trial 49 finished with value: 93.3721566714063 and parameters: {'x': 4.420613990448787, 'y': 0.9867540039604754}. Best is trial 48 with value: 3.3419255731024746.\n",
            "Trial 49 finished with value: 93.3721566714063 and parameters: {'x': 4.420613990448787, 'y': 0.9867540039604754}. Best is trial 48 with value: 3.3419255731024746.\n",
            "Trial 49 finished with value: 93.3721566714063 and parameters: {'x': 4.420613990448787, 'y': 0.9867540039604754}. Best is trial 48 with value: 3.3419255731024746.\n",
            "Trial 49 finished with value: 93.3721566714063 and parameters: {'x': 4.420613990448787, 'y': 0.9867540039604754}. Best is trial 48 with value: 3.3419255731024746.\n",
            "Trial 49 finished with value: 93.3721566714063 and parameters: {'x': 4.420613990448787, 'y': 0.9867540039604754}. Best is trial 48 with value: 3.3419255731024746.\n"
          ]
        },
        {
          "output_type": "stream",
          "name": "stderr",
          "text": [
            "\u001b[32m[I 2022-12-24 15:44:36,078]\u001b[0m Trial 50 finished with value: 251.99696706969985 and parameters: {'x': 4.944031728968275, 'y': 2.1915168216145546}. Best is trial 48 with value: 3.3419255731024746.\u001b[0m\n"
          ]
        },
        {
          "output_type": "stream",
          "name": "stdout",
          "text": [
            "Trial 50 finished with value: 251.99696706969985 and parameters: {'x': 4.944031728968275, 'y': 2.1915168216145546}. Best is trial 48 with value: 3.3419255731024746.\n",
            "Trial 50 finished with value: 251.99696706969985 and parameters: {'x': 4.944031728968275, 'y': 2.1915168216145546}. Best is trial 48 with value: 3.3419255731024746.\n",
            "Trial 50 finished with value: 251.99696706969985 and parameters: {'x': 4.944031728968275, 'y': 2.1915168216145546}. Best is trial 48 with value: 3.3419255731024746.\n",
            "Trial 50 finished with value: 251.99696706969985 and parameters: {'x': 4.944031728968275, 'y': 2.1915168216145546}. Best is trial 48 with value: 3.3419255731024746.\n",
            "Trial 50 finished with value: 251.99696706969985 and parameters: {'x': 4.944031728968275, 'y': 2.1915168216145546}. Best is trial 48 with value: 3.3419255731024746.\n",
            "Trial 50 finished with value: 251.99696706969985 and parameters: {'x': 4.944031728968275, 'y': 2.1915168216145546}. Best is trial 48 with value: 3.3419255731024746.\n",
            "Trial 50 finished with value: 251.99696706969985 and parameters: {'x': 4.944031728968275, 'y': 2.1915168216145546}. Best is trial 48 with value: 3.3419255731024746.\n"
          ]
        },
        {
          "output_type": "stream",
          "name": "stderr",
          "text": [
            "\u001b[32m[I 2022-12-24 15:44:36,136]\u001b[0m Trial 51 finished with value: 20.7872271259675 and parameters: {'x': 3.7264378268268397, 'y': 1.6319153592879103}. Best is trial 48 with value: 3.3419255731024746.\u001b[0m\n"
          ]
        },
        {
          "output_type": "stream",
          "name": "stdout",
          "text": [
            "Trial 51 finished with value: 20.7872271259675 and parameters: {'x': 3.7264378268268397, 'y': 1.6319153592879103}. Best is trial 48 with value: 3.3419255731024746.\n",
            "Trial 51 finished with value: 20.7872271259675 and parameters: {'x': 3.7264378268268397, 'y': 1.6319153592879103}. Best is trial 48 with value: 3.3419255731024746.\n",
            "Trial 51 finished with value: 20.7872271259675 and parameters: {'x': 3.7264378268268397, 'y': 1.6319153592879103}. Best is trial 48 with value: 3.3419255731024746.\n",
            "Trial 51 finished with value: 20.7872271259675 and parameters: {'x': 3.7264378268268397, 'y': 1.6319153592879103}. Best is trial 48 with value: 3.3419255731024746.\n",
            "Trial 51 finished with value: 20.7872271259675 and parameters: {'x': 3.7264378268268397, 'y': 1.6319153592879103}. Best is trial 48 with value: 3.3419255731024746.\n",
            "Trial 51 finished with value: 20.7872271259675 and parameters: {'x': 3.7264378268268397, 'y': 1.6319153592879103}. Best is trial 48 with value: 3.3419255731024746.\n",
            "Trial 51 finished with value: 20.7872271259675 and parameters: {'x': 3.7264378268268397, 'y': 1.6319153592879103}. Best is trial 48 with value: 3.3419255731024746.\n"
          ]
        },
        {
          "output_type": "stream",
          "name": "stderr",
          "text": [
            "\u001b[32m[I 2022-12-24 15:44:36,180]\u001b[0m Trial 52 finished with value: 2.773947982574539 and parameters: {'x': 3.0691180999221435, 'y': 2.327933501998524}. Best is trial 52 with value: 2.773947982574539.\u001b[0m\n"
          ]
        },
        {
          "output_type": "stream",
          "name": "stdout",
          "text": [
            "Trial 52 finished with value: 2.773947982574539 and parameters: {'x': 3.0691180999221435, 'y': 2.327933501998524}. Best is trial 52 with value: 2.773947982574539.\n",
            "Trial 52 finished with value: 2.773947982574539 and parameters: {'x': 3.0691180999221435, 'y': 2.327933501998524}. Best is trial 52 with value: 2.773947982574539.\n",
            "Trial 52 finished with value: 2.773947982574539 and parameters: {'x': 3.0691180999221435, 'y': 2.327933501998524}. Best is trial 52 with value: 2.773947982574539.\n",
            "Trial 52 finished with value: 2.773947982574539 and parameters: {'x': 3.0691180999221435, 'y': 2.327933501998524}. Best is trial 52 with value: 2.773947982574539.\n",
            "Trial 52 finished with value: 2.773947982574539 and parameters: {'x': 3.0691180999221435, 'y': 2.327933501998524}. Best is trial 52 with value: 2.773947982574539.\n",
            "Trial 52 finished with value: 2.773947982574539 and parameters: {'x': 3.0691180999221435, 'y': 2.327933501998524}. Best is trial 52 with value: 2.773947982574539.\n",
            "Trial 52 finished with value: 2.773947982574539 and parameters: {'x': 3.0691180999221435, 'y': 2.327933501998524}. Best is trial 52 with value: 2.773947982574539.\n"
          ]
        },
        {
          "output_type": "stream",
          "name": "stderr",
          "text": [
            "\u001b[32m[I 2022-12-24 15:44:36,240]\u001b[0m Trial 53 finished with value: 11.653551640871232 and parameters: {'x': 3.1983345501042786, 'y': 0.6253243668311863}. Best is trial 52 with value: 2.773947982574539.\u001b[0m\n"
          ]
        },
        {
          "output_type": "stream",
          "name": "stdout",
          "text": [
            "Trial 53 finished with value: 11.653551640871232 and parameters: {'x': 3.1983345501042786, 'y': 0.6253243668311863}. Best is trial 52 with value: 2.773947982574539.\n",
            "Trial 53 finished with value: 11.653551640871232 and parameters: {'x': 3.1983345501042786, 'y': 0.6253243668311863}. Best is trial 52 with value: 2.773947982574539.\n",
            "Trial 53 finished with value: 11.653551640871232 and parameters: {'x': 3.1983345501042786, 'y': 0.6253243668311863}. Best is trial 52 with value: 2.773947982574539.\n",
            "Trial 53 finished with value: 11.653551640871232 and parameters: {'x': 3.1983345501042786, 'y': 0.6253243668311863}. Best is trial 52 with value: 2.773947982574539.\n",
            "Trial 53 finished with value: 11.653551640871232 and parameters: {'x': 3.1983345501042786, 'y': 0.6253243668311863}. Best is trial 52 with value: 2.773947982574539.\n",
            "Trial 53 finished with value: 11.653551640871232 and parameters: {'x': 3.1983345501042786, 'y': 0.6253243668311863}. Best is trial 52 with value: 2.773947982574539.\n",
            "Trial 53 finished with value: 11.653551640871232 and parameters: {'x': 3.1983345501042786, 'y': 0.6253243668311863}. Best is trial 52 with value: 2.773947982574539.\n"
          ]
        },
        {
          "output_type": "stream",
          "name": "stderr",
          "text": [
            "\u001b[32m[I 2022-12-24 15:44:36,280]\u001b[0m Trial 54 finished with value: 116.8258861737391 and parameters: {'x': 2.7281837751814955, 'y': 3.8827194227383477}. Best is trial 52 with value: 2.773947982574539.\u001b[0m\n"
          ]
        },
        {
          "output_type": "stream",
          "name": "stdout",
          "text": [
            "Trial 54 finished with value: 116.8258861737391 and parameters: {'x': 2.7281837751814955, 'y': 3.8827194227383477}. Best is trial 52 with value: 2.773947982574539.\n",
            "Trial 54 finished with value: 116.8258861737391 and parameters: {'x': 2.7281837751814955, 'y': 3.8827194227383477}. Best is trial 52 with value: 2.773947982574539.\n",
            "Trial 54 finished with value: 116.8258861737391 and parameters: {'x': 2.7281837751814955, 'y': 3.8827194227383477}. Best is trial 52 with value: 2.773947982574539.\n",
            "Trial 54 finished with value: 116.8258861737391 and parameters: {'x': 2.7281837751814955, 'y': 3.8827194227383477}. Best is trial 52 with value: 2.773947982574539.\n",
            "Trial 54 finished with value: 116.8258861737391 and parameters: {'x': 2.7281837751814955, 'y': 3.8827194227383477}. Best is trial 52 with value: 2.773947982574539.\n",
            "Trial 54 finished with value: 116.8258861737391 and parameters: {'x': 2.7281837751814955, 'y': 3.8827194227383477}. Best is trial 52 with value: 2.773947982574539.\n",
            "Trial 54 finished with value: 116.8258861737391 and parameters: {'x': 2.7281837751814955, 'y': 3.8827194227383477}. Best is trial 52 with value: 2.773947982574539.\n"
          ]
        },
        {
          "output_type": "stream",
          "name": "stderr",
          "text": [
            "\u001b[32m[I 2022-12-24 15:44:36,337]\u001b[0m Trial 55 finished with value: 4.128318840018387 and parameters: {'x': 3.305635223340401, 'y': 2.045105593308494}. Best is trial 52 with value: 2.773947982574539.\u001b[0m\n"
          ]
        },
        {
          "output_type": "stream",
          "name": "stdout",
          "text": [
            "Trial 55 finished with value: 4.128318840018387 and parameters: {'x': 3.305635223340401, 'y': 2.045105593308494}. Best is trial 52 with value: 2.773947982574539.\n",
            "Trial 55 finished with value: 4.128318840018387 and parameters: {'x': 3.305635223340401, 'y': 2.045105593308494}. Best is trial 52 with value: 2.773947982574539.\n",
            "Trial 55 finished with value: 4.128318840018387 and parameters: {'x': 3.305635223340401, 'y': 2.045105593308494}. Best is trial 52 with value: 2.773947982574539.\n",
            "Trial 55 finished with value: 4.128318840018387 and parameters: {'x': 3.305635223340401, 'y': 2.045105593308494}. Best is trial 52 with value: 2.773947982574539.\n",
            "Trial 55 finished with value: 4.128318840018387 and parameters: {'x': 3.305635223340401, 'y': 2.045105593308494}. Best is trial 52 with value: 2.773947982574539.\n",
            "Trial 55 finished with value: 4.128318840018387 and parameters: {'x': 3.305635223340401, 'y': 2.045105593308494}. Best is trial 52 with value: 2.773947982574539.\n",
            "Trial 55 finished with value: 4.128318840018387 and parameters: {'x': 3.305635223340401, 'y': 2.045105593308494}. Best is trial 52 with value: 2.773947982574539.\n"
          ]
        },
        {
          "output_type": "stream",
          "name": "stderr",
          "text": [
            "\u001b[32m[I 2022-12-24 15:44:36,386]\u001b[0m Trial 56 finished with value: 9.188185705032577 and parameters: {'x': 2.401132425259493, 'y': 2.2226246094399165}. Best is trial 52 with value: 2.773947982574539.\u001b[0m\n"
          ]
        },
        {
          "output_type": "stream",
          "name": "stdout",
          "text": [
            "Trial 56 finished with value: 9.188185705032577 and parameters: {'x': 2.401132425259493, 'y': 2.2226246094399165}. Best is trial 52 with value: 2.773947982574539.\n",
            "Trial 56 finished with value: 9.188185705032577 and parameters: {'x': 2.401132425259493, 'y': 2.2226246094399165}. Best is trial 52 with value: 2.773947982574539.\n",
            "Trial 56 finished with value: 9.188185705032577 and parameters: {'x': 2.401132425259493, 'y': 2.2226246094399165}. Best is trial 52 with value: 2.773947982574539.\n",
            "Trial 56 finished with value: 9.188185705032577 and parameters: {'x': 2.401132425259493, 'y': 2.2226246094399165}. Best is trial 52 with value: 2.773947982574539.\n",
            "Trial 56 finished with value: 9.188185705032577 and parameters: {'x': 2.401132425259493, 'y': 2.2226246094399165}. Best is trial 52 with value: 2.773947982574539.\n",
            "Trial 56 finished with value: 9.188185705032577 and parameters: {'x': 2.401132425259493, 'y': 2.2226246094399165}. Best is trial 52 with value: 2.773947982574539.\n",
            "Trial 56 finished with value: 9.188185705032577 and parameters: {'x': 2.401132425259493, 'y': 2.2226246094399165}. Best is trial 52 with value: 2.773947982574539.\n"
          ]
        },
        {
          "output_type": "stream",
          "name": "stderr",
          "text": [
            "\u001b[32m[I 2022-12-24 15:44:36,444]\u001b[0m Trial 57 finished with value: 57.43674561394409 and parameters: {'x': 3.7366292875519127, 'y': 2.8506209591081344}. Best is trial 52 with value: 2.773947982574539.\u001b[0m\n"
          ]
        },
        {
          "output_type": "stream",
          "name": "stdout",
          "text": [
            "Trial 57 finished with value: 57.43674561394409 and parameters: {'x': 3.7366292875519127, 'y': 2.8506209591081344}. Best is trial 52 with value: 2.773947982574539.\n",
            "Trial 57 finished with value: 57.43674561394409 and parameters: {'x': 3.7366292875519127, 'y': 2.8506209591081344}. Best is trial 52 with value: 2.773947982574539.\n",
            "Trial 57 finished with value: 57.43674561394409 and parameters: {'x': 3.7366292875519127, 'y': 2.8506209591081344}. Best is trial 52 with value: 2.773947982574539.\n",
            "Trial 57 finished with value: 57.43674561394409 and parameters: {'x': 3.7366292875519127, 'y': 2.8506209591081344}. Best is trial 52 with value: 2.773947982574539.\n",
            "Trial 57 finished with value: 57.43674561394409 and parameters: {'x': 3.7366292875519127, 'y': 2.8506209591081344}. Best is trial 52 with value: 2.773947982574539.\n",
            "Trial 57 finished with value: 57.43674561394409 and parameters: {'x': 3.7366292875519127, 'y': 2.8506209591081344}. Best is trial 52 with value: 2.773947982574539.\n",
            "Trial 57 finished with value: 57.43674561394409 and parameters: {'x': 3.7366292875519127, 'y': 2.8506209591081344}. Best is trial 52 with value: 2.773947982574539.\n"
          ]
        },
        {
          "output_type": "stream",
          "name": "stderr",
          "text": [
            "\u001b[32m[I 2022-12-24 15:44:36,487]\u001b[0m Trial 58 finished with value: 39.19471342424888 and parameters: {'x': 1.7064975548040173, 'y': 1.979858186257449}. Best is trial 52 with value: 2.773947982574539.\u001b[0m\n"
          ]
        },
        {
          "output_type": "stream",
          "name": "stdout",
          "text": [
            "Trial 58 finished with value: 39.19471342424888 and parameters: {'x': 1.7064975548040173, 'y': 1.979858186257449}. Best is trial 52 with value: 2.773947982574539.\n",
            "Trial 58 finished with value: 39.19471342424888 and parameters: {'x': 1.7064975548040173, 'y': 1.979858186257449}. Best is trial 52 with value: 2.773947982574539.\n",
            "Trial 58 finished with value: 39.19471342424888 and parameters: {'x': 1.7064975548040173, 'y': 1.979858186257449}. Best is trial 52 with value: 2.773947982574539.\n",
            "Trial 58 finished with value: 39.19471342424888 and parameters: {'x': 1.7064975548040173, 'y': 1.979858186257449}. Best is trial 52 with value: 2.773947982574539.\n",
            "Trial 58 finished with value: 39.19471342424888 and parameters: {'x': 1.7064975548040173, 'y': 1.979858186257449}. Best is trial 52 with value: 2.773947982574539.\n",
            "Trial 58 finished with value: 39.19471342424888 and parameters: {'x': 1.7064975548040173, 'y': 1.979858186257449}. Best is trial 52 with value: 2.773947982574539.\n",
            "Trial 58 finished with value: 39.19471342424888 and parameters: {'x': 1.7064975548040173, 'y': 1.979858186257449}. Best is trial 52 with value: 2.773947982574539.\n"
          ]
        },
        {
          "output_type": "stream",
          "name": "stderr",
          "text": [
            "\u001b[32m[I 2022-12-24 15:44:36,545]\u001b[0m Trial 59 finished with value: 198.46244943668052 and parameters: {'x': 4.298838439984067, 'y': 3.411252283331998}. Best is trial 52 with value: 2.773947982574539.\u001b[0m\n"
          ]
        },
        {
          "output_type": "stream",
          "name": "stdout",
          "text": [
            "Trial 59 finished with value: 198.46244943668052 and parameters: {'x': 4.298838439984067, 'y': 3.411252283331998}. Best is trial 52 with value: 2.773947982574539.\n",
            "Trial 59 finished with value: 198.46244943668052 and parameters: {'x': 4.298838439984067, 'y': 3.411252283331998}. Best is trial 52 with value: 2.773947982574539.\n",
            "Trial 59 finished with value: 198.46244943668052 and parameters: {'x': 4.298838439984067, 'y': 3.411252283331998}. Best is trial 52 with value: 2.773947982574539.\n",
            "Trial 59 finished with value: 198.46244943668052 and parameters: {'x': 4.298838439984067, 'y': 3.411252283331998}. Best is trial 52 with value: 2.773947982574539.\n",
            "Trial 59 finished with value: 198.46244943668052 and parameters: {'x': 4.298838439984067, 'y': 3.411252283331998}. Best is trial 52 with value: 2.773947982574539.\n",
            "Trial 59 finished with value: 198.46244943668052 and parameters: {'x': 4.298838439984067, 'y': 3.411252283331998}. Best is trial 52 with value: 2.773947982574539.\n",
            "Trial 59 finished with value: 198.46244943668052 and parameters: {'x': 4.298838439984067, 'y': 3.411252283331998}. Best is trial 52 with value: 2.773947982574539.\n"
          ]
        },
        {
          "output_type": "stream",
          "name": "stderr",
          "text": [
            "\u001b[32m[I 2022-12-24 15:44:36,604]\u001b[0m Trial 60 finished with value: 8.987028483562323 and parameters: {'x': 3.1685938291177065, 'y': 2.5272422441071494}. Best is trial 52 with value: 2.773947982574539.\u001b[0m\n"
          ]
        },
        {
          "output_type": "stream",
          "name": "stdout",
          "text": [
            "Trial 60 finished with value: 8.987028483562323 and parameters: {'x': 3.1685938291177065, 'y': 2.5272422441071494}. Best is trial 52 with value: 2.773947982574539.\n",
            "Trial 60 finished with value: 8.987028483562323 and parameters: {'x': 3.1685938291177065, 'y': 2.5272422441071494}. Best is trial 52 with value: 2.773947982574539.\n",
            "Trial 60 finished with value: 8.987028483562323 and parameters: {'x': 3.1685938291177065, 'y': 2.5272422441071494}. Best is trial 52 with value: 2.773947982574539.\n",
            "Trial 60 finished with value: 8.987028483562323 and parameters: {'x': 3.1685938291177065, 'y': 2.5272422441071494}. Best is trial 52 with value: 2.773947982574539.\n",
            "Trial 60 finished with value: 8.987028483562323 and parameters: {'x': 3.1685938291177065, 'y': 2.5272422441071494}. Best is trial 52 with value: 2.773947982574539.\n",
            "Trial 60 finished with value: 8.987028483562323 and parameters: {'x': 3.1685938291177065, 'y': 2.5272422441071494}. Best is trial 52 with value: 2.773947982574539.\n",
            "Trial 60 finished with value: 8.987028483562323 and parameters: {'x': 3.1685938291177065, 'y': 2.5272422441071494}. Best is trial 52 with value: 2.773947982574539.\n"
          ]
        },
        {
          "output_type": "stream",
          "name": "stderr",
          "text": [
            "\u001b[32m[I 2022-12-24 15:44:36,652]\u001b[0m Trial 61 finished with value: 8.873748347049297 and parameters: {'x': 3.477787604624416, 'y': 1.3484476920515267}. Best is trial 52 with value: 2.773947982574539.\u001b[0m\n"
          ]
        },
        {
          "output_type": "stream",
          "name": "stdout",
          "text": [
            "Trial 61 finished with value: 8.873748347049297 and parameters: {'x': 3.477787604624416, 'y': 1.3484476920515267}. Best is trial 52 with value: 2.773947982574539.\n",
            "Trial 61 finished with value: 8.873748347049297 and parameters: {'x': 3.477787604624416, 'y': 1.3484476920515267}. Best is trial 52 with value: 2.773947982574539.\n",
            "Trial 61 finished with value: 8.873748347049297 and parameters: {'x': 3.477787604624416, 'y': 1.3484476920515267}. Best is trial 52 with value: 2.773947982574539.\n",
            "Trial 61 finished with value: 8.873748347049297 and parameters: {'x': 3.477787604624416, 'y': 1.3484476920515267}. Best is trial 52 with value: 2.773947982574539.\n",
            "Trial 61 finished with value: 8.873748347049297 and parameters: {'x': 3.477787604624416, 'y': 1.3484476920515267}. Best is trial 52 with value: 2.773947982574539.\n",
            "Trial 61 finished with value: 8.873748347049297 and parameters: {'x': 3.477787604624416, 'y': 1.3484476920515267}. Best is trial 52 with value: 2.773947982574539.\n",
            "Trial 61 finished with value: 8.873748347049297 and parameters: {'x': 3.477787604624416, 'y': 1.3484476920515267}. Best is trial 52 with value: 2.773947982574539.\n"
          ]
        },
        {
          "output_type": "stream",
          "name": "stderr",
          "text": [
            "\u001b[32m[I 2022-12-24 15:44:36,696]\u001b[0m Trial 62 finished with value: 10.808044653019909 and parameters: {'x': 2.9090175388683917, 'y': 1.071624754666591}. Best is trial 52 with value: 2.773947982574539.\u001b[0m\n"
          ]
        },
        {
          "output_type": "stream",
          "name": "stdout",
          "text": [
            "Trial 62 finished with value: 10.808044653019909 and parameters: {'x': 2.9090175388683917, 'y': 1.071624754666591}. Best is trial 52 with value: 2.773947982574539.\n",
            "Trial 62 finished with value: 10.808044653019909 and parameters: {'x': 2.9090175388683917, 'y': 1.071624754666591}. Best is trial 52 with value: 2.773947982574539.\n",
            "Trial 62 finished with value: 10.808044653019909 and parameters: {'x': 2.9090175388683917, 'y': 1.071624754666591}. Best is trial 52 with value: 2.773947982574539.\n",
            "Trial 62 finished with value: 10.808044653019909 and parameters: {'x': 2.9090175388683917, 'y': 1.071624754666591}. Best is trial 52 with value: 2.773947982574539.\n",
            "Trial 62 finished with value: 10.808044653019909 and parameters: {'x': 2.9090175388683917, 'y': 1.071624754666591}. Best is trial 52 with value: 2.773947982574539.\n",
            "Trial 62 finished with value: 10.808044653019909 and parameters: {'x': 2.9090175388683917, 'y': 1.071624754666591}. Best is trial 52 with value: 2.773947982574539.\n",
            "Trial 62 finished with value: 10.808044653019909 and parameters: {'x': 2.9090175388683917, 'y': 1.071624754666591}. Best is trial 52 with value: 2.773947982574539.\n"
          ]
        },
        {
          "output_type": "stream",
          "name": "stderr",
          "text": [
            "\u001b[32m[I 2022-12-24 15:44:36,744]\u001b[0m Trial 63 finished with value: 159.85224918040876 and parameters: {'x': -4.2904968642838295, 'y': 1.5337205805037446}. Best is trial 52 with value: 2.773947982574539.\u001b[0m\n"
          ]
        },
        {
          "output_type": "stream",
          "name": "stdout",
          "text": [
            "Trial 63 finished with value: 159.85224918040876 and parameters: {'x': -4.2904968642838295, 'y': 1.5337205805037446}. Best is trial 52 with value: 2.773947982574539.\n",
            "Trial 63 finished with value: 159.85224918040876 and parameters: {'x': -4.2904968642838295, 'y': 1.5337205805037446}. Best is trial 52 with value: 2.773947982574539.\n",
            "Trial 63 finished with value: 159.85224918040876 and parameters: {'x': -4.2904968642838295, 'y': 1.5337205805037446}. Best is trial 52 with value: 2.773947982574539.\n",
            "Trial 63 finished with value: 159.85224918040876 and parameters: {'x': -4.2904968642838295, 'y': 1.5337205805037446}. Best is trial 52 with value: 2.773947982574539.\n",
            "Trial 63 finished with value: 159.85224918040876 and parameters: {'x': -4.2904968642838295, 'y': 1.5337205805037446}. Best is trial 52 with value: 2.773947982574539.\n",
            "Trial 63 finished with value: 159.85224918040876 and parameters: {'x': -4.2904968642838295, 'y': 1.5337205805037446}. Best is trial 52 with value: 2.773947982574539.\n",
            "Trial 63 finished with value: 159.85224918040876 and parameters: {'x': -4.2904968642838295, 'y': 1.5337205805037446}. Best is trial 52 with value: 2.773947982574539.\n"
          ]
        },
        {
          "output_type": "stream",
          "name": "stderr",
          "text": [
            "\u001b[32m[I 2022-12-24 15:44:36,784]\u001b[0m Trial 64 finished with value: 4.690815626829588 and parameters: {'x': 3.325471919947079, 'y': 2.0458885044999233}. Best is trial 52 with value: 2.773947982574539.\u001b[0m\n"
          ]
        },
        {
          "output_type": "stream",
          "name": "stdout",
          "text": [
            "Trial 64 finished with value: 4.690815626829588 and parameters: {'x': 3.325471919947079, 'y': 2.0458885044999233}. Best is trial 52 with value: 2.773947982574539.\n",
            "Trial 64 finished with value: 4.690815626829588 and parameters: {'x': 3.325471919947079, 'y': 2.0458885044999233}. Best is trial 52 with value: 2.773947982574539.\n",
            "Trial 64 finished with value: 4.690815626829588 and parameters: {'x': 3.325471919947079, 'y': 2.0458885044999233}. Best is trial 52 with value: 2.773947982574539.\n",
            "Trial 64 finished with value: 4.690815626829588 and parameters: {'x': 3.325471919947079, 'y': 2.0458885044999233}. Best is trial 52 with value: 2.773947982574539.\n",
            "Trial 64 finished with value: 4.690815626829588 and parameters: {'x': 3.325471919947079, 'y': 2.0458885044999233}. Best is trial 52 with value: 2.773947982574539.\n",
            "Trial 64 finished with value: 4.690815626829588 and parameters: {'x': 3.325471919947079, 'y': 2.0458885044999233}. Best is trial 52 with value: 2.773947982574539.\n",
            "Trial 64 finished with value: 4.690815626829588 and parameters: {'x': 3.325471919947079, 'y': 2.0458885044999233}. Best is trial 52 with value: 2.773947982574539.\n"
          ]
        },
        {
          "output_type": "stream",
          "name": "stderr",
          "text": [
            "\u001b[32m[I 2022-12-24 15:44:36,831]\u001b[0m Trial 65 finished with value: 78.94193937079875 and parameters: {'x': 3.782616306094059, 'y': 3.0669313990956883}. Best is trial 52 with value: 2.773947982574539.\u001b[0m\n"
          ]
        },
        {
          "output_type": "stream",
          "name": "stdout",
          "text": [
            "Trial 65 finished with value: 78.94193937079875 and parameters: {'x': 3.782616306094059, 'y': 3.0669313990956883}. Best is trial 52 with value: 2.773947982574539.\n",
            "Trial 65 finished with value: 78.94193937079875 and parameters: {'x': 3.782616306094059, 'y': 3.0669313990956883}. Best is trial 52 with value: 2.773947982574539.\n",
            "Trial 65 finished with value: 78.94193937079875 and parameters: {'x': 3.782616306094059, 'y': 3.0669313990956883}. Best is trial 52 with value: 2.773947982574539.\n",
            "Trial 65 finished with value: 78.94193937079875 and parameters: {'x': 3.782616306094059, 'y': 3.0669313990956883}. Best is trial 52 with value: 2.773947982574539.\n",
            "Trial 65 finished with value: 78.94193937079875 and parameters: {'x': 3.782616306094059, 'y': 3.0669313990956883}. Best is trial 52 with value: 2.773947982574539.\n",
            "Trial 65 finished with value: 78.94193937079875 and parameters: {'x': 3.782616306094059, 'y': 3.0669313990956883}. Best is trial 52 with value: 2.773947982574539.\n",
            "Trial 65 finished with value: 78.94193937079875 and parameters: {'x': 3.782616306094059, 'y': 3.0669313990956883}. Best is trial 52 with value: 2.773947982574539.\n"
          ]
        },
        {
          "output_type": "stream",
          "name": "stderr",
          "text": [
            "\u001b[32m[I 2022-12-24 15:44:36,856]\u001b[0m Trial 66 finished with value: 11.471070266097527 and parameters: {'x': 2.3651011809828857, 'y': 2.048117034810438}. Best is trial 52 with value: 2.773947982574539.\u001b[0m\n"
          ]
        },
        {
          "output_type": "stream",
          "name": "stdout",
          "text": [
            "Trial 66 finished with value: 11.471070266097527 and parameters: {'x': 2.3651011809828857, 'y': 2.048117034810438}. Best is trial 52 with value: 2.773947982574539.\n",
            "Trial 66 finished with value: 11.471070266097527 and parameters: {'x': 2.3651011809828857, 'y': 2.048117034810438}. Best is trial 52 with value: 2.773947982574539.\n",
            "Trial 66 finished with value: 11.471070266097527 and parameters: {'x': 2.3651011809828857, 'y': 2.048117034810438}. Best is trial 52 with value: 2.773947982574539.\n",
            "Trial 66 finished with value: 11.471070266097527 and parameters: {'x': 2.3651011809828857, 'y': 2.048117034810438}. Best is trial 52 with value: 2.773947982574539.\n",
            "Trial 66 finished with value: 11.471070266097527 and parameters: {'x': 2.3651011809828857, 'y': 2.048117034810438}. Best is trial 52 with value: 2.773947982574539.\n",
            "Trial 66 finished with value: 11.471070266097527 and parameters: {'x': 2.3651011809828857, 'y': 2.048117034810438}. Best is trial 52 with value: 2.773947982574539.\n",
            "Trial 66 finished with value: 11.471070266097527 and parameters: {'x': 2.3651011809828857, 'y': 2.048117034810438}. Best is trial 52 with value: 2.773947982574539.\n"
          ]
        },
        {
          "output_type": "stream",
          "name": "stderr",
          "text": [
            "\u001b[32m[I 2022-12-24 15:44:36,923]\u001b[0m Trial 67 finished with value: 14.931167560374599 and parameters: {'x': 3.272656701257752, 'y': 2.6108606260815432}. Best is trial 52 with value: 2.773947982574539.\u001b[0m\n"
          ]
        },
        {
          "output_type": "stream",
          "name": "stdout",
          "text": [
            "Trial 67 finished with value: 14.931167560374599 and parameters: {'x': 3.272656701257752, 'y': 2.6108606260815432}. Best is trial 52 with value: 2.773947982574539.\n",
            "Trial 67 finished with value: 14.931167560374599 and parameters: {'x': 3.272656701257752, 'y': 2.6108606260815432}. Best is trial 52 with value: 2.773947982574539.\n",
            "Trial 67 finished with value: 14.931167560374599 and parameters: {'x': 3.272656701257752, 'y': 2.6108606260815432}. Best is trial 52 with value: 2.773947982574539.\n",
            "Trial 67 finished with value: 14.931167560374599 and parameters: {'x': 3.272656701257752, 'y': 2.6108606260815432}. Best is trial 52 with value: 2.773947982574539.\n",
            "Trial 67 finished with value: 14.931167560374599 and parameters: {'x': 3.272656701257752, 'y': 2.6108606260815432}. Best is trial 52 with value: 2.773947982574539.\n",
            "Trial 67 finished with value: 14.931167560374599 and parameters: {'x': 3.272656701257752, 'y': 2.6108606260815432}. Best is trial 52 with value: 2.773947982574539.\n",
            "Trial 67 finished with value: 14.931167560374599 and parameters: {'x': 3.272656701257752, 'y': 2.6108606260815432}. Best is trial 52 with value: 2.773947982574539.\n"
          ]
        },
        {
          "output_type": "stream",
          "name": "stderr",
          "text": [
            "\u001b[32m[I 2022-12-24 15:44:36,966]\u001b[0m Trial 68 finished with value: 40.61497725246482 and parameters: {'x': 4.041214424700306, 'y': 0.39041271091254304}. Best is trial 52 with value: 2.773947982574539.\u001b[0m\n"
          ]
        },
        {
          "output_type": "stream",
          "name": "stdout",
          "text": [
            "Trial 68 finished with value: 40.61497725246482 and parameters: {'x': 4.041214424700306, 'y': 0.39041271091254304}. Best is trial 52 with value: 2.773947982574539.\n",
            "Trial 68 finished with value: 40.61497725246482 and parameters: {'x': 4.041214424700306, 'y': 0.39041271091254304}. Best is trial 52 with value: 2.773947982574539.\n",
            "Trial 68 finished with value: 40.61497725246482 and parameters: {'x': 4.041214424700306, 'y': 0.39041271091254304}. Best is trial 52 with value: 2.773947982574539.\n",
            "Trial 68 finished with value: 40.61497725246482 and parameters: {'x': 4.041214424700306, 'y': 0.39041271091254304}. Best is trial 52 with value: 2.773947982574539.\n",
            "Trial 68 finished with value: 40.61497725246482 and parameters: {'x': 4.041214424700306, 'y': 0.39041271091254304}. Best is trial 52 with value: 2.773947982574539.\n",
            "Trial 68 finished with value: 40.61497725246482 and parameters: {'x': 4.041214424700306, 'y': 0.39041271091254304}. Best is trial 52 with value: 2.773947982574539.\n",
            "Trial 68 finished with value: 40.61497725246482 and parameters: {'x': 4.041214424700306, 'y': 0.39041271091254304}. Best is trial 52 with value: 2.773947982574539.\n"
          ]
        },
        {
          "output_type": "stream",
          "name": "stderr",
          "text": [
            "\u001b[32m[I 2022-12-24 15:44:37,017]\u001b[0m Trial 69 finished with value: 40.582885777216084 and parameters: {'x': 1.4806919535395517, 'y': 2.458912216436097}. Best is trial 52 with value: 2.773947982574539.\u001b[0m\n"
          ]
        },
        {
          "output_type": "stream",
          "name": "stdout",
          "text": [
            "Trial 69 finished with value: 40.582885777216084 and parameters: {'x': 1.4806919535395517, 'y': 2.458912216436097}. Best is trial 52 with value: 2.773947982574539.\n",
            "Trial 69 finished with value: 40.582885777216084 and parameters: {'x': 1.4806919535395517, 'y': 2.458912216436097}. Best is trial 52 with value: 2.773947982574539.\n",
            "Trial 69 finished with value: 40.582885777216084 and parameters: {'x': 1.4806919535395517, 'y': 2.458912216436097}. Best is trial 52 with value: 2.773947982574539.\n",
            "Trial 69 finished with value: 40.582885777216084 and parameters: {'x': 1.4806919535395517, 'y': 2.458912216436097}. Best is trial 52 with value: 2.773947982574539.\n",
            "Trial 69 finished with value: 40.582885777216084 and parameters: {'x': 1.4806919535395517, 'y': 2.458912216436097}. Best is trial 52 with value: 2.773947982574539.\n",
            "Trial 69 finished with value: 40.582885777216084 and parameters: {'x': 1.4806919535395517, 'y': 2.458912216436097}. Best is trial 52 with value: 2.773947982574539.\n",
            "Trial 69 finished with value: 40.582885777216084 and parameters: {'x': 1.4806919535395517, 'y': 2.458912216436097}. Best is trial 52 with value: 2.773947982574539.\n"
          ]
        },
        {
          "output_type": "stream",
          "name": "stderr",
          "text": [
            "\u001b[32m[I 2022-12-24 15:44:37,078]\u001b[0m Trial 70 finished with value: 68.95177603472277 and parameters: {'x': 1.9875619532409996, 'y': 3.540971749620315}. Best is trial 52 with value: 2.773947982574539.\u001b[0m\n"
          ]
        },
        {
          "output_type": "stream",
          "name": "stdout",
          "text": [
            "Trial 70 finished with value: 68.95177603472277 and parameters: {'x': 1.9875619532409996, 'y': 3.540971749620315}. Best is trial 52 with value: 2.773947982574539.\n",
            "Trial 70 finished with value: 68.95177603472277 and parameters: {'x': 1.9875619532409996, 'y': 3.540971749620315}. Best is trial 52 with value: 2.773947982574539.\n",
            "Trial 70 finished with value: 68.95177603472277 and parameters: {'x': 1.9875619532409996, 'y': 3.540971749620315}. Best is trial 52 with value: 2.773947982574539.\n",
            "Trial 70 finished with value: 68.95177603472277 and parameters: {'x': 1.9875619532409996, 'y': 3.540971749620315}. Best is trial 52 with value: 2.773947982574539.\n",
            "Trial 70 finished with value: 68.95177603472277 and parameters: {'x': 1.9875619532409996, 'y': 3.540971749620315}. Best is trial 52 with value: 2.773947982574539.\n",
            "Trial 70 finished with value: 68.95177603472277 and parameters: {'x': 1.9875619532409996, 'y': 3.540971749620315}. Best is trial 52 with value: 2.773947982574539.\n",
            "Trial 70 finished with value: 68.95177603472277 and parameters: {'x': 1.9875619532409996, 'y': 3.540971749620315}. Best is trial 52 with value: 2.773947982574539.\n"
          ]
        },
        {
          "output_type": "stream",
          "name": "stderr",
          "text": [
            "\u001b[32m[I 2022-12-24 15:44:37,120]\u001b[0m Trial 71 finished with value: 5.082054628983462 and parameters: {'x': 3.3761901350784935, 'y': 1.8449091547576488}. Best is trial 52 with value: 2.773947982574539.\u001b[0m\n"
          ]
        },
        {
          "output_type": "stream",
          "name": "stdout",
          "text": [
            "Trial 71 finished with value: 5.082054628983462 and parameters: {'x': 3.3761901350784935, 'y': 1.8449091547576488}. Best is trial 52 with value: 2.773947982574539.\n",
            "Trial 71 finished with value: 5.082054628983462 and parameters: {'x': 3.3761901350784935, 'y': 1.8449091547576488}. Best is trial 52 with value: 2.773947982574539.\n",
            "Trial 71 finished with value: 5.082054628983462 and parameters: {'x': 3.3761901350784935, 'y': 1.8449091547576488}. Best is trial 52 with value: 2.773947982574539.\n",
            "Trial 71 finished with value: 5.082054628983462 and parameters: {'x': 3.3761901350784935, 'y': 1.8449091547576488}. Best is trial 52 with value: 2.773947982574539.\n",
            "Trial 71 finished with value: 5.082054628983462 and parameters: {'x': 3.3761901350784935, 'y': 1.8449091547576488}. Best is trial 52 with value: 2.773947982574539.\n",
            "Trial 71 finished with value: 5.082054628983462 and parameters: {'x': 3.3761901350784935, 'y': 1.8449091547576488}. Best is trial 52 with value: 2.773947982574539.\n",
            "Trial 71 finished with value: 5.082054628983462 and parameters: {'x': 3.3761901350784935, 'y': 1.8449091547576488}. Best is trial 52 with value: 2.773947982574539.\n"
          ]
        },
        {
          "output_type": "stream",
          "name": "stderr",
          "text": [
            "\u001b[32m[I 2022-12-24 15:44:37,155]\u001b[0m Trial 72 finished with value: 2.4390572731240554 and parameters: {'x': 2.7605541960505438, 'y': 1.919508894540272}. Best is trial 72 with value: 2.4390572731240554.\u001b[0m\n"
          ]
        },
        {
          "output_type": "stream",
          "name": "stdout",
          "text": [
            "Trial 72 finished with value: 2.4390572731240554 and parameters: {'x': 2.7605541960505438, 'y': 1.919508894540272}. Best is trial 72 with value: 2.4390572731240554.\n",
            "Trial 72 finished with value: 2.4390572731240554 and parameters: {'x': 2.7605541960505438, 'y': 1.919508894540272}. Best is trial 72 with value: 2.4390572731240554.\n",
            "Trial 72 finished with value: 2.4390572731240554 and parameters: {'x': 2.7605541960505438, 'y': 1.919508894540272}. Best is trial 72 with value: 2.4390572731240554.\n",
            "Trial 72 finished with value: 2.4390572731240554 and parameters: {'x': 2.7605541960505438, 'y': 1.919508894540272}. Best is trial 72 with value: 2.4390572731240554.\n",
            "Trial 72 finished with value: 2.4390572731240554 and parameters: {'x': 2.7605541960505438, 'y': 1.919508894540272}. Best is trial 72 with value: 2.4390572731240554.\n",
            "Trial 72 finished with value: 2.4390572731240554 and parameters: {'x': 2.7605541960505438, 'y': 1.919508894540272}. Best is trial 72 with value: 2.4390572731240554.\n",
            "Trial 72 finished with value: 2.4390572731240554 and parameters: {'x': 2.7605541960505438, 'y': 1.919508894540272}. Best is trial 72 with value: 2.4390572731240554.\n"
          ]
        },
        {
          "output_type": "stream",
          "name": "stderr",
          "text": [
            "\u001b[32m[I 2022-12-24 15:44:37,193]\u001b[0m Trial 73 finished with value: 12.224560872880291 and parameters: {'x': 2.7304740475023745, 'y': 1.2703604003870406}. Best is trial 72 with value: 2.4390572731240554.\u001b[0m\n"
          ]
        },
        {
          "output_type": "stream",
          "name": "stdout",
          "text": [
            "Trial 73 finished with value: 12.224560872880291 and parameters: {'x': 2.7304740475023745, 'y': 1.2703604003870406}. Best is trial 72 with value: 2.4390572731240554.\n",
            "Trial 73 finished with value: 12.224560872880291 and parameters: {'x': 2.7304740475023745, 'y': 1.2703604003870406}. Best is trial 72 with value: 2.4390572731240554.\n",
            "Trial 73 finished with value: 12.224560872880291 and parameters: {'x': 2.7304740475023745, 'y': 1.2703604003870406}. Best is trial 72 with value: 2.4390572731240554.\n",
            "Trial 73 finished with value: 12.224560872880291 and parameters: {'x': 2.7304740475023745, 'y': 1.2703604003870406}. Best is trial 72 with value: 2.4390572731240554.\n",
            "Trial 73 finished with value: 12.224560872880291 and parameters: {'x': 2.7304740475023745, 'y': 1.2703604003870406}. Best is trial 72 with value: 2.4390572731240554.\n",
            "Trial 73 finished with value: 12.224560872880291 and parameters: {'x': 2.7304740475023745, 'y': 1.2703604003870406}. Best is trial 72 with value: 2.4390572731240554.\n",
            "Trial 73 finished with value: 12.224560872880291 and parameters: {'x': 2.7304740475023745, 'y': 1.2703604003870406}. Best is trial 72 with value: 2.4390572731240554.\n"
          ]
        },
        {
          "output_type": "stream",
          "name": "stderr",
          "text": [
            "\u001b[32m[I 2022-12-24 15:44:37,242]\u001b[0m Trial 74 finished with value: 44.05625080388903 and parameters: {'x': -1.7587469082675988, 'y': 2.28643611505972}. Best is trial 72 with value: 2.4390572731240554.\u001b[0m\n"
          ]
        },
        {
          "output_type": "stream",
          "name": "stdout",
          "text": [
            "Trial 74 finished with value: 44.05625080388903 and parameters: {'x': -1.7587469082675988, 'y': 2.28643611505972}. Best is trial 72 with value: 2.4390572731240554.\n",
            "Trial 74 finished with value: 44.05625080388903 and parameters: {'x': -1.7587469082675988, 'y': 2.28643611505972}. Best is trial 72 with value: 2.4390572731240554.\n",
            "Trial 74 finished with value: 44.05625080388903 and parameters: {'x': -1.7587469082675988, 'y': 2.28643611505972}. Best is trial 72 with value: 2.4390572731240554.\n",
            "Trial 74 finished with value: 44.05625080388903 and parameters: {'x': -1.7587469082675988, 'y': 2.28643611505972}. Best is trial 72 with value: 2.4390572731240554.\n",
            "Trial 74 finished with value: 44.05625080388903 and parameters: {'x': -1.7587469082675988, 'y': 2.28643611505972}. Best is trial 72 with value: 2.4390572731240554.\n",
            "Trial 74 finished with value: 44.05625080388903 and parameters: {'x': -1.7587469082675988, 'y': 2.28643611505972}. Best is trial 72 with value: 2.4390572731240554.\n",
            "Trial 74 finished with value: 44.05625080388903 and parameters: {'x': -1.7587469082675988, 'y': 2.28643611505972}. Best is trial 72 with value: 2.4390572731240554.\n"
          ]
        },
        {
          "output_type": "stream",
          "name": "stderr",
          "text": [
            "\u001b[32m[I 2022-12-24 15:44:37,294]\u001b[0m Trial 75 finished with value: 30.28384153249361 and parameters: {'x': 2.506695726998286, 'y': 0.7951796134290565}. Best is trial 72 with value: 2.4390572731240554.\u001b[0m\n"
          ]
        },
        {
          "output_type": "stream",
          "name": "stdout",
          "text": [
            "Trial 75 finished with value: 30.28384153249361 and parameters: {'x': 2.506695726998286, 'y': 0.7951796134290565}. Best is trial 72 with value: 2.4390572731240554.\n",
            "Trial 75 finished with value: 30.28384153249361 and parameters: {'x': 2.506695726998286, 'y': 0.7951796134290565}. Best is trial 72 with value: 2.4390572731240554.\n",
            "Trial 75 finished with value: 30.28384153249361 and parameters: {'x': 2.506695726998286, 'y': 0.7951796134290565}. Best is trial 72 with value: 2.4390572731240554.\n",
            "Trial 75 finished with value: 30.28384153249361 and parameters: {'x': 2.506695726998286, 'y': 0.7951796134290565}. Best is trial 72 with value: 2.4390572731240554.\n",
            "Trial 75 finished with value: 30.28384153249361 and parameters: {'x': 2.506695726998286, 'y': 0.7951796134290565}. Best is trial 72 with value: 2.4390572731240554.\n",
            "Trial 75 finished with value: 30.28384153249361 and parameters: {'x': 2.506695726998286, 'y': 0.7951796134290565}. Best is trial 72 with value: 2.4390572731240554.\n",
            "Trial 75 finished with value: 30.28384153249361 and parameters: {'x': 2.506695726998286, 'y': 0.7951796134290565}. Best is trial 72 with value: 2.4390572731240554.\n"
          ]
        },
        {
          "output_type": "stream",
          "name": "stderr",
          "text": [
            "\u001b[32m[I 2022-12-24 15:44:37,346]\u001b[0m Trial 76 finished with value: 19.702733974668945 and parameters: {'x': 2.853802347237106, 'y': 2.929907058216081}. Best is trial 72 with value: 2.4390572731240554.\u001b[0m\n"
          ]
        },
        {
          "output_type": "stream",
          "name": "stdout",
          "text": [
            "Trial 76 finished with value: 19.702733974668945 and parameters: {'x': 2.853802347237106, 'y': 2.929907058216081}. Best is trial 72 with value: 2.4390572731240554.\n",
            "Trial 76 finished with value: 19.702733974668945 and parameters: {'x': 2.853802347237106, 'y': 2.929907058216081}. Best is trial 72 with value: 2.4390572731240554.\n",
            "Trial 76 finished with value: 19.702733974668945 and parameters: {'x': 2.853802347237106, 'y': 2.929907058216081}. Best is trial 72 with value: 2.4390572731240554.\n",
            "Trial 76 finished with value: 19.702733974668945 and parameters: {'x': 2.853802347237106, 'y': 2.929907058216081}. Best is trial 72 with value: 2.4390572731240554.\n",
            "Trial 76 finished with value: 19.702733974668945 and parameters: {'x': 2.853802347237106, 'y': 2.929907058216081}. Best is trial 72 with value: 2.4390572731240554.\n",
            "Trial 76 finished with value: 19.702733974668945 and parameters: {'x': 2.853802347237106, 'y': 2.929907058216081}. Best is trial 72 with value: 2.4390572731240554.\n",
            "Trial 76 finished with value: 19.702733974668945 and parameters: {'x': 2.853802347237106, 'y': 2.929907058216081}. Best is trial 72 with value: 2.4390572731240554.\n"
          ]
        },
        {
          "output_type": "stream",
          "name": "stderr",
          "text": [
            "\u001b[32m[I 2022-12-24 15:44:37,401]\u001b[0m Trial 77 finished with value: 19.044063557569878 and parameters: {'x': 3.701710162567394, 'y': 1.5963914478538872}. Best is trial 72 with value: 2.4390572731240554.\u001b[0m\n"
          ]
        },
        {
          "output_type": "stream",
          "name": "stdout",
          "text": [
            "Trial 77 finished with value: 19.044063557569878 and parameters: {'x': 3.701710162567394, 'y': 1.5963914478538872}. Best is trial 72 with value: 2.4390572731240554.\n",
            "Trial 77 finished with value: 19.044063557569878 and parameters: {'x': 3.701710162567394, 'y': 1.5963914478538872}. Best is trial 72 with value: 2.4390572731240554.\n",
            "Trial 77 finished with value: 19.044063557569878 and parameters: {'x': 3.701710162567394, 'y': 1.5963914478538872}. Best is trial 72 with value: 2.4390572731240554.\n",
            "Trial 77 finished with value: 19.044063557569878 and parameters: {'x': 3.701710162567394, 'y': 1.5963914478538872}. Best is trial 72 with value: 2.4390572731240554.\n",
            "Trial 77 finished with value: 19.044063557569878 and parameters: {'x': 3.701710162567394, 'y': 1.5963914478538872}. Best is trial 72 with value: 2.4390572731240554.\n",
            "Trial 77 finished with value: 19.044063557569878 and parameters: {'x': 3.701710162567394, 'y': 1.5963914478538872}. Best is trial 72 with value: 2.4390572731240554.\n",
            "Trial 77 finished with value: 19.044063557569878 and parameters: {'x': 3.701710162567394, 'y': 1.5963914478538872}. Best is trial 72 with value: 2.4390572731240554.\n"
          ]
        },
        {
          "output_type": "stream",
          "name": "stderr",
          "text": [
            "\u001b[32m[I 2022-12-24 15:44:37,452]\u001b[0m Trial 78 finished with value: 130.37250610836432 and parameters: {'x': 4.722578738515095, 'y': -0.11157456805378496}. Best is trial 72 with value: 2.4390572731240554.\u001b[0m\n"
          ]
        },
        {
          "output_type": "stream",
          "name": "stdout",
          "text": [
            "Trial 78 finished with value: 130.37250610836432 and parameters: {'x': 4.722578738515095, 'y': -0.11157456805378496}. Best is trial 72 with value: 2.4390572731240554.\n",
            "Trial 78 finished with value: 130.37250610836432 and parameters: {'x': 4.722578738515095, 'y': -0.11157456805378496}. Best is trial 72 with value: 2.4390572731240554.\n",
            "Trial 78 finished with value: 130.37250610836432 and parameters: {'x': 4.722578738515095, 'y': -0.11157456805378496}. Best is trial 72 with value: 2.4390572731240554.\n",
            "Trial 78 finished with value: 130.37250610836432 and parameters: {'x': 4.722578738515095, 'y': -0.11157456805378496}. Best is trial 72 with value: 2.4390572731240554.\n",
            "Trial 78 finished with value: 130.37250610836432 and parameters: {'x': 4.722578738515095, 'y': -0.11157456805378496}. Best is trial 72 with value: 2.4390572731240554.\n",
            "Trial 78 finished with value: 130.37250610836432 and parameters: {'x': 4.722578738515095, 'y': -0.11157456805378496}. Best is trial 72 with value: 2.4390572731240554.\n",
            "Trial 78 finished with value: 130.37250610836432 and parameters: {'x': 4.722578738515095, 'y': -0.11157456805378496}. Best is trial 72 with value: 2.4390572731240554.\n"
          ]
        },
        {
          "output_type": "stream",
          "name": "stderr",
          "text": [
            "\u001b[32m[I 2022-12-24 15:44:37,497]\u001b[0m Trial 79 finished with value: 116.57467780927813 and parameters: {'x': 2.9997394322643314, 'y': -3.634484255975487}. Best is trial 72 with value: 2.4390572731240554.\u001b[0m\n"
          ]
        },
        {
          "output_type": "stream",
          "name": "stdout",
          "text": [
            "Trial 79 finished with value: 116.57467780927813 and parameters: {'x': 2.9997394322643314, 'y': -3.634484255975487}. Best is trial 72 with value: 2.4390572731240554.\n",
            "Trial 79 finished with value: 116.57467780927813 and parameters: {'x': 2.9997394322643314, 'y': -3.634484255975487}. Best is trial 72 with value: 2.4390572731240554.\n",
            "Trial 79 finished with value: 116.57467780927813 and parameters: {'x': 2.9997394322643314, 'y': -3.634484255975487}. Best is trial 72 with value: 2.4390572731240554.\n",
            "Trial 79 finished with value: 116.57467780927813 and parameters: {'x': 2.9997394322643314, 'y': -3.634484255975487}. Best is trial 72 with value: 2.4390572731240554.\n",
            "Trial 79 finished with value: 116.57467780927813 and parameters: {'x': 2.9997394322643314, 'y': -3.634484255975487}. Best is trial 72 with value: 2.4390572731240554.\n",
            "Trial 79 finished with value: 116.57467780927813 and parameters: {'x': 2.9997394322643314, 'y': -3.634484255975487}. Best is trial 72 with value: 2.4390572731240554.\n",
            "Trial 79 finished with value: 116.57467780927813 and parameters: {'x': 2.9997394322643314, 'y': -3.634484255975487}. Best is trial 72 with value: 2.4390572731240554.\n"
          ]
        },
        {
          "output_type": "stream",
          "name": "stderr",
          "text": [
            "\u001b[32m[I 2022-12-24 15:44:37,542]\u001b[0m Trial 80 finished with value: 33.34801931144037 and parameters: {'x': 3.5756898606605336, 'y': 2.6652804617613324}. Best is trial 72 with value: 2.4390572731240554.\u001b[0m\n"
          ]
        },
        {
          "output_type": "stream",
          "name": "stdout",
          "text": [
            "Trial 80 finished with value: 33.34801931144037 and parameters: {'x': 3.5756898606605336, 'y': 2.6652804617613324}. Best is trial 72 with value: 2.4390572731240554.\n",
            "Trial 80 finished with value: 33.34801931144037 and parameters: {'x': 3.5756898606605336, 'y': 2.6652804617613324}. Best is trial 72 with value: 2.4390572731240554.\n",
            "Trial 80 finished with value: 33.34801931144037 and parameters: {'x': 3.5756898606605336, 'y': 2.6652804617613324}. Best is trial 72 with value: 2.4390572731240554.\n",
            "Trial 80 finished with value: 33.34801931144037 and parameters: {'x': 3.5756898606605336, 'y': 2.6652804617613324}. Best is trial 72 with value: 2.4390572731240554.\n",
            "Trial 80 finished with value: 33.34801931144037 and parameters: {'x': 3.5756898606605336, 'y': 2.6652804617613324}. Best is trial 72 with value: 2.4390572731240554.\n",
            "Trial 80 finished with value: 33.34801931144037 and parameters: {'x': 3.5756898606605336, 'y': 2.6652804617613324}. Best is trial 72 with value: 2.4390572731240554.\n",
            "Trial 80 finished with value: 33.34801931144037 and parameters: {'x': 3.5756898606605336, 'y': 2.6652804617613324}. Best is trial 72 with value: 2.4390572731240554.\n"
          ]
        },
        {
          "output_type": "stream",
          "name": "stderr",
          "text": [
            "\u001b[32m[I 2022-12-24 15:44:37,577]\u001b[0m Trial 81 finished with value: 4.400160520881317 and parameters: {'x': 3.350177655911237, 'y': 1.867753283796192}. Best is trial 72 with value: 2.4390572731240554.\u001b[0m\n"
          ]
        },
        {
          "output_type": "stream",
          "name": "stdout",
          "text": [
            "Trial 81 finished with value: 4.400160520881317 and parameters: {'x': 3.350177655911237, 'y': 1.867753283796192}. Best is trial 72 with value: 2.4390572731240554.\n",
            "Trial 81 finished with value: 4.400160520881317 and parameters: {'x': 3.350177655911237, 'y': 1.867753283796192}. Best is trial 72 with value: 2.4390572731240554.\n",
            "Trial 81 finished with value: 4.400160520881317 and parameters: {'x': 3.350177655911237, 'y': 1.867753283796192}. Best is trial 72 with value: 2.4390572731240554.\n",
            "Trial 81 finished with value: 4.400160520881317 and parameters: {'x': 3.350177655911237, 'y': 1.867753283796192}. Best is trial 72 with value: 2.4390572731240554.\n",
            "Trial 81 finished with value: 4.400160520881317 and parameters: {'x': 3.350177655911237, 'y': 1.867753283796192}. Best is trial 72 with value: 2.4390572731240554.\n",
            "Trial 81 finished with value: 4.400160520881317 and parameters: {'x': 3.350177655911237, 'y': 1.867753283796192}. Best is trial 72 with value: 2.4390572731240554.\n",
            "Trial 81 finished with value: 4.400160520881317 and parameters: {'x': 3.350177655911237, 'y': 1.867753283796192}. Best is trial 72 with value: 2.4390572731240554.\n"
          ]
        },
        {
          "output_type": "stream",
          "name": "stderr",
          "text": [
            "\u001b[32m[I 2022-12-24 15:44:37,606]\u001b[0m Trial 82 finished with value: 47.32642301857002 and parameters: {'x': 4.006470552282348, 'y': 1.820188137428974}. Best is trial 72 with value: 2.4390572731240554.\u001b[0m\n"
          ]
        },
        {
          "output_type": "stream",
          "name": "stdout",
          "text": [
            "Trial 82 finished with value: 47.32642301857002 and parameters: {'x': 4.006470552282348, 'y': 1.820188137428974}. Best is trial 72 with value: 2.4390572731240554.\n",
            "Trial 82 finished with value: 47.32642301857002 and parameters: {'x': 4.006470552282348, 'y': 1.820188137428974}. Best is trial 72 with value: 2.4390572731240554.\n",
            "Trial 82 finished with value: 47.32642301857002 and parameters: {'x': 4.006470552282348, 'y': 1.820188137428974}. Best is trial 72 with value: 2.4390572731240554.\n",
            "Trial 82 finished with value: 47.32642301857002 and parameters: {'x': 4.006470552282348, 'y': 1.820188137428974}. Best is trial 72 with value: 2.4390572731240554.\n",
            "Trial 82 finished with value: 47.32642301857002 and parameters: {'x': 4.006470552282348, 'y': 1.820188137428974}. Best is trial 72 with value: 2.4390572731240554.\n",
            "Trial 82 finished with value: 47.32642301857002 and parameters: {'x': 4.006470552282348, 'y': 1.820188137428974}. Best is trial 72 with value: 2.4390572731240554.\n",
            "Trial 82 finished with value: 47.32642301857002 and parameters: {'x': 4.006470552282348, 'y': 1.820188137428974}. Best is trial 72 with value: 2.4390572731240554.\n"
          ]
        },
        {
          "output_type": "stream",
          "name": "stderr",
          "text": [
            "\u001b[32m[I 2022-12-24 15:44:37,636]\u001b[0m Trial 83 finished with value: 4.880021832675371 and parameters: {'x': 3.320631792058163, 'y': 2.0824497849287695}. Best is trial 72 with value: 2.4390572731240554.\u001b[0m\n"
          ]
        },
        {
          "output_type": "stream",
          "name": "stdout",
          "text": [
            "Trial 83 finished with value: 4.880021832675371 and parameters: {'x': 3.320631792058163, 'y': 2.0824497849287695}. Best is trial 72 with value: 2.4390572731240554.\n",
            "Trial 83 finished with value: 4.880021832675371 and parameters: {'x': 3.320631792058163, 'y': 2.0824497849287695}. Best is trial 72 with value: 2.4390572731240554.\n",
            "Trial 83 finished with value: 4.880021832675371 and parameters: {'x': 3.320631792058163, 'y': 2.0824497849287695}. Best is trial 72 with value: 2.4390572731240554.\n",
            "Trial 83 finished with value: 4.880021832675371 and parameters: {'x': 3.320631792058163, 'y': 2.0824497849287695}. Best is trial 72 with value: 2.4390572731240554.\n",
            "Trial 83 finished with value: 4.880021832675371 and parameters: {'x': 3.320631792058163, 'y': 2.0824497849287695}. Best is trial 72 with value: 2.4390572731240554.\n",
            "Trial 83 finished with value: 4.880021832675371 and parameters: {'x': 3.320631792058163, 'y': 2.0824497849287695}. Best is trial 72 with value: 2.4390572731240554.\n",
            "Trial 83 finished with value: 4.880021832675371 and parameters: {'x': 3.320631792058163, 'y': 2.0824497849287695}. Best is trial 72 with value: 2.4390572731240554.\n"
          ]
        },
        {
          "output_type": "stream",
          "name": "stderr",
          "text": [
            "\u001b[32m[I 2022-12-24 15:44:37,659]\u001b[0m Trial 84 finished with value: 91.95452460020337 and parameters: {'x': 4.290030263497901, 'y': 2.060899136473752}. Best is trial 72 with value: 2.4390572731240554.\u001b[0m\n"
          ]
        },
        {
          "output_type": "stream",
          "name": "stdout",
          "text": [
            "Trial 84 finished with value: 91.95452460020337 and parameters: {'x': 4.290030263497901, 'y': 2.060899136473752}. Best is trial 72 with value: 2.4390572731240554.\n",
            "Trial 84 finished with value: 91.95452460020337 and parameters: {'x': 4.290030263497901, 'y': 2.060899136473752}. Best is trial 72 with value: 2.4390572731240554.\n",
            "Trial 84 finished with value: 91.95452460020337 and parameters: {'x': 4.290030263497901, 'y': 2.060899136473752}. Best is trial 72 with value: 2.4390572731240554.\n",
            "Trial 84 finished with value: 91.95452460020337 and parameters: {'x': 4.290030263497901, 'y': 2.060899136473752}. Best is trial 72 with value: 2.4390572731240554.\n",
            "Trial 84 finished with value: 91.95452460020337 and parameters: {'x': 4.290030263497901, 'y': 2.060899136473752}. Best is trial 72 with value: 2.4390572731240554.\n",
            "Trial 84 finished with value: 91.95452460020337 and parameters: {'x': 4.290030263497901, 'y': 2.060899136473752}. Best is trial 72 with value: 2.4390572731240554.\n",
            "Trial 84 finished with value: 91.95452460020337 and parameters: {'x': 4.290030263497901, 'y': 2.060899136473752}. Best is trial 72 with value: 2.4390572731240554.\n"
          ]
        },
        {
          "output_type": "stream",
          "name": "stderr",
          "text": [
            "\u001b[32m[I 2022-12-24 15:44:37,702]\u001b[0m Trial 85 finished with value: 8.485202223504213 and parameters: {'x': 3.2984058628399193, 'y': 2.359116310280604}. Best is trial 72 with value: 2.4390572731240554.\u001b[0m\n"
          ]
        },
        {
          "output_type": "stream",
          "name": "stdout",
          "text": [
            "Trial 85 finished with value: 8.485202223504213 and parameters: {'x': 3.2984058628399193, 'y': 2.359116310280604}. Best is trial 72 with value: 2.4390572731240554.\n",
            "Trial 85 finished with value: 8.485202223504213 and parameters: {'x': 3.2984058628399193, 'y': 2.359116310280604}. Best is trial 72 with value: 2.4390572731240554.\n",
            "Trial 85 finished with value: 8.485202223504213 and parameters: {'x': 3.2984058628399193, 'y': 2.359116310280604}. Best is trial 72 with value: 2.4390572731240554.\n",
            "Trial 85 finished with value: 8.485202223504213 and parameters: {'x': 3.2984058628399193, 'y': 2.359116310280604}. Best is trial 72 with value: 2.4390572731240554.\n",
            "Trial 85 finished with value: 8.485202223504213 and parameters: {'x': 3.2984058628399193, 'y': 2.359116310280604}. Best is trial 72 with value: 2.4390572731240554.\n",
            "Trial 85 finished with value: 8.485202223504213 and parameters: {'x': 3.2984058628399193, 'y': 2.359116310280604}. Best is trial 72 with value: 2.4390572731240554.\n",
            "Trial 85 finished with value: 8.485202223504213 and parameters: {'x': 3.2984058628399193, 'y': 2.359116310280604}. Best is trial 72 with value: 2.4390572731240554.\n"
          ]
        },
        {
          "output_type": "stream",
          "name": "stderr",
          "text": [
            "\u001b[32m[I 2022-12-24 15:44:37,752]\u001b[0m Trial 86 finished with value: 150.70796162572543 and parameters: {'x': 2.55888948650569, 'y': 4.088034802510703}. Best is trial 72 with value: 2.4390572731240554.\u001b[0m\n"
          ]
        },
        {
          "output_type": "stream",
          "name": "stdout",
          "text": [
            "Trial 86 finished with value: 150.70796162572543 and parameters: {'x': 2.55888948650569, 'y': 4.088034802510703}. Best is trial 72 with value: 2.4390572731240554.\n",
            "Trial 86 finished with value: 150.70796162572543 and parameters: {'x': 2.55888948650569, 'y': 4.088034802510703}. Best is trial 72 with value: 2.4390572731240554.\n",
            "Trial 86 finished with value: 150.70796162572543 and parameters: {'x': 2.55888948650569, 'y': 4.088034802510703}. Best is trial 72 with value: 2.4390572731240554.\n",
            "Trial 86 finished with value: 150.70796162572543 and parameters: {'x': 2.55888948650569, 'y': 4.088034802510703}. Best is trial 72 with value: 2.4390572731240554.\n",
            "Trial 86 finished with value: 150.70796162572543 and parameters: {'x': 2.55888948650569, 'y': 4.088034802510703}. Best is trial 72 with value: 2.4390572731240554.\n",
            "Trial 86 finished with value: 150.70796162572543 and parameters: {'x': 2.55888948650569, 'y': 4.088034802510703}. Best is trial 72 with value: 2.4390572731240554.\n",
            "Trial 86 finished with value: 150.70796162572543 and parameters: {'x': 2.55888948650569, 'y': 4.088034802510703}. Best is trial 72 with value: 2.4390572731240554.\n"
          ]
        },
        {
          "output_type": "stream",
          "name": "stderr",
          "text": [
            "\u001b[32m[I 2022-12-24 15:44:37,805]\u001b[0m Trial 87 finished with value: 108.872382540695 and parameters: {'x': 3.8612787987517354, 'y': 3.2723116513472785}. Best is trial 72 with value: 2.4390572731240554.\u001b[0m\n"
          ]
        },
        {
          "output_type": "stream",
          "name": "stdout",
          "text": [
            "Trial 87 finished with value: 108.872382540695 and parameters: {'x': 3.8612787987517354, 'y': 3.2723116513472785}. Best is trial 72 with value: 2.4390572731240554.\n",
            "Trial 87 finished with value: 108.872382540695 and parameters: {'x': 3.8612787987517354, 'y': 3.2723116513472785}. Best is trial 72 with value: 2.4390572731240554.\n",
            "Trial 87 finished with value: 108.872382540695 and parameters: {'x': 3.8612787987517354, 'y': 3.2723116513472785}. Best is trial 72 with value: 2.4390572731240554.\n",
            "Trial 87 finished with value: 108.872382540695 and parameters: {'x': 3.8612787987517354, 'y': 3.2723116513472785}. Best is trial 72 with value: 2.4390572731240554.\n",
            "Trial 87 finished with value: 108.872382540695 and parameters: {'x': 3.8612787987517354, 'y': 3.2723116513472785}. Best is trial 72 with value: 2.4390572731240554.\n",
            "Trial 87 finished with value: 108.872382540695 and parameters: {'x': 3.8612787987517354, 'y': 3.2723116513472785}. Best is trial 72 with value: 2.4390572731240554.\n",
            "Trial 87 finished with value: 108.872382540695 and parameters: {'x': 3.8612787987517354, 'y': 3.2723116513472785}. Best is trial 72 with value: 2.4390572731240554.\n"
          ]
        },
        {
          "output_type": "stream",
          "name": "stderr",
          "text": [
            "\u001b[32m[I 2022-12-24 15:44:37,855]\u001b[0m Trial 88 finished with value: 75.57637336849874 and parameters: {'x': -2.896641501019058, 'y': 1.151641802872926}. Best is trial 72 with value: 2.4390572731240554.\u001b[0m\n"
          ]
        },
        {
          "output_type": "stream",
          "name": "stdout",
          "text": [
            "Trial 88 finished with value: 75.57637336849874 and parameters: {'x': -2.896641501019058, 'y': 1.151641802872926}. Best is trial 72 with value: 2.4390572731240554.\n",
            "Trial 88 finished with value: 75.57637336849874 and parameters: {'x': -2.896641501019058, 'y': 1.151641802872926}. Best is trial 72 with value: 2.4390572731240554.\n",
            "Trial 88 finished with value: 75.57637336849874 and parameters: {'x': -2.896641501019058, 'y': 1.151641802872926}. Best is trial 72 with value: 2.4390572731240554.\n",
            "Trial 88 finished with value: 75.57637336849874 and parameters: {'x': -2.896641501019058, 'y': 1.151641802872926}. Best is trial 72 with value: 2.4390572731240554.\n",
            "Trial 88 finished with value: 75.57637336849874 and parameters: {'x': -2.896641501019058, 'y': 1.151641802872926}. Best is trial 72 with value: 2.4390572731240554.\n",
            "Trial 88 finished with value: 75.57637336849874 and parameters: {'x': -2.896641501019058, 'y': 1.151641802872926}. Best is trial 72 with value: 2.4390572731240554.\n",
            "Trial 88 finished with value: 75.57637336849874 and parameters: {'x': -2.896641501019058, 'y': 1.151641802872926}. Best is trial 72 with value: 2.4390572731240554.\n"
          ]
        },
        {
          "output_type": "stream",
          "name": "stderr",
          "text": [
            "\u001b[32m[I 2022-12-24 15:44:37,928]\u001b[0m Trial 89 finished with value: 15.186049246057031 and parameters: {'x': 2.2946156034398184, 'y': 1.9468209210056648}. Best is trial 72 with value: 2.4390572731240554.\u001b[0m\n"
          ]
        },
        {
          "output_type": "stream",
          "name": "stdout",
          "text": [
            "Trial 89 finished with value: 15.186049246057031 and parameters: {'x': 2.2946156034398184, 'y': 1.9468209210056648}. Best is trial 72 with value: 2.4390572731240554.\n",
            "Trial 89 finished with value: 15.186049246057031 and parameters: {'x': 2.2946156034398184, 'y': 1.9468209210056648}. Best is trial 72 with value: 2.4390572731240554.\n",
            "Trial 89 finished with value: 15.186049246057031 and parameters: {'x': 2.2946156034398184, 'y': 1.9468209210056648}. Best is trial 72 with value: 2.4390572731240554.\n",
            "Trial 89 finished with value: 15.186049246057031 and parameters: {'x': 2.2946156034398184, 'y': 1.9468209210056648}. Best is trial 72 with value: 2.4390572731240554.\n",
            "Trial 89 finished with value: 15.186049246057031 and parameters: {'x': 2.2946156034398184, 'y': 1.9468209210056648}. Best is trial 72 with value: 2.4390572731240554.\n",
            "Trial 89 finished with value: 15.186049246057031 and parameters: {'x': 2.2946156034398184, 'y': 1.9468209210056648}. Best is trial 72 with value: 2.4390572731240554.\n",
            "Trial 89 finished with value: 15.186049246057031 and parameters: {'x': 2.2946156034398184, 'y': 1.9468209210056648}. Best is trial 72 with value: 2.4390572731240554.\n"
          ]
        },
        {
          "output_type": "stream",
          "name": "stderr",
          "text": [
            "\u001b[32m[I 2022-12-24 15:44:38,036]\u001b[0m Trial 90 finished with value: 1.6155884995880805 and parameters: {'x': 3.137075139751625, 'y': 1.6389169420782368}. Best is trial 90 with value: 1.6155884995880805.\u001b[0m\n"
          ]
        },
        {
          "output_type": "stream",
          "name": "stdout",
          "text": [
            "Trial 90 finished with value: 1.6155884995880805 and parameters: {'x': 3.137075139751625, 'y': 1.6389169420782368}. Best is trial 90 with value: 1.6155884995880805.\n",
            "Trial 90 finished with value: 1.6155884995880805 and parameters: {'x': 3.137075139751625, 'y': 1.6389169420782368}. Best is trial 90 with value: 1.6155884995880805.\n",
            "Trial 90 finished with value: 1.6155884995880805 and parameters: {'x': 3.137075139751625, 'y': 1.6389169420782368}. Best is trial 90 with value: 1.6155884995880805.\n",
            "Trial 90 finished with value: 1.6155884995880805 and parameters: {'x': 3.137075139751625, 'y': 1.6389169420782368}. Best is trial 90 with value: 1.6155884995880805.\n",
            "Trial 90 finished with value: 1.6155884995880805 and parameters: {'x': 3.137075139751625, 'y': 1.6389169420782368}. Best is trial 90 with value: 1.6155884995880805.\n",
            "Trial 90 finished with value: 1.6155884995880805 and parameters: {'x': 3.137075139751625, 'y': 1.6389169420782368}. Best is trial 90 with value: 1.6155884995880805.\n",
            "Trial 90 finished with value: 1.6155884995880805 and parameters: {'x': 3.137075139751625, 'y': 1.6389169420782368}. Best is trial 90 with value: 1.6155884995880805.\n"
          ]
        },
        {
          "output_type": "stream",
          "name": "stderr",
          "text": [
            "\u001b[32m[I 2022-12-24 15:44:38,145]\u001b[0m Trial 91 finished with value: 1.7708569803796363 and parameters: {'x': 3.1744355656889662, 'y': 1.6456515968157435}. Best is trial 90 with value: 1.6155884995880805.\u001b[0m\n"
          ]
        },
        {
          "output_type": "stream",
          "name": "stdout",
          "text": [
            "Trial 91 finished with value: 1.7708569803796363 and parameters: {'x': 3.1744355656889662, 'y': 1.6456515968157435}. Best is trial 90 with value: 1.6155884995880805.\n",
            "Trial 91 finished with value: 1.7708569803796363 and parameters: {'x': 3.1744355656889662, 'y': 1.6456515968157435}. Best is trial 90 with value: 1.6155884995880805.\n",
            "Trial 91 finished with value: 1.7708569803796363 and parameters: {'x': 3.1744355656889662, 'y': 1.6456515968157435}. Best is trial 90 with value: 1.6155884995880805.\n",
            "Trial 91 finished with value: 1.7708569803796363 and parameters: {'x': 3.1744355656889662, 'y': 1.6456515968157435}. Best is trial 90 with value: 1.6155884995880805.\n",
            "Trial 91 finished with value: 1.7708569803796363 and parameters: {'x': 3.1744355656889662, 'y': 1.6456515968157435}. Best is trial 90 with value: 1.6155884995880805.\n",
            "Trial 91 finished with value: 1.7708569803796363 and parameters: {'x': 3.1744355656889662, 'y': 1.6456515968157435}. Best is trial 90 with value: 1.6155884995880805.\n",
            "Trial 91 finished with value: 1.7708569803796363 and parameters: {'x': 3.1744355656889662, 'y': 1.6456515968157435}. Best is trial 90 with value: 1.6155884995880805.\n"
          ]
        },
        {
          "output_type": "stream",
          "name": "stderr",
          "text": [
            "\u001b[32m[I 2022-12-24 15:44:38,235]\u001b[0m Trial 92 finished with value: 3.0311536199295426 and parameters: {'x': 2.9920867754873783, 'y': 1.5313805301785894}. Best is trial 90 with value: 1.6155884995880805.\u001b[0m\n"
          ]
        },
        {
          "output_type": "stream",
          "name": "stdout",
          "text": [
            "Trial 92 finished with value: 3.0311536199295426 and parameters: {'x': 2.9920867754873783, 'y': 1.5313805301785894}. Best is trial 90 with value: 1.6155884995880805.\n",
            "Trial 92 finished with value: 3.0311536199295426 and parameters: {'x': 2.9920867754873783, 'y': 1.5313805301785894}. Best is trial 90 with value: 1.6155884995880805.\n",
            "Trial 92 finished with value: 3.0311536199295426 and parameters: {'x': 2.9920867754873783, 'y': 1.5313805301785894}. Best is trial 90 with value: 1.6155884995880805.\n",
            "Trial 92 finished with value: 3.0311536199295426 and parameters: {'x': 2.9920867754873783, 'y': 1.5313805301785894}. Best is trial 90 with value: 1.6155884995880805.\n",
            "Trial 92 finished with value: 3.0311536199295426 and parameters: {'x': 2.9920867754873783, 'y': 1.5313805301785894}. Best is trial 90 with value: 1.6155884995880805.\n",
            "Trial 92 finished with value: 3.0311536199295426 and parameters: {'x': 2.9920867754873783, 'y': 1.5313805301785894}. Best is trial 90 with value: 1.6155884995880805.\n",
            "Trial 92 finished with value: 3.0311536199295426 and parameters: {'x': 2.9920867754873783, 'y': 1.5313805301785894}. Best is trial 90 with value: 1.6155884995880805.\n"
          ]
        },
        {
          "output_type": "stream",
          "name": "stderr",
          "text": [
            "\u001b[32m[I 2022-12-24 15:44:38,324]\u001b[0m Trial 93 finished with value: 12.287197351942098 and parameters: {'x': 3.572367659345824, 'y': 1.3390433775953179}. Best is trial 90 with value: 1.6155884995880805.\u001b[0m\n"
          ]
        },
        {
          "output_type": "stream",
          "name": "stdout",
          "text": [
            "Trial 93 finished with value: 12.287197351942098 and parameters: {'x': 3.572367659345824, 'y': 1.3390433775953179}. Best is trial 90 with value: 1.6155884995880805.\n",
            "Trial 93 finished with value: 12.287197351942098 and parameters: {'x': 3.572367659345824, 'y': 1.3390433775953179}. Best is trial 90 with value: 1.6155884995880805.\n",
            "Trial 93 finished with value: 12.287197351942098 and parameters: {'x': 3.572367659345824, 'y': 1.3390433775953179}. Best is trial 90 with value: 1.6155884995880805.\n",
            "Trial 93 finished with value: 12.287197351942098 and parameters: {'x': 3.572367659345824, 'y': 1.3390433775953179}. Best is trial 90 with value: 1.6155884995880805.\n",
            "Trial 93 finished with value: 12.287197351942098 and parameters: {'x': 3.572367659345824, 'y': 1.3390433775953179}. Best is trial 90 with value: 1.6155884995880805.\n",
            "Trial 93 finished with value: 12.287197351942098 and parameters: {'x': 3.572367659345824, 'y': 1.3390433775953179}. Best is trial 90 with value: 1.6155884995880805.\n",
            "Trial 93 finished with value: 12.287197351942098 and parameters: {'x': 3.572367659345824, 'y': 1.3390433775953179}. Best is trial 90 with value: 1.6155884995880805.\n"
          ]
        },
        {
          "output_type": "stream",
          "name": "stderr",
          "text": [
            "\u001b[32m[I 2022-12-24 15:44:38,383]\u001b[0m Trial 94 finished with value: 1.6519395680141846 and parameters: {'x': 3.078968079676754, 'y': 1.6248196548434835}. Best is trial 90 with value: 1.6155884995880805.\u001b[0m\n"
          ]
        },
        {
          "output_type": "stream",
          "name": "stdout",
          "text": [
            "Trial 94 finished with value: 1.6519395680141846 and parameters: {'x': 3.078968079676754, 'y': 1.6248196548434835}. Best is trial 90 with value: 1.6155884995880805.\n",
            "Trial 94 finished with value: 1.6519395680141846 and parameters: {'x': 3.078968079676754, 'y': 1.6248196548434835}. Best is trial 90 with value: 1.6155884995880805.\n",
            "Trial 94 finished with value: 1.6519395680141846 and parameters: {'x': 3.078968079676754, 'y': 1.6248196548434835}. Best is trial 90 with value: 1.6155884995880805.\n",
            "Trial 94 finished with value: 1.6519395680141846 and parameters: {'x': 3.078968079676754, 'y': 1.6248196548434835}. Best is trial 90 with value: 1.6155884995880805.\n",
            "Trial 94 finished with value: 1.6519395680141846 and parameters: {'x': 3.078968079676754, 'y': 1.6248196548434835}. Best is trial 90 with value: 1.6155884995880805.\n",
            "Trial 94 finished with value: 1.6519395680141846 and parameters: {'x': 3.078968079676754, 'y': 1.6248196548434835}. Best is trial 90 with value: 1.6155884995880805.\n",
            "Trial 94 finished with value: 1.6519395680141846 and parameters: {'x': 3.078968079676754, 'y': 1.6248196548434835}. Best is trial 90 with value: 1.6155884995880805.\n"
          ]
        },
        {
          "output_type": "stream",
          "name": "stderr",
          "text": [
            "\u001b[32m[I 2022-12-24 15:44:38,457]\u001b[0m Trial 95 finished with value: 2.5576241751841198 and parameters: {'x': 2.9227948592624213, 'y': 1.64333930293221}. Best is trial 90 with value: 1.6155884995880805.\u001b[0m\n"
          ]
        },
        {
          "output_type": "stream",
          "name": "stdout",
          "text": [
            "Trial 95 finished with value: 2.5576241751841198 and parameters: {'x': 2.9227948592624213, 'y': 1.64333930293221}. Best is trial 90 with value: 1.6155884995880805.\n",
            "Trial 95 finished with value: 2.5576241751841198 and parameters: {'x': 2.9227948592624213, 'y': 1.64333930293221}. Best is trial 90 with value: 1.6155884995880805.\n",
            "Trial 95 finished with value: 2.5576241751841198 and parameters: {'x': 2.9227948592624213, 'y': 1.64333930293221}. Best is trial 90 with value: 1.6155884995880805.\n",
            "Trial 95 finished with value: 2.5576241751841198 and parameters: {'x': 2.9227948592624213, 'y': 1.64333930293221}. Best is trial 90 with value: 1.6155884995880805.\n",
            "Trial 95 finished with value: 2.5576241751841198 and parameters: {'x': 2.9227948592624213, 'y': 1.64333930293221}. Best is trial 90 with value: 1.6155884995880805.\n",
            "Trial 95 finished with value: 2.5576241751841198 and parameters: {'x': 2.9227948592624213, 'y': 1.64333930293221}. Best is trial 90 with value: 1.6155884995880805.\n",
            "Trial 95 finished with value: 2.5576241751841198 and parameters: {'x': 2.9227948592624213, 'y': 1.64333930293221}. Best is trial 90 with value: 1.6155884995880805.\n"
          ]
        },
        {
          "output_type": "stream",
          "name": "stderr",
          "text": [
            "\u001b[32m[I 2022-12-24 15:44:38,509]\u001b[0m Trial 96 finished with value: 64.23120844450139 and parameters: {'x': 1.8975408971718175, 'y': 0.7719530952526666}. Best is trial 90 with value: 1.6155884995880805.\u001b[0m\n"
          ]
        },
        {
          "output_type": "stream",
          "name": "stdout",
          "text": [
            "Trial 96 finished with value: 64.23120844450139 and parameters: {'x': 1.8975408971718175, 'y': 0.7719530952526666}. Best is trial 90 with value: 1.6155884995880805.\n",
            "Trial 96 finished with value: 64.23120844450139 and parameters: {'x': 1.8975408971718175, 'y': 0.7719530952526666}. Best is trial 90 with value: 1.6155884995880805.\n",
            "Trial 96 finished with value: 64.23120844450139 and parameters: {'x': 1.8975408971718175, 'y': 0.7719530952526666}. Best is trial 90 with value: 1.6155884995880805.\n",
            "Trial 96 finished with value: 64.23120844450139 and parameters: {'x': 1.8975408971718175, 'y': 0.7719530952526666}. Best is trial 90 with value: 1.6155884995880805.\n",
            "Trial 96 finished with value: 64.23120844450139 and parameters: {'x': 1.8975408971718175, 'y': 0.7719530952526666}. Best is trial 90 with value: 1.6155884995880805.\n",
            "Trial 96 finished with value: 64.23120844450139 and parameters: {'x': 1.8975408971718175, 'y': 0.7719530952526666}. Best is trial 90 with value: 1.6155884995880805.\n",
            "Trial 96 finished with value: 64.23120844450139 and parameters: {'x': 1.8975408971718175, 'y': 0.7719530952526666}. Best is trial 90 with value: 1.6155884995880805.\n"
          ]
        },
        {
          "output_type": "stream",
          "name": "stderr",
          "text": [
            "\u001b[32m[I 2022-12-24 15:44:38,590]\u001b[0m Trial 97 finished with value: 7.683666247333546 and parameters: {'x': 2.710200589281897, 'y': 1.569554530263311}. Best is trial 90 with value: 1.6155884995880805.\u001b[0m\n"
          ]
        },
        {
          "output_type": "stream",
          "name": "stdout",
          "text": [
            "Trial 97 finished with value: 7.683666247333546 and parameters: {'x': 2.710200589281897, 'y': 1.569554530263311}. Best is trial 90 with value: 1.6155884995880805.\n",
            "Trial 97 finished with value: 7.683666247333546 and parameters: {'x': 2.710200589281897, 'y': 1.569554530263311}. Best is trial 90 with value: 1.6155884995880805.\n",
            "Trial 97 finished with value: 7.683666247333546 and parameters: {'x': 2.710200589281897, 'y': 1.569554530263311}. Best is trial 90 with value: 1.6155884995880805.\n",
            "Trial 97 finished with value: 7.683666247333546 and parameters: {'x': 2.710200589281897, 'y': 1.569554530263311}. Best is trial 90 with value: 1.6155884995880805.\n",
            "Trial 97 finished with value: 7.683666247333546 and parameters: {'x': 2.710200589281897, 'y': 1.569554530263311}. Best is trial 90 with value: 1.6155884995880805.\n",
            "Trial 97 finished with value: 7.683666247333546 and parameters: {'x': 2.710200589281897, 'y': 1.569554530263311}. Best is trial 90 with value: 1.6155884995880805.\n",
            "Trial 97 finished with value: 7.683666247333546 and parameters: {'x': 2.710200589281897, 'y': 1.569554530263311}. Best is trial 90 with value: 1.6155884995880805.\n"
          ]
        },
        {
          "output_type": "stream",
          "name": "stderr",
          "text": [
            "\u001b[32m[I 2022-12-24 15:44:38,641]\u001b[0m Trial 98 finished with value: 8.577619050633539 and parameters: {'x': 3.054925290677308, 'y': 1.0411800830814923}. Best is trial 90 with value: 1.6155884995880805.\u001b[0m\n"
          ]
        },
        {
          "output_type": "stream",
          "name": "stdout",
          "text": [
            "Trial 98 finished with value: 8.577619050633539 and parameters: {'x': 3.054925290677308, 'y': 1.0411800830814923}. Best is trial 90 with value: 1.6155884995880805.\n",
            "Trial 98 finished with value: 8.577619050633539 and parameters: {'x': 3.054925290677308, 'y': 1.0411800830814923}. Best is trial 90 with value: 1.6155884995880805.\n",
            "Trial 98 finished with value: 8.577619050633539 and parameters: {'x': 3.054925290677308, 'y': 1.0411800830814923}. Best is trial 90 with value: 1.6155884995880805.\n",
            "Trial 98 finished with value: 8.577619050633539 and parameters: {'x': 3.054925290677308, 'y': 1.0411800830814923}. Best is trial 90 with value: 1.6155884995880805.\n",
            "Trial 98 finished with value: 8.577619050633539 and parameters: {'x': 3.054925290677308, 'y': 1.0411800830814923}. Best is trial 90 with value: 1.6155884995880805.\n",
            "Trial 98 finished with value: 8.577619050633539 and parameters: {'x': 3.054925290677308, 'y': 1.0411800830814923}. Best is trial 90 with value: 1.6155884995880805.\n",
            "Trial 98 finished with value: 8.577619050633539 and parameters: {'x': 3.054925290677308, 'y': 1.0411800830814923}. Best is trial 90 with value: 1.6155884995880805.\n"
          ]
        },
        {
          "output_type": "stream",
          "name": "stderr",
          "text": [
            "\u001b[32m[I 2022-12-24 15:44:38,740]\u001b[0m Trial 99 finished with value: 21.44758610910967 and parameters: {'x': 2.8530800177165587, 'y': 0.4431509926432651}. Best is trial 90 with value: 1.6155884995880805.\u001b[0m\n"
          ]
        },
        {
          "output_type": "stream",
          "name": "stdout",
          "text": [
            "Trial 99 finished with value: 21.44758610910967 and parameters: {'x': 2.8530800177165587, 'y': 0.4431509926432651}. Best is trial 90 with value: 1.6155884995880805.\n",
            "Trial 99 finished with value: 21.44758610910967 and parameters: {'x': 2.8530800177165587, 'y': 0.4431509926432651}. Best is trial 90 with value: 1.6155884995880805.\n",
            "Trial 99 finished with value: 21.44758610910967 and parameters: {'x': 2.8530800177165587, 'y': 0.4431509926432651}. Best is trial 90 with value: 1.6155884995880805.\n",
            "Trial 99 finished with value: 21.44758610910967 and parameters: {'x': 2.8530800177165587, 'y': 0.4431509926432651}. Best is trial 90 with value: 1.6155884995880805.\n",
            "Trial 99 finished with value: 21.44758610910967 and parameters: {'x': 2.8530800177165587, 'y': 0.4431509926432651}. Best is trial 90 with value: 1.6155884995880805.\n",
            "Trial 99 finished with value: 21.44758610910967 and parameters: {'x': 2.8530800177165587, 'y': 0.4431509926432651}. Best is trial 90 with value: 1.6155884995880805.\n",
            "Trial 99 finished with value: 21.44758610910967 and parameters: {'x': 2.8530800177165587, 'y': 0.4431509926432651}. Best is trial 90 with value: 1.6155884995880805.\n"
          ]
        },
        {
          "output_type": "execute_result",
          "data": {
            "text/plain": [
              "{'x': 3.137075139751625, 'y': 1.6389169420782368}"
            ]
          },
          "metadata": {},
          "execution_count": 176
        }
      ]
    },
    {
      "cell_type": "code",
      "source": [
        "best_params = study.best_params\n",
        "best_x = best_params[\"x\"]\n",
        "best_y = best_params[\"y\"]\n",
        "print(\"Found x: {}, (x - 2)^2: {}\".format(best_x, (best_x - 2) ** 2))\n",
        "print(\"Found y: {}, (y - 2)^2: {}\".format(best_y, (best_y - 2) ** 2))"
      ],
      "metadata": {
        "colab": {
          "base_uri": "https://localhost:8080/"
        },
        "id": "j7LvlzkJQkZ1",
        "outputId": "f6d1aa6f-a5c1-4c4e-acc1-1802c18080d3"
      },
      "execution_count": 177,
      "outputs": [
        {
          "output_type": "stream",
          "name": "stdout",
          "text": [
            "Found x: 3.137075139751625, (x - 2)^2: 1.2929398734411781\n",
            "Found y: 1.6389169420782368, (y - 2)^2: 0.1303809747181314\n"
          ]
        }
      ]
    },
    {
      "cell_type": "code",
      "source": [
        " study.best_value"
      ],
      "metadata": {
        "colab": {
          "base_uri": "https://localhost:8080/"
        },
        "id": "S2uw2AGSw9jI",
        "outputId": "dbec5edb-a729-4a9a-87f5-827808759e5f"
      },
      "execution_count": 178,
      "outputs": [
        {
          "output_type": "execute_result",
          "data": {
            "text/plain": [
              "1.6155884995880805"
            ]
          },
          "metadata": {},
          "execution_count": 178
        }
      ]
    },
    {
      "cell_type": "code",
      "source": [
        "best_z = study.best_value"
      ],
      "metadata": {
        "id": "p5IqUkMhOuGW"
      },
      "execution_count": 179,
      "outputs": []
    },
    {
      "cell_type": "code",
      "source": [
        "study.best_trial"
      ],
      "metadata": {
        "colab": {
          "base_uri": "https://localhost:8080/"
        },
        "id": "rOR8otsDSOtP",
        "outputId": "f04f504a-5b2a-4841-948c-ea6a472a44f7"
      },
      "execution_count": 180,
      "outputs": [
        {
          "output_type": "execute_result",
          "data": {
            "text/plain": [
              "FrozenTrial(number=90, values=[1.6155884995880805], datetime_start=datetime.datetime(2022, 12, 24, 15, 44, 37, 993001), datetime_complete=datetime.datetime(2022, 12, 24, 15, 44, 38, 36448), params={'x': 3.137075139751625, 'y': 1.6389169420782368}, distributions={'x': FloatDistribution(high=5.0, log=False, low=-5.0, step=None), 'y': FloatDistribution(high=5.0, log=False, low=-5.0, step=None)}, user_attrs={}, system_attrs={}, intermediate_values={}, trial_id=90, state=TrialState.COMPLETE, value=None)"
            ]
          },
          "metadata": {},
          "execution_count": 180
        }
      ]
    },
    {
      "cell_type": "code",
      "source": [
        "draw_result(func_Himmelblau, np.array([[-5, -5], [5, 5]]), \"Himmelblau function\", best_x, best_y, best_z)"
      ],
      "metadata": {
        "colab": {
          "base_uri": "https://localhost:8080/",
          "height": 591
        },
        "id": "NUQhpo3zmhSS",
        "outputId": "334c6a44-09dc-43c5-b8cb-af4220bfee8b"
      },
      "execution_count": 181,
      "outputs": [
        {
          "output_type": "display_data",
          "data": {
            "text/plain": [
              "<Figure size 720x720 with 1 Axes>"
            ],
            "image/png": "[encoded data removed]"
          },
          "metadata": {
            "needs_background": "light"
          }
        }
      ]
    },
    {
      "cell_type": "code",
      "source": [
        "def func_Matyas(x: np.array, y:np.array) -> np.float128:\n",
        "  return 0.26 * (x * x + y  * y)  - 0.48 * x * y\n",
        "\n",
        "#принимает объект\n",
        "def objective_Matyas(trial):\n",
        "    x = trial.suggest_float('x', -10, 10)\n",
        "    y = trial.suggest_float('y', -10, 10)\n",
        "    return func_Matyas(x,y)\n",
        "#создает конструктором объект стади, затем через optimize допиливается\n",
        "study = optuna.create_study()\n",
        "study.optimize(objective_Matyas, n_trials=100)\n",
        "\n",
        "study.best_params  # E.g. {'x': 2.002108042}"
      ],
      "metadata": {
        "colab": {
          "base_uri": "https://localhost:8080/"
        },
        "id": "-sqzw7-Wy_0A",
        "outputId": "93dd069a-81bf-41c9-a2e8-de35c652ed97"
      },
      "execution_count": 182,
      "outputs": [
        {
          "output_type": "stream",
          "name": "stderr",
          "text": [
            "\u001b[32m[I 2022-12-24 15:44:40,514]\u001b[0m A new study created in memory with name: no-name-e110c65c-fa96-45b8-b11b-dd2af44f8ed3\u001b[0m\n"
          ]
        },
        {
          "output_type": "stream",
          "name": "stdout",
          "text": [
            "A new study created in memory with name: no-name-e110c65c-fa96-45b8-b11b-dd2af44f8ed3\n",
            "A new study created in memory with name: no-name-e110c65c-fa96-45b8-b11b-dd2af44f8ed3\n",
            "A new study created in memory with name: no-name-e110c65c-fa96-45b8-b11b-dd2af44f8ed3\n",
            "A new study created in memory with name: no-name-e110c65c-fa96-45b8-b11b-dd2af44f8ed3\n",
            "A new study created in memory with name: no-name-e110c65c-fa96-45b8-b11b-dd2af44f8ed3\n",
            "A new study created in memory with name: no-name-e110c65c-fa96-45b8-b11b-dd2af44f8ed3\n",
            "A new study created in memory with name: no-name-e110c65c-fa96-45b8-b11b-dd2af44f8ed3\n"
          ]
        },
        {
          "output_type": "stream",
          "name": "stderr",
          "text": [
            "\u001b[32m[I 2022-12-24 15:44:40,548]\u001b[0m Trial 0 finished with value: 31.814814093683346 and parameters: {'x': -3.223227873188577, 'y': 8.016882945510563}. Best is trial 0 with value: 31.814814093683346.\u001b[0m\n"
          ]
        },
        {
          "output_type": "stream",
          "name": "stdout",
          "text": [
            "Trial 0 finished with value: 31.814814093683346 and parameters: {'x': -3.223227873188577, 'y': 8.016882945510563}. Best is trial 0 with value: 31.814814093683346.\n",
            "Trial 0 finished with value: 31.814814093683346 and parameters: {'x': -3.223227873188577, 'y': 8.016882945510563}. Best is trial 0 with value: 31.814814093683346.\n",
            "Trial 0 finished with value: 31.814814093683346 and parameters: {'x': -3.223227873188577, 'y': 8.016882945510563}. Best is trial 0 with value: 31.814814093683346.\n",
            "Trial 0 finished with value: 31.814814093683346 and parameters: {'x': -3.223227873188577, 'y': 8.016882945510563}. Best is trial 0 with value: 31.814814093683346.\n",
            "Trial 0 finished with value: 31.814814093683346 and parameters: {'x': -3.223227873188577, 'y': 8.016882945510563}. Best is trial 0 with value: 31.814814093683346.\n",
            "Trial 0 finished with value: 31.814814093683346 and parameters: {'x': -3.223227873188577, 'y': 8.016882945510563}. Best is trial 0 with value: 31.814814093683346.\n",
            "Trial 0 finished with value: 31.814814093683346 and parameters: {'x': -3.223227873188577, 'y': 8.016882945510563}. Best is trial 0 with value: 31.814814093683346.\n"
          ]
        },
        {
          "output_type": "stream",
          "name": "stderr",
          "text": [
            "\u001b[32m[I 2022-12-24 15:44:40,567]\u001b[0m Trial 1 finished with value: 1.1539858702045827 and parameters: {'x': 4.498353149099925, 'y': 2.9502289765968435}. Best is trial 1 with value: 1.1539858702045827.\u001b[0m\n"
          ]
        },
        {
          "output_type": "stream",
          "name": "stdout",
          "text": [
            "Trial 1 finished with value: 1.1539858702045827 and parameters: {'x': 4.498353149099925, 'y': 2.9502289765968435}. Best is trial 1 with value: 1.1539858702045827.\n",
            "Trial 1 finished with value: 1.1539858702045827 and parameters: {'x': 4.498353149099925, 'y': 2.9502289765968435}. Best is trial 1 with value: 1.1539858702045827.\n",
            "Trial 1 finished with value: 1.1539858702045827 and parameters: {'x': 4.498353149099925, 'y': 2.9502289765968435}. Best is trial 1 with value: 1.1539858702045827.\n",
            "Trial 1 finished with value: 1.1539858702045827 and parameters: {'x': 4.498353149099925, 'y': 2.9502289765968435}. Best is trial 1 with value: 1.1539858702045827.\n",
            "Trial 1 finished with value: 1.1539858702045827 and parameters: {'x': 4.498353149099925, 'y': 2.9502289765968435}. Best is trial 1 with value: 1.1539858702045827.\n",
            "Trial 1 finished with value: 1.1539858702045827 and parameters: {'x': 4.498353149099925, 'y': 2.9502289765968435}. Best is trial 1 with value: 1.1539858702045827.\n",
            "Trial 1 finished with value: 1.1539858702045827 and parameters: {'x': 4.498353149099925, 'y': 2.9502289765968435}. Best is trial 1 with value: 1.1539858702045827.\n"
          ]
        },
        {
          "output_type": "stream",
          "name": "stderr",
          "text": [
            "\u001b[32m[I 2022-12-24 15:44:40,583]\u001b[0m Trial 2 finished with value: 5.438299265455253 and parameters: {'x': 6.329026030514445, 'y': 9.714000114125312}. Best is trial 1 with value: 1.1539858702045827.\u001b[0m\n"
          ]
        },
        {
          "output_type": "stream",
          "name": "stdout",
          "text": [
            "Trial 2 finished with value: 5.438299265455253 and parameters: {'x': 6.329026030514445, 'y': 9.714000114125312}. Best is trial 1 with value: 1.1539858702045827.\n",
            "Trial 2 finished with value: 5.438299265455253 and parameters: {'x': 6.329026030514445, 'y': 9.714000114125312}. Best is trial 1 with value: 1.1539858702045827.\n",
            "Trial 2 finished with value: 5.438299265455253 and parameters: {'x': 6.329026030514445, 'y': 9.714000114125312}. Best is trial 1 with value: 1.1539858702045827.\n",
            "Trial 2 finished with value: 5.438299265455253 and parameters: {'x': 6.329026030514445, 'y': 9.714000114125312}. Best is trial 1 with value: 1.1539858702045827.\n",
            "Trial 2 finished with value: 5.438299265455253 and parameters: {'x': 6.329026030514445, 'y': 9.714000114125312}. Best is trial 1 with value: 1.1539858702045827.\n",
            "Trial 2 finished with value: 5.438299265455253 and parameters: {'x': 6.329026030514445, 'y': 9.714000114125312}. Best is trial 1 with value: 1.1539858702045827.\n",
            "Trial 2 finished with value: 5.438299265455253 and parameters: {'x': 6.329026030514445, 'y': 9.714000114125312}. Best is trial 1 with value: 1.1539858702045827.\n"
          ]
        },
        {
          "output_type": "stream",
          "name": "stderr",
          "text": [
            "\u001b[32m[I 2022-12-24 15:44:40,600]\u001b[0m Trial 3 finished with value: 3.693564678361607 and parameters: {'x': -6.860208995272268, 'y': -9.023989887138823}. Best is trial 1 with value: 1.1539858702045827.\u001b[0m\n"
          ]
        },
        {
          "output_type": "stream",
          "name": "stdout",
          "text": [
            "Trial 3 finished with value: 3.693564678361607 and parameters: {'x': -6.860208995272268, 'y': -9.023989887138823}. Best is trial 1 with value: 1.1539858702045827.\n",
            "Trial 3 finished with value: 3.693564678361607 and parameters: {'x': -6.860208995272268, 'y': -9.023989887138823}. Best is trial 1 with value: 1.1539858702045827.\n",
            "Trial 3 finished with value: 3.693564678361607 and parameters: {'x': -6.860208995272268, 'y': -9.023989887138823}. Best is trial 1 with value: 1.1539858702045827.\n",
            "Trial 3 finished with value: 3.693564678361607 and parameters: {'x': -6.860208995272268, 'y': -9.023989887138823}. Best is trial 1 with value: 1.1539858702045827.\n",
            "Trial 3 finished with value: 3.693564678361607 and parameters: {'x': -6.860208995272268, 'y': -9.023989887138823}. Best is trial 1 with value: 1.1539858702045827.\n",
            "Trial 3 finished with value: 3.693564678361607 and parameters: {'x': -6.860208995272268, 'y': -9.023989887138823}. Best is trial 1 with value: 1.1539858702045827.\n",
            "Trial 3 finished with value: 3.693564678361607 and parameters: {'x': -6.860208995272268, 'y': -9.023989887138823}. Best is trial 1 with value: 1.1539858702045827.\n"
          ]
        },
        {
          "output_type": "stream",
          "name": "stderr",
          "text": [
            "\u001b[32m[I 2022-12-24 15:44:40,613]\u001b[0m Trial 4 finished with value: 7.833268069366746 and parameters: {'x': 0.7371651744569085, 'y': -4.801106006517126}. Best is trial 1 with value: 1.1539858702045827.\u001b[0m\n"
          ]
        },
        {
          "output_type": "stream",
          "name": "stdout",
          "text": [
            "Trial 4 finished with value: 7.833268069366746 and parameters: {'x': 0.7371651744569085, 'y': -4.801106006517126}. Best is trial 1 with value: 1.1539858702045827.\n",
            "Trial 4 finished with value: 7.833268069366746 and parameters: {'x': 0.7371651744569085, 'y': -4.801106006517126}. Best is trial 1 with value: 1.1539858702045827.\n",
            "Trial 4 finished with value: 7.833268069366746 and parameters: {'x': 0.7371651744569085, 'y': -4.801106006517126}. Best is trial 1 with value: 1.1539858702045827.\n",
            "Trial 4 finished with value: 7.833268069366746 and parameters: {'x': 0.7371651744569085, 'y': -4.801106006517126}. Best is trial 1 with value: 1.1539858702045827.\n",
            "Trial 4 finished with value: 7.833268069366746 and parameters: {'x': 0.7371651744569085, 'y': -4.801106006517126}. Best is trial 1 with value: 1.1539858702045827.\n",
            "Trial 4 finished with value: 7.833268069366746 and parameters: {'x': 0.7371651744569085, 'y': -4.801106006517126}. Best is trial 1 with value: 1.1539858702045827.\n",
            "Trial 4 finished with value: 7.833268069366746 and parameters: {'x': 0.7371651744569085, 'y': -4.801106006517126}. Best is trial 1 with value: 1.1539858702045827.\n"
          ]
        },
        {
          "output_type": "stream",
          "name": "stderr",
          "text": [
            "\u001b[32m[I 2022-12-24 15:44:40,627]\u001b[0m Trial 5 finished with value: 30.977375411293654 and parameters: {'x': 7.7699650783478305, 'y': -3.3259591324279336}. Best is trial 1 with value: 1.1539858702045827.\u001b[0m\n"
          ]
        },
        {
          "output_type": "stream",
          "name": "stdout",
          "text": [
            "Trial 5 finished with value: 30.977375411293654 and parameters: {'x': 7.7699650783478305, 'y': -3.3259591324279336}. Best is trial 1 with value: 1.1539858702045827.\n",
            "Trial 5 finished with value: 30.977375411293654 and parameters: {'x': 7.7699650783478305, 'y': -3.3259591324279336}. Best is trial 1 with value: 1.1539858702045827.\n",
            "Trial 5 finished with value: 30.977375411293654 and parameters: {'x': 7.7699650783478305, 'y': -3.3259591324279336}. Best is trial 1 with value: 1.1539858702045827.\n",
            "Trial 5 finished with value: 30.977375411293654 and parameters: {'x': 7.7699650783478305, 'y': -3.3259591324279336}. Best is trial 1 with value: 1.1539858702045827.\n",
            "Trial 5 finished with value: 30.977375411293654 and parameters: {'x': 7.7699650783478305, 'y': -3.3259591324279336}. Best is trial 1 with value: 1.1539858702045827.\n",
            "Trial 5 finished with value: 30.977375411293654 and parameters: {'x': 7.7699650783478305, 'y': -3.3259591324279336}. Best is trial 1 with value: 1.1539858702045827.\n",
            "Trial 5 finished with value: 30.977375411293654 and parameters: {'x': 7.7699650783478305, 'y': -3.3259591324279336}. Best is trial 1 with value: 1.1539858702045827.\n"
          ]
        },
        {
          "output_type": "stream",
          "name": "stderr",
          "text": [
            "\u001b[32m[I 2022-12-24 15:44:40,639]\u001b[0m Trial 6 finished with value: 38.568433887264874 and parameters: {'x': 7.668225711311813, 'y': -4.738644876973641}. Best is trial 1 with value: 1.1539858702045827.\u001b[0m\n"
          ]
        },
        {
          "output_type": "stream",
          "name": "stdout",
          "text": [
            "Trial 6 finished with value: 38.568433887264874 and parameters: {'x': 7.668225711311813, 'y': -4.738644876973641}. Best is trial 1 with value: 1.1539858702045827.\n",
            "Trial 6 finished with value: 38.568433887264874 and parameters: {'x': 7.668225711311813, 'y': -4.738644876973641}. Best is trial 1 with value: 1.1539858702045827.\n",
            "Trial 6 finished with value: 38.568433887264874 and parameters: {'x': 7.668225711311813, 'y': -4.738644876973641}. Best is trial 1 with value: 1.1539858702045827.\n",
            "Trial 6 finished with value: 38.568433887264874 and parameters: {'x': 7.668225711311813, 'y': -4.738644876973641}. Best is trial 1 with value: 1.1539858702045827.\n",
            "Trial 6 finished with value: 38.568433887264874 and parameters: {'x': 7.668225711311813, 'y': -4.738644876973641}. Best is trial 1 with value: 1.1539858702045827.\n",
            "Trial 6 finished with value: 38.568433887264874 and parameters: {'x': 7.668225711311813, 'y': -4.738644876973641}. Best is trial 1 with value: 1.1539858702045827.\n",
            "Trial 6 finished with value: 38.568433887264874 and parameters: {'x': 7.668225711311813, 'y': -4.738644876973641}. Best is trial 1 with value: 1.1539858702045827.\n"
          ]
        },
        {
          "output_type": "stream",
          "name": "stderr",
          "text": [
            "\u001b[32m[I 2022-12-24 15:44:40,651]\u001b[0m Trial 7 finished with value: 4.889631987581409 and parameters: {'x': -2.181615986080243, 'y': 2.240870588914344}. Best is trial 1 with value: 1.1539858702045827.\u001b[0m\n"
          ]
        },
        {
          "output_type": "stream",
          "name": "stdout",
          "text": [
            "Trial 7 finished with value: 4.889631987581409 and parameters: {'x': -2.181615986080243, 'y': 2.240870588914344}. Best is trial 1 with value: 1.1539858702045827.\n",
            "Trial 7 finished with value: 4.889631987581409 and parameters: {'x': -2.181615986080243, 'y': 2.240870588914344}. Best is trial 1 with value: 1.1539858702045827.\n",
            "Trial 7 finished with value: 4.889631987581409 and parameters: {'x': -2.181615986080243, 'y': 2.240870588914344}. Best is trial 1 with value: 1.1539858702045827.\n",
            "Trial 7 finished with value: 4.889631987581409 and parameters: {'x': -2.181615986080243, 'y': 2.240870588914344}. Best is trial 1 with value: 1.1539858702045827.\n",
            "Trial 7 finished with value: 4.889631987581409 and parameters: {'x': -2.181615986080243, 'y': 2.240870588914344}. Best is trial 1 with value: 1.1539858702045827.\n",
            "Trial 7 finished with value: 4.889631987581409 and parameters: {'x': -2.181615986080243, 'y': 2.240870588914344}. Best is trial 1 with value: 1.1539858702045827.\n",
            "Trial 7 finished with value: 4.889631987581409 and parameters: {'x': -2.181615986080243, 'y': 2.240870588914344}. Best is trial 1 with value: 1.1539858702045827.\n"
          ]
        },
        {
          "output_type": "stream",
          "name": "stderr",
          "text": [
            "\u001b[32m[I 2022-12-24 15:44:40,662]\u001b[0m Trial 8 finished with value: 0.5474452470311542 and parameters: {'x': -2.1981869958752798, 'y': -0.8497900085840353}. Best is trial 8 with value: 0.5474452470311542.\u001b[0m\n"
          ]
        },
        {
          "output_type": "stream",
          "name": "stdout",
          "text": [
            "Trial 8 finished with value: 0.5474452470311542 and parameters: {'x': -2.1981869958752798, 'y': -0.8497900085840353}. Best is trial 8 with value: 0.5474452470311542.\n",
            "Trial 8 finished with value: 0.5474452470311542 and parameters: {'x': -2.1981869958752798, 'y': -0.8497900085840353}. Best is trial 8 with value: 0.5474452470311542.\n",
            "Trial 8 finished with value: 0.5474452470311542 and parameters: {'x': -2.1981869958752798, 'y': -0.8497900085840353}. Best is trial 8 with value: 0.5474452470311542.\n",
            "Trial 8 finished with value: 0.5474452470311542 and parameters: {'x': -2.1981869958752798, 'y': -0.8497900085840353}. Best is trial 8 with value: 0.5474452470311542.\n",
            "Trial 8 finished with value: 0.5474452470311542 and parameters: {'x': -2.1981869958752798, 'y': -0.8497900085840353}. Best is trial 8 with value: 0.5474452470311542.\n",
            "Trial 8 finished with value: 0.5474452470311542 and parameters: {'x': -2.1981869958752798, 'y': -0.8497900085840353}. Best is trial 8 with value: 0.5474452470311542.\n",
            "Trial 8 finished with value: 0.5474452470311542 and parameters: {'x': -2.1981869958752798, 'y': -0.8497900085840353}. Best is trial 8 with value: 0.5474452470311542.\n"
          ]
        },
        {
          "output_type": "stream",
          "name": "stderr",
          "text": [
            "\u001b[32m[I 2022-12-24 15:44:40,675]\u001b[0m Trial 9 finished with value: 39.37286950417115 and parameters: {'x': -3.5213845419948235, 'y': 8.980589748382933}. Best is trial 8 with value: 0.5474452470311542.\u001b[0m\n"
          ]
        },
        {
          "output_type": "stream",
          "name": "stdout",
          "text": [
            "Trial 9 finished with value: 39.37286950417115 and parameters: {'x': -3.5213845419948235, 'y': 8.980589748382933}. Best is trial 8 with value: 0.5474452470311542.\n",
            "Trial 9 finished with value: 39.37286950417115 and parameters: {'x': -3.5213845419948235, 'y': 8.980589748382933}. Best is trial 8 with value: 0.5474452470311542.\n",
            "Trial 9 finished with value: 39.37286950417115 and parameters: {'x': -3.5213845419948235, 'y': 8.980589748382933}. Best is trial 8 with value: 0.5474452470311542.\n",
            "Trial 9 finished with value: 39.37286950417115 and parameters: {'x': -3.5213845419948235, 'y': 8.980589748382933}. Best is trial 8 with value: 0.5474452470311542.\n",
            "Trial 9 finished with value: 39.37286950417115 and parameters: {'x': -3.5213845419948235, 'y': 8.980589748382933}. Best is trial 8 with value: 0.5474452470311542.\n",
            "Trial 9 finished with value: 39.37286950417115 and parameters: {'x': -3.5213845419948235, 'y': 8.980589748382933}. Best is trial 8 with value: 0.5474452470311542.\n",
            "Trial 9 finished with value: 39.37286950417115 and parameters: {'x': -3.5213845419948235, 'y': 8.980589748382933}. Best is trial 8 with value: 0.5474452470311542.\n"
          ]
        },
        {
          "output_type": "stream",
          "name": "stderr",
          "text": [
            "\u001b[32m[I 2022-12-24 15:44:40,708]\u001b[0m Trial 10 finished with value: 2.116898751421729 and parameters: {'x': 2.513289452862698, 'y': -0.3647204597255295}. Best is trial 8 with value: 0.5474452470311542.\u001b[0m\n"
          ]
        },
        {
          "output_type": "stream",
          "name": "stdout",
          "text": [
            "Trial 10 finished with value: 2.116898751421729 and parameters: {'x': 2.513289452862698, 'y': -0.3647204597255295}. Best is trial 8 with value: 0.5474452470311542.\n",
            "Trial 10 finished with value: 2.116898751421729 and parameters: {'x': 2.513289452862698, 'y': -0.3647204597255295}. Best is trial 8 with value: 0.5474452470311542.\n",
            "Trial 10 finished with value: 2.116898751421729 and parameters: {'x': 2.513289452862698, 'y': -0.3647204597255295}. Best is trial 8 with value: 0.5474452470311542.\n",
            "Trial 10 finished with value: 2.116898751421729 and parameters: {'x': 2.513289452862698, 'y': -0.3647204597255295}. Best is trial 8 with value: 0.5474452470311542.\n",
            "Trial 10 finished with value: 2.116898751421729 and parameters: {'x': 2.513289452862698, 'y': -0.3647204597255295}. Best is trial 8 with value: 0.5474452470311542.\n",
            "Trial 10 finished with value: 2.116898751421729 and parameters: {'x': 2.513289452862698, 'y': -0.3647204597255295}. Best is trial 8 with value: 0.5474452470311542.\n",
            "Trial 10 finished with value: 2.116898751421729 and parameters: {'x': 2.513289452862698, 'y': -0.3647204597255295}. Best is trial 8 with value: 0.5474452470311542.\n"
          ]
        },
        {
          "output_type": "stream",
          "name": "stderr",
          "text": [
            "\u001b[32m[I 2022-12-24 15:44:40,744]\u001b[0m Trial 11 finished with value: 0.6786658786773758 and parameters: {'x': 3.9732415126706044, 'y': 4.191964683694857}. Best is trial 8 with value: 0.5474452470311542.\u001b[0m\n"
          ]
        },
        {
          "output_type": "stream",
          "name": "stdout",
          "text": [
            "Trial 11 finished with value: 0.6786658786773758 and parameters: {'x': 3.9732415126706044, 'y': 4.191964683694857}. Best is trial 8 with value: 0.5474452470311542.\n",
            "Trial 11 finished with value: 0.6786658786773758 and parameters: {'x': 3.9732415126706044, 'y': 4.191964683694857}. Best is trial 8 with value: 0.5474452470311542.\n",
            "Trial 11 finished with value: 0.6786658786773758 and parameters: {'x': 3.9732415126706044, 'y': 4.191964683694857}. Best is trial 8 with value: 0.5474452470311542.\n",
            "Trial 11 finished with value: 0.6786658786773758 and parameters: {'x': 3.9732415126706044, 'y': 4.191964683694857}. Best is trial 8 with value: 0.5474452470311542.\n",
            "Trial 11 finished with value: 0.6786658786773758 and parameters: {'x': 3.9732415126706044, 'y': 4.191964683694857}. Best is trial 8 with value: 0.5474452470311542.\n",
            "Trial 11 finished with value: 0.6786658786773758 and parameters: {'x': 3.9732415126706044, 'y': 4.191964683694857}. Best is trial 8 with value: 0.5474452470311542.\n",
            "Trial 11 finished with value: 0.6786658786773758 and parameters: {'x': 3.9732415126706044, 'y': 4.191964683694857}. Best is trial 8 with value: 0.5474452470311542.\n"
          ]
        },
        {
          "output_type": "stream",
          "name": "stderr",
          "text": [
            "\u001b[32m[I 2022-12-24 15:44:40,841]\u001b[0m Trial 12 finished with value: 44.158972170886074 and parameters: {'x': -8.847381698046625, 'y': 4.413443936911383}. Best is trial 8 with value: 0.5474452470311542.\u001b[0m\n"
          ]
        },
        {
          "output_type": "stream",
          "name": "stdout",
          "text": [
            "Trial 12 finished with value: 44.158972170886074 and parameters: {'x': -8.847381698046625, 'y': 4.413443936911383}. Best is trial 8 with value: 0.5474452470311542.\n",
            "Trial 12 finished with value: 44.158972170886074 and parameters: {'x': -8.847381698046625, 'y': 4.413443936911383}. Best is trial 8 with value: 0.5474452470311542.\n",
            "Trial 12 finished with value: 44.158972170886074 and parameters: {'x': -8.847381698046625, 'y': 4.413443936911383}. Best is trial 8 with value: 0.5474452470311542.\n",
            "Trial 12 finished with value: 44.158972170886074 and parameters: {'x': -8.847381698046625, 'y': 4.413443936911383}. Best is trial 8 with value: 0.5474452470311542.\n",
            "Trial 12 finished with value: 44.158972170886074 and parameters: {'x': -8.847381698046625, 'y': 4.413443936911383}. Best is trial 8 with value: 0.5474452470311542.\n",
            "Trial 12 finished with value: 44.158972170886074 and parameters: {'x': -8.847381698046625, 'y': 4.413443936911383}. Best is trial 8 with value: 0.5474452470311542.\n",
            "Trial 12 finished with value: 44.158972170886074 and parameters: {'x': -8.847381698046625, 'y': 4.413443936911383}. Best is trial 8 with value: 0.5474452470311542.\n"
          ]
        },
        {
          "output_type": "stream",
          "name": "stderr",
          "text": [
            "\u001b[32m[I 2022-12-24 15:44:40,920]\u001b[0m Trial 13 finished with value: 2.9301788333736134 and parameters: {'x': 2.6480345808715775, 'y': -0.75450824082463}. Best is trial 8 with value: 0.5474452470311542.\u001b[0m\n"
          ]
        },
        {
          "output_type": "stream",
          "name": "stdout",
          "text": [
            "Trial 13 finished with value: 2.9301788333736134 and parameters: {'x': 2.6480345808715775, 'y': -0.75450824082463}. Best is trial 8 with value: 0.5474452470311542.\n",
            "Trial 13 finished with value: 2.9301788333736134 and parameters: {'x': 2.6480345808715775, 'y': -0.75450824082463}. Best is trial 8 with value: 0.5474452470311542.\n",
            "Trial 13 finished with value: 2.9301788333736134 and parameters: {'x': 2.6480345808715775, 'y': -0.75450824082463}. Best is trial 8 with value: 0.5474452470311542.\n",
            "Trial 13 finished with value: 2.9301788333736134 and parameters: {'x': 2.6480345808715775, 'y': -0.75450824082463}. Best is trial 8 with value: 0.5474452470311542.\n",
            "Trial 13 finished with value: 2.9301788333736134 and parameters: {'x': 2.6480345808715775, 'y': -0.75450824082463}. Best is trial 8 with value: 0.5474452470311542.\n",
            "Trial 13 finished with value: 2.9301788333736134 and parameters: {'x': 2.6480345808715775, 'y': -0.75450824082463}. Best is trial 8 with value: 0.5474452470311542.\n",
            "Trial 13 finished with value: 2.9301788333736134 and parameters: {'x': 2.6480345808715775, 'y': -0.75450824082463}. Best is trial 8 with value: 0.5474452470311542.\n"
          ]
        },
        {
          "output_type": "stream",
          "name": "stderr",
          "text": [
            "\u001b[32m[I 2022-12-24 15:44:40,959]\u001b[0m Trial 14 finished with value: 9.947091497992222 and parameters: {'x': -0.4935435297189674, 'y': 5.726816597468492}. Best is trial 8 with value: 0.5474452470311542.\u001b[0m\n"
          ]
        },
        {
          "output_type": "stream",
          "name": "stdout",
          "text": [
            "Trial 14 finished with value: 9.947091497992222 and parameters: {'x': -0.4935435297189674, 'y': 5.726816597468492}. Best is trial 8 with value: 0.5474452470311542.\n",
            "Trial 14 finished with value: 9.947091497992222 and parameters: {'x': -0.4935435297189674, 'y': 5.726816597468492}. Best is trial 8 with value: 0.5474452470311542.\n",
            "Trial 14 finished with value: 9.947091497992222 and parameters: {'x': -0.4935435297189674, 'y': 5.726816597468492}. Best is trial 8 with value: 0.5474452470311542.\n",
            "Trial 14 finished with value: 9.947091497992222 and parameters: {'x': -0.4935435297189674, 'y': 5.726816597468492}. Best is trial 8 with value: 0.5474452470311542.\n",
            "Trial 14 finished with value: 9.947091497992222 and parameters: {'x': -0.4935435297189674, 'y': 5.726816597468492}. Best is trial 8 with value: 0.5474452470311542.\n",
            "Trial 14 finished with value: 9.947091497992222 and parameters: {'x': -0.4935435297189674, 'y': 5.726816597468492}. Best is trial 8 with value: 0.5474452470311542.\n",
            "Trial 14 finished with value: 9.947091497992222 and parameters: {'x': -0.4935435297189674, 'y': 5.726816597468492}. Best is trial 8 with value: 0.5474452470311542.\n"
          ]
        },
        {
          "output_type": "stream",
          "name": "stderr",
          "text": [
            "\u001b[32m[I 2022-12-24 15:44:40,988]\u001b[0m Trial 15 finished with value: 20.598079942913657 and parameters: {'x': 9.953599843567101, 'y': 1.1525512655083539}. Best is trial 8 with value: 0.5474452470311542.\u001b[0m\n"
          ]
        },
        {
          "output_type": "stream",
          "name": "stdout",
          "text": [
            "Trial 15 finished with value: 20.598079942913657 and parameters: {'x': 9.953599843567101, 'y': 1.1525512655083539}. Best is trial 8 with value: 0.5474452470311542.\n",
            "Trial 15 finished with value: 20.598079942913657 and parameters: {'x': 9.953599843567101, 'y': 1.1525512655083539}. Best is trial 8 with value: 0.5474452470311542.\n",
            "Trial 15 finished with value: 20.598079942913657 and parameters: {'x': 9.953599843567101, 'y': 1.1525512655083539}. Best is trial 8 with value: 0.5474452470311542.\n",
            "Trial 15 finished with value: 20.598079942913657 and parameters: {'x': 9.953599843567101, 'y': 1.1525512655083539}. Best is trial 8 with value: 0.5474452470311542.\n",
            "Trial 15 finished with value: 20.598079942913657 and parameters: {'x': 9.953599843567101, 'y': 1.1525512655083539}. Best is trial 8 with value: 0.5474452470311542.\n",
            "Trial 15 finished with value: 20.598079942913657 and parameters: {'x': 9.953599843567101, 'y': 1.1525512655083539}. Best is trial 8 with value: 0.5474452470311542.\n",
            "Trial 15 finished with value: 20.598079942913657 and parameters: {'x': 9.953599843567101, 'y': 1.1525512655083539}. Best is trial 8 with value: 0.5474452470311542.\n"
          ]
        },
        {
          "output_type": "stream",
          "name": "stderr",
          "text": [
            "\u001b[32m[I 2022-12-24 15:44:41,020]\u001b[0m Trial 16 finished with value: 29.218289125941496 and parameters: {'x': -4.884885615911232, 'y': 5.923905897387248}. Best is trial 8 with value: 0.5474452470311542.\u001b[0m\n"
          ]
        },
        {
          "output_type": "stream",
          "name": "stdout",
          "text": [
            "Trial 16 finished with value: 29.218289125941496 and parameters: {'x': -4.884885615911232, 'y': 5.923905897387248}. Best is trial 8 with value: 0.5474452470311542.\n",
            "Trial 16 finished with value: 29.218289125941496 and parameters: {'x': -4.884885615911232, 'y': 5.923905897387248}. Best is trial 8 with value: 0.5474452470311542.\n",
            "Trial 16 finished with value: 29.218289125941496 and parameters: {'x': -4.884885615911232, 'y': 5.923905897387248}. Best is trial 8 with value: 0.5474452470311542.\n",
            "Trial 16 finished with value: 29.218289125941496 and parameters: {'x': -4.884885615911232, 'y': 5.923905897387248}. Best is trial 8 with value: 0.5474452470311542.\n",
            "Trial 16 finished with value: 29.218289125941496 and parameters: {'x': -4.884885615911232, 'y': 5.923905897387248}. Best is trial 8 with value: 0.5474452470311542.\n",
            "Trial 16 finished with value: 29.218289125941496 and parameters: {'x': -4.884885615911232, 'y': 5.923905897387248}. Best is trial 8 with value: 0.5474452470311542.\n",
            "Trial 16 finished with value: 29.218289125941496 and parameters: {'x': -4.884885615911232, 'y': 5.923905897387248}. Best is trial 8 with value: 0.5474452470311542.\n"
          ]
        },
        {
          "output_type": "stream",
          "name": "stderr",
          "text": [
            "\u001b[32m[I 2022-12-24 15:44:41,048]\u001b[0m Trial 17 finished with value: 2.847991689926144 and parameters: {'x': 0.7396504554230434, 'y': -2.6146514992510337}. Best is trial 8 with value: 0.5474452470311542.\u001b[0m\n"
          ]
        },
        {
          "output_type": "stream",
          "name": "stdout",
          "text": [
            "Trial 17 finished with value: 2.847991689926144 and parameters: {'x': 0.7396504554230434, 'y': -2.6146514992510337}. Best is trial 8 with value: 0.5474452470311542.\n",
            "Trial 17 finished with value: 2.847991689926144 and parameters: {'x': 0.7396504554230434, 'y': -2.6146514992510337}. Best is trial 8 with value: 0.5474452470311542.\n",
            "Trial 17 finished with value: 2.847991689926144 and parameters: {'x': 0.7396504554230434, 'y': -2.6146514992510337}. Best is trial 8 with value: 0.5474452470311542.\n",
            "Trial 17 finished with value: 2.847991689926144 and parameters: {'x': 0.7396504554230434, 'y': -2.6146514992510337}. Best is trial 8 with value: 0.5474452470311542.\n",
            "Trial 17 finished with value: 2.847991689926144 and parameters: {'x': 0.7396504554230434, 'y': -2.6146514992510337}. Best is trial 8 with value: 0.5474452470311542.\n",
            "Trial 17 finished with value: 2.847991689926144 and parameters: {'x': 0.7396504554230434, 'y': -2.6146514992510337}. Best is trial 8 with value: 0.5474452470311542.\n",
            "Trial 17 finished with value: 2.847991689926144 and parameters: {'x': 0.7396504554230434, 'y': -2.6146514992510337}. Best is trial 8 with value: 0.5474452470311542.\n"
          ]
        },
        {
          "output_type": "stream",
          "name": "stderr",
          "text": [
            "\u001b[32m[I 2022-12-24 15:44:41,083]\u001b[0m Trial 18 finished with value: 36.777499154287064 and parameters: {'x': 3.8185373512347494, 'y': -8.277523752613927}. Best is trial 8 with value: 0.5474452470311542.\u001b[0m\n"
          ]
        },
        {
          "output_type": "stream",
          "name": "stdout",
          "text": [
            "Trial 18 finished with value: 36.777499154287064 and parameters: {'x': 3.8185373512347494, 'y': -8.277523752613927}. Best is trial 8 with value: 0.5474452470311542.\n",
            "Trial 18 finished with value: 36.777499154287064 and parameters: {'x': 3.8185373512347494, 'y': -8.277523752613927}. Best is trial 8 with value: 0.5474452470311542.\n",
            "Trial 18 finished with value: 36.777499154287064 and parameters: {'x': 3.8185373512347494, 'y': -8.277523752613927}. Best is trial 8 with value: 0.5474452470311542.\n",
            "Trial 18 finished with value: 36.777499154287064 and parameters: {'x': 3.8185373512347494, 'y': -8.277523752613927}. Best is trial 8 with value: 0.5474452470311542.\n",
            "Trial 18 finished with value: 36.777499154287064 and parameters: {'x': 3.8185373512347494, 'y': -8.277523752613927}. Best is trial 8 with value: 0.5474452470311542.\n",
            "Trial 18 finished with value: 36.777499154287064 and parameters: {'x': 3.8185373512347494, 'y': -8.277523752613927}. Best is trial 8 with value: 0.5474452470311542.\n",
            "Trial 18 finished with value: 36.777499154287064 and parameters: {'x': 3.8185373512347494, 'y': -8.277523752613927}. Best is trial 8 with value: 0.5474452470311542.\n"
          ]
        },
        {
          "output_type": "stream",
          "name": "stderr",
          "text": [
            "\u001b[32m[I 2022-12-24 15:44:41,117]\u001b[0m Trial 19 finished with value: 5.904208727204576 and parameters: {'x': -0.942969719431415, 'y': 3.8810880472710947}. Best is trial 8 with value: 0.5474452470311542.\u001b[0m\n"
          ]
        },
        {
          "output_type": "stream",
          "name": "stdout",
          "text": [
            "Trial 19 finished with value: 5.904208727204576 and parameters: {'x': -0.942969719431415, 'y': 3.8810880472710947}. Best is trial 8 with value: 0.5474452470311542.\n",
            "Trial 19 finished with value: 5.904208727204576 and parameters: {'x': -0.942969719431415, 'y': 3.8810880472710947}. Best is trial 8 with value: 0.5474452470311542.\n",
            "Trial 19 finished with value: 5.904208727204576 and parameters: {'x': -0.942969719431415, 'y': 3.8810880472710947}. Best is trial 8 with value: 0.5474452470311542.\n",
            "Trial 19 finished with value: 5.904208727204576 and parameters: {'x': -0.942969719431415, 'y': 3.8810880472710947}. Best is trial 8 with value: 0.5474452470311542.\n",
            "Trial 19 finished with value: 5.904208727204576 and parameters: {'x': -0.942969719431415, 'y': 3.8810880472710947}. Best is trial 8 with value: 0.5474452470311542.\n",
            "Trial 19 finished with value: 5.904208727204576 and parameters: {'x': -0.942969719431415, 'y': 3.8810880472710947}. Best is trial 8 with value: 0.5474452470311542.\n",
            "Trial 19 finished with value: 5.904208727204576 and parameters: {'x': -0.942969719431415, 'y': 3.8810880472710947}. Best is trial 8 with value: 0.5474452470311542.\n"
          ]
        },
        {
          "output_type": "stream",
          "name": "stderr",
          "text": [
            "\u001b[32m[I 2022-12-24 15:44:41,147]\u001b[0m Trial 20 finished with value: 37.51770444339698 and parameters: {'x': -5.683059788767974, 'y': 6.566006867587037}. Best is trial 8 with value: 0.5474452470311542.\u001b[0m\n"
          ]
        },
        {
          "output_type": "stream",
          "name": "stdout",
          "text": [
            "Trial 20 finished with value: 37.51770444339698 and parameters: {'x': -5.683059788767974, 'y': 6.566006867587037}. Best is trial 8 with value: 0.5474452470311542.\n",
            "Trial 20 finished with value: 37.51770444339698 and parameters: {'x': -5.683059788767974, 'y': 6.566006867587037}. Best is trial 8 with value: 0.5474452470311542.\n",
            "Trial 20 finished with value: 37.51770444339698 and parameters: {'x': -5.683059788767974, 'y': 6.566006867587037}. Best is trial 8 with value: 0.5474452470311542.\n",
            "Trial 20 finished with value: 37.51770444339698 and parameters: {'x': -5.683059788767974, 'y': 6.566006867587037}. Best is trial 8 with value: 0.5474452470311542.\n",
            "Trial 20 finished with value: 37.51770444339698 and parameters: {'x': -5.683059788767974, 'y': 6.566006867587037}. Best is trial 8 with value: 0.5474452470311542.\n",
            "Trial 20 finished with value: 37.51770444339698 and parameters: {'x': -5.683059788767974, 'y': 6.566006867587037}. Best is trial 8 with value: 0.5474452470311542.\n",
            "Trial 20 finished with value: 37.51770444339698 and parameters: {'x': -5.683059788767974, 'y': 6.566006867587037}. Best is trial 8 with value: 0.5474452470311542.\n"
          ]
        },
        {
          "output_type": "stream",
          "name": "stderr",
          "text": [
            "\u001b[32m[I 2022-12-24 15:44:41,183]\u001b[0m Trial 21 finished with value: 2.354950150071299 and parameters: {'x': 5.142125746014353, 'y': 2.4780885962333485}. Best is trial 8 with value: 0.5474452470311542.\u001b[0m\n"
          ]
        },
        {
          "output_type": "stream",
          "name": "stdout",
          "text": [
            "Trial 21 finished with value: 2.354950150071299 and parameters: {'x': 5.142125746014353, 'y': 2.4780885962333485}. Best is trial 8 with value: 0.5474452470311542.\n",
            "Trial 21 finished with value: 2.354950150071299 and parameters: {'x': 5.142125746014353, 'y': 2.4780885962333485}. Best is trial 8 with value: 0.5474452470311542.\n",
            "Trial 21 finished with value: 2.354950150071299 and parameters: {'x': 5.142125746014353, 'y': 2.4780885962333485}. Best is trial 8 with value: 0.5474452470311542.\n",
            "Trial 21 finished with value: 2.354950150071299 and parameters: {'x': 5.142125746014353, 'y': 2.4780885962333485}. Best is trial 8 with value: 0.5474452470311542.\n",
            "Trial 21 finished with value: 2.354950150071299 and parameters: {'x': 5.142125746014353, 'y': 2.4780885962333485}. Best is trial 8 with value: 0.5474452470311542.\n",
            "Trial 21 finished with value: 2.354950150071299 and parameters: {'x': 5.142125746014353, 'y': 2.4780885962333485}. Best is trial 8 with value: 0.5474452470311542.\n",
            "Trial 21 finished with value: 2.354950150071299 and parameters: {'x': 5.142125746014353, 'y': 2.4780885962333485}. Best is trial 8 with value: 0.5474452470311542.\n"
          ]
        },
        {
          "output_type": "stream",
          "name": "stderr",
          "text": [
            "\u001b[32m[I 2022-12-24 15:44:41,217]\u001b[0m Trial 22 finished with value: 0.4974985455128076 and parameters: {'x': 3.4824260636902755, 'y': 3.5602029514302664}. Best is trial 22 with value: 0.4974985455128076.\u001b[0m\n"
          ]
        },
        {
          "output_type": "stream",
          "name": "stdout",
          "text": [
            "Trial 22 finished with value: 0.4974985455128076 and parameters: {'x': 3.4824260636902755, 'y': 3.5602029514302664}. Best is trial 22 with value: 0.4974985455128076.\n",
            "Trial 22 finished with value: 0.4974985455128076 and parameters: {'x': 3.4824260636902755, 'y': 3.5602029514302664}. Best is trial 22 with value: 0.4974985455128076.\n",
            "Trial 22 finished with value: 0.4974985455128076 and parameters: {'x': 3.4824260636902755, 'y': 3.5602029514302664}. Best is trial 22 with value: 0.4974985455128076.\n",
            "Trial 22 finished with value: 0.4974985455128076 and parameters: {'x': 3.4824260636902755, 'y': 3.5602029514302664}. Best is trial 22 with value: 0.4974985455128076.\n",
            "Trial 22 finished with value: 0.4974985455128076 and parameters: {'x': 3.4824260636902755, 'y': 3.5602029514302664}. Best is trial 22 with value: 0.4974985455128076.\n",
            "Trial 22 finished with value: 0.4974985455128076 and parameters: {'x': 3.4824260636902755, 'y': 3.5602029514302664}. Best is trial 22 with value: 0.4974985455128076.\n",
            "Trial 22 finished with value: 0.4974985455128076 and parameters: {'x': 3.4824260636902755, 'y': 3.5602029514302664}. Best is trial 22 with value: 0.4974985455128076.\n"
          ]
        },
        {
          "output_type": "stream",
          "name": "stderr",
          "text": [
            "\u001b[32m[I 2022-12-24 15:44:41,246]\u001b[0m Trial 23 finished with value: 0.3636225212310933 and parameters: {'x': 1.6995535749201278, 'y': 0.5832945247544118}. Best is trial 23 with value: 0.3636225212310933.\u001b[0m\n"
          ]
        },
        {
          "output_type": "stream",
          "name": "stdout",
          "text": [
            "Trial 23 finished with value: 0.3636225212310933 and parameters: {'x': 1.6995535749201278, 'y': 0.5832945247544118}. Best is trial 23 with value: 0.3636225212310933.\n",
            "Trial 23 finished with value: 0.3636225212310933 and parameters: {'x': 1.6995535749201278, 'y': 0.5832945247544118}. Best is trial 23 with value: 0.3636225212310933.\n",
            "Trial 23 finished with value: 0.3636225212310933 and parameters: {'x': 1.6995535749201278, 'y': 0.5832945247544118}. Best is trial 23 with value: 0.3636225212310933.\n",
            "Trial 23 finished with value: 0.3636225212310933 and parameters: {'x': 1.6995535749201278, 'y': 0.5832945247544118}. Best is trial 23 with value: 0.3636225212310933.\n",
            "Trial 23 finished with value: 0.3636225212310933 and parameters: {'x': 1.6995535749201278, 'y': 0.5832945247544118}. Best is trial 23 with value: 0.3636225212310933.\n",
            "Trial 23 finished with value: 0.3636225212310933 and parameters: {'x': 1.6995535749201278, 'y': 0.5832945247544118}. Best is trial 23 with value: 0.3636225212310933.\n",
            "Trial 23 finished with value: 0.3636225212310933 and parameters: {'x': 1.6995535749201278, 'y': 0.5832945247544118}. Best is trial 23 with value: 0.3636225212310933.\n"
          ]
        },
        {
          "output_type": "stream",
          "name": "stderr",
          "text": [
            "\u001b[32m[I 2022-12-24 15:44:41,274]\u001b[0m Trial 24 finished with value: 2.644910314819451 and parameters: {'x': 1.8732224796468613, 'y': -1.377904658674074}. Best is trial 23 with value: 0.3636225212310933.\u001b[0m\n"
          ]
        },
        {
          "output_type": "stream",
          "name": "stdout",
          "text": [
            "Trial 24 finished with value: 2.644910314819451 and parameters: {'x': 1.8732224796468613, 'y': -1.377904658674074}. Best is trial 23 with value: 0.3636225212310933.\n",
            "Trial 24 finished with value: 2.644910314819451 and parameters: {'x': 1.8732224796468613, 'y': -1.377904658674074}. Best is trial 23 with value: 0.3636225212310933.\n",
            "Trial 24 finished with value: 2.644910314819451 and parameters: {'x': 1.8732224796468613, 'y': -1.377904658674074}. Best is trial 23 with value: 0.3636225212310933.\n",
            "Trial 24 finished with value: 2.644910314819451 and parameters: {'x': 1.8732224796468613, 'y': -1.377904658674074}. Best is trial 23 with value: 0.3636225212310933.\n",
            "Trial 24 finished with value: 2.644910314819451 and parameters: {'x': 1.8732224796468613, 'y': -1.377904658674074}. Best is trial 23 with value: 0.3636225212310933.\n",
            "Trial 24 finished with value: 2.644910314819451 and parameters: {'x': 1.8732224796468613, 'y': -1.377904658674074}. Best is trial 23 with value: 0.3636225212310933.\n",
            "Trial 24 finished with value: 2.644910314819451 and parameters: {'x': 1.8732224796468613, 'y': -1.377904658674074}. Best is trial 23 with value: 0.3636225212310933.\n"
          ]
        },
        {
          "output_type": "stream",
          "name": "stderr",
          "text": [
            "\u001b[32m[I 2022-12-24 15:44:41,321]\u001b[0m Trial 25 finished with value: 1.8251115804331763 and parameters: {'x': -1.9936951051675993, 'y': 0.6957395523485397}. Best is trial 23 with value: 0.3636225212310933.\u001b[0m\n"
          ]
        },
        {
          "output_type": "stream",
          "name": "stdout",
          "text": [
            "Trial 25 finished with value: 1.8251115804331763 and parameters: {'x': -1.9936951051675993, 'y': 0.6957395523485397}. Best is trial 23 with value: 0.3636225212310933.\n",
            "Trial 25 finished with value: 1.8251115804331763 and parameters: {'x': -1.9936951051675993, 'y': 0.6957395523485397}. Best is trial 23 with value: 0.3636225212310933.\n",
            "Trial 25 finished with value: 1.8251115804331763 and parameters: {'x': -1.9936951051675993, 'y': 0.6957395523485397}. Best is trial 23 with value: 0.3636225212310933.\n",
            "Trial 25 finished with value: 1.8251115804331763 and parameters: {'x': -1.9936951051675993, 'y': 0.6957395523485397}. Best is trial 23 with value: 0.3636225212310933.\n",
            "Trial 25 finished with value: 1.8251115804331763 and parameters: {'x': -1.9936951051675993, 'y': 0.6957395523485397}. Best is trial 23 with value: 0.3636225212310933.\n",
            "Trial 25 finished with value: 1.8251115804331763 and parameters: {'x': -1.9936951051675993, 'y': 0.6957395523485397}. Best is trial 23 with value: 0.3636225212310933.\n",
            "Trial 25 finished with value: 1.8251115804331763 and parameters: {'x': -1.9936951051675993, 'y': 0.6957395523485397}. Best is trial 23 with value: 0.3636225212310933.\n"
          ]
        },
        {
          "output_type": "stream",
          "name": "stderr",
          "text": [
            "\u001b[32m[I 2022-12-24 15:44:41,350]\u001b[0m Trial 26 finished with value: 13.022223809356596 and parameters: {'x': 0.6040862281392796, 'y': -6.515676360711923}. Best is trial 23 with value: 0.3636225212310933.\u001b[0m\n"
          ]
        },
        {
          "output_type": "stream",
          "name": "stdout",
          "text": [
            "Trial 26 finished with value: 13.022223809356596 and parameters: {'x': 0.6040862281392796, 'y': -6.515676360711923}. Best is trial 23 with value: 0.3636225212310933.\n",
            "Trial 26 finished with value: 13.022223809356596 and parameters: {'x': 0.6040862281392796, 'y': -6.515676360711923}. Best is trial 23 with value: 0.3636225212310933.\n",
            "Trial 26 finished with value: 13.022223809356596 and parameters: {'x': 0.6040862281392796, 'y': -6.515676360711923}. Best is trial 23 with value: 0.3636225212310933.\n",
            "Trial 26 finished with value: 13.022223809356596 and parameters: {'x': 0.6040862281392796, 'y': -6.515676360711923}. Best is trial 23 with value: 0.3636225212310933.\n",
            "Trial 26 finished with value: 13.022223809356596 and parameters: {'x': 0.6040862281392796, 'y': -6.515676360711923}. Best is trial 23 with value: 0.3636225212310933.\n",
            "Trial 26 finished with value: 13.022223809356596 and parameters: {'x': 0.6040862281392796, 'y': -6.515676360711923}. Best is trial 23 with value: 0.3636225212310933.\n",
            "Trial 26 finished with value: 13.022223809356596 and parameters: {'x': 0.6040862281392796, 'y': -6.515676360711923}. Best is trial 23 with value: 0.3636225212310933.\n"
          ]
        },
        {
          "output_type": "stream",
          "name": "stderr",
          "text": [
            "\u001b[32m[I 2022-12-24 15:44:41,386]\u001b[0m Trial 27 finished with value: 0.3327039796495368 and parameters: {'x': 2.0487560241549936, 'y': 1.0795478330660013}. Best is trial 27 with value: 0.3327039796495368.\u001b[0m\n"
          ]
        },
        {
          "output_type": "stream",
          "name": "stdout",
          "text": [
            "Trial 27 finished with value: 0.3327039796495368 and parameters: {'x': 2.0487560241549936, 'y': 1.0795478330660013}. Best is trial 27 with value: 0.3327039796495368.\n",
            "Trial 27 finished with value: 0.3327039796495368 and parameters: {'x': 2.0487560241549936, 'y': 1.0795478330660013}. Best is trial 27 with value: 0.3327039796495368.\n",
            "Trial 27 finished with value: 0.3327039796495368 and parameters: {'x': 2.0487560241549936, 'y': 1.0795478330660013}. Best is trial 27 with value: 0.3327039796495368.\n",
            "Trial 27 finished with value: 0.3327039796495368 and parameters: {'x': 2.0487560241549936, 'y': 1.0795478330660013}. Best is trial 27 with value: 0.3327039796495368.\n",
            "Trial 27 finished with value: 0.3327039796495368 and parameters: {'x': 2.0487560241549936, 'y': 1.0795478330660013}. Best is trial 27 with value: 0.3327039796495368.\n",
            "Trial 27 finished with value: 0.3327039796495368 and parameters: {'x': 2.0487560241549936, 'y': 1.0795478330660013}. Best is trial 27 with value: 0.3327039796495368.\n",
            "Trial 27 finished with value: 0.3327039796495368 and parameters: {'x': 2.0487560241549936, 'y': 1.0795478330660013}. Best is trial 27 with value: 0.3327039796495368.\n"
          ]
        },
        {
          "output_type": "stream",
          "name": "stderr",
          "text": [
            "\u001b[32m[I 2022-12-24 15:44:41,417]\u001b[0m Trial 28 finished with value: 0.3889642830125244 and parameters: {'x': 2.2042933115376533, 'y': 1.1531184537840686}. Best is trial 27 with value: 0.3327039796495368.\u001b[0m\n"
          ]
        },
        {
          "output_type": "stream",
          "name": "stdout",
          "text": [
            "Trial 28 finished with value: 0.3889642830125244 and parameters: {'x': 2.2042933115376533, 'y': 1.1531184537840686}. Best is trial 27 with value: 0.3327039796495368.\n",
            "Trial 28 finished with value: 0.3889642830125244 and parameters: {'x': 2.2042933115376533, 'y': 1.1531184537840686}. Best is trial 27 with value: 0.3327039796495368.\n",
            "Trial 28 finished with value: 0.3889642830125244 and parameters: {'x': 2.2042933115376533, 'y': 1.1531184537840686}. Best is trial 27 with value: 0.3327039796495368.\n",
            "Trial 28 finished with value: 0.3889642830125244 and parameters: {'x': 2.2042933115376533, 'y': 1.1531184537840686}. Best is trial 27 with value: 0.3327039796495368.\n",
            "Trial 28 finished with value: 0.3889642830125244 and parameters: {'x': 2.2042933115376533, 'y': 1.1531184537840686}. Best is trial 27 with value: 0.3327039796495368.\n",
            "Trial 28 finished with value: 0.3889642830125244 and parameters: {'x': 2.2042933115376533, 'y': 1.1531184537840686}. Best is trial 27 with value: 0.3327039796495368.\n",
            "Trial 28 finished with value: 0.3889642830125244 and parameters: {'x': 2.2042933115376533, 'y': 1.1531184537840686}. Best is trial 27 with value: 0.3327039796495368.\n"
          ]
        },
        {
          "output_type": "stream",
          "name": "stderr",
          "text": [
            "\u001b[32m[I 2022-12-24 15:44:41,465]\u001b[0m Trial 29 finished with value: 0.0791466334293256 and parameters: {'x': 1.4038074578403286, 'y': 1.182287683114866}. Best is trial 29 with value: 0.0791466334293256.\u001b[0m\n"
          ]
        },
        {
          "output_type": "stream",
          "name": "stdout",
          "text": [
            "Trial 29 finished with value: 0.0791466334293256 and parameters: {'x': 1.4038074578403286, 'y': 1.182287683114866}. Best is trial 29 with value: 0.0791466334293256.\n",
            "Trial 29 finished with value: 0.0791466334293256 and parameters: {'x': 1.4038074578403286, 'y': 1.182287683114866}. Best is trial 29 with value: 0.0791466334293256.\n",
            "Trial 29 finished with value: 0.0791466334293256 and parameters: {'x': 1.4038074578403286, 'y': 1.182287683114866}. Best is trial 29 with value: 0.0791466334293256.\n",
            "Trial 29 finished with value: 0.0791466334293256 and parameters: {'x': 1.4038074578403286, 'y': 1.182287683114866}. Best is trial 29 with value: 0.0791466334293256.\n",
            "Trial 29 finished with value: 0.0791466334293256 and parameters: {'x': 1.4038074578403286, 'y': 1.182287683114866}. Best is trial 29 with value: 0.0791466334293256.\n",
            "Trial 29 finished with value: 0.0791466334293256 and parameters: {'x': 1.4038074578403286, 'y': 1.182287683114866}. Best is trial 29 with value: 0.0791466334293256.\n",
            "Trial 29 finished with value: 0.0791466334293256 and parameters: {'x': 1.4038074578403286, 'y': 1.182287683114866}. Best is trial 29 with value: 0.0791466334293256.\n"
          ]
        },
        {
          "output_type": "stream",
          "name": "stderr",
          "text": [
            "\u001b[32m[I 2022-12-24 15:44:41,527]\u001b[0m Trial 30 finished with value: 19.17326876584649 and parameters: {'x': 6.200146382250537, 'y': -2.526435363042399}. Best is trial 29 with value: 0.0791466334293256.\u001b[0m\n"
          ]
        },
        {
          "output_type": "stream",
          "name": "stdout",
          "text": [
            "Trial 30 finished with value: 19.17326876584649 and parameters: {'x': 6.200146382250537, 'y': -2.526435363042399}. Best is trial 29 with value: 0.0791466334293256.\n",
            "Trial 30 finished with value: 19.17326876584649 and parameters: {'x': 6.200146382250537, 'y': -2.526435363042399}. Best is trial 29 with value: 0.0791466334293256.\n",
            "Trial 30 finished with value: 19.17326876584649 and parameters: {'x': 6.200146382250537, 'y': -2.526435363042399}. Best is trial 29 with value: 0.0791466334293256.\n",
            "Trial 30 finished with value: 19.17326876584649 and parameters: {'x': 6.200146382250537, 'y': -2.526435363042399}. Best is trial 29 with value: 0.0791466334293256.\n",
            "Trial 30 finished with value: 19.17326876584649 and parameters: {'x': 6.200146382250537, 'y': -2.526435363042399}. Best is trial 29 with value: 0.0791466334293256.\n",
            "Trial 30 finished with value: 19.17326876584649 and parameters: {'x': 6.200146382250537, 'y': -2.526435363042399}. Best is trial 29 with value: 0.0791466334293256.\n",
            "Trial 30 finished with value: 19.17326876584649 and parameters: {'x': 6.200146382250537, 'y': -2.526435363042399}. Best is trial 29 with value: 0.0791466334293256.\n"
          ]
        },
        {
          "output_type": "stream",
          "name": "stderr",
          "text": [
            "\u001b[32m[I 2022-12-24 15:44:41,575]\u001b[0m Trial 31 finished with value: 0.26990458798223416 and parameters: {'x': 2.0664236051251534, 'y': 1.269955584370414}. Best is trial 29 with value: 0.0791466334293256.\u001b[0m\n"
          ]
        },
        {
          "output_type": "stream",
          "name": "stdout",
          "text": [
            "Trial 31 finished with value: 0.26990458798223416 and parameters: {'x': 2.0664236051251534, 'y': 1.269955584370414}. Best is trial 29 with value: 0.0791466334293256.\n",
            "Trial 31 finished with value: 0.26990458798223416 and parameters: {'x': 2.0664236051251534, 'y': 1.269955584370414}. Best is trial 29 with value: 0.0791466334293256.\n",
            "Trial 31 finished with value: 0.26990458798223416 and parameters: {'x': 2.0664236051251534, 'y': 1.269955584370414}. Best is trial 29 with value: 0.0791466334293256.\n",
            "Trial 31 finished with value: 0.26990458798223416 and parameters: {'x': 2.0664236051251534, 'y': 1.269955584370414}. Best is trial 29 with value: 0.0791466334293256.\n",
            "Trial 31 finished with value: 0.26990458798223416 and parameters: {'x': 2.0664236051251534, 'y': 1.269955584370414}. Best is trial 29 with value: 0.0791466334293256.\n",
            "Trial 31 finished with value: 0.26990458798223416 and parameters: {'x': 2.0664236051251534, 'y': 1.269955584370414}. Best is trial 29 with value: 0.0791466334293256.\n",
            "Trial 31 finished with value: 0.26990458798223416 and parameters: {'x': 2.0664236051251534, 'y': 1.269955584370414}. Best is trial 29 with value: 0.0791466334293256.\n"
          ]
        },
        {
          "output_type": "stream",
          "name": "stderr",
          "text": [
            "\u001b[32m[I 2022-12-24 15:44:41,638]\u001b[0m Trial 32 finished with value: 0.1359616135742603 and parameters: {'x': 1.3833166571893611, 'y': 1.76666021418425}. Best is trial 29 with value: 0.0791466334293256.\u001b[0m\n"
          ]
        },
        {
          "output_type": "stream",
          "name": "stdout",
          "text": [
            "Trial 32 finished with value: 0.1359616135742603 and parameters: {'x': 1.3833166571893611, 'y': 1.76666021418425}. Best is trial 29 with value: 0.0791466334293256.\n",
            "Trial 32 finished with value: 0.1359616135742603 and parameters: {'x': 1.3833166571893611, 'y': 1.76666021418425}. Best is trial 29 with value: 0.0791466334293256.\n",
            "Trial 32 finished with value: 0.1359616135742603 and parameters: {'x': 1.3833166571893611, 'y': 1.76666021418425}. Best is trial 29 with value: 0.0791466334293256.\n",
            "Trial 32 finished with value: 0.1359616135742603 and parameters: {'x': 1.3833166571893611, 'y': 1.76666021418425}. Best is trial 29 with value: 0.0791466334293256.\n",
            "Trial 32 finished with value: 0.1359616135742603 and parameters: {'x': 1.3833166571893611, 'y': 1.76666021418425}. Best is trial 29 with value: 0.0791466334293256.\n",
            "Trial 32 finished with value: 0.1359616135742603 and parameters: {'x': 1.3833166571893611, 'y': 1.76666021418425}. Best is trial 29 with value: 0.0791466334293256.\n",
            "Trial 32 finished with value: 0.1359616135742603 and parameters: {'x': 1.3833166571893611, 'y': 1.76666021418425}. Best is trial 29 with value: 0.0791466334293256.\n"
          ]
        },
        {
          "output_type": "stream",
          "name": "stderr",
          "text": [
            "\u001b[32m[I 2022-12-24 15:44:41,687]\u001b[0m Trial 33 finished with value: 2.1646527883884352 and parameters: {'x': -0.6543450361797285, 'y': 2.2704020541078993}. Best is trial 29 with value: 0.0791466334293256.\u001b[0m\n"
          ]
        },
        {
          "output_type": "stream",
          "name": "stdout",
          "text": [
            "Trial 33 finished with value: 2.1646527883884352 and parameters: {'x': -0.6543450361797285, 'y': 2.2704020541078993}. Best is trial 29 with value: 0.0791466334293256.\n",
            "Trial 33 finished with value: 2.1646527883884352 and parameters: {'x': -0.6543450361797285, 'y': 2.2704020541078993}. Best is trial 29 with value: 0.0791466334293256.\n",
            "Trial 33 finished with value: 2.1646527883884352 and parameters: {'x': -0.6543450361797285, 'y': 2.2704020541078993}. Best is trial 29 with value: 0.0791466334293256.\n",
            "Trial 33 finished with value: 2.1646527883884352 and parameters: {'x': -0.6543450361797285, 'y': 2.2704020541078993}. Best is trial 29 with value: 0.0791466334293256.\n",
            "Trial 33 finished with value: 2.1646527883884352 and parameters: {'x': -0.6543450361797285, 'y': 2.2704020541078993}. Best is trial 29 with value: 0.0791466334293256.\n",
            "Trial 33 finished with value: 2.1646527883884352 and parameters: {'x': -0.6543450361797285, 'y': 2.2704020541078993}. Best is trial 29 with value: 0.0791466334293256.\n",
            "Trial 33 finished with value: 2.1646527883884352 and parameters: {'x': -0.6543450361797285, 'y': 2.2704020541078993}. Best is trial 29 with value: 0.0791466334293256.\n"
          ]
        },
        {
          "output_type": "stream",
          "name": "stderr",
          "text": [
            "\u001b[32m[I 2022-12-24 15:44:41,739]\u001b[0m Trial 34 finished with value: 3.8362095694466447 and parameters: {'x': 5.565178132997518, 'y': 1.9475557867861486}. Best is trial 29 with value: 0.0791466334293256.\u001b[0m\n"
          ]
        },
        {
          "output_type": "stream",
          "name": "stdout",
          "text": [
            "Trial 34 finished with value: 3.8362095694466447 and parameters: {'x': 5.565178132997518, 'y': 1.9475557867861486}. Best is trial 29 with value: 0.0791466334293256.\n",
            "Trial 34 finished with value: 3.8362095694466447 and parameters: {'x': 5.565178132997518, 'y': 1.9475557867861486}. Best is trial 29 with value: 0.0791466334293256.\n",
            "Trial 34 finished with value: 3.8362095694466447 and parameters: {'x': 5.565178132997518, 'y': 1.9475557867861486}. Best is trial 29 with value: 0.0791466334293256.\n",
            "Trial 34 finished with value: 3.8362095694466447 and parameters: {'x': 5.565178132997518, 'y': 1.9475557867861486}. Best is trial 29 with value: 0.0791466334293256.\n",
            "Trial 34 finished with value: 3.8362095694466447 and parameters: {'x': 5.565178132997518, 'y': 1.9475557867861486}. Best is trial 29 with value: 0.0791466334293256.\n",
            "Trial 34 finished with value: 3.8362095694466447 and parameters: {'x': 5.565178132997518, 'y': 1.9475557867861486}. Best is trial 29 with value: 0.0791466334293256.\n",
            "Trial 34 finished with value: 3.8362095694466447 and parameters: {'x': 5.565178132997518, 'y': 1.9475557867861486}. Best is trial 29 with value: 0.0791466334293256.\n"
          ]
        },
        {
          "output_type": "stream",
          "name": "stderr",
          "text": [
            "\u001b[32m[I 2022-12-24 15:44:41,788]\u001b[0m Trial 35 finished with value: 1.6921453756241087 and parameters: {'x': 0.7617493817614138, 'y': -1.8310949075008012}. Best is trial 29 with value: 0.0791466334293256.\u001b[0m\n"
          ]
        },
        {
          "output_type": "stream",
          "name": "stdout",
          "text": [
            "Trial 35 finished with value: 1.6921453756241087 and parameters: {'x': 0.7617493817614138, 'y': -1.8310949075008012}. Best is trial 29 with value: 0.0791466334293256.\n",
            "Trial 35 finished with value: 1.6921453756241087 and parameters: {'x': 0.7617493817614138, 'y': -1.8310949075008012}. Best is trial 29 with value: 0.0791466334293256.\n",
            "Trial 35 finished with value: 1.6921453756241087 and parameters: {'x': 0.7617493817614138, 'y': -1.8310949075008012}. Best is trial 29 with value: 0.0791466334293256.\n",
            "Trial 35 finished with value: 1.6921453756241087 and parameters: {'x': 0.7617493817614138, 'y': -1.8310949075008012}. Best is trial 29 with value: 0.0791466334293256.\n",
            "Trial 35 finished with value: 1.6921453756241087 and parameters: {'x': 0.7617493817614138, 'y': -1.8310949075008012}. Best is trial 29 with value: 0.0791466334293256.\n",
            "Trial 35 finished with value: 1.6921453756241087 and parameters: {'x': 0.7617493817614138, 'y': -1.8310949075008012}. Best is trial 29 with value: 0.0791466334293256.\n",
            "Trial 35 finished with value: 1.6921453756241087 and parameters: {'x': 0.7617493817614138, 'y': -1.8310949075008012}. Best is trial 29 with value: 0.0791466334293256.\n"
          ]
        },
        {
          "output_type": "stream",
          "name": "stderr",
          "text": [
            "\u001b[32m[I 2022-12-24 15:44:41,835]\u001b[0m Trial 36 finished with value: 2.3434284013313467 and parameters: {'x': 3.1256402210182044, 'y': 0.13421106612347145}. Best is trial 29 with value: 0.0791466334293256.\u001b[0m\n"
          ]
        },
        {
          "output_type": "stream",
          "name": "stdout",
          "text": [
            "Trial 36 finished with value: 2.3434284013313467 and parameters: {'x': 3.1256402210182044, 'y': 0.13421106612347145}. Best is trial 29 with value: 0.0791466334293256.\n",
            "Trial 36 finished with value: 2.3434284013313467 and parameters: {'x': 3.1256402210182044, 'y': 0.13421106612347145}. Best is trial 29 with value: 0.0791466334293256.\n",
            "Trial 36 finished with value: 2.3434284013313467 and parameters: {'x': 3.1256402210182044, 'y': 0.13421106612347145}. Best is trial 29 with value: 0.0791466334293256.\n",
            "Trial 36 finished with value: 2.3434284013313467 and parameters: {'x': 3.1256402210182044, 'y': 0.13421106612347145}. Best is trial 29 with value: 0.0791466334293256.\n",
            "Trial 36 finished with value: 2.3434284013313467 and parameters: {'x': 3.1256402210182044, 'y': 0.13421106612347145}. Best is trial 29 with value: 0.0791466334293256.\n",
            "Trial 36 finished with value: 2.3434284013313467 and parameters: {'x': 3.1256402210182044, 'y': 0.13421106612347145}. Best is trial 29 with value: 0.0791466334293256.\n",
            "Trial 36 finished with value: 2.3434284013313467 and parameters: {'x': 3.1256402210182044, 'y': 0.13421106612347145}. Best is trial 29 with value: 0.0791466334293256.\n"
          ]
        },
        {
          "output_type": "stream",
          "name": "stderr",
          "text": [
            "\u001b[32m[I 2022-12-24 15:44:41,882]\u001b[0m Trial 37 finished with value: 3.3632884266663368 and parameters: {'x': 4.698171324706187, 'y': 7.446518789596293}. Best is trial 29 with value: 0.0791466334293256.\u001b[0m\n"
          ]
        },
        {
          "output_type": "stream",
          "name": "stdout",
          "text": [
            "Trial 37 finished with value: 3.3632884266663368 and parameters: {'x': 4.698171324706187, 'y': 7.446518789596293}. Best is trial 29 with value: 0.0791466334293256.\n",
            "Trial 37 finished with value: 3.3632884266663368 and parameters: {'x': 4.698171324706187, 'y': 7.446518789596293}. Best is trial 29 with value: 0.0791466334293256.\n",
            "Trial 37 finished with value: 3.3632884266663368 and parameters: {'x': 4.698171324706187, 'y': 7.446518789596293}. Best is trial 29 with value: 0.0791466334293256.\n",
            "Trial 37 finished with value: 3.3632884266663368 and parameters: {'x': 4.698171324706187, 'y': 7.446518789596293}. Best is trial 29 with value: 0.0791466334293256.\n",
            "Trial 37 finished with value: 3.3632884266663368 and parameters: {'x': 4.698171324706187, 'y': 7.446518789596293}. Best is trial 29 with value: 0.0791466334293256.\n",
            "Trial 37 finished with value: 3.3632884266663368 and parameters: {'x': 4.698171324706187, 'y': 7.446518789596293}. Best is trial 29 with value: 0.0791466334293256.\n",
            "Trial 37 finished with value: 3.3632884266663368 and parameters: {'x': 4.698171324706187, 'y': 7.446518789596293}. Best is trial 29 with value: 0.0791466334293256.\n"
          ]
        },
        {
          "output_type": "stream",
          "name": "stderr",
          "text": [
            "\u001b[32m[I 2022-12-24 15:44:41,939]\u001b[0m Trial 38 finished with value: 31.514861263342016 and parameters: {'x': 7.054176008150032, 'y': -4.158497486126511}. Best is trial 29 with value: 0.0791466334293256.\u001b[0m\n"
          ]
        },
        {
          "output_type": "stream",
          "name": "stdout",
          "text": [
            "Trial 38 finished with value: 31.514861263342016 and parameters: {'x': 7.054176008150032, 'y': -4.158497486126511}. Best is trial 29 with value: 0.0791466334293256.\n",
            "Trial 38 finished with value: 31.514861263342016 and parameters: {'x': 7.054176008150032, 'y': -4.158497486126511}. Best is trial 29 with value: 0.0791466334293256.\n",
            "Trial 38 finished with value: 31.514861263342016 and parameters: {'x': 7.054176008150032, 'y': -4.158497486126511}. Best is trial 29 with value: 0.0791466334293256.\n",
            "Trial 38 finished with value: 31.514861263342016 and parameters: {'x': 7.054176008150032, 'y': -4.158497486126511}. Best is trial 29 with value: 0.0791466334293256.\n",
            "Trial 38 finished with value: 31.514861263342016 and parameters: {'x': 7.054176008150032, 'y': -4.158497486126511}. Best is trial 29 with value: 0.0791466334293256.\n",
            "Trial 38 finished with value: 31.514861263342016 and parameters: {'x': 7.054176008150032, 'y': -4.158497486126511}. Best is trial 29 with value: 0.0791466334293256.\n",
            "Trial 38 finished with value: 31.514861263342016 and parameters: {'x': 7.054176008150032, 'y': -4.158497486126511}. Best is trial 29 with value: 0.0791466334293256.\n"
          ]
        },
        {
          "output_type": "stream",
          "name": "stderr",
          "text": [
            "\u001b[32m[I 2022-12-24 15:44:41,994]\u001b[0m Trial 39 finished with value: 2.9561654259555334 and parameters: {'x': 1.4963284903096512, 'y': 4.703673312673235}. Best is trial 29 with value: 0.0791466334293256.\u001b[0m\n"
          ]
        },
        {
          "output_type": "stream",
          "name": "stdout",
          "text": [
            "Trial 39 finished with value: 2.9561654259555334 and parameters: {'x': 1.4963284903096512, 'y': 4.703673312673235}. Best is trial 29 with value: 0.0791466334293256.\n",
            "Trial 39 finished with value: 2.9561654259555334 and parameters: {'x': 1.4963284903096512, 'y': 4.703673312673235}. Best is trial 29 with value: 0.0791466334293256.\n",
            "Trial 39 finished with value: 2.9561654259555334 and parameters: {'x': 1.4963284903096512, 'y': 4.703673312673235}. Best is trial 29 with value: 0.0791466334293256.\n",
            "Trial 39 finished with value: 2.9561654259555334 and parameters: {'x': 1.4963284903096512, 'y': 4.703673312673235}. Best is trial 29 with value: 0.0791466334293256.\n",
            "Trial 39 finished with value: 2.9561654259555334 and parameters: {'x': 1.4963284903096512, 'y': 4.703673312673235}. Best is trial 29 with value: 0.0791466334293256.\n",
            "Trial 39 finished with value: 2.9561654259555334 and parameters: {'x': 1.4963284903096512, 'y': 4.703673312673235}. Best is trial 29 with value: 0.0791466334293256.\n",
            "Trial 39 finished with value: 2.9561654259555334 and parameters: {'x': 1.4963284903096512, 'y': 4.703673312673235}. Best is trial 29 with value: 0.0791466334293256.\n"
          ]
        },
        {
          "output_type": "stream",
          "name": "stderr",
          "text": [
            "\u001b[32m[I 2022-12-24 15:44:42,047]\u001b[0m Trial 40 finished with value: 6.271075843636995 and parameters: {'x': -3.421016390610398, 'y': 1.5737618223790348}. Best is trial 29 with value: 0.0791466334293256.\u001b[0m\n"
          ]
        },
        {
          "output_type": "stream",
          "name": "stdout",
          "text": [
            "Trial 40 finished with value: 6.271075843636995 and parameters: {'x': -3.421016390610398, 'y': 1.5737618223790348}. Best is trial 29 with value: 0.0791466334293256.\n",
            "Trial 40 finished with value: 6.271075843636995 and parameters: {'x': -3.421016390610398, 'y': 1.5737618223790348}. Best is trial 29 with value: 0.0791466334293256.\n",
            "Trial 40 finished with value: 6.271075843636995 and parameters: {'x': -3.421016390610398, 'y': 1.5737618223790348}. Best is trial 29 with value: 0.0791466334293256.\n",
            "Trial 40 finished with value: 6.271075843636995 and parameters: {'x': -3.421016390610398, 'y': 1.5737618223790348}. Best is trial 29 with value: 0.0791466334293256.\n",
            "Trial 40 finished with value: 6.271075843636995 and parameters: {'x': -3.421016390610398, 'y': 1.5737618223790348}. Best is trial 29 with value: 0.0791466334293256.\n",
            "Trial 40 finished with value: 6.271075843636995 and parameters: {'x': -3.421016390610398, 'y': 1.5737618223790348}. Best is trial 29 with value: 0.0791466334293256.\n",
            "Trial 40 finished with value: 6.271075843636995 and parameters: {'x': -3.421016390610398, 'y': 1.5737618223790348}. Best is trial 29 with value: 0.0791466334293256.\n"
          ]
        },
        {
          "output_type": "stream",
          "name": "stderr",
          "text": [
            "\u001b[32m[I 2022-12-24 15:44:42,095]\u001b[0m Trial 41 finished with value: 0.48138922665260697 and parameters: {'x': 1.5617834395729673, 'y': 0.2207148741863046}. Best is trial 29 with value: 0.0791466334293256.\u001b[0m\n"
          ]
        },
        {
          "output_type": "stream",
          "name": "stdout",
          "text": [
            "Trial 41 finished with value: 0.48138922665260697 and parameters: {'x': 1.5617834395729673, 'y': 0.2207148741863046}. Best is trial 29 with value: 0.0791466334293256.\n",
            "Trial 41 finished with value: 0.48138922665260697 and parameters: {'x': 1.5617834395729673, 'y': 0.2207148741863046}. Best is trial 29 with value: 0.0791466334293256.\n",
            "Trial 41 finished with value: 0.48138922665260697 and parameters: {'x': 1.5617834395729673, 'y': 0.2207148741863046}. Best is trial 29 with value: 0.0791466334293256.\n",
            "Trial 41 finished with value: 0.48138922665260697 and parameters: {'x': 1.5617834395729673, 'y': 0.2207148741863046}. Best is trial 29 with value: 0.0791466334293256.\n",
            "Trial 41 finished with value: 0.48138922665260697 and parameters: {'x': 1.5617834395729673, 'y': 0.2207148741863046}. Best is trial 29 with value: 0.0791466334293256.\n",
            "Trial 41 finished with value: 0.48138922665260697 and parameters: {'x': 1.5617834395729673, 'y': 0.2207148741863046}. Best is trial 29 with value: 0.0791466334293256.\n",
            "Trial 41 finished with value: 0.48138922665260697 and parameters: {'x': 1.5617834395729673, 'y': 0.2207148741863046}. Best is trial 29 with value: 0.0791466334293256.\n"
          ]
        },
        {
          "output_type": "stream",
          "name": "stderr",
          "text": [
            "\u001b[32m[I 2022-12-24 15:44:42,148]\u001b[0m Trial 42 finished with value: 4.657013355459316 and parameters: {'x': -1.2806078751350682, 'y': 3.021350518872048}. Best is trial 29 with value: 0.0791466334293256.\u001b[0m\n"
          ]
        },
        {
          "output_type": "stream",
          "name": "stdout",
          "text": [
            "Trial 42 finished with value: 4.657013355459316 and parameters: {'x': -1.2806078751350682, 'y': 3.021350518872048}. Best is trial 29 with value: 0.0791466334293256.\n",
            "Trial 42 finished with value: 4.657013355459316 and parameters: {'x': -1.2806078751350682, 'y': 3.021350518872048}. Best is trial 29 with value: 0.0791466334293256.\n",
            "Trial 42 finished with value: 4.657013355459316 and parameters: {'x': -1.2806078751350682, 'y': 3.021350518872048}. Best is trial 29 with value: 0.0791466334293256.\n",
            "Trial 42 finished with value: 4.657013355459316 and parameters: {'x': -1.2806078751350682, 'y': 3.021350518872048}. Best is trial 29 with value: 0.0791466334293256.\n",
            "Trial 42 finished with value: 4.657013355459316 and parameters: {'x': -1.2806078751350682, 'y': 3.021350518872048}. Best is trial 29 with value: 0.0791466334293256.\n",
            "Trial 42 finished with value: 4.657013355459316 and parameters: {'x': -1.2806078751350682, 'y': 3.021350518872048}. Best is trial 29 with value: 0.0791466334293256.\n",
            "Trial 42 finished with value: 4.657013355459316 and parameters: {'x': -1.2806078751350682, 'y': 3.021350518872048}. Best is trial 29 with value: 0.0791466334293256.\n"
          ]
        },
        {
          "output_type": "stream",
          "name": "stderr",
          "text": [
            "\u001b[32m[I 2022-12-24 15:44:42,197]\u001b[0m Trial 43 finished with value: 0.008033175537051646 and parameters: {'x': 0.17399253056218456, 'y': 0.3231462246819692}. Best is trial 43 with value: 0.008033175537051646.\u001b[0m\n"
          ]
        },
        {
          "output_type": "stream",
          "name": "stdout",
          "text": [
            "Trial 43 finished with value: 0.008033175537051646 and parameters: {'x': 0.17399253056218456, 'y': 0.3231462246819692}. Best is trial 43 with value: 0.008033175537051646.\n",
            "Trial 43 finished with value: 0.008033175537051646 and parameters: {'x': 0.17399253056218456, 'y': 0.3231462246819692}. Best is trial 43 with value: 0.008033175537051646.\n",
            "Trial 43 finished with value: 0.008033175537051646 and parameters: {'x': 0.17399253056218456, 'y': 0.3231462246819692}. Best is trial 43 with value: 0.008033175537051646.\n",
            "Trial 43 finished with value: 0.008033175537051646 and parameters: {'x': 0.17399253056218456, 'y': 0.3231462246819692}. Best is trial 43 with value: 0.008033175537051646.\n",
            "Trial 43 finished with value: 0.008033175537051646 and parameters: {'x': 0.17399253056218456, 'y': 0.3231462246819692}. Best is trial 43 with value: 0.008033175537051646.\n",
            "Trial 43 finished with value: 0.008033175537051646 and parameters: {'x': 0.17399253056218456, 'y': 0.3231462246819692}. Best is trial 43 with value: 0.008033175537051646.\n",
            "Trial 43 finished with value: 0.008033175537051646 and parameters: {'x': 0.17399253056218456, 'y': 0.3231462246819692}. Best is trial 43 with value: 0.008033175537051646.\n"
          ]
        },
        {
          "output_type": "stream",
          "name": "stderr",
          "text": [
            "\u001b[32m[I 2022-12-24 15:44:42,259]\u001b[0m Trial 44 finished with value: 0.7494792616273881 and parameters: {'x': 0.09836178781470939, 'y': -1.6066087941102611}. Best is trial 43 with value: 0.008033175537051646.\u001b[0m\n"
          ]
        },
        {
          "output_type": "stream",
          "name": "stdout",
          "text": [
            "Trial 44 finished with value: 0.7494792616273881 and parameters: {'x': 0.09836178781470939, 'y': -1.6066087941102611}. Best is trial 43 with value: 0.008033175537051646.\n",
            "Trial 44 finished with value: 0.7494792616273881 and parameters: {'x': 0.09836178781470939, 'y': -1.6066087941102611}. Best is trial 43 with value: 0.008033175537051646.\n",
            "Trial 44 finished with value: 0.7494792616273881 and parameters: {'x': 0.09836178781470939, 'y': -1.6066087941102611}. Best is trial 43 with value: 0.008033175537051646.\n",
            "Trial 44 finished with value: 0.7494792616273881 and parameters: {'x': 0.09836178781470939, 'y': -1.6066087941102611}. Best is trial 43 with value: 0.008033175537051646.\n",
            "Trial 44 finished with value: 0.7494792616273881 and parameters: {'x': 0.09836178781470939, 'y': -1.6066087941102611}. Best is trial 43 with value: 0.008033175537051646.\n",
            "Trial 44 finished with value: 0.7494792616273881 and parameters: {'x': 0.09836178781470939, 'y': -1.6066087941102611}. Best is trial 43 with value: 0.008033175537051646.\n",
            "Trial 44 finished with value: 0.7494792616273881 and parameters: {'x': 0.09836178781470939, 'y': -1.6066087941102611}. Best is trial 43 with value: 0.008033175537051646.\n"
          ]
        },
        {
          "output_type": "stream",
          "name": "stderr",
          "text": [
            "\u001b[32m[I 2022-12-24 15:44:42,319]\u001b[0m Trial 45 finished with value: 5.965896581363068 and parameters: {'x': -1.7716783810343157, 'y': 3.1060632081419364}. Best is trial 43 with value: 0.008033175537051646.\u001b[0m\n"
          ]
        },
        {
          "output_type": "stream",
          "name": "stdout",
          "text": [
            "Trial 45 finished with value: 5.965896581363068 and parameters: {'x': -1.7716783810343157, 'y': 3.1060632081419364}. Best is trial 43 with value: 0.008033175537051646.\n",
            "Trial 45 finished with value: 5.965896581363068 and parameters: {'x': -1.7716783810343157, 'y': 3.1060632081419364}. Best is trial 43 with value: 0.008033175537051646.\n",
            "Trial 45 finished with value: 5.965896581363068 and parameters: {'x': -1.7716783810343157, 'y': 3.1060632081419364}. Best is trial 43 with value: 0.008033175537051646.\n",
            "Trial 45 finished with value: 5.965896581363068 and parameters: {'x': -1.7716783810343157, 'y': 3.1060632081419364}. Best is trial 43 with value: 0.008033175537051646.\n",
            "Trial 45 finished with value: 5.965896581363068 and parameters: {'x': -1.7716783810343157, 'y': 3.1060632081419364}. Best is trial 43 with value: 0.008033175537051646.\n",
            "Trial 45 finished with value: 5.965896581363068 and parameters: {'x': -1.7716783810343157, 'y': 3.1060632081419364}. Best is trial 43 with value: 0.008033175537051646.\n",
            "Trial 45 finished with value: 5.965896581363068 and parameters: {'x': -1.7716783810343157, 'y': 3.1060632081419364}. Best is trial 43 with value: 0.008033175537051646.\n"
          ]
        },
        {
          "output_type": "stream",
          "name": "stderr",
          "text": [
            "\u001b[32m[I 2022-12-24 15:44:42,368]\u001b[0m Trial 46 finished with value: 0.19661166376710476 and parameters: {'x': 0.15672404715673993, 'y': -0.7228368139990666}. Best is trial 43 with value: 0.008033175537051646.\u001b[0m\n"
          ]
        },
        {
          "output_type": "stream",
          "name": "stdout",
          "text": [
            "Trial 46 finished with value: 0.19661166376710476 and parameters: {'x': 0.15672404715673993, 'y': -0.7228368139990666}. Best is trial 43 with value: 0.008033175537051646.\n",
            "Trial 46 finished with value: 0.19661166376710476 and parameters: {'x': 0.15672404715673993, 'y': -0.7228368139990666}. Best is trial 43 with value: 0.008033175537051646.\n",
            "Trial 46 finished with value: 0.19661166376710476 and parameters: {'x': 0.15672404715673993, 'y': -0.7228368139990666}. Best is trial 43 with value: 0.008033175537051646.\n",
            "Trial 46 finished with value: 0.19661166376710476 and parameters: {'x': 0.15672404715673993, 'y': -0.7228368139990666}. Best is trial 43 with value: 0.008033175537051646.\n",
            "Trial 46 finished with value: 0.19661166376710476 and parameters: {'x': 0.15672404715673993, 'y': -0.7228368139990666}. Best is trial 43 with value: 0.008033175537051646.\n",
            "Trial 46 finished with value: 0.19661166376710476 and parameters: {'x': 0.15672404715673993, 'y': -0.7228368139990666}. Best is trial 43 with value: 0.008033175537051646.\n",
            "Trial 46 finished with value: 0.19661166376710476 and parameters: {'x': 0.15672404715673993, 'y': -0.7228368139990666}. Best is trial 43 with value: 0.008033175537051646.\n"
          ]
        },
        {
          "output_type": "stream",
          "name": "stderr",
          "text": [
            "\u001b[32m[I 2022-12-24 15:44:42,399]\u001b[0m Trial 47 finished with value: 1.815409144890441 and parameters: {'x': -2.896946095789559, 'y': -0.2780909710189178}. Best is trial 43 with value: 0.008033175537051646.\u001b[0m\n"
          ]
        },
        {
          "output_type": "stream",
          "name": "stdout",
          "text": [
            "Trial 47 finished with value: 1.815409144890441 and parameters: {'x': -2.896946095789559, 'y': -0.2780909710189178}. Best is trial 43 with value: 0.008033175537051646.\n",
            "Trial 47 finished with value: 1.815409144890441 and parameters: {'x': -2.896946095789559, 'y': -0.2780909710189178}. Best is trial 43 with value: 0.008033175537051646.\n",
            "Trial 47 finished with value: 1.815409144890441 and parameters: {'x': -2.896946095789559, 'y': -0.2780909710189178}. Best is trial 43 with value: 0.008033175537051646.\n",
            "Trial 47 finished with value: 1.815409144890441 and parameters: {'x': -2.896946095789559, 'y': -0.2780909710189178}. Best is trial 43 with value: 0.008033175537051646.\n",
            "Trial 47 finished with value: 1.815409144890441 and parameters: {'x': -2.896946095789559, 'y': -0.2780909710189178}. Best is trial 43 with value: 0.008033175537051646.\n",
            "Trial 47 finished with value: 1.815409144890441 and parameters: {'x': -2.896946095789559, 'y': -0.2780909710189178}. Best is trial 43 with value: 0.008033175537051646.\n",
            "Trial 47 finished with value: 1.815409144890441 and parameters: {'x': -2.896946095789559, 'y': -0.2780909710189178}. Best is trial 43 with value: 0.008033175537051646.\n"
          ]
        },
        {
          "output_type": "stream",
          "name": "stderr",
          "text": [
            "\u001b[32m[I 2022-12-24 15:44:42,432]\u001b[0m Trial 48 finished with value: 0.17602088674699296 and parameters: {'x': 0.16469261156754467, 'y': -0.6683363591230911}. Best is trial 43 with value: 0.008033175537051646.\u001b[0m\n"
          ]
        },
        {
          "output_type": "stream",
          "name": "stdout",
          "text": [
            "Trial 48 finished with value: 0.17602088674699296 and parameters: {'x': 0.16469261156754467, 'y': -0.6683363591230911}. Best is trial 43 with value: 0.008033175537051646.\n",
            "Trial 48 finished with value: 0.17602088674699296 and parameters: {'x': 0.16469261156754467, 'y': -0.6683363591230911}. Best is trial 43 with value: 0.008033175537051646.\n",
            "Trial 48 finished with value: 0.17602088674699296 and parameters: {'x': 0.16469261156754467, 'y': -0.6683363591230911}. Best is trial 43 with value: 0.008033175537051646.\n",
            "Trial 48 finished with value: 0.17602088674699296 and parameters: {'x': 0.16469261156754467, 'y': -0.6683363591230911}. Best is trial 43 with value: 0.008033175537051646.\n",
            "Trial 48 finished with value: 0.17602088674699296 and parameters: {'x': 0.16469261156754467, 'y': -0.6683363591230911}. Best is trial 43 with value: 0.008033175537051646.\n",
            "Trial 48 finished with value: 0.17602088674699296 and parameters: {'x': 0.16469261156754467, 'y': -0.6683363591230911}. Best is trial 43 with value: 0.008033175537051646.\n",
            "Trial 48 finished with value: 0.17602088674699296 and parameters: {'x': 0.16469261156754467, 'y': -0.6683363591230911}. Best is trial 43 with value: 0.008033175537051646.\n"
          ]
        },
        {
          "output_type": "stream",
          "name": "stderr",
          "text": [
            "\u001b[32m[I 2022-12-24 15:44:42,463]\u001b[0m Trial 49 finished with value: 0.6835965077673354 and parameters: {'x': -4.143938002764445, 'y': -3.5269323874483343}. Best is trial 43 with value: 0.008033175537051646.\u001b[0m\n"
          ]
        },
        {
          "output_type": "stream",
          "name": "stdout",
          "text": [
            "Trial 49 finished with value: 0.6835965077673354 and parameters: {'x': -4.143938002764445, 'y': -3.5269323874483343}. Best is trial 43 with value: 0.008033175537051646.\n",
            "Trial 49 finished with value: 0.6835965077673354 and parameters: {'x': -4.143938002764445, 'y': -3.5269323874483343}. Best is trial 43 with value: 0.008033175537051646.\n",
            "Trial 49 finished with value: 0.6835965077673354 and parameters: {'x': -4.143938002764445, 'y': -3.5269323874483343}. Best is trial 43 with value: 0.008033175537051646.\n",
            "Trial 49 finished with value: 0.6835965077673354 and parameters: {'x': -4.143938002764445, 'y': -3.5269323874483343}. Best is trial 43 with value: 0.008033175537051646.\n",
            "Trial 49 finished with value: 0.6835965077673354 and parameters: {'x': -4.143938002764445, 'y': -3.5269323874483343}. Best is trial 43 with value: 0.008033175537051646.\n",
            "Trial 49 finished with value: 0.6835965077673354 and parameters: {'x': -4.143938002764445, 'y': -3.5269323874483343}. Best is trial 43 with value: 0.008033175537051646.\n",
            "Trial 49 finished with value: 0.6835965077673354 and parameters: {'x': -4.143938002764445, 'y': -3.5269323874483343}. Best is trial 43 with value: 0.008033175537051646.\n"
          ]
        },
        {
          "output_type": "stream",
          "name": "stderr",
          "text": [
            "\u001b[32m[I 2022-12-24 15:44:42,493]\u001b[0m Trial 50 finished with value: 7.399162237885494 and parameters: {'x': -0.05548141659488026, 'y': -5.385804597424308}. Best is trial 43 with value: 0.008033175537051646.\u001b[0m\n"
          ]
        },
        {
          "output_type": "stream",
          "name": "stdout",
          "text": [
            "Trial 50 finished with value: 7.399162237885494 and parameters: {'x': -0.05548141659488026, 'y': -5.385804597424308}. Best is trial 43 with value: 0.008033175537051646.\n",
            "Trial 50 finished with value: 7.399162237885494 and parameters: {'x': -0.05548141659488026, 'y': -5.385804597424308}. Best is trial 43 with value: 0.008033175537051646.\n",
            "Trial 50 finished with value: 7.399162237885494 and parameters: {'x': -0.05548141659488026, 'y': -5.385804597424308}. Best is trial 43 with value: 0.008033175537051646.\n",
            "Trial 50 finished with value: 7.399162237885494 and parameters: {'x': -0.05548141659488026, 'y': -5.385804597424308}. Best is trial 43 with value: 0.008033175537051646.\n",
            "Trial 50 finished with value: 7.399162237885494 and parameters: {'x': -0.05548141659488026, 'y': -5.385804597424308}. Best is trial 43 with value: 0.008033175537051646.\n",
            "Trial 50 finished with value: 7.399162237885494 and parameters: {'x': -0.05548141659488026, 'y': -5.385804597424308}. Best is trial 43 with value: 0.008033175537051646.\n",
            "Trial 50 finished with value: 7.399162237885494 and parameters: {'x': -0.05548141659488026, 'y': -5.385804597424308}. Best is trial 43 with value: 0.008033175537051646.\n"
          ]
        },
        {
          "output_type": "stream",
          "name": "stderr",
          "text": [
            "\u001b[32m[I 2022-12-24 15:44:42,527]\u001b[0m Trial 51 finished with value: 0.9274578539308853 and parameters: {'x': 0.9603892347656933, 'y': -0.9657027376984995}. Best is trial 43 with value: 0.008033175537051646.\u001b[0m\n"
          ]
        },
        {
          "output_type": "stream",
          "name": "stdout",
          "text": [
            "Trial 51 finished with value: 0.9274578539308853 and parameters: {'x': 0.9603892347656933, 'y': -0.9657027376984995}. Best is trial 43 with value: 0.008033175537051646.\n",
            "Trial 51 finished with value: 0.9274578539308853 and parameters: {'x': 0.9603892347656933, 'y': -0.9657027376984995}. Best is trial 43 with value: 0.008033175537051646.\n",
            "Trial 51 finished with value: 0.9274578539308853 and parameters: {'x': 0.9603892347656933, 'y': -0.9657027376984995}. Best is trial 43 with value: 0.008033175537051646.\n",
            "Trial 51 finished with value: 0.9274578539308853 and parameters: {'x': 0.9603892347656933, 'y': -0.9657027376984995}. Best is trial 43 with value: 0.008033175537051646.\n",
            "Trial 51 finished with value: 0.9274578539308853 and parameters: {'x': 0.9603892347656933, 'y': -0.9657027376984995}. Best is trial 43 with value: 0.008033175537051646.\n",
            "Trial 51 finished with value: 0.9274578539308853 and parameters: {'x': 0.9603892347656933, 'y': -0.9657027376984995}. Best is trial 43 with value: 0.008033175537051646.\n",
            "Trial 51 finished with value: 0.9274578539308853 and parameters: {'x': 0.9603892347656933, 'y': -0.9657027376984995}. Best is trial 43 with value: 0.008033175537051646.\n"
          ]
        },
        {
          "output_type": "stream",
          "name": "stderr",
          "text": [
            "\u001b[32m[I 2022-12-24 15:44:42,555]\u001b[0m Trial 52 finished with value: 6.444663892355226 and parameters: {'x': 2.850447343568968, 'y': -2.225281399292057}. Best is trial 43 with value: 0.008033175537051646.\u001b[0m\n"
          ]
        },
        {
          "output_type": "stream",
          "name": "stdout",
          "text": [
            "Trial 52 finished with value: 6.444663892355226 and parameters: {'x': 2.850447343568968, 'y': -2.225281399292057}. Best is trial 43 with value: 0.008033175537051646.\n",
            "Trial 52 finished with value: 6.444663892355226 and parameters: {'x': 2.850447343568968, 'y': -2.225281399292057}. Best is trial 43 with value: 0.008033175537051646.\n",
            "Trial 52 finished with value: 6.444663892355226 and parameters: {'x': 2.850447343568968, 'y': -2.225281399292057}. Best is trial 43 with value: 0.008033175537051646.\n",
            "Trial 52 finished with value: 6.444663892355226 and parameters: {'x': 2.850447343568968, 'y': -2.225281399292057}. Best is trial 43 with value: 0.008033175537051646.\n",
            "Trial 52 finished with value: 6.444663892355226 and parameters: {'x': 2.850447343568968, 'y': -2.225281399292057}. Best is trial 43 with value: 0.008033175537051646.\n",
            "Trial 52 finished with value: 6.444663892355226 and parameters: {'x': 2.850447343568968, 'y': -2.225281399292057}. Best is trial 43 with value: 0.008033175537051646.\n",
            "Trial 52 finished with value: 6.444663892355226 and parameters: {'x': 2.850447343568968, 'y': -2.225281399292057}. Best is trial 43 with value: 0.008033175537051646.\n"
          ]
        },
        {
          "output_type": "stream",
          "name": "stderr",
          "text": [
            "\u001b[32m[I 2022-12-24 15:44:42,586]\u001b[0m Trial 53 finished with value: 0.01875813449448506 and parameters: {'x': -0.2261505478631749, 'y': -0.46288223357901215}. Best is trial 43 with value: 0.008033175537051646.\u001b[0m\n"
          ]
        },
        {
          "output_type": "stream",
          "name": "stdout",
          "text": [
            "Trial 53 finished with value: 0.01875813449448506 and parameters: {'x': -0.2261505478631749, 'y': -0.46288223357901215}. Best is trial 43 with value: 0.008033175537051646.\n",
            "Trial 53 finished with value: 0.01875813449448506 and parameters: {'x': -0.2261505478631749, 'y': -0.46288223357901215}. Best is trial 43 with value: 0.008033175537051646.\n",
            "Trial 53 finished with value: 0.01875813449448506 and parameters: {'x': -0.2261505478631749, 'y': -0.46288223357901215}. Best is trial 43 with value: 0.008033175537051646.\n",
            "Trial 53 finished with value: 0.01875813449448506 and parameters: {'x': -0.2261505478631749, 'y': -0.46288223357901215}. Best is trial 43 with value: 0.008033175537051646.\n",
            "Trial 53 finished with value: 0.01875813449448506 and parameters: {'x': -0.2261505478631749, 'y': -0.46288223357901215}. Best is trial 43 with value: 0.008033175537051646.\n",
            "Trial 53 finished with value: 0.01875813449448506 and parameters: {'x': -0.2261505478631749, 'y': -0.46288223357901215}. Best is trial 43 with value: 0.008033175537051646.\n",
            "Trial 53 finished with value: 0.01875813449448506 and parameters: {'x': -0.2261505478631749, 'y': -0.46288223357901215}. Best is trial 43 with value: 0.008033175537051646.\n"
          ]
        },
        {
          "output_type": "stream",
          "name": "stderr",
          "text": [
            "\u001b[32m[I 2022-12-24 15:44:42,616]\u001b[0m Trial 54 finished with value: 1.0374033874010467 and parameters: {'x': -1.337558693359437, 'y': -3.16478839372576}. Best is trial 43 with value: 0.008033175537051646.\u001b[0m\n"
          ]
        },
        {
          "output_type": "stream",
          "name": "stdout",
          "text": [
            "Trial 54 finished with value: 1.0374033874010467 and parameters: {'x': -1.337558693359437, 'y': -3.16478839372576}. Best is trial 43 with value: 0.008033175537051646.\n",
            "Trial 54 finished with value: 1.0374033874010467 and parameters: {'x': -1.337558693359437, 'y': -3.16478839372576}. Best is trial 43 with value: 0.008033175537051646.\n",
            "Trial 54 finished with value: 1.0374033874010467 and parameters: {'x': -1.337558693359437, 'y': -3.16478839372576}. Best is trial 43 with value: 0.008033175537051646.\n",
            "Trial 54 finished with value: 1.0374033874010467 and parameters: {'x': -1.337558693359437, 'y': -3.16478839372576}. Best is trial 43 with value: 0.008033175537051646.\n",
            "Trial 54 finished with value: 1.0374033874010467 and parameters: {'x': -1.337558693359437, 'y': -3.16478839372576}. Best is trial 43 with value: 0.008033175537051646.\n",
            "Trial 54 finished with value: 1.0374033874010467 and parameters: {'x': -1.337558693359437, 'y': -3.16478839372576}. Best is trial 43 with value: 0.008033175537051646.\n",
            "Trial 54 finished with value: 1.0374033874010467 and parameters: {'x': -1.337558693359437, 'y': -3.16478839372576}. Best is trial 43 with value: 0.008033175537051646.\n"
          ]
        },
        {
          "output_type": "stream",
          "name": "stderr",
          "text": [
            "\u001b[32m[I 2022-12-24 15:44:42,644]\u001b[0m Trial 55 finished with value: 0.037499211579281704 and parameters: {'x': 0.050849390007018325, 'y': -0.33233145527928915}. Best is trial 43 with value: 0.008033175537051646.\u001b[0m\n"
          ]
        },
        {
          "output_type": "stream",
          "name": "stdout",
          "text": [
            "Trial 55 finished with value: 0.037499211579281704 and parameters: {'x': 0.050849390007018325, 'y': -0.33233145527928915}. Best is trial 43 with value: 0.008033175537051646.\n",
            "Trial 55 finished with value: 0.037499211579281704 and parameters: {'x': 0.050849390007018325, 'y': -0.33233145527928915}. Best is trial 43 with value: 0.008033175537051646.\n",
            "Trial 55 finished with value: 0.037499211579281704 and parameters: {'x': 0.050849390007018325, 'y': -0.33233145527928915}. Best is trial 43 with value: 0.008033175537051646.\n",
            "Trial 55 finished with value: 0.037499211579281704 and parameters: {'x': 0.050849390007018325, 'y': -0.33233145527928915}. Best is trial 43 with value: 0.008033175537051646.\n",
            "Trial 55 finished with value: 0.037499211579281704 and parameters: {'x': 0.050849390007018325, 'y': -0.33233145527928915}. Best is trial 43 with value: 0.008033175537051646.\n",
            "Trial 55 finished with value: 0.037499211579281704 and parameters: {'x': 0.050849390007018325, 'y': -0.33233145527928915}. Best is trial 43 with value: 0.008033175537051646.\n",
            "Trial 55 finished with value: 0.037499211579281704 and parameters: {'x': 0.050849390007018325, 'y': -0.33233145527928915}. Best is trial 43 with value: 0.008033175537051646.\n"
          ]
        },
        {
          "output_type": "stream",
          "name": "stderr",
          "text": [
            "\u001b[32m[I 2022-12-24 15:44:42,675]\u001b[0m Trial 56 finished with value: 1.6116851821804816 and parameters: {'x': -2.635156709026066, 'y': -0.15834533512305665}. Best is trial 43 with value: 0.008033175537051646.\u001b[0m\n"
          ]
        },
        {
          "output_type": "stream",
          "name": "stdout",
          "text": [
            "Trial 56 finished with value: 1.6116851821804816 and parameters: {'x': -2.635156709026066, 'y': -0.15834533512305665}. Best is trial 43 with value: 0.008033175537051646.\n",
            "Trial 56 finished with value: 1.6116851821804816 and parameters: {'x': -2.635156709026066, 'y': -0.15834533512305665}. Best is trial 43 with value: 0.008033175537051646.\n",
            "Trial 56 finished with value: 1.6116851821804816 and parameters: {'x': -2.635156709026066, 'y': -0.15834533512305665}. Best is trial 43 with value: 0.008033175537051646.\n",
            "Trial 56 finished with value: 1.6116851821804816 and parameters: {'x': -2.635156709026066, 'y': -0.15834533512305665}. Best is trial 43 with value: 0.008033175537051646.\n",
            "Trial 56 finished with value: 1.6116851821804816 and parameters: {'x': -2.635156709026066, 'y': -0.15834533512305665}. Best is trial 43 with value: 0.008033175537051646.\n",
            "Trial 56 finished with value: 1.6116851821804816 and parameters: {'x': -2.635156709026066, 'y': -0.15834533512305665}. Best is trial 43 with value: 0.008033175537051646.\n",
            "Trial 56 finished with value: 1.6116851821804816 and parameters: {'x': -2.635156709026066, 'y': -0.15834533512305665}. Best is trial 43 with value: 0.008033175537051646.\n"
          ]
        },
        {
          "output_type": "stream",
          "name": "stderr",
          "text": [
            "\u001b[32m[I 2022-12-24 15:44:42,708]\u001b[0m Trial 57 finished with value: 7.508558213007105 and parameters: {'x': -0.5273804273842086, 'y': 4.883282878127668}. Best is trial 43 with value: 0.008033175537051646.\u001b[0m\n"
          ]
        },
        {
          "output_type": "stream",
          "name": "stdout",
          "text": [
            "Trial 57 finished with value: 7.508558213007105 and parameters: {'x': -0.5273804273842086, 'y': 4.883282878127668}. Best is trial 43 with value: 0.008033175537051646.\n",
            "Trial 57 finished with value: 7.508558213007105 and parameters: {'x': -0.5273804273842086, 'y': 4.883282878127668}. Best is trial 43 with value: 0.008033175537051646.\n",
            "Trial 57 finished with value: 7.508558213007105 and parameters: {'x': -0.5273804273842086, 'y': 4.883282878127668}. Best is trial 43 with value: 0.008033175537051646.\n",
            "Trial 57 finished with value: 7.508558213007105 and parameters: {'x': -0.5273804273842086, 'y': 4.883282878127668}. Best is trial 43 with value: 0.008033175537051646.\n",
            "Trial 57 finished with value: 7.508558213007105 and parameters: {'x': -0.5273804273842086, 'y': 4.883282878127668}. Best is trial 43 with value: 0.008033175537051646.\n",
            "Trial 57 finished with value: 7.508558213007105 and parameters: {'x': -0.5273804273842086, 'y': 4.883282878127668}. Best is trial 43 with value: 0.008033175537051646.\n",
            "Trial 57 finished with value: 7.508558213007105 and parameters: {'x': -0.5273804273842086, 'y': 4.883282878127668}. Best is trial 43 with value: 0.008033175537051646.\n"
          ]
        },
        {
          "output_type": "stream",
          "name": "stderr",
          "text": [
            "\u001b[32m[I 2022-12-24 15:44:42,739]\u001b[0m Trial 58 finished with value: 1.634497158721949 and parameters: {'x': 4.186304488552122, 'y': 1.9422898014250116}. Best is trial 43 with value: 0.008033175537051646.\u001b[0m\n"
          ]
        },
        {
          "output_type": "stream",
          "name": "stdout",
          "text": [
            "Trial 58 finished with value: 1.634497158721949 and parameters: {'x': 4.186304488552122, 'y': 1.9422898014250116}. Best is trial 43 with value: 0.008033175537051646.\n",
            "Trial 58 finished with value: 1.634497158721949 and parameters: {'x': 4.186304488552122, 'y': 1.9422898014250116}. Best is trial 43 with value: 0.008033175537051646.\n",
            "Trial 58 finished with value: 1.634497158721949 and parameters: {'x': 4.186304488552122, 'y': 1.9422898014250116}. Best is trial 43 with value: 0.008033175537051646.\n",
            "Trial 58 finished with value: 1.634497158721949 and parameters: {'x': 4.186304488552122, 'y': 1.9422898014250116}. Best is trial 43 with value: 0.008033175537051646.\n",
            "Trial 58 finished with value: 1.634497158721949 and parameters: {'x': 4.186304488552122, 'y': 1.9422898014250116}. Best is trial 43 with value: 0.008033175537051646.\n",
            "Trial 58 finished with value: 1.634497158721949 and parameters: {'x': 4.186304488552122, 'y': 1.9422898014250116}. Best is trial 43 with value: 0.008033175537051646.\n",
            "Trial 58 finished with value: 1.634497158721949 and parameters: {'x': 4.186304488552122, 'y': 1.9422898014250116}. Best is trial 43 with value: 0.008033175537051646.\n"
          ]
        },
        {
          "output_type": "stream",
          "name": "stderr",
          "text": [
            "\u001b[32m[I 2022-12-24 15:44:42,769]\u001b[0m Trial 59 finished with value: 1.3383298488700808 and parameters: {'x': 0.9865223369336595, 'y': -1.326204202174968}. Best is trial 43 with value: 0.008033175537051646.\u001b[0m\n"
          ]
        },
        {
          "output_type": "stream",
          "name": "stdout",
          "text": [
            "Trial 59 finished with value: 1.3383298488700808 and parameters: {'x': 0.9865223369336595, 'y': -1.326204202174968}. Best is trial 43 with value: 0.008033175537051646.\n",
            "Trial 59 finished with value: 1.3383298488700808 and parameters: {'x': 0.9865223369336595, 'y': -1.326204202174968}. Best is trial 43 with value: 0.008033175537051646.\n",
            "Trial 59 finished with value: 1.3383298488700808 and parameters: {'x': 0.9865223369336595, 'y': -1.326204202174968}. Best is trial 43 with value: 0.008033175537051646.\n",
            "Trial 59 finished with value: 1.3383298488700808 and parameters: {'x': 0.9865223369336595, 'y': -1.326204202174968}. Best is trial 43 with value: 0.008033175537051646.\n",
            "Trial 59 finished with value: 1.3383298488700808 and parameters: {'x': 0.9865223369336595, 'y': -1.326204202174968}. Best is trial 43 with value: 0.008033175537051646.\n",
            "Trial 59 finished with value: 1.3383298488700808 and parameters: {'x': 0.9865223369336595, 'y': -1.326204202174968}. Best is trial 43 with value: 0.008033175537051646.\n",
            "Trial 59 finished with value: 1.3383298488700808 and parameters: {'x': 0.9865223369336595, 'y': -1.326204202174968}. Best is trial 43 with value: 0.008033175537051646.\n"
          ]
        },
        {
          "output_type": "stream",
          "name": "stderr",
          "text": [
            "\u001b[32m[I 2022-12-24 15:44:42,800]\u001b[0m Trial 60 finished with value: 24.60241826451329 and parameters: {'x': -9.077713204195648, 'y': 0.699923453704659}. Best is trial 43 with value: 0.008033175537051646.\u001b[0m\n"
          ]
        },
        {
          "output_type": "stream",
          "name": "stdout",
          "text": [
            "Trial 60 finished with value: 24.60241826451329 and parameters: {'x': -9.077713204195648, 'y': 0.699923453704659}. Best is trial 43 with value: 0.008033175537051646.\n",
            "Trial 60 finished with value: 24.60241826451329 and parameters: {'x': -9.077713204195648, 'y': 0.699923453704659}. Best is trial 43 with value: 0.008033175537051646.\n",
            "Trial 60 finished with value: 24.60241826451329 and parameters: {'x': -9.077713204195648, 'y': 0.699923453704659}. Best is trial 43 with value: 0.008033175537051646.\n",
            "Trial 60 finished with value: 24.60241826451329 and parameters: {'x': -9.077713204195648, 'y': 0.699923453704659}. Best is trial 43 with value: 0.008033175537051646.\n",
            "Trial 60 finished with value: 24.60241826451329 and parameters: {'x': -9.077713204195648, 'y': 0.699923453704659}. Best is trial 43 with value: 0.008033175537051646.\n",
            "Trial 60 finished with value: 24.60241826451329 and parameters: {'x': -9.077713204195648, 'y': 0.699923453704659}. Best is trial 43 with value: 0.008033175537051646.\n",
            "Trial 60 finished with value: 24.60241826451329 and parameters: {'x': -9.077713204195648, 'y': 0.699923453704659}. Best is trial 43 with value: 0.008033175537051646.\n"
          ]
        },
        {
          "output_type": "stream",
          "name": "stderr",
          "text": [
            "\u001b[32m[I 2022-12-24 15:44:42,835]\u001b[0m Trial 61 finished with value: 0.19182700675431513 and parameters: {'x': 0.07737935090264503, 'y': -0.7870077882058031}. Best is trial 43 with value: 0.008033175537051646.\u001b[0m\n"
          ]
        },
        {
          "output_type": "stream",
          "name": "stdout",
          "text": [
            "Trial 61 finished with value: 0.19182700675431513 and parameters: {'x': 0.07737935090264503, 'y': -0.7870077882058031}. Best is trial 43 with value: 0.008033175537051646.\n",
            "Trial 61 finished with value: 0.19182700675431513 and parameters: {'x': 0.07737935090264503, 'y': -0.7870077882058031}. Best is trial 43 with value: 0.008033175537051646.\n",
            "Trial 61 finished with value: 0.19182700675431513 and parameters: {'x': 0.07737935090264503, 'y': -0.7870077882058031}. Best is trial 43 with value: 0.008033175537051646.\n",
            "Trial 61 finished with value: 0.19182700675431513 and parameters: {'x': 0.07737935090264503, 'y': -0.7870077882058031}. Best is trial 43 with value: 0.008033175537051646.\n",
            "Trial 61 finished with value: 0.19182700675431513 and parameters: {'x': 0.07737935090264503, 'y': -0.7870077882058031}. Best is trial 43 with value: 0.008033175537051646.\n",
            "Trial 61 finished with value: 0.19182700675431513 and parameters: {'x': 0.07737935090264503, 'y': -0.7870077882058031}. Best is trial 43 with value: 0.008033175537051646.\n",
            "Trial 61 finished with value: 0.19182700675431513 and parameters: {'x': 0.07737935090264503, 'y': -0.7870077882058031}. Best is trial 43 with value: 0.008033175537051646.\n"
          ]
        },
        {
          "output_type": "stream",
          "name": "stderr",
          "text": [
            "\u001b[32m[I 2022-12-24 15:44:42,866]\u001b[0m Trial 62 finished with value: 0.016641759174463262 and parameters: {'x': -0.10043182203598894, 'y': -0.342735641002997}. Best is trial 43 with value: 0.008033175537051646.\u001b[0m\n"
          ]
        },
        {
          "output_type": "stream",
          "name": "stdout",
          "text": [
            "Trial 62 finished with value: 0.016641759174463262 and parameters: {'x': -0.10043182203598894, 'y': -0.342735641002997}. Best is trial 43 with value: 0.008033175537051646.\n",
            "Trial 62 finished with value: 0.016641759174463262 and parameters: {'x': -0.10043182203598894, 'y': -0.342735641002997}. Best is trial 43 with value: 0.008033175537051646.\n",
            "Trial 62 finished with value: 0.016641759174463262 and parameters: {'x': -0.10043182203598894, 'y': -0.342735641002997}. Best is trial 43 with value: 0.008033175537051646.\n",
            "Trial 62 finished with value: 0.016641759174463262 and parameters: {'x': -0.10043182203598894, 'y': -0.342735641002997}. Best is trial 43 with value: 0.008033175537051646.\n",
            "Trial 62 finished with value: 0.016641759174463262 and parameters: {'x': -0.10043182203598894, 'y': -0.342735641002997}. Best is trial 43 with value: 0.008033175537051646.\n",
            "Trial 62 finished with value: 0.016641759174463262 and parameters: {'x': -0.10043182203598894, 'y': -0.342735641002997}. Best is trial 43 with value: 0.008033175537051646.\n",
            "Trial 62 finished with value: 0.016641759174463262 and parameters: {'x': -0.10043182203598894, 'y': -0.342735641002997}. Best is trial 43 with value: 0.008033175537051646.\n"
          ]
        },
        {
          "output_type": "stream",
          "name": "stderr",
          "text": [
            "\u001b[32m[I 2022-12-24 15:44:42,898]\u001b[0m Trial 63 finished with value: 0.7698764408205934 and parameters: {'x': -1.449298527316946, 'y': 0.2901734989091495}. Best is trial 43 with value: 0.008033175537051646.\u001b[0m\n"
          ]
        },
        {
          "output_type": "stream",
          "name": "stdout",
          "text": [
            "Trial 63 finished with value: 0.7698764408205934 and parameters: {'x': -1.449298527316946, 'y': 0.2901734989091495}. Best is trial 43 with value: 0.008033175537051646.\n",
            "Trial 63 finished with value: 0.7698764408205934 and parameters: {'x': -1.449298527316946, 'y': 0.2901734989091495}. Best is trial 43 with value: 0.008033175537051646.\n",
            "Trial 63 finished with value: 0.7698764408205934 and parameters: {'x': -1.449298527316946, 'y': 0.2901734989091495}. Best is trial 43 with value: 0.008033175537051646.\n",
            "Trial 63 finished with value: 0.7698764408205934 and parameters: {'x': -1.449298527316946, 'y': 0.2901734989091495}. Best is trial 43 with value: 0.008033175537051646.\n",
            "Trial 63 finished with value: 0.7698764408205934 and parameters: {'x': -1.449298527316946, 'y': 0.2901734989091495}. Best is trial 43 with value: 0.008033175537051646.\n",
            "Trial 63 finished with value: 0.7698764408205934 and parameters: {'x': -1.449298527316946, 'y': 0.2901734989091495}. Best is trial 43 with value: 0.008033175537051646.\n",
            "Trial 63 finished with value: 0.7698764408205934 and parameters: {'x': -1.449298527316946, 'y': 0.2901734989091495}. Best is trial 43 with value: 0.008033175537051646.\n"
          ]
        },
        {
          "output_type": "stream",
          "name": "stderr",
          "text": [
            "\u001b[32m[I 2022-12-24 15:44:42,933]\u001b[0m Trial 64 finished with value: 2.9538474921107865 and parameters: {'x': -0.5330354433022887, 'y': 2.872327742897579}. Best is trial 43 with value: 0.008033175537051646.\u001b[0m\n"
          ]
        },
        {
          "output_type": "stream",
          "name": "stdout",
          "text": [
            "Trial 64 finished with value: 2.9538474921107865 and parameters: {'x': -0.5330354433022887, 'y': 2.872327742897579}. Best is trial 43 with value: 0.008033175537051646.\n",
            "Trial 64 finished with value: 2.9538474921107865 and parameters: {'x': -0.5330354433022887, 'y': 2.872327742897579}. Best is trial 43 with value: 0.008033175537051646.\n",
            "Trial 64 finished with value: 2.9538474921107865 and parameters: {'x': -0.5330354433022887, 'y': 2.872327742897579}. Best is trial 43 with value: 0.008033175537051646.\n",
            "Trial 64 finished with value: 2.9538474921107865 and parameters: {'x': -0.5330354433022887, 'y': 2.872327742897579}. Best is trial 43 with value: 0.008033175537051646.\n",
            "Trial 64 finished with value: 2.9538474921107865 and parameters: {'x': -0.5330354433022887, 'y': 2.872327742897579}. Best is trial 43 with value: 0.008033175537051646.\n",
            "Trial 64 finished with value: 2.9538474921107865 and parameters: {'x': -0.5330354433022887, 'y': 2.872327742897579}. Best is trial 43 with value: 0.008033175537051646.\n",
            "Trial 64 finished with value: 2.9538474921107865 and parameters: {'x': -0.5330354433022887, 'y': 2.872327742897579}. Best is trial 43 with value: 0.008033175537051646.\n"
          ]
        },
        {
          "output_type": "stream",
          "name": "stderr",
          "text": [
            "\u001b[32m[I 2022-12-24 15:44:42,963]\u001b[0m Trial 65 finished with value: 4.189175393298999 and parameters: {'x': 1.2622332281294764, 'y': -2.8193977111047905}. Best is trial 43 with value: 0.008033175537051646.\u001b[0m\n"
          ]
        },
        {
          "output_type": "stream",
          "name": "stdout",
          "text": [
            "Trial 65 finished with value: 4.189175393298999 and parameters: {'x': 1.2622332281294764, 'y': -2.8193977111047905}. Best is trial 43 with value: 0.008033175537051646.\n",
            "Trial 65 finished with value: 4.189175393298999 and parameters: {'x': 1.2622332281294764, 'y': -2.8193977111047905}. Best is trial 43 with value: 0.008033175537051646.\n",
            "Trial 65 finished with value: 4.189175393298999 and parameters: {'x': 1.2622332281294764, 'y': -2.8193977111047905}. Best is trial 43 with value: 0.008033175537051646.\n",
            "Trial 65 finished with value: 4.189175393298999 and parameters: {'x': 1.2622332281294764, 'y': -2.8193977111047905}. Best is trial 43 with value: 0.008033175537051646.\n",
            "Trial 65 finished with value: 4.189175393298999 and parameters: {'x': 1.2622332281294764, 'y': -2.8193977111047905}. Best is trial 43 with value: 0.008033175537051646.\n",
            "Trial 65 finished with value: 4.189175393298999 and parameters: {'x': 1.2622332281294764, 'y': -2.8193977111047905}. Best is trial 43 with value: 0.008033175537051646.\n",
            "Trial 65 finished with value: 4.189175393298999 and parameters: {'x': 1.2622332281294764, 'y': -2.8193977111047905}. Best is trial 43 with value: 0.008033175537051646.\n"
          ]
        },
        {
          "output_type": "stream",
          "name": "stderr",
          "text": [
            "\u001b[32m[I 2022-12-24 15:44:43,000]\u001b[0m Trial 66 finished with value: 0.20635698176311568 and parameters: {'x': -2.2632565455820233, 'y': -1.899582604367854}. Best is trial 43 with value: 0.008033175537051646.\u001b[0m\n"
          ]
        },
        {
          "output_type": "stream",
          "name": "stdout",
          "text": [
            "Trial 66 finished with value: 0.20635698176311568 and parameters: {'x': -2.2632565455820233, 'y': -1.899582604367854}. Best is trial 43 with value: 0.008033175537051646.\n",
            "Trial 66 finished with value: 0.20635698176311568 and parameters: {'x': -2.2632565455820233, 'y': -1.899582604367854}. Best is trial 43 with value: 0.008033175537051646.\n",
            "Trial 66 finished with value: 0.20635698176311568 and parameters: {'x': -2.2632565455820233, 'y': -1.899582604367854}. Best is trial 43 with value: 0.008033175537051646.\n",
            "Trial 66 finished with value: 0.20635698176311568 and parameters: {'x': -2.2632565455820233, 'y': -1.899582604367854}. Best is trial 43 with value: 0.008033175537051646.\n",
            "Trial 66 finished with value: 0.20635698176311568 and parameters: {'x': -2.2632565455820233, 'y': -1.899582604367854}. Best is trial 43 with value: 0.008033175537051646.\n",
            "Trial 66 finished with value: 0.20635698176311568 and parameters: {'x': -2.2632565455820233, 'y': -1.899582604367854}. Best is trial 43 with value: 0.008033175537051646.\n",
            "Trial 66 finished with value: 0.20635698176311568 and parameters: {'x': -2.2632565455820233, 'y': -1.899582604367854}. Best is trial 43 with value: 0.008033175537051646.\n"
          ]
        },
        {
          "output_type": "stream",
          "name": "stderr",
          "text": [
            "\u001b[32m[I 2022-12-24 15:44:43,032]\u001b[0m Trial 67 finished with value: 2.7470116738230876 and parameters: {'x': 2.908129344336073, 'y': -0.367516886384264}. Best is trial 43 with value: 0.008033175537051646.\u001b[0m\n"
          ]
        },
        {
          "output_type": "stream",
          "name": "stdout",
          "text": [
            "Trial 67 finished with value: 2.7470116738230876 and parameters: {'x': 2.908129344336073, 'y': -0.367516886384264}. Best is trial 43 with value: 0.008033175537051646.\n",
            "Trial 67 finished with value: 2.7470116738230876 and parameters: {'x': 2.908129344336073, 'y': -0.367516886384264}. Best is trial 43 with value: 0.008033175537051646.\n",
            "Trial 67 finished with value: 2.7470116738230876 and parameters: {'x': 2.908129344336073, 'y': -0.367516886384264}. Best is trial 43 with value: 0.008033175537051646.\n",
            "Trial 67 finished with value: 2.7470116738230876 and parameters: {'x': 2.908129344336073, 'y': -0.367516886384264}. Best is trial 43 with value: 0.008033175537051646.\n",
            "Trial 67 finished with value: 2.7470116738230876 and parameters: {'x': 2.908129344336073, 'y': -0.367516886384264}. Best is trial 43 with value: 0.008033175537051646.\n",
            "Trial 67 finished with value: 2.7470116738230876 and parameters: {'x': 2.908129344336073, 'y': -0.367516886384264}. Best is trial 43 with value: 0.008033175537051646.\n",
            "Trial 67 finished with value: 2.7470116738230876 and parameters: {'x': 2.908129344336073, 'y': -0.367516886384264}. Best is trial 43 with value: 0.008033175537051646.\n"
          ]
        },
        {
          "output_type": "stream",
          "name": "stderr",
          "text": [
            "\u001b[32m[I 2022-12-24 15:44:43,066]\u001b[0m Trial 68 finished with value: 0.6269843730277341 and parameters: {'x': 0.08747806882507808, 'y': 1.633278002153623}. Best is trial 43 with value: 0.008033175537051646.\u001b[0m\n"
          ]
        },
        {
          "output_type": "stream",
          "name": "stdout",
          "text": [
            "Trial 68 finished with value: 0.6269843730277341 and parameters: {'x': 0.08747806882507808, 'y': 1.633278002153623}. Best is trial 43 with value: 0.008033175537051646.\n",
            "Trial 68 finished with value: 0.6269843730277341 and parameters: {'x': 0.08747806882507808, 'y': 1.633278002153623}. Best is trial 43 with value: 0.008033175537051646.\n",
            "Trial 68 finished with value: 0.6269843730277341 and parameters: {'x': 0.08747806882507808, 'y': 1.633278002153623}. Best is trial 43 with value: 0.008033175537051646.\n",
            "Trial 68 finished with value: 0.6269843730277341 and parameters: {'x': 0.08747806882507808, 'y': 1.633278002153623}. Best is trial 43 with value: 0.008033175537051646.\n",
            "Trial 68 finished with value: 0.6269843730277341 and parameters: {'x': 0.08747806882507808, 'y': 1.633278002153623}. Best is trial 43 with value: 0.008033175537051646.\n",
            "Trial 68 finished with value: 0.6269843730277341 and parameters: {'x': 0.08747806882507808, 'y': 1.633278002153623}. Best is trial 43 with value: 0.008033175537051646.\n",
            "Trial 68 finished with value: 0.6269843730277341 and parameters: {'x': 0.08747806882507808, 'y': 1.633278002153623}. Best is trial 43 with value: 0.008033175537051646.\n"
          ]
        },
        {
          "output_type": "stream",
          "name": "stderr",
          "text": [
            "\u001b[32m[I 2022-12-24 15:44:43,098]\u001b[0m Trial 69 finished with value: 0.07350035360127549 and parameters: {'x': -0.9406931845000206, 'y': -1.2579355048978091}. Best is trial 43 with value: 0.008033175537051646.\u001b[0m\n"
          ]
        },
        {
          "output_type": "stream",
          "name": "stdout",
          "text": [
            "Trial 69 finished with value: 0.07350035360127549 and parameters: {'x': -0.9406931845000206, 'y': -1.2579355048978091}. Best is trial 43 with value: 0.008033175537051646.\n",
            "Trial 69 finished with value: 0.07350035360127549 and parameters: {'x': -0.9406931845000206, 'y': -1.2579355048978091}. Best is trial 43 with value: 0.008033175537051646.\n",
            "Trial 69 finished with value: 0.07350035360127549 and parameters: {'x': -0.9406931845000206, 'y': -1.2579355048978091}. Best is trial 43 with value: 0.008033175537051646.\n",
            "Trial 69 finished with value: 0.07350035360127549 and parameters: {'x': -0.9406931845000206, 'y': -1.2579355048978091}. Best is trial 43 with value: 0.008033175537051646.\n",
            "Trial 69 finished with value: 0.07350035360127549 and parameters: {'x': -0.9406931845000206, 'y': -1.2579355048978091}. Best is trial 43 with value: 0.008033175537051646.\n",
            "Trial 69 finished with value: 0.07350035360127549 and parameters: {'x': -0.9406931845000206, 'y': -1.2579355048978091}. Best is trial 43 with value: 0.008033175537051646.\n",
            "Trial 69 finished with value: 0.07350035360127549 and parameters: {'x': -0.9406931845000206, 'y': -1.2579355048978091}. Best is trial 43 with value: 0.008033175537051646.\n"
          ]
        },
        {
          "output_type": "stream",
          "name": "stderr",
          "text": [
            "\u001b[32m[I 2022-12-24 15:44:43,127]\u001b[0m Trial 70 finished with value: 0.9840826075478755 and parameters: {'x': -1.198338710280054, 'y': 0.7839482650460343}. Best is trial 43 with value: 0.008033175537051646.\u001b[0m\n"
          ]
        },
        {
          "output_type": "stream",
          "name": "stdout",
          "text": [
            "Trial 70 finished with value: 0.9840826075478755 and parameters: {'x': -1.198338710280054, 'y': 0.7839482650460343}. Best is trial 43 with value: 0.008033175537051646.\n",
            "Trial 70 finished with value: 0.9840826075478755 and parameters: {'x': -1.198338710280054, 'y': 0.7839482650460343}. Best is trial 43 with value: 0.008033175537051646.\n",
            "Trial 70 finished with value: 0.9840826075478755 and parameters: {'x': -1.198338710280054, 'y': 0.7839482650460343}. Best is trial 43 with value: 0.008033175537051646.\n",
            "Trial 70 finished with value: 0.9840826075478755 and parameters: {'x': -1.198338710280054, 'y': 0.7839482650460343}. Best is trial 43 with value: 0.008033175537051646.\n",
            "Trial 70 finished with value: 0.9840826075478755 and parameters: {'x': -1.198338710280054, 'y': 0.7839482650460343}. Best is trial 43 with value: 0.008033175537051646.\n",
            "Trial 70 finished with value: 0.9840826075478755 and parameters: {'x': -1.198338710280054, 'y': 0.7839482650460343}. Best is trial 43 with value: 0.008033175537051646.\n",
            "Trial 70 finished with value: 0.9840826075478755 and parameters: {'x': -1.198338710280054, 'y': 0.7839482650460343}. Best is trial 43 with value: 0.008033175537051646.\n"
          ]
        },
        {
          "output_type": "stream",
          "name": "stderr",
          "text": [
            "\u001b[32m[I 2022-12-24 15:44:43,161]\u001b[0m Trial 71 finished with value: 0.6907791939475061 and parameters: {'x': 0.44421588893828035, 'y': -1.2109581288885658}. Best is trial 43 with value: 0.008033175537051646.\u001b[0m\n"
          ]
        },
        {
          "output_type": "stream",
          "name": "stdout",
          "text": [
            "Trial 71 finished with value: 0.6907791939475061 and parameters: {'x': 0.44421588893828035, 'y': -1.2109581288885658}. Best is trial 43 with value: 0.008033175537051646.\n",
            "Trial 71 finished with value: 0.6907791939475061 and parameters: {'x': 0.44421588893828035, 'y': -1.2109581288885658}. Best is trial 43 with value: 0.008033175537051646.\n",
            "Trial 71 finished with value: 0.6907791939475061 and parameters: {'x': 0.44421588893828035, 'y': -1.2109581288885658}. Best is trial 43 with value: 0.008033175537051646.\n",
            "Trial 71 finished with value: 0.6907791939475061 and parameters: {'x': 0.44421588893828035, 'y': -1.2109581288885658}. Best is trial 43 with value: 0.008033175537051646.\n",
            "Trial 71 finished with value: 0.6907791939475061 and parameters: {'x': 0.44421588893828035, 'y': -1.2109581288885658}. Best is trial 43 with value: 0.008033175537051646.\n",
            "Trial 71 finished with value: 0.6907791939475061 and parameters: {'x': 0.44421588893828035, 'y': -1.2109581288885658}. Best is trial 43 with value: 0.008033175537051646.\n",
            "Trial 71 finished with value: 0.6907791939475061 and parameters: {'x': 0.44421588893828035, 'y': -1.2109581288885658}. Best is trial 43 with value: 0.008033175537051646.\n"
          ]
        },
        {
          "output_type": "stream",
          "name": "stderr",
          "text": [
            "\u001b[32m[I 2022-12-24 15:44:43,190]\u001b[0m Trial 72 finished with value: 0.027851833922759195 and parameters: {'x': -0.6891654968442841, 'y': -0.4441535522110241}. Best is trial 43 with value: 0.008033175537051646.\u001b[0m\n"
          ]
        },
        {
          "output_type": "stream",
          "name": "stdout",
          "text": [
            "Trial 72 finished with value: 0.027851833922759195 and parameters: {'x': -0.6891654968442841, 'y': -0.4441535522110241}. Best is trial 43 with value: 0.008033175537051646.\n",
            "Trial 72 finished with value: 0.027851833922759195 and parameters: {'x': -0.6891654968442841, 'y': -0.4441535522110241}. Best is trial 43 with value: 0.008033175537051646.\n",
            "Trial 72 finished with value: 0.027851833922759195 and parameters: {'x': -0.6891654968442841, 'y': -0.4441535522110241}. Best is trial 43 with value: 0.008033175537051646.\n",
            "Trial 72 finished with value: 0.027851833922759195 and parameters: {'x': -0.6891654968442841, 'y': -0.4441535522110241}. Best is trial 43 with value: 0.008033175537051646.\n",
            "Trial 72 finished with value: 0.027851833922759195 and parameters: {'x': -0.6891654968442841, 'y': -0.4441535522110241}. Best is trial 43 with value: 0.008033175537051646.\n",
            "Trial 72 finished with value: 0.027851833922759195 and parameters: {'x': -0.6891654968442841, 'y': -0.4441535522110241}. Best is trial 43 with value: 0.008033175537051646.\n",
            "Trial 72 finished with value: 0.027851833922759195 and parameters: {'x': -0.6891654968442841, 'y': -0.4441535522110241}. Best is trial 43 with value: 0.008033175537051646.\n"
          ]
        },
        {
          "output_type": "stream",
          "name": "stderr",
          "text": [
            "\u001b[32m[I 2022-12-24 15:44:43,223]\u001b[0m Trial 73 finished with value: 0.27242446476956206 and parameters: {'x': -0.8786473145270743, 'y': 0.15516146274714626}. Best is trial 43 with value: 0.008033175537051646.\u001b[0m\n"
          ]
        },
        {
          "output_type": "stream",
          "name": "stdout",
          "text": [
            "Trial 73 finished with value: 0.27242446476956206 and parameters: {'x': -0.8786473145270743, 'y': 0.15516146274714626}. Best is trial 43 with value: 0.008033175537051646.\n",
            "Trial 73 finished with value: 0.27242446476956206 and parameters: {'x': -0.8786473145270743, 'y': 0.15516146274714626}. Best is trial 43 with value: 0.008033175537051646.\n",
            "Trial 73 finished with value: 0.27242446476956206 and parameters: {'x': -0.8786473145270743, 'y': 0.15516146274714626}. Best is trial 43 with value: 0.008033175537051646.\n",
            "Trial 73 finished with value: 0.27242446476956206 and parameters: {'x': -0.8786473145270743, 'y': 0.15516146274714626}. Best is trial 43 with value: 0.008033175537051646.\n",
            "Trial 73 finished with value: 0.27242446476956206 and parameters: {'x': -0.8786473145270743, 'y': 0.15516146274714626}. Best is trial 43 with value: 0.008033175537051646.\n",
            "Trial 73 finished with value: 0.27242446476956206 and parameters: {'x': -0.8786473145270743, 'y': 0.15516146274714626}. Best is trial 43 with value: 0.008033175537051646.\n",
            "Trial 73 finished with value: 0.27242446476956206 and parameters: {'x': -0.8786473145270743, 'y': 0.15516146274714626}. Best is trial 43 with value: 0.008033175537051646.\n"
          ]
        },
        {
          "output_type": "stream",
          "name": "stderr",
          "text": [
            "\u001b[32m[I 2022-12-24 15:44:43,253]\u001b[0m Trial 74 finished with value: 5.215653052433225 and parameters: {'x': -2.013894287494492, 'y': 2.5523966382418966}. Best is trial 43 with value: 0.008033175537051646.\u001b[0m\n"
          ]
        },
        {
          "output_type": "stream",
          "name": "stdout",
          "text": [
            "Trial 74 finished with value: 5.215653052433225 and parameters: {'x': -2.013894287494492, 'y': 2.5523966382418966}. Best is trial 43 with value: 0.008033175537051646.\n",
            "Trial 74 finished with value: 5.215653052433225 and parameters: {'x': -2.013894287494492, 'y': 2.5523966382418966}. Best is trial 43 with value: 0.008033175537051646.\n",
            "Trial 74 finished with value: 5.215653052433225 and parameters: {'x': -2.013894287494492, 'y': 2.5523966382418966}. Best is trial 43 with value: 0.008033175537051646.\n",
            "Trial 74 finished with value: 5.215653052433225 and parameters: {'x': -2.013894287494492, 'y': 2.5523966382418966}. Best is trial 43 with value: 0.008033175537051646.\n",
            "Trial 74 finished with value: 5.215653052433225 and parameters: {'x': -2.013894287494492, 'y': 2.5523966382418966}. Best is trial 43 with value: 0.008033175537051646.\n",
            "Trial 74 finished with value: 5.215653052433225 and parameters: {'x': -2.013894287494492, 'y': 2.5523966382418966}. Best is trial 43 with value: 0.008033175537051646.\n",
            "Trial 74 finished with value: 5.215653052433225 and parameters: {'x': -2.013894287494492, 'y': 2.5523966382418966}. Best is trial 43 with value: 0.008033175537051646.\n"
          ]
        },
        {
          "output_type": "stream",
          "name": "stderr",
          "text": [
            "\u001b[32m[I 2022-12-24 15:44:43,282]\u001b[0m Trial 75 finished with value: 3.832752350186695 and parameters: {'x': -8.216074909094253, 'y': -9.764796801900356}. Best is trial 43 with value: 0.008033175537051646.\u001b[0m\n"
          ]
        },
        {
          "output_type": "stream",
          "name": "stdout",
          "text": [
            "Trial 75 finished with value: 3.832752350186695 and parameters: {'x': -8.216074909094253, 'y': -9.764796801900356}. Best is trial 43 with value: 0.008033175537051646.\n",
            "Trial 75 finished with value: 3.832752350186695 and parameters: {'x': -8.216074909094253, 'y': -9.764796801900356}. Best is trial 43 with value: 0.008033175537051646.\n",
            "Trial 75 finished with value: 3.832752350186695 and parameters: {'x': -8.216074909094253, 'y': -9.764796801900356}. Best is trial 43 with value: 0.008033175537051646.\n",
            "Trial 75 finished with value: 3.832752350186695 and parameters: {'x': -8.216074909094253, 'y': -9.764796801900356}. Best is trial 43 with value: 0.008033175537051646.\n",
            "Trial 75 finished with value: 3.832752350186695 and parameters: {'x': -8.216074909094253, 'y': -9.764796801900356}. Best is trial 43 with value: 0.008033175537051646.\n",
            "Trial 75 finished with value: 3.832752350186695 and parameters: {'x': -8.216074909094253, 'y': -9.764796801900356}. Best is trial 43 with value: 0.008033175537051646.\n",
            "Trial 75 finished with value: 3.832752350186695 and parameters: {'x': -8.216074909094253, 'y': -9.764796801900356}. Best is trial 43 with value: 0.008033175537051646.\n"
          ]
        },
        {
          "output_type": "stream",
          "name": "stderr",
          "text": [
            "\u001b[32m[I 2022-12-24 15:44:43,314]\u001b[0m Trial 76 finished with value: 5.17737644419231 and parameters: {'x': 2.4150361172148713, 'y': -2.135389983532828}. Best is trial 43 with value: 0.008033175537051646.\u001b[0m\n"
          ]
        },
        {
          "output_type": "stream",
          "name": "stdout",
          "text": [
            "Trial 76 finished with value: 5.17737644419231 and parameters: {'x': 2.4150361172148713, 'y': -2.135389983532828}. Best is trial 43 with value: 0.008033175537051646.\n",
            "Trial 76 finished with value: 5.17737644419231 and parameters: {'x': 2.4150361172148713, 'y': -2.135389983532828}. Best is trial 43 with value: 0.008033175537051646.\n",
            "Trial 76 finished with value: 5.17737644419231 and parameters: {'x': 2.4150361172148713, 'y': -2.135389983532828}. Best is trial 43 with value: 0.008033175537051646.\n",
            "Trial 76 finished with value: 5.17737644419231 and parameters: {'x': 2.4150361172148713, 'y': -2.135389983532828}. Best is trial 43 with value: 0.008033175537051646.\n",
            "Trial 76 finished with value: 5.17737644419231 and parameters: {'x': 2.4150361172148713, 'y': -2.135389983532828}. Best is trial 43 with value: 0.008033175537051646.\n",
            "Trial 76 finished with value: 5.17737644419231 and parameters: {'x': 2.4150361172148713, 'y': -2.135389983532828}. Best is trial 43 with value: 0.008033175537051646.\n",
            "Trial 76 finished with value: 5.17737644419231 and parameters: {'x': 2.4150361172148713, 'y': -2.135389983532828}. Best is trial 43 with value: 0.008033175537051646.\n"
          ]
        },
        {
          "output_type": "stream",
          "name": "stderr",
          "text": [
            "\u001b[32m[I 2022-12-24 15:44:43,347]\u001b[0m Trial 77 finished with value: 7.361964206907286 and parameters: {'x': -4.222338097763484, 'y': 1.1697984828134178}. Best is trial 43 with value: 0.008033175537051646.\u001b[0m\n"
          ]
        },
        {
          "output_type": "stream",
          "name": "stdout",
          "text": [
            "Trial 77 finished with value: 7.361964206907286 and parameters: {'x': -4.222338097763484, 'y': 1.1697984828134178}. Best is trial 43 with value: 0.008033175537051646.\n",
            "Trial 77 finished with value: 7.361964206907286 and parameters: {'x': -4.222338097763484, 'y': 1.1697984828134178}. Best is trial 43 with value: 0.008033175537051646.\n",
            "Trial 77 finished with value: 7.361964206907286 and parameters: {'x': -4.222338097763484, 'y': 1.1697984828134178}. Best is trial 43 with value: 0.008033175537051646.\n",
            "Trial 77 finished with value: 7.361964206907286 and parameters: {'x': -4.222338097763484, 'y': 1.1697984828134178}. Best is trial 43 with value: 0.008033175537051646.\n",
            "Trial 77 finished with value: 7.361964206907286 and parameters: {'x': -4.222338097763484, 'y': 1.1697984828134178}. Best is trial 43 with value: 0.008033175537051646.\n",
            "Trial 77 finished with value: 7.361964206907286 and parameters: {'x': -4.222338097763484, 'y': 1.1697984828134178}. Best is trial 43 with value: 0.008033175537051646.\n",
            "Trial 77 finished with value: 7.361964206907286 and parameters: {'x': -4.222338097763484, 'y': 1.1697984828134178}. Best is trial 43 with value: 0.008033175537051646.\n"
          ]
        },
        {
          "output_type": "stream",
          "name": "stderr",
          "text": [
            "\u001b[32m[I 2022-12-24 15:44:43,381]\u001b[0m Trial 78 finished with value: 4.055748502344099 and parameters: {'x': -0.4496292670740836, 'y': 3.530730834064014}. Best is trial 43 with value: 0.008033175537051646.\u001b[0m\n"
          ]
        },
        {
          "output_type": "stream",
          "name": "stdout",
          "text": [
            "Trial 78 finished with value: 4.055748502344099 and parameters: {'x': -0.4496292670740836, 'y': 3.530730834064014}. Best is trial 43 with value: 0.008033175537051646.\n",
            "Trial 78 finished with value: 4.055748502344099 and parameters: {'x': -0.4496292670740836, 'y': 3.530730834064014}. Best is trial 43 with value: 0.008033175537051646.\n",
            "Trial 78 finished with value: 4.055748502344099 and parameters: {'x': -0.4496292670740836, 'y': 3.530730834064014}. Best is trial 43 with value: 0.008033175537051646.\n",
            "Trial 78 finished with value: 4.055748502344099 and parameters: {'x': -0.4496292670740836, 'y': 3.530730834064014}. Best is trial 43 with value: 0.008033175537051646.\n",
            "Trial 78 finished with value: 4.055748502344099 and parameters: {'x': -0.4496292670740836, 'y': 3.530730834064014}. Best is trial 43 with value: 0.008033175537051646.\n",
            "Trial 78 finished with value: 4.055748502344099 and parameters: {'x': -0.4496292670740836, 'y': 3.530730834064014}. Best is trial 43 with value: 0.008033175537051646.\n",
            "Trial 78 finished with value: 4.055748502344099 and parameters: {'x': -0.4496292670740836, 'y': 3.530730834064014}. Best is trial 43 with value: 0.008033175537051646.\n"
          ]
        },
        {
          "output_type": "stream",
          "name": "stderr",
          "text": [
            "\u001b[32m[I 2022-12-24 15:44:43,422]\u001b[0m Trial 79 finished with value: 1.1583453916584623 and parameters: {'x': 3.574023080919406, 'y': 1.697354578040251}. Best is trial 43 with value: 0.008033175537051646.\u001b[0m\n"
          ]
        },
        {
          "output_type": "stream",
          "name": "stdout",
          "text": [
            "Trial 79 finished with value: 1.1583453916584623 and parameters: {'x': 3.574023080919406, 'y': 1.697354578040251}. Best is trial 43 with value: 0.008033175537051646.\n",
            "Trial 79 finished with value: 1.1583453916584623 and parameters: {'x': 3.574023080919406, 'y': 1.697354578040251}. Best is trial 43 with value: 0.008033175537051646.\n",
            "Trial 79 finished with value: 1.1583453916584623 and parameters: {'x': 3.574023080919406, 'y': 1.697354578040251}. Best is trial 43 with value: 0.008033175537051646.\n",
            "Trial 79 finished with value: 1.1583453916584623 and parameters: {'x': 3.574023080919406, 'y': 1.697354578040251}. Best is trial 43 with value: 0.008033175537051646.\n",
            "Trial 79 finished with value: 1.1583453916584623 and parameters: {'x': 3.574023080919406, 'y': 1.697354578040251}. Best is trial 43 with value: 0.008033175537051646.\n",
            "Trial 79 finished with value: 1.1583453916584623 and parameters: {'x': 3.574023080919406, 'y': 1.697354578040251}. Best is trial 43 with value: 0.008033175537051646.\n",
            "Trial 79 finished with value: 1.1583453916584623 and parameters: {'x': 3.574023080919406, 'y': 1.697354578040251}. Best is trial 43 with value: 0.008033175537051646.\n"
          ]
        },
        {
          "output_type": "stream",
          "name": "stderr",
          "text": [
            "\u001b[32m[I 2022-12-24 15:44:43,467]\u001b[0m Trial 80 finished with value: 0.23051067597900127 and parameters: {'x': 1.3862745048702303, 'y': 0.5035607256808966}. Best is trial 43 with value: 0.008033175537051646.\u001b[0m\n"
          ]
        },
        {
          "output_type": "stream",
          "name": "stdout",
          "text": [
            "Trial 80 finished with value: 0.23051067597900127 and parameters: {'x': 1.3862745048702303, 'y': 0.5035607256808966}. Best is trial 43 with value: 0.008033175537051646.\n",
            "Trial 80 finished with value: 0.23051067597900127 and parameters: {'x': 1.3862745048702303, 'y': 0.5035607256808966}. Best is trial 43 with value: 0.008033175537051646.\n",
            "Trial 80 finished with value: 0.23051067597900127 and parameters: {'x': 1.3862745048702303, 'y': 0.5035607256808966}. Best is trial 43 with value: 0.008033175537051646.\n",
            "Trial 80 finished with value: 0.23051067597900127 and parameters: {'x': 1.3862745048702303, 'y': 0.5035607256808966}. Best is trial 43 with value: 0.008033175537051646.\n",
            "Trial 80 finished with value: 0.23051067597900127 and parameters: {'x': 1.3862745048702303, 'y': 0.5035607256808966}. Best is trial 43 with value: 0.008033175537051646.\n",
            "Trial 80 finished with value: 0.23051067597900127 and parameters: {'x': 1.3862745048702303, 'y': 0.5035607256808966}. Best is trial 43 with value: 0.008033175537051646.\n",
            "Trial 80 finished with value: 0.23051067597900127 and parameters: {'x': 1.3862745048702303, 'y': 0.5035607256808966}. Best is trial 43 with value: 0.008033175537051646.\n"
          ]
        },
        {
          "output_type": "stream",
          "name": "stderr",
          "text": [
            "\u001b[32m[I 2022-12-24 15:44:43,515]\u001b[0m Trial 81 finished with value: 0.204215964848637 and parameters: {'x': 0.6190929885968656, 'y': -0.2821971461816539}. Best is trial 43 with value: 0.008033175537051646.\u001b[0m\n"
          ]
        },
        {
          "output_type": "stream",
          "name": "stdout",
          "text": [
            "Trial 81 finished with value: 0.204215964848637 and parameters: {'x': 0.6190929885968656, 'y': -0.2821971461816539}. Best is trial 43 with value: 0.008033175537051646.\n",
            "Trial 81 finished with value: 0.204215964848637 and parameters: {'x': 0.6190929885968656, 'y': -0.2821971461816539}. Best is trial 43 with value: 0.008033175537051646.\n",
            "Trial 81 finished with value: 0.204215964848637 and parameters: {'x': 0.6190929885968656, 'y': -0.2821971461816539}. Best is trial 43 with value: 0.008033175537051646.\n",
            "Trial 81 finished with value: 0.204215964848637 and parameters: {'x': 0.6190929885968656, 'y': -0.2821971461816539}. Best is trial 43 with value: 0.008033175537051646.\n",
            "Trial 81 finished with value: 0.204215964848637 and parameters: {'x': 0.6190929885968656, 'y': -0.2821971461816539}. Best is trial 43 with value: 0.008033175537051646.\n",
            "Trial 81 finished with value: 0.204215964848637 and parameters: {'x': 0.6190929885968656, 'y': -0.2821971461816539}. Best is trial 43 with value: 0.008033175537051646.\n",
            "Trial 81 finished with value: 0.204215964848637 and parameters: {'x': 0.6190929885968656, 'y': -0.2821971461816539}. Best is trial 43 with value: 0.008033175537051646.\n"
          ]
        },
        {
          "output_type": "stream",
          "name": "stderr",
          "text": [
            "\u001b[32m[I 2022-12-24 15:44:43,599]\u001b[0m Trial 82 finished with value: 1.8408625034383146 and parameters: {'x': 2.011810679465796, 'y': -0.6888260001497832}. Best is trial 43 with value: 0.008033175537051646.\u001b[0m\n"
          ]
        },
        {
          "output_type": "stream",
          "name": "stdout",
          "text": [
            "Trial 82 finished with value: 1.8408625034383146 and parameters: {'x': 2.011810679465796, 'y': -0.6888260001497832}. Best is trial 43 with value: 0.008033175537051646.\n",
            "Trial 82 finished with value: 1.8408625034383146 and parameters: {'x': 2.011810679465796, 'y': -0.6888260001497832}. Best is trial 43 with value: 0.008033175537051646.\n",
            "Trial 82 finished with value: 1.8408625034383146 and parameters: {'x': 2.011810679465796, 'y': -0.6888260001497832}. Best is trial 43 with value: 0.008033175537051646.\n",
            "Trial 82 finished with value: 1.8408625034383146 and parameters: {'x': 2.011810679465796, 'y': -0.6888260001497832}. Best is trial 43 with value: 0.008033175537051646.\n",
            "Trial 82 finished with value: 1.8408625034383146 and parameters: {'x': 2.011810679465796, 'y': -0.6888260001497832}. Best is trial 43 with value: 0.008033175537051646.\n",
            "Trial 82 finished with value: 1.8408625034383146 and parameters: {'x': 2.011810679465796, 'y': -0.6888260001497832}. Best is trial 43 with value: 0.008033175537051646.\n",
            "Trial 82 finished with value: 1.8408625034383146 and parameters: {'x': 2.011810679465796, 'y': -0.6888260001497832}. Best is trial 43 with value: 0.008033175537051646.\n"
          ]
        },
        {
          "output_type": "stream",
          "name": "stderr",
          "text": [
            "\u001b[32m[I 2022-12-24 15:44:43,741]\u001b[0m Trial 83 finished with value: 30.278323450020427 and parameters: {'x': 9.590710778284167, 'y': -1.2884525219843688}. Best is trial 43 with value: 0.008033175537051646.\u001b[0m\n"
          ]
        },
        {
          "output_type": "stream",
          "name": "stdout",
          "text": [
            "Trial 83 finished with value: 30.278323450020427 and parameters: {'x': 9.590710778284167, 'y': -1.2884525219843688}. Best is trial 43 with value: 0.008033175537051646.\n",
            "Trial 83 finished with value: 30.278323450020427 and parameters: {'x': 9.590710778284167, 'y': -1.2884525219843688}. Best is trial 43 with value: 0.008033175537051646.\n",
            "Trial 83 finished with value: 30.278323450020427 and parameters: {'x': 9.590710778284167, 'y': -1.2884525219843688}. Best is trial 43 with value: 0.008033175537051646.\n",
            "Trial 83 finished with value: 30.278323450020427 and parameters: {'x': 9.590710778284167, 'y': -1.2884525219843688}. Best is trial 43 with value: 0.008033175537051646.\n",
            "Trial 83 finished with value: 30.278323450020427 and parameters: {'x': 9.590710778284167, 'y': -1.2884525219843688}. Best is trial 43 with value: 0.008033175537051646.\n",
            "Trial 83 finished with value: 30.278323450020427 and parameters: {'x': 9.590710778284167, 'y': -1.2884525219843688}. Best is trial 43 with value: 0.008033175537051646.\n",
            "Trial 83 finished with value: 30.278323450020427 and parameters: {'x': 9.590710778284167, 'y': -1.2884525219843688}. Best is trial 43 with value: 0.008033175537051646.\n"
          ]
        },
        {
          "output_type": "stream",
          "name": "stderr",
          "text": [
            "\u001b[32m[I 2022-12-24 15:44:43,878]\u001b[0m Trial 84 finished with value: 25.149312923924555 and parameters: {'x': -0.30043372198334367, 'y': 9.557043574819978}. Best is trial 43 with value: 0.008033175537051646.\u001b[0m\n"
          ]
        },
        {
          "output_type": "stream",
          "name": "stdout",
          "text": [
            "Trial 84 finished with value: 25.149312923924555 and parameters: {'x': -0.30043372198334367, 'y': 9.557043574819978}. Best is trial 43 with value: 0.008033175537051646.\n",
            "Trial 84 finished with value: 25.149312923924555 and parameters: {'x': -0.30043372198334367, 'y': 9.557043574819978}. Best is trial 43 with value: 0.008033175537051646.\n",
            "Trial 84 finished with value: 25.149312923924555 and parameters: {'x': -0.30043372198334367, 'y': 9.557043574819978}. Best is trial 43 with value: 0.008033175537051646.\n",
            "Trial 84 finished with value: 25.149312923924555 and parameters: {'x': -0.30043372198334367, 'y': 9.557043574819978}. Best is trial 43 with value: 0.008033175537051646.\n",
            "Trial 84 finished with value: 25.149312923924555 and parameters: {'x': -0.30043372198334367, 'y': 9.557043574819978}. Best is trial 43 with value: 0.008033175537051646.\n",
            "Trial 84 finished with value: 25.149312923924555 and parameters: {'x': -0.30043372198334367, 'y': 9.557043574819978}. Best is trial 43 with value: 0.008033175537051646.\n",
            "Trial 84 finished with value: 25.149312923924555 and parameters: {'x': -0.30043372198334367, 'y': 9.557043574819978}. Best is trial 43 with value: 0.008033175537051646.\n"
          ]
        },
        {
          "output_type": "stream",
          "name": "stderr",
          "text": [
            "\u001b[32m[I 2022-12-24 15:44:44,012]\u001b[0m Trial 85 finished with value: 1.8239622574004626 and parameters: {'x': -1.625296482069501, 'y': -4.0740786215673435}. Best is trial 43 with value: 0.008033175537051646.\u001b[0m\n"
          ]
        },
        {
          "output_type": "stream",
          "name": "stdout",
          "text": [
            "Trial 85 finished with value: 1.8239622574004626 and parameters: {'x': -1.625296482069501, 'y': -4.0740786215673435}. Best is trial 43 with value: 0.008033175537051646.\n",
            "Trial 85 finished with value: 1.8239622574004626 and parameters: {'x': -1.625296482069501, 'y': -4.0740786215673435}. Best is trial 43 with value: 0.008033175537051646.\n",
            "Trial 85 finished with value: 1.8239622574004626 and parameters: {'x': -1.625296482069501, 'y': -4.0740786215673435}. Best is trial 43 with value: 0.008033175537051646.\n",
            "Trial 85 finished with value: 1.8239622574004626 and parameters: {'x': -1.625296482069501, 'y': -4.0740786215673435}. Best is trial 43 with value: 0.008033175537051646.\n",
            "Trial 85 finished with value: 1.8239622574004626 and parameters: {'x': -1.625296482069501, 'y': -4.0740786215673435}. Best is trial 43 with value: 0.008033175537051646.\n",
            "Trial 85 finished with value: 1.8239622574004626 and parameters: {'x': -1.625296482069501, 'y': -4.0740786215673435}. Best is trial 43 with value: 0.008033175537051646.\n",
            "Trial 85 finished with value: 1.8239622574004626 and parameters: {'x': -1.625296482069501, 'y': -4.0740786215673435}. Best is trial 43 with value: 0.008033175537051646.\n"
          ]
        },
        {
          "output_type": "stream",
          "name": "stderr",
          "text": [
            "\u001b[32m[I 2022-12-24 15:44:44,106]\u001b[0m Trial 86 finished with value: 0.21720430506707433 and parameters: {'x': -0.9503763554930698, 'y': -1.7149992297585939}. Best is trial 43 with value: 0.008033175537051646.\u001b[0m\n"
          ]
        },
        {
          "output_type": "stream",
          "name": "stdout",
          "text": [
            "Trial 86 finished with value: 0.21720430506707433 and parameters: {'x': -0.9503763554930698, 'y': -1.7149992297585939}. Best is trial 43 with value: 0.008033175537051646.\n",
            "Trial 86 finished with value: 0.21720430506707433 and parameters: {'x': -0.9503763554930698, 'y': -1.7149992297585939}. Best is trial 43 with value: 0.008033175537051646.\n",
            "Trial 86 finished with value: 0.21720430506707433 and parameters: {'x': -0.9503763554930698, 'y': -1.7149992297585939}. Best is trial 43 with value: 0.008033175537051646.\n",
            "Trial 86 finished with value: 0.21720430506707433 and parameters: {'x': -0.9503763554930698, 'y': -1.7149992297585939}. Best is trial 43 with value: 0.008033175537051646.\n",
            "Trial 86 finished with value: 0.21720430506707433 and parameters: {'x': -0.9503763554930698, 'y': -1.7149992297585939}. Best is trial 43 with value: 0.008033175537051646.\n",
            "Trial 86 finished with value: 0.21720430506707433 and parameters: {'x': -0.9503763554930698, 'y': -1.7149992297585939}. Best is trial 43 with value: 0.008033175537051646.\n",
            "Trial 86 finished with value: 0.21720430506707433 and parameters: {'x': -0.9503763554930698, 'y': -1.7149992297585939}. Best is trial 43 with value: 0.008033175537051646.\n"
          ]
        },
        {
          "output_type": "stream",
          "name": "stderr",
          "text": [
            "\u001b[32m[I 2022-12-24 15:44:44,213]\u001b[0m Trial 87 finished with value: 3.0673539356833377 and parameters: {'x': -2.5467487727023874, 'y': 0.9412755932584933}. Best is trial 43 with value: 0.008033175537051646.\u001b[0m\n"
          ]
        },
        {
          "output_type": "stream",
          "name": "stdout",
          "text": [
            "Trial 87 finished with value: 3.0673539356833377 and parameters: {'x': -2.5467487727023874, 'y': 0.9412755932584933}. Best is trial 43 with value: 0.008033175537051646.\n",
            "Trial 87 finished with value: 3.0673539356833377 and parameters: {'x': -2.5467487727023874, 'y': 0.9412755932584933}. Best is trial 43 with value: 0.008033175537051646.\n",
            "Trial 87 finished with value: 3.0673539356833377 and parameters: {'x': -2.5467487727023874, 'y': 0.9412755932584933}. Best is trial 43 with value: 0.008033175537051646.\n",
            "Trial 87 finished with value: 3.0673539356833377 and parameters: {'x': -2.5467487727023874, 'y': 0.9412755932584933}. Best is trial 43 with value: 0.008033175537051646.\n",
            "Trial 87 finished with value: 3.0673539356833377 and parameters: {'x': -2.5467487727023874, 'y': 0.9412755932584933}. Best is trial 43 with value: 0.008033175537051646.\n",
            "Trial 87 finished with value: 3.0673539356833377 and parameters: {'x': -2.5467487727023874, 'y': 0.9412755932584933}. Best is trial 43 with value: 0.008033175537051646.\n",
            "Trial 87 finished with value: 3.0673539356833377 and parameters: {'x': -2.5467487727023874, 'y': 0.9412755932584933}. Best is trial 43 with value: 0.008033175537051646.\n"
          ]
        },
        {
          "output_type": "stream",
          "name": "stderr",
          "text": [
            "\u001b[32m[I 2022-12-24 15:44:44,286]\u001b[0m Trial 88 finished with value: 0.30959062580268093 and parameters: {'x': 0.5064904166529924, 'y': -0.6061484440353505}. Best is trial 43 with value: 0.008033175537051646.\u001b[0m\n"
          ]
        },
        {
          "output_type": "stream",
          "name": "stdout",
          "text": [
            "Trial 88 finished with value: 0.30959062580268093 and parameters: {'x': 0.5064904166529924, 'y': -0.6061484440353505}. Best is trial 43 with value: 0.008033175537051646.\n",
            "Trial 88 finished with value: 0.30959062580268093 and parameters: {'x': 0.5064904166529924, 'y': -0.6061484440353505}. Best is trial 43 with value: 0.008033175537051646.\n",
            "Trial 88 finished with value: 0.30959062580268093 and parameters: {'x': 0.5064904166529924, 'y': -0.6061484440353505}. Best is trial 43 with value: 0.008033175537051646.\n",
            "Trial 88 finished with value: 0.30959062580268093 and parameters: {'x': 0.5064904166529924, 'y': -0.6061484440353505}. Best is trial 43 with value: 0.008033175537051646.\n",
            "Trial 88 finished with value: 0.30959062580268093 and parameters: {'x': 0.5064904166529924, 'y': -0.6061484440353505}. Best is trial 43 with value: 0.008033175537051646.\n",
            "Trial 88 finished with value: 0.30959062580268093 and parameters: {'x': 0.5064904166529924, 'y': -0.6061484440353505}. Best is trial 43 with value: 0.008033175537051646.\n",
            "Trial 88 finished with value: 0.30959062580268093 and parameters: {'x': 0.5064904166529924, 'y': -0.6061484440353505}. Best is trial 43 with value: 0.008033175537051646.\n"
          ]
        },
        {
          "output_type": "stream",
          "name": "stderr",
          "text": [
            "\u001b[32m[I 2022-12-24 15:44:44,353]\u001b[0m Trial 89 finished with value: 3.458433304375862 and parameters: {'x': 1.1152004433861913, 'y': -2.592419569989418}. Best is trial 43 with value: 0.008033175537051646.\u001b[0m\n"
          ]
        },
        {
          "output_type": "stream",
          "name": "stdout",
          "text": [
            "Trial 89 finished with value: 3.458433304375862 and parameters: {'x': 1.1152004433861913, 'y': -2.592419569989418}. Best is trial 43 with value: 0.008033175537051646.\n",
            "Trial 89 finished with value: 3.458433304375862 and parameters: {'x': 1.1152004433861913, 'y': -2.592419569989418}. Best is trial 43 with value: 0.008033175537051646.\n",
            "Trial 89 finished with value: 3.458433304375862 and parameters: {'x': 1.1152004433861913, 'y': -2.592419569989418}. Best is trial 43 with value: 0.008033175537051646.\n",
            "Trial 89 finished with value: 3.458433304375862 and parameters: {'x': 1.1152004433861913, 'y': -2.592419569989418}. Best is trial 43 with value: 0.008033175537051646.\n",
            "Trial 89 finished with value: 3.458433304375862 and parameters: {'x': 1.1152004433861913, 'y': -2.592419569989418}. Best is trial 43 with value: 0.008033175537051646.\n",
            "Trial 89 finished with value: 3.458433304375862 and parameters: {'x': 1.1152004433861913, 'y': -2.592419569989418}. Best is trial 43 with value: 0.008033175537051646.\n",
            "Trial 89 finished with value: 3.458433304375862 and parameters: {'x': 1.1152004433861913, 'y': -2.592419569989418}. Best is trial 43 with value: 0.008033175537051646.\n"
          ]
        },
        {
          "output_type": "stream",
          "name": "stderr",
          "text": [
            "\u001b[32m[I 2022-12-24 15:44:44,443]\u001b[0m Trial 90 finished with value: 0.5869272664711511 and parameters: {'x': 1.6289491614885983, 'y': 0.13803686311599211}. Best is trial 43 with value: 0.008033175537051646.\u001b[0m\n"
          ]
        },
        {
          "output_type": "stream",
          "name": "stdout",
          "text": [
            "Trial 90 finished with value: 0.5869272664711511 and parameters: {'x': 1.6289491614885983, 'y': 0.13803686311599211}. Best is trial 43 with value: 0.008033175537051646.\n",
            "Trial 90 finished with value: 0.5869272664711511 and parameters: {'x': 1.6289491614885983, 'y': 0.13803686311599211}. Best is trial 43 with value: 0.008033175537051646.\n",
            "Trial 90 finished with value: 0.5869272664711511 and parameters: {'x': 1.6289491614885983, 'y': 0.13803686311599211}. Best is trial 43 with value: 0.008033175537051646.\n",
            "Trial 90 finished with value: 0.5869272664711511 and parameters: {'x': 1.6289491614885983, 'y': 0.13803686311599211}. Best is trial 43 with value: 0.008033175537051646.\n",
            "Trial 90 finished with value: 0.5869272664711511 and parameters: {'x': 1.6289491614885983, 'y': 0.13803686311599211}. Best is trial 43 with value: 0.008033175537051646.\n",
            "Trial 90 finished with value: 0.5869272664711511 and parameters: {'x': 1.6289491614885983, 'y': 0.13803686311599211}. Best is trial 43 with value: 0.008033175537051646.\n",
            "Trial 90 finished with value: 0.5869272664711511 and parameters: {'x': 1.6289491614885983, 'y': 0.13803686311599211}. Best is trial 43 with value: 0.008033175537051646.\n"
          ]
        },
        {
          "output_type": "stream",
          "name": "stderr",
          "text": [
            "\u001b[32m[I 2022-12-24 15:44:44,506]\u001b[0m Trial 91 finished with value: 0.3412605911692567 and parameters: {'x': 0.20007944920621867, 'y': -0.9583855855784467}. Best is trial 43 with value: 0.008033175537051646.\u001b[0m\n"
          ]
        },
        {
          "output_type": "stream",
          "name": "stdout",
          "text": [
            "Trial 91 finished with value: 0.3412605911692567 and parameters: {'x': 0.20007944920621867, 'y': -0.9583855855784467}. Best is trial 43 with value: 0.008033175537051646.\n",
            "Trial 91 finished with value: 0.3412605911692567 and parameters: {'x': 0.20007944920621867, 'y': -0.9583855855784467}. Best is trial 43 with value: 0.008033175537051646.\n",
            "Trial 91 finished with value: 0.3412605911692567 and parameters: {'x': 0.20007944920621867, 'y': -0.9583855855784467}. Best is trial 43 with value: 0.008033175537051646.\n",
            "Trial 91 finished with value: 0.3412605911692567 and parameters: {'x': 0.20007944920621867, 'y': -0.9583855855784467}. Best is trial 43 with value: 0.008033175537051646.\n",
            "Trial 91 finished with value: 0.3412605911692567 and parameters: {'x': 0.20007944920621867, 'y': -0.9583855855784467}. Best is trial 43 with value: 0.008033175537051646.\n",
            "Trial 91 finished with value: 0.3412605911692567 and parameters: {'x': 0.20007944920621867, 'y': -0.9583855855784467}. Best is trial 43 with value: 0.008033175537051646.\n",
            "Trial 91 finished with value: 0.3412605911692567 and parameters: {'x': 0.20007944920621867, 'y': -0.9583855855784467}. Best is trial 43 with value: 0.008033175537051646.\n"
          ]
        },
        {
          "output_type": "stream",
          "name": "stderr",
          "text": [
            "\u001b[32m[I 2022-12-24 15:44:44,580]\u001b[0m Trial 92 finished with value: 0.0027432873776068213 and parameters: {'x': -0.24478266123576145, 'y': -0.1848750772290706}. Best is trial 92 with value: 0.0027432873776068213.\u001b[0m\n"
          ]
        },
        {
          "output_type": "stream",
          "name": "stdout",
          "text": [
            "Trial 92 finished with value: 0.0027432873776068213 and parameters: {'x': -0.24478266123576145, 'y': -0.1848750772290706}. Best is trial 92 with value: 0.0027432873776068213.\n",
            "Trial 92 finished with value: 0.0027432873776068213 and parameters: {'x': -0.24478266123576145, 'y': -0.1848750772290706}. Best is trial 92 with value: 0.0027432873776068213.\n",
            "Trial 92 finished with value: 0.0027432873776068213 and parameters: {'x': -0.24478266123576145, 'y': -0.1848750772290706}. Best is trial 92 with value: 0.0027432873776068213.\n",
            "Trial 92 finished with value: 0.0027432873776068213 and parameters: {'x': -0.24478266123576145, 'y': -0.1848750772290706}. Best is trial 92 with value: 0.0027432873776068213.\n",
            "Trial 92 finished with value: 0.0027432873776068213 and parameters: {'x': -0.24478266123576145, 'y': -0.1848750772290706}. Best is trial 92 with value: 0.0027432873776068213.\n",
            "Trial 92 finished with value: 0.0027432873776068213 and parameters: {'x': -0.24478266123576145, 'y': -0.1848750772290706}. Best is trial 92 with value: 0.0027432873776068213.\n",
            "Trial 92 finished with value: 0.0027432873776068213 and parameters: {'x': -0.24478266123576145, 'y': -0.1848750772290706}. Best is trial 92 with value: 0.0027432873776068213.\n"
          ]
        },
        {
          "output_type": "stream",
          "name": "stderr",
          "text": [
            "\u001b[32m[I 2022-12-24 15:44:44,689]\u001b[0m Trial 93 finished with value: 1.215962193536622 and parameters: {'x': -0.9200785861698426, 'y': 1.284132691922589}. Best is trial 92 with value: 0.0027432873776068213.\u001b[0m\n"
          ]
        },
        {
          "output_type": "stream",
          "name": "stdout",
          "text": [
            "Trial 93 finished with value: 1.215962193536622 and parameters: {'x': -0.9200785861698426, 'y': 1.284132691922589}. Best is trial 92 with value: 0.0027432873776068213.\n",
            "Trial 93 finished with value: 1.215962193536622 and parameters: {'x': -0.9200785861698426, 'y': 1.284132691922589}. Best is trial 92 with value: 0.0027432873776068213.\n",
            "Trial 93 finished with value: 1.215962193536622 and parameters: {'x': -0.9200785861698426, 'y': 1.284132691922589}. Best is trial 92 with value: 0.0027432873776068213.\n",
            "Trial 93 finished with value: 1.215962193536622 and parameters: {'x': -0.9200785861698426, 'y': 1.284132691922589}. Best is trial 92 with value: 0.0027432873776068213.\n",
            "Trial 93 finished with value: 1.215962193536622 and parameters: {'x': -0.9200785861698426, 'y': 1.284132691922589}. Best is trial 92 with value: 0.0027432873776068213.\n",
            "Trial 93 finished with value: 1.215962193536622 and parameters: {'x': -0.9200785861698426, 'y': 1.284132691922589}. Best is trial 92 with value: 0.0027432873776068213.\n",
            "Trial 93 finished with value: 1.215962193536622 and parameters: {'x': -0.9200785861698426, 'y': 1.284132691922589}. Best is trial 92 with value: 0.0027432873776068213.\n"
          ]
        },
        {
          "output_type": "stream",
          "name": "stderr",
          "text": [
            "\u001b[32m[I 2022-12-24 15:44:44,783]\u001b[0m Trial 94 finished with value: 0.01841606873414284 and parameters: {'x': -0.3156207219559122, 'y': -0.054498640877333415}. Best is trial 92 with value: 0.0027432873776068213.\u001b[0m\n"
          ]
        },
        {
          "output_type": "stream",
          "name": "stdout",
          "text": [
            "Trial 94 finished with value: 0.01841606873414284 and parameters: {'x': -0.3156207219559122, 'y': -0.054498640877333415}. Best is trial 92 with value: 0.0027432873776068213.\n",
            "Trial 94 finished with value: 0.01841606873414284 and parameters: {'x': -0.3156207219559122, 'y': -0.054498640877333415}. Best is trial 92 with value: 0.0027432873776068213.\n",
            "Trial 94 finished with value: 0.01841606873414284 and parameters: {'x': -0.3156207219559122, 'y': -0.054498640877333415}. Best is trial 92 with value: 0.0027432873776068213.\n",
            "Trial 94 finished with value: 0.01841606873414284 and parameters: {'x': -0.3156207219559122, 'y': -0.054498640877333415}. Best is trial 92 with value: 0.0027432873776068213.\n",
            "Trial 94 finished with value: 0.01841606873414284 and parameters: {'x': -0.3156207219559122, 'y': -0.054498640877333415}. Best is trial 92 with value: 0.0027432873776068213.\n",
            "Trial 94 finished with value: 0.01841606873414284 and parameters: {'x': -0.3156207219559122, 'y': -0.054498640877333415}. Best is trial 92 with value: 0.0027432873776068213.\n",
            "Trial 94 finished with value: 0.01841606873414284 and parameters: {'x': -0.3156207219559122, 'y': -0.054498640877333415}. Best is trial 92 with value: 0.0027432873776068213.\n"
          ]
        },
        {
          "output_type": "stream",
          "name": "stderr",
          "text": [
            "\u001b[32m[I 2022-12-24 15:44:44,873]\u001b[0m Trial 95 finished with value: 1.6533619444840246 and parameters: {'x': -0.3500784710495326, 'y': 2.194975931579477}. Best is trial 92 with value: 0.0027432873776068213.\u001b[0m\n"
          ]
        },
        {
          "output_type": "stream",
          "name": "stdout",
          "text": [
            "Trial 95 finished with value: 1.6533619444840246 and parameters: {'x': -0.3500784710495326, 'y': 2.194975931579477}. Best is trial 92 with value: 0.0027432873776068213.\n",
            "Trial 95 finished with value: 1.6533619444840246 and parameters: {'x': -0.3500784710495326, 'y': 2.194975931579477}. Best is trial 92 with value: 0.0027432873776068213.\n",
            "Trial 95 finished with value: 1.6533619444840246 and parameters: {'x': -0.3500784710495326, 'y': 2.194975931579477}. Best is trial 92 with value: 0.0027432873776068213.\n",
            "Trial 95 finished with value: 1.6533619444840246 and parameters: {'x': -0.3500784710495326, 'y': 2.194975931579477}. Best is trial 92 with value: 0.0027432873776068213.\n",
            "Trial 95 finished with value: 1.6533619444840246 and parameters: {'x': -0.3500784710495326, 'y': 2.194975931579477}. Best is trial 92 with value: 0.0027432873776068213.\n",
            "Trial 95 finished with value: 1.6533619444840246 and parameters: {'x': -0.3500784710495326, 'y': 2.194975931579477}. Best is trial 92 with value: 0.0027432873776068213.\n",
            "Trial 95 finished with value: 1.6533619444840246 and parameters: {'x': -0.3500784710495326, 'y': 2.194975931579477}. Best is trial 92 with value: 0.0027432873776068213.\n"
          ]
        },
        {
          "output_type": "stream",
          "name": "stderr",
          "text": [
            "\u001b[32m[I 2022-12-24 15:44:44,962]\u001b[0m Trial 96 finished with value: 0.32868175609940753 and parameters: {'x': 0.8669712668462259, 'y': -0.2734838761027505}. Best is trial 92 with value: 0.0027432873776068213.\u001b[0m\n"
          ]
        },
        {
          "output_type": "stream",
          "name": "stdout",
          "text": [
            "Trial 96 finished with value: 0.32868175609940753 and parameters: {'x': 0.8669712668462259, 'y': -0.2734838761027505}. Best is trial 92 with value: 0.0027432873776068213.\n",
            "Trial 96 finished with value: 0.32868175609940753 and parameters: {'x': 0.8669712668462259, 'y': -0.2734838761027505}. Best is trial 92 with value: 0.0027432873776068213.\n",
            "Trial 96 finished with value: 0.32868175609940753 and parameters: {'x': 0.8669712668462259, 'y': -0.2734838761027505}. Best is trial 92 with value: 0.0027432873776068213.\n",
            "Trial 96 finished with value: 0.32868175609940753 and parameters: {'x': 0.8669712668462259, 'y': -0.2734838761027505}. Best is trial 92 with value: 0.0027432873776068213.\n",
            "Trial 96 finished with value: 0.32868175609940753 and parameters: {'x': 0.8669712668462259, 'y': -0.2734838761027505}. Best is trial 92 with value: 0.0027432873776068213.\n",
            "Trial 96 finished with value: 0.32868175609940753 and parameters: {'x': 0.8669712668462259, 'y': -0.2734838761027505}. Best is trial 92 with value: 0.0027432873776068213.\n",
            "Trial 96 finished with value: 0.32868175609940753 and parameters: {'x': 0.8669712668462259, 'y': -0.2734838761027505}. Best is trial 92 with value: 0.0027432873776068213.\n"
          ]
        },
        {
          "output_type": "stream",
          "name": "stderr",
          "text": [
            "\u001b[32m[I 2022-12-24 15:44:45,040]\u001b[0m Trial 97 finished with value: 1.560758952654913 and parameters: {'x': -1.789676650864429, 'y': 0.6993969555316237}. Best is trial 92 with value: 0.0027432873776068213.\u001b[0m\n"
          ]
        },
        {
          "output_type": "stream",
          "name": "stdout",
          "text": [
            "Trial 97 finished with value: 1.560758952654913 and parameters: {'x': -1.789676650864429, 'y': 0.6993969555316237}. Best is trial 92 with value: 0.0027432873776068213.\n",
            "Trial 97 finished with value: 1.560758952654913 and parameters: {'x': -1.789676650864429, 'y': 0.6993969555316237}. Best is trial 92 with value: 0.0027432873776068213.\n",
            "Trial 97 finished with value: 1.560758952654913 and parameters: {'x': -1.789676650864429, 'y': 0.6993969555316237}. Best is trial 92 with value: 0.0027432873776068213.\n",
            "Trial 97 finished with value: 1.560758952654913 and parameters: {'x': -1.789676650864429, 'y': 0.6993969555316237}. Best is trial 92 with value: 0.0027432873776068213.\n",
            "Trial 97 finished with value: 1.560758952654913 and parameters: {'x': -1.789676650864429, 'y': 0.6993969555316237}. Best is trial 92 with value: 0.0027432873776068213.\n",
            "Trial 97 finished with value: 1.560758952654913 and parameters: {'x': -1.789676650864429, 'y': 0.6993969555316237}. Best is trial 92 with value: 0.0027432873776068213.\n",
            "Trial 97 finished with value: 1.560758952654913 and parameters: {'x': -1.789676650864429, 'y': 0.6993969555316237}. Best is trial 92 with value: 0.0027432873776068213.\n"
          ]
        },
        {
          "output_type": "stream",
          "name": "stderr",
          "text": [
            "\u001b[32m[I 2022-12-24 15:44:45,137]\u001b[0m Trial 98 finished with value: 4.711439324257018 and parameters: {'x': -2.902601623182896, 'y': 1.4285464639329923}. Best is trial 92 with value: 0.0027432873776068213.\u001b[0m\n"
          ]
        },
        {
          "output_type": "stream",
          "name": "stdout",
          "text": [
            "Trial 98 finished with value: 4.711439324257018 and parameters: {'x': -2.902601623182896, 'y': 1.4285464639329923}. Best is trial 92 with value: 0.0027432873776068213.\n",
            "Trial 98 finished with value: 4.711439324257018 and parameters: {'x': -2.902601623182896, 'y': 1.4285464639329923}. Best is trial 92 with value: 0.0027432873776068213.\n",
            "Trial 98 finished with value: 4.711439324257018 and parameters: {'x': -2.902601623182896, 'y': 1.4285464639329923}. Best is trial 92 with value: 0.0027432873776068213.\n",
            "Trial 98 finished with value: 4.711439324257018 and parameters: {'x': -2.902601623182896, 'y': 1.4285464639329923}. Best is trial 92 with value: 0.0027432873776068213.\n",
            "Trial 98 finished with value: 4.711439324257018 and parameters: {'x': -2.902601623182896, 'y': 1.4285464639329923}. Best is trial 92 with value: 0.0027432873776068213.\n",
            "Trial 98 finished with value: 4.711439324257018 and parameters: {'x': -2.902601623182896, 'y': 1.4285464639329923}. Best is trial 92 with value: 0.0027432873776068213.\n",
            "Trial 98 finished with value: 4.711439324257018 and parameters: {'x': -2.902601623182896, 'y': 1.4285464639329923}. Best is trial 92 with value: 0.0027432873776068213.\n"
          ]
        },
        {
          "output_type": "stream",
          "name": "stderr",
          "text": [
            "\u001b[32m[I 2022-12-24 15:44:45,222]\u001b[0m Trial 99 finished with value: 0.5441078505919604 and parameters: {'x': -1.1210481062546616, 'y': 0.3460603287829884}. Best is trial 92 with value: 0.0027432873776068213.\u001b[0m\n"
          ]
        },
        {
          "output_type": "stream",
          "name": "stdout",
          "text": [
            "Trial 99 finished with value: 0.5441078505919604 and parameters: {'x': -1.1210481062546616, 'y': 0.3460603287829884}. Best is trial 92 with value: 0.0027432873776068213.\n",
            "Trial 99 finished with value: 0.5441078505919604 and parameters: {'x': -1.1210481062546616, 'y': 0.3460603287829884}. Best is trial 92 with value: 0.0027432873776068213.\n",
            "Trial 99 finished with value: 0.5441078505919604 and parameters: {'x': -1.1210481062546616, 'y': 0.3460603287829884}. Best is trial 92 with value: 0.0027432873776068213.\n",
            "Trial 99 finished with value: 0.5441078505919604 and parameters: {'x': -1.1210481062546616, 'y': 0.3460603287829884}. Best is trial 92 with value: 0.0027432873776068213.\n",
            "Trial 99 finished with value: 0.5441078505919604 and parameters: {'x': -1.1210481062546616, 'y': 0.3460603287829884}. Best is trial 92 with value: 0.0027432873776068213.\n",
            "Trial 99 finished with value: 0.5441078505919604 and parameters: {'x': -1.1210481062546616, 'y': 0.3460603287829884}. Best is trial 92 with value: 0.0027432873776068213.\n",
            "Trial 99 finished with value: 0.5441078505919604 and parameters: {'x': -1.1210481062546616, 'y': 0.3460603287829884}. Best is trial 92 with value: 0.0027432873776068213.\n"
          ]
        },
        {
          "output_type": "execute_result",
          "data": {
            "text/plain": [
              "{'x': -0.24478266123576145, 'y': -0.1848750772290706}"
            ]
          },
          "metadata": {},
          "execution_count": 182
        }
      ]
    },
    {
      "cell_type": "code",
      "source": [
        "best_params = study.best_params\n",
        "best_x = best_params[\"x\"]\n",
        "best_y = best_params[\"y\"]\n",
        "print(\"Found x: {}, (x - 2)^2: {}\".format(best_x, (best_x - 2) ** 2))\n",
        "print(\"Found y: {}, (y - 2)^2: {}\".format(best_y, (best_y - 2) ** 2))"
      ],
      "metadata": {
        "colab": {
          "base_uri": "https://localhost:8080/"
        },
        "id": "nckdDhXPzAKK",
        "outputId": "29631d2a-8e5d-4735-de55-822f31f61905"
      },
      "execution_count": 183,
      "outputs": [
        {
          "output_type": "stream",
          "name": "stdout",
          "text": [
            "Found x: -0.24478266123576145, (x - 2)^2: 5.039049196184708\n",
            "Found y: -0.1848750772290706, (y - 2)^2: 4.773679103096737\n"
          ]
        }
      ]
    },
    {
      "cell_type": "code",
      "source": [
        " study.best_value"
      ],
      "metadata": {
        "colab": {
          "base_uri": "https://localhost:8080/"
        },
        "id": "NFr2hnpozAMG",
        "outputId": "9bb5a504-e7ea-453e-9a00-88381823134f"
      },
      "execution_count": 184,
      "outputs": [
        {
          "output_type": "execute_result",
          "data": {
            "text/plain": [
              "0.0027432873776068213"
            ]
          },
          "metadata": {},
          "execution_count": 184
        }
      ]
    },
    {
      "cell_type": "code",
      "source": [
        "best_z = study.best_value"
      ],
      "metadata": {
        "id": "N9C6koc2zAN3"
      },
      "execution_count": 185,
      "outputs": []
    },
    {
      "cell_type": "code",
      "source": [
        "study.best_trial"
      ],
      "metadata": {
        "colab": {
          "base_uri": "https://localhost:8080/"
        },
        "id": "w2-tbfM0zAP2",
        "outputId": "c012b04e-29a1-42d5-9b9e-2811d56991bd"
      },
      "execution_count": 186,
      "outputs": [
        {
          "output_type": "execute_result",
          "data": {
            "text/plain": [
              "FrozenTrial(number=92, values=[0.0027432873776068213], datetime_start=datetime.datetime(2022, 12, 24, 15, 44, 44, 544543), datetime_complete=datetime.datetime(2022, 12, 24, 15, 44, 44, 580065), params={'x': -0.24478266123576145, 'y': -0.1848750772290706}, distributions={'x': FloatDistribution(high=10.0, log=False, low=-10.0, step=None), 'y': FloatDistribution(high=10.0, log=False, low=-10.0, step=None)}, user_attrs={}, system_attrs={}, intermediate_values={}, trial_id=92, state=TrialState.COMPLETE, value=None)"
            ]
          },
          "metadata": {},
          "execution_count": 186
        }
      ]
    },
    {
      "cell_type": "code",
      "source": [
        "draw_result(func_Matyas, np.array([[-10, -10], [10, 10]]), \"Matyas function\", best_x, best_y, best_z)"
      ],
      "metadata": {
        "colab": {
          "base_uri": "https://localhost:8080/",
          "height": 591
        },
        "id": "4d1kivzHzboU",
        "outputId": "4305584f-bcf4-4e92-af3d-4385b0276a39"
      },
      "execution_count": 192,
      "outputs": [
        {
          "output_type": "display_data",
          "data": {
            "text/plain": [
              "<Figure size 720x720 with 1 Axes>"
            ],
            "image/png": "[encoded data removed]"
          },
          "metadata": {
            "needs_background": "light"
          }
        }
      ]
    },
    {
      "cell_type": "markdown",
      "source": [
        "Подбор параметров модели классификации с помощью Optuna:"
      ],
      "metadata": {
        "id": "aBH_BFDEzpwr"
      }
    },
    {
      "cell_type": "code",
      "source": [
        "import sklearn.ensemble\n",
        "import sklearn.svm"
      ],
      "metadata": {
        "id": "YFIIxawWST_R"
      },
      "execution_count": 193,
      "outputs": []
    },
    {
      "cell_type": "code",
      "source": [
        "def objective(trial):\n",
        "    classifier_name = trial.suggest_categorical(\"classifier\", [\"SVC\", \"RandomForest\"])\n",
        "    if classifier_name == \"SVC\":\n",
        "        svc_c = trial.suggest_float(\"svc_c\", 1e-10, 1e10, log=True)\n",
        "        classifier_obj = sklearn.svm.SVC(C=svc_c)\n",
        "    else:\n",
        "        rf_max_depth = trial.suggest_int(\"rf_max_depth\", 2, 32, log=True)\n",
        "        classifier_obj = sklearn.ensemble.RandomForestClassifier(max_depth=rf_max_depth)"
      ],
      "metadata": {
        "id": "9mZu9jgpUefy"
      },
      "execution_count": 194,
      "outputs": []
    },
    {
      "cell_type": "code",
      "source": [
        "import logging\n",
        "import sys\n",
        "\n",
        "import sklearn.datasets\n",
        "import sklearn.linear_model\n",
        "import sklearn.model_selection\n",
        "\n",
        "from optuna.visualization import plot_edf\n",
        "from optuna.visualization import plot_optimization_history\n",
        "from optuna.visualization import plot_parallel_coordinate\n",
        "from optuna.visualization import plot_slice\n",
        "\n",
        "\n",
        "def objective(trial):\n",
        "    cancer = sklearn.datasets.load_breast_cancer()\n",
        "    classes = list(set(cancer.target))\n",
        "    train_x, valid_x, train_y, valid_y = sklearn.model_selection.train_test_split(\n",
        "        cancer.data, cancer.target, test_size=0.25, random_state=0\n",
        "    )\n",
        "\n",
        "    alpha = trial.suggest_float(\"alpha\", 1e-5, 1e-1, log=True)\n",
        "    clf = sklearn.linear_model.SGDClassifier(alpha=alpha)\n",
        "\n",
        "    for step in range(100):\n",
        "        clf.partial_fit(train_x, train_y, classes=classes)\n",
        "\n",
        "        # Report intermediate objective value.\n",
        "        intermediate_value = 1.0 - clf.score(valid_x, valid_y)\n",
        "        trial.report(intermediate_value, step)\n",
        "\n",
        "        # Handle pruning based on the intermediate value.\n",
        "        if trial.should_prune():\n",
        "            raise optuna.TrialPruned()\n",
        "\n",
        "    return 1.0 - clf.score(valid_x, valid_y) "
      ],
      "metadata": {
        "id": "RV-H-8a9VKdO"
      },
      "execution_count": 202,
      "outputs": []
    },
    {
      "cell_type": "code",
      "source": [
        "# Add stream handler of stdout to show the messages\n",
        "optuna.logging.get_logger(\"optuna\").addHandler(logging.StreamHandler(sys.stdout))\n",
        "study = optuna.create_study(pruner=optuna.pruners.MedianPruner())\n",
        "study.optimize(objective, n_trials=100)"
      ],
      "metadata": {
        "colab": {
          "base_uri": "https://localhost:8080/"
        },
        "id": "kL2UoRjhaufg",
        "outputId": "9044d075-c076-4336-bee8-0f52357ff863"
      },
      "execution_count": 210,
      "outputs": [
        {
          "output_type": "stream",
          "name": "stderr",
          "text": [
            "\u001b[32m[I 2022-12-24 16:07:29,329]\u001b[0m A new study created in memory with name: no-name-8d186358-5f4d-449d-ad57-161e7de348c9\u001b[0m\n"
          ]
        },
        {
          "output_type": "stream",
          "name": "stdout",
          "text": [
            "A new study created in memory with name: no-name-8d186358-5f4d-449d-ad57-161e7de348c9\n",
            "A new study created in memory with name: no-name-8d186358-5f4d-449d-ad57-161e7de348c9\n",
            "A new study created in memory with name: no-name-8d186358-5f4d-449d-ad57-161e7de348c9\n",
            "A new study created in memory with name: no-name-8d186358-5f4d-449d-ad57-161e7de348c9\n",
            "A new study created in memory with name: no-name-8d186358-5f4d-449d-ad57-161e7de348c9\n",
            "A new study created in memory with name: no-name-8d186358-5f4d-449d-ad57-161e7de348c9\n",
            "A new study created in memory with name: no-name-8d186358-5f4d-449d-ad57-161e7de348c9\n",
            "A new study created in memory with name: no-name-8d186358-5f4d-449d-ad57-161e7de348c9\n",
            "A new study created in memory with name: no-name-8d186358-5f4d-449d-ad57-161e7de348c9\n",
            "A new study created in memory with name: no-name-8d186358-5f4d-449d-ad57-161e7de348c9\n",
            "A new study created in memory with name: no-name-8d186358-5f4d-449d-ad57-161e7de348c9\n",
            "A new study created in memory with name: no-name-8d186358-5f4d-449d-ad57-161e7de348c9\n",
            "A new study created in memory with name: no-name-8d186358-5f4d-449d-ad57-161e7de348c9\n",
            "A new study created in memory with name: no-name-8d186358-5f4d-449d-ad57-161e7de348c9\n"
          ]
        },
        {
          "output_type": "stream",
          "name": "stderr",
          "text": [
            "\u001b[32m[I 2022-12-24 16:07:29,473]\u001b[0m Trial 0 finished with value: 0.21678321678321677 and parameters: {'alpha': 7.627925605474698e-05}. Best is trial 0 with value: 0.21678321678321677.\u001b[0m\n"
          ]
        },
        {
          "output_type": "stream",
          "name": "stdout",
          "text": [
            "Trial 0 finished with value: 0.21678321678321677 and parameters: {'alpha': 7.627925605474698e-05}. Best is trial 0 with value: 0.21678321678321677.\n",
            "Trial 0 finished with value: 0.21678321678321677 and parameters: {'alpha': 7.627925605474698e-05}. Best is trial 0 with value: 0.21678321678321677.\n",
            "Trial 0 finished with value: 0.21678321678321677 and parameters: {'alpha': 7.627925605474698e-05}. Best is trial 0 with value: 0.21678321678321677.\n",
            "Trial 0 finished with value: 0.21678321678321677 and parameters: {'alpha': 7.627925605474698e-05}. Best is trial 0 with value: 0.21678321678321677.\n",
            "Trial 0 finished with value: 0.21678321678321677 and parameters: {'alpha': 7.627925605474698e-05}. Best is trial 0 with value: 0.21678321678321677.\n",
            "Trial 0 finished with value: 0.21678321678321677 and parameters: {'alpha': 7.627925605474698e-05}. Best is trial 0 with value: 0.21678321678321677.\n",
            "Trial 0 finished with value: 0.21678321678321677 and parameters: {'alpha': 7.627925605474698e-05}. Best is trial 0 with value: 0.21678321678321677.\n",
            "Trial 0 finished with value: 0.21678321678321677 and parameters: {'alpha': 7.627925605474698e-05}. Best is trial 0 with value: 0.21678321678321677.\n",
            "Trial 0 finished with value: 0.21678321678321677 and parameters: {'alpha': 7.627925605474698e-05}. Best is trial 0 with value: 0.21678321678321677.\n",
            "Trial 0 finished with value: 0.21678321678321677 and parameters: {'alpha': 7.627925605474698e-05}. Best is trial 0 with value: 0.21678321678321677.\n",
            "Trial 0 finished with value: 0.21678321678321677 and parameters: {'alpha': 7.627925605474698e-05}. Best is trial 0 with value: 0.21678321678321677.\n",
            "Trial 0 finished with value: 0.21678321678321677 and parameters: {'alpha': 7.627925605474698e-05}. Best is trial 0 with value: 0.21678321678321677.\n",
            "Trial 0 finished with value: 0.21678321678321677 and parameters: {'alpha': 7.627925605474698e-05}. Best is trial 0 with value: 0.21678321678321677.\n",
            "Trial 0 finished with value: 0.21678321678321677 and parameters: {'alpha': 7.627925605474698e-05}. Best is trial 0 with value: 0.21678321678321677.\n"
          ]
        },
        {
          "output_type": "stream",
          "name": "stderr",
          "text": [
            "\u001b[32m[I 2022-12-24 16:07:29,615]\u001b[0m Trial 1 finished with value: 0.0699300699300699 and parameters: {'alpha': 0.01859957559564362}. Best is trial 1 with value: 0.0699300699300699.\u001b[0m\n"
          ]
        },
        {
          "output_type": "stream",
          "name": "stdout",
          "text": [
            "Trial 1 finished with value: 0.0699300699300699 and parameters: {'alpha': 0.01859957559564362}. Best is trial 1 with value: 0.0699300699300699.\n",
            "Trial 1 finished with value: 0.0699300699300699 and parameters: {'alpha': 0.01859957559564362}. Best is trial 1 with value: 0.0699300699300699.\n",
            "Trial 1 finished with value: 0.0699300699300699 and parameters: {'alpha': 0.01859957559564362}. Best is trial 1 with value: 0.0699300699300699.\n",
            "Trial 1 finished with value: 0.0699300699300699 and parameters: {'alpha': 0.01859957559564362}. Best is trial 1 with value: 0.0699300699300699.\n",
            "Trial 1 finished with value: 0.0699300699300699 and parameters: {'alpha': 0.01859957559564362}. Best is trial 1 with value: 0.0699300699300699.\n",
            "Trial 1 finished with value: 0.0699300699300699 and parameters: {'alpha': 0.01859957559564362}. Best is trial 1 with value: 0.0699300699300699.\n",
            "Trial 1 finished with value: 0.0699300699300699 and parameters: {'alpha': 0.01859957559564362}. Best is trial 1 with value: 0.0699300699300699.\n",
            "Trial 1 finished with value: 0.0699300699300699 and parameters: {'alpha': 0.01859957559564362}. Best is trial 1 with value: 0.0699300699300699.\n",
            "Trial 1 finished with value: 0.0699300699300699 and parameters: {'alpha': 0.01859957559564362}. Best is trial 1 with value: 0.0699300699300699.\n",
            "Trial 1 finished with value: 0.0699300699300699 and parameters: {'alpha': 0.01859957559564362}. Best is trial 1 with value: 0.0699300699300699.\n",
            "Trial 1 finished with value: 0.0699300699300699 and parameters: {'alpha': 0.01859957559564362}. Best is trial 1 with value: 0.0699300699300699.\n",
            "Trial 1 finished with value: 0.0699300699300699 and parameters: {'alpha': 0.01859957559564362}. Best is trial 1 with value: 0.0699300699300699.\n",
            "Trial 1 finished with value: 0.0699300699300699 and parameters: {'alpha': 0.01859957559564362}. Best is trial 1 with value: 0.0699300699300699.\n",
            "Trial 1 finished with value: 0.0699300699300699 and parameters: {'alpha': 0.01859957559564362}. Best is trial 1 with value: 0.0699300699300699.\n"
          ]
        },
        {
          "output_type": "stream",
          "name": "stderr",
          "text": [
            "\u001b[32m[I 2022-12-24 16:07:29,769]\u001b[0m Trial 2 finished with value: 0.07692307692307687 and parameters: {'alpha': 0.012358763656491106}. Best is trial 1 with value: 0.0699300699300699.\u001b[0m\n"
          ]
        },
        {
          "output_type": "stream",
          "name": "stdout",
          "text": [
            "Trial 2 finished with value: 0.07692307692307687 and parameters: {'alpha': 0.012358763656491106}. Best is trial 1 with value: 0.0699300699300699.\n",
            "Trial 2 finished with value: 0.07692307692307687 and parameters: {'alpha': 0.012358763656491106}. Best is trial 1 with value: 0.0699300699300699.\n",
            "Trial 2 finished with value: 0.07692307692307687 and parameters: {'alpha': 0.012358763656491106}. Best is trial 1 with value: 0.0699300699300699.\n",
            "Trial 2 finished with value: 0.07692307692307687 and parameters: {'alpha': 0.012358763656491106}. Best is trial 1 with value: 0.0699300699300699.\n",
            "Trial 2 finished with value: 0.07692307692307687 and parameters: {'alpha': 0.012358763656491106}. Best is trial 1 with value: 0.0699300699300699.\n",
            "Trial 2 finished with value: 0.07692307692307687 and parameters: {'alpha': 0.012358763656491106}. Best is trial 1 with value: 0.0699300699300699.\n",
            "Trial 2 finished with value: 0.07692307692307687 and parameters: {'alpha': 0.012358763656491106}. Best is trial 1 with value: 0.0699300699300699.\n",
            "Trial 2 finished with value: 0.07692307692307687 and parameters: {'alpha': 0.012358763656491106}. Best is trial 1 with value: 0.0699300699300699.\n",
            "Trial 2 finished with value: 0.07692307692307687 and parameters: {'alpha': 0.012358763656491106}. Best is trial 1 with value: 0.0699300699300699.\n",
            "Trial 2 finished with value: 0.07692307692307687 and parameters: {'alpha': 0.012358763656491106}. Best is trial 1 with value: 0.0699300699300699.\n",
            "Trial 2 finished with value: 0.07692307692307687 and parameters: {'alpha': 0.012358763656491106}. Best is trial 1 with value: 0.0699300699300699.\n",
            "Trial 2 finished with value: 0.07692307692307687 and parameters: {'alpha': 0.012358763656491106}. Best is trial 1 with value: 0.0699300699300699.\n",
            "Trial 2 finished with value: 0.07692307692307687 and parameters: {'alpha': 0.012358763656491106}. Best is trial 1 with value: 0.0699300699300699.\n",
            "Trial 2 finished with value: 0.07692307692307687 and parameters: {'alpha': 0.012358763656491106}. Best is trial 1 with value: 0.0699300699300699.\n"
          ]
        },
        {
          "output_type": "stream",
          "name": "stderr",
          "text": [
            "\u001b[32m[I 2022-12-24 16:07:29,909]\u001b[0m Trial 3 finished with value: 0.2027972027972028 and parameters: {'alpha': 2.3453736592775165e-05}. Best is trial 1 with value: 0.0699300699300699.\u001b[0m\n"
          ]
        },
        {
          "output_type": "stream",
          "name": "stdout",
          "text": [
            "Trial 3 finished with value: 0.2027972027972028 and parameters: {'alpha': 2.3453736592775165e-05}. Best is trial 1 with value: 0.0699300699300699.\n",
            "Trial 3 finished with value: 0.2027972027972028 and parameters: {'alpha': 2.3453736592775165e-05}. Best is trial 1 with value: 0.0699300699300699.\n",
            "Trial 3 finished with value: 0.2027972027972028 and parameters: {'alpha': 2.3453736592775165e-05}. Best is trial 1 with value: 0.0699300699300699.\n",
            "Trial 3 finished with value: 0.2027972027972028 and parameters: {'alpha': 2.3453736592775165e-05}. Best is trial 1 with value: 0.0699300699300699.\n",
            "Trial 3 finished with value: 0.2027972027972028 and parameters: {'alpha': 2.3453736592775165e-05}. Best is trial 1 with value: 0.0699300699300699.\n",
            "Trial 3 finished with value: 0.2027972027972028 and parameters: {'alpha': 2.3453736592775165e-05}. Best is trial 1 with value: 0.0699300699300699.\n",
            "Trial 3 finished with value: 0.2027972027972028 and parameters: {'alpha': 2.3453736592775165e-05}. Best is trial 1 with value: 0.0699300699300699.\n",
            "Trial 3 finished with value: 0.2027972027972028 and parameters: {'alpha': 2.3453736592775165e-05}. Best is trial 1 with value: 0.0699300699300699.\n",
            "Trial 3 finished with value: 0.2027972027972028 and parameters: {'alpha': 2.3453736592775165e-05}. Best is trial 1 with value: 0.0699300699300699.\n",
            "Trial 3 finished with value: 0.2027972027972028 and parameters: {'alpha': 2.3453736592775165e-05}. Best is trial 1 with value: 0.0699300699300699.\n",
            "Trial 3 finished with value: 0.2027972027972028 and parameters: {'alpha': 2.3453736592775165e-05}. Best is trial 1 with value: 0.0699300699300699.\n",
            "Trial 3 finished with value: 0.2027972027972028 and parameters: {'alpha': 2.3453736592775165e-05}. Best is trial 1 with value: 0.0699300699300699.\n",
            "Trial 3 finished with value: 0.2027972027972028 and parameters: {'alpha': 2.3453736592775165e-05}. Best is trial 1 with value: 0.0699300699300699.\n",
            "Trial 3 finished with value: 0.2027972027972028 and parameters: {'alpha': 2.3453736592775165e-05}. Best is trial 1 with value: 0.0699300699300699.\n"
          ]
        },
        {
          "output_type": "stream",
          "name": "stderr",
          "text": [
            "\u001b[32m[I 2022-12-24 16:07:30,065]\u001b[0m Trial 4 finished with value: 0.3146853146853147 and parameters: {'alpha': 0.003030812375404742}. Best is trial 1 with value: 0.0699300699300699.\u001b[0m\n"
          ]
        },
        {
          "output_type": "stream",
          "name": "stdout",
          "text": [
            "Trial 4 finished with value: 0.3146853146853147 and parameters: {'alpha': 0.003030812375404742}. Best is trial 1 with value: 0.0699300699300699.\n",
            "Trial 4 finished with value: 0.3146853146853147 and parameters: {'alpha': 0.003030812375404742}. Best is trial 1 with value: 0.0699300699300699.\n",
            "Trial 4 finished with value: 0.3146853146853147 and parameters: {'alpha': 0.003030812375404742}. Best is trial 1 with value: 0.0699300699300699.\n",
            "Trial 4 finished with value: 0.3146853146853147 and parameters: {'alpha': 0.003030812375404742}. Best is trial 1 with value: 0.0699300699300699.\n",
            "Trial 4 finished with value: 0.3146853146853147 and parameters: {'alpha': 0.003030812375404742}. Best is trial 1 with value: 0.0699300699300699.\n",
            "Trial 4 finished with value: 0.3146853146853147 and parameters: {'alpha': 0.003030812375404742}. Best is trial 1 with value: 0.0699300699300699.\n",
            "Trial 4 finished with value: 0.3146853146853147 and parameters: {'alpha': 0.003030812375404742}. Best is trial 1 with value: 0.0699300699300699.\n",
            "Trial 4 finished with value: 0.3146853146853147 and parameters: {'alpha': 0.003030812375404742}. Best is trial 1 with value: 0.0699300699300699.\n",
            "Trial 4 finished with value: 0.3146853146853147 and parameters: {'alpha': 0.003030812375404742}. Best is trial 1 with value: 0.0699300699300699.\n",
            "Trial 4 finished with value: 0.3146853146853147 and parameters: {'alpha': 0.003030812375404742}. Best is trial 1 with value: 0.0699300699300699.\n",
            "Trial 4 finished with value: 0.3146853146853147 and parameters: {'alpha': 0.003030812375404742}. Best is trial 1 with value: 0.0699300699300699.\n",
            "Trial 4 finished with value: 0.3146853146853147 and parameters: {'alpha': 0.003030812375404742}. Best is trial 1 with value: 0.0699300699300699.\n",
            "Trial 4 finished with value: 0.3146853146853147 and parameters: {'alpha': 0.003030812375404742}. Best is trial 1 with value: 0.0699300699300699.\n",
            "Trial 4 finished with value: 0.3146853146853147 and parameters: {'alpha': 0.003030812375404742}. Best is trial 1 with value: 0.0699300699300699.\n"
          ]
        },
        {
          "output_type": "stream",
          "name": "stderr",
          "text": [
            "\u001b[32m[I 2022-12-24 16:07:30,126]\u001b[0m Trial 5 pruned. \u001b[0m\n"
          ]
        },
        {
          "output_type": "stream",
          "name": "stdout",
          "text": [
            "Trial 5 pruned. \n",
            "Trial 5 pruned. \n",
            "Trial 5 pruned. \n",
            "Trial 5 pruned. \n",
            "Trial 5 pruned. \n",
            "Trial 5 pruned. \n",
            "Trial 5 pruned. \n",
            "Trial 5 pruned. \n",
            "Trial 5 pruned. \n",
            "Trial 5 pruned. \n",
            "Trial 5 pruned. \n",
            "Trial 5 pruned. \n",
            "Trial 5 pruned. \n",
            "Trial 5 pruned. \n"
          ]
        },
        {
          "output_type": "stream",
          "name": "stderr",
          "text": [
            "\u001b[32m[I 2022-12-24 16:07:30,197]\u001b[0m Trial 6 pruned. \u001b[0m\n"
          ]
        },
        {
          "output_type": "stream",
          "name": "stdout",
          "text": [
            "Trial 6 pruned. \n",
            "Trial 6 pruned. \n",
            "Trial 6 pruned. \n",
            "Trial 6 pruned. \n",
            "Trial 6 pruned. \n",
            "Trial 6 pruned. \n",
            "Trial 6 pruned. \n",
            "Trial 6 pruned. \n",
            "Trial 6 pruned. \n",
            "Trial 6 pruned. \n",
            "Trial 6 pruned. \n",
            "Trial 6 pruned. \n",
            "Trial 6 pruned. \n",
            "Trial 6 pruned. \n"
          ]
        },
        {
          "output_type": "stream",
          "name": "stderr",
          "text": [
            "\u001b[32m[I 2022-12-24 16:07:30,254]\u001b[0m Trial 7 pruned. \u001b[0m\n"
          ]
        },
        {
          "output_type": "stream",
          "name": "stdout",
          "text": [
            "Trial 7 pruned. \n",
            "Trial 7 pruned. \n",
            "Trial 7 pruned. \n",
            "Trial 7 pruned. \n",
            "Trial 7 pruned. \n",
            "Trial 7 pruned. \n",
            "Trial 7 pruned. \n",
            "Trial 7 pruned. \n",
            "Trial 7 pruned. \n",
            "Trial 7 pruned. \n",
            "Trial 7 pruned. \n",
            "Trial 7 pruned. \n",
            "Trial 7 pruned. \n",
            "Trial 7 pruned. \n"
          ]
        },
        {
          "output_type": "stream",
          "name": "stderr",
          "text": [
            "\u001b[32m[I 2022-12-24 16:07:30,327]\u001b[0m Trial 8 pruned. \u001b[0m\n"
          ]
        },
        {
          "output_type": "stream",
          "name": "stdout",
          "text": [
            "Trial 8 pruned. \n",
            "Trial 8 pruned. \n",
            "Trial 8 pruned. \n",
            "Trial 8 pruned. \n",
            "Trial 8 pruned. \n",
            "Trial 8 pruned. \n",
            "Trial 8 pruned. \n",
            "Trial 8 pruned. \n",
            "Trial 8 pruned. \n",
            "Trial 8 pruned. \n",
            "Trial 8 pruned. \n",
            "Trial 8 pruned. \n",
            "Trial 8 pruned. \n",
            "Trial 8 pruned. \n"
          ]
        },
        {
          "output_type": "stream",
          "name": "stderr",
          "text": [
            "\u001b[32m[I 2022-12-24 16:07:30,380]\u001b[0m Trial 9 pruned. \u001b[0m\n"
          ]
        },
        {
          "output_type": "stream",
          "name": "stdout",
          "text": [
            "Trial 9 pruned. \n",
            "Trial 9 pruned. \n",
            "Trial 9 pruned. \n",
            "Trial 9 pruned. \n",
            "Trial 9 pruned. \n",
            "Trial 9 pruned. \n",
            "Trial 9 pruned. \n",
            "Trial 9 pruned. \n",
            "Trial 9 pruned. \n",
            "Trial 9 pruned. \n",
            "Trial 9 pruned. \n",
            "Trial 9 pruned. \n",
            "Trial 9 pruned. \n",
            "Trial 9 pruned. \n"
          ]
        },
        {
          "output_type": "stream",
          "name": "stderr",
          "text": [
            "\u001b[32m[I 2022-12-24 16:07:30,570]\u001b[0m Trial 10 finished with value: 0.06293706293706292 and parameters: {'alpha': 0.005137983404552893}. Best is trial 10 with value: 0.06293706293706292.\u001b[0m\n"
          ]
        },
        {
          "output_type": "stream",
          "name": "stdout",
          "text": [
            "Trial 10 finished with value: 0.06293706293706292 and parameters: {'alpha': 0.005137983404552893}. Best is trial 10 with value: 0.06293706293706292.\n",
            "Trial 10 finished with value: 0.06293706293706292 and parameters: {'alpha': 0.005137983404552893}. Best is trial 10 with value: 0.06293706293706292.\n",
            "Trial 10 finished with value: 0.06293706293706292 and parameters: {'alpha': 0.005137983404552893}. Best is trial 10 with value: 0.06293706293706292.\n",
            "Trial 10 finished with value: 0.06293706293706292 and parameters: {'alpha': 0.005137983404552893}. Best is trial 10 with value: 0.06293706293706292.\n",
            "Trial 10 finished with value: 0.06293706293706292 and parameters: {'alpha': 0.005137983404552893}. Best is trial 10 with value: 0.06293706293706292.\n",
            "Trial 10 finished with value: 0.06293706293706292 and parameters: {'alpha': 0.005137983404552893}. Best is trial 10 with value: 0.06293706293706292.\n",
            "Trial 10 finished with value: 0.06293706293706292 and parameters: {'alpha': 0.005137983404552893}. Best is trial 10 with value: 0.06293706293706292.\n",
            "Trial 10 finished with value: 0.06293706293706292 and parameters: {'alpha': 0.005137983404552893}. Best is trial 10 with value: 0.06293706293706292.\n",
            "Trial 10 finished with value: 0.06293706293706292 and parameters: {'alpha': 0.005137983404552893}. Best is trial 10 with value: 0.06293706293706292.\n",
            "Trial 10 finished with value: 0.06293706293706292 and parameters: {'alpha': 0.005137983404552893}. Best is trial 10 with value: 0.06293706293706292.\n",
            "Trial 10 finished with value: 0.06293706293706292 and parameters: {'alpha': 0.005137983404552893}. Best is trial 10 with value: 0.06293706293706292.\n",
            "Trial 10 finished with value: 0.06293706293706292 and parameters: {'alpha': 0.005137983404552893}. Best is trial 10 with value: 0.06293706293706292.\n",
            "Trial 10 finished with value: 0.06293706293706292 and parameters: {'alpha': 0.005137983404552893}. Best is trial 10 with value: 0.06293706293706292.\n",
            "Trial 10 finished with value: 0.06293706293706292 and parameters: {'alpha': 0.005137983404552893}. Best is trial 10 with value: 0.06293706293706292.\n"
          ]
        },
        {
          "output_type": "stream",
          "name": "stderr",
          "text": [
            "\u001b[32m[I 2022-12-24 16:07:30,749]\u001b[0m Trial 11 finished with value: 0.08391608391608396 and parameters: {'alpha': 0.005745705836684827}. Best is trial 10 with value: 0.06293706293706292.\u001b[0m\n"
          ]
        },
        {
          "output_type": "stream",
          "name": "stdout",
          "text": [
            "Trial 11 finished with value: 0.08391608391608396 and parameters: {'alpha': 0.005745705836684827}. Best is trial 10 with value: 0.06293706293706292.\n",
            "Trial 11 finished with value: 0.08391608391608396 and parameters: {'alpha': 0.005745705836684827}. Best is trial 10 with value: 0.06293706293706292.\n",
            "Trial 11 finished with value: 0.08391608391608396 and parameters: {'alpha': 0.005745705836684827}. Best is trial 10 with value: 0.06293706293706292.\n",
            "Trial 11 finished with value: 0.08391608391608396 and parameters: {'alpha': 0.005745705836684827}. Best is trial 10 with value: 0.06293706293706292.\n",
            "Trial 11 finished with value: 0.08391608391608396 and parameters: {'alpha': 0.005745705836684827}. Best is trial 10 with value: 0.06293706293706292.\n",
            "Trial 11 finished with value: 0.08391608391608396 and parameters: {'alpha': 0.005745705836684827}. Best is trial 10 with value: 0.06293706293706292.\n",
            "Trial 11 finished with value: 0.08391608391608396 and parameters: {'alpha': 0.005745705836684827}. Best is trial 10 with value: 0.06293706293706292.\n",
            "Trial 11 finished with value: 0.08391608391608396 and parameters: {'alpha': 0.005745705836684827}. Best is trial 10 with value: 0.06293706293706292.\n",
            "Trial 11 finished with value: 0.08391608391608396 and parameters: {'alpha': 0.005745705836684827}. Best is trial 10 with value: 0.06293706293706292.\n",
            "Trial 11 finished with value: 0.08391608391608396 and parameters: {'alpha': 0.005745705836684827}. Best is trial 10 with value: 0.06293706293706292.\n",
            "Trial 11 finished with value: 0.08391608391608396 and parameters: {'alpha': 0.005745705836684827}. Best is trial 10 with value: 0.06293706293706292.\n",
            "Trial 11 finished with value: 0.08391608391608396 and parameters: {'alpha': 0.005745705836684827}. Best is trial 10 with value: 0.06293706293706292.\n",
            "Trial 11 finished with value: 0.08391608391608396 and parameters: {'alpha': 0.005745705836684827}. Best is trial 10 with value: 0.06293706293706292.\n",
            "Trial 11 finished with value: 0.08391608391608396 and parameters: {'alpha': 0.005745705836684827}. Best is trial 10 with value: 0.06293706293706292.\n"
          ]
        },
        {
          "output_type": "stream",
          "name": "stderr",
          "text": [
            "\u001b[32m[I 2022-12-24 16:07:30,816]\u001b[0m Trial 12 pruned. \u001b[0m\n"
          ]
        },
        {
          "output_type": "stream",
          "name": "stdout",
          "text": [
            "Trial 12 pruned. \n",
            "Trial 12 pruned. \n",
            "Trial 12 pruned. \n",
            "Trial 12 pruned. \n",
            "Trial 12 pruned. \n",
            "Trial 12 pruned. \n",
            "Trial 12 pruned. \n",
            "Trial 12 pruned. \n",
            "Trial 12 pruned. \n",
            "Trial 12 pruned. \n",
            "Trial 12 pruned. \n",
            "Trial 12 pruned. \n",
            "Trial 12 pruned. \n",
            "Trial 12 pruned. \n"
          ]
        },
        {
          "output_type": "stream",
          "name": "stderr",
          "text": [
            "\u001b[32m[I 2022-12-24 16:07:30,883]\u001b[0m Trial 13 pruned. \u001b[0m\n"
          ]
        },
        {
          "output_type": "stream",
          "name": "stdout",
          "text": [
            "Trial 13 pruned. \n",
            "Trial 13 pruned. \n",
            "Trial 13 pruned. \n",
            "Trial 13 pruned. \n",
            "Trial 13 pruned. \n",
            "Trial 13 pruned. \n",
            "Trial 13 pruned. \n",
            "Trial 13 pruned. \n",
            "Trial 13 pruned. \n",
            "Trial 13 pruned. \n",
            "Trial 13 pruned. \n",
            "Trial 13 pruned. \n",
            "Trial 13 pruned. \n",
            "Trial 13 pruned. \n"
          ]
        },
        {
          "output_type": "stream",
          "name": "stderr",
          "text": [
            "\u001b[32m[I 2022-12-24 16:07:30,950]\u001b[0m Trial 14 pruned. \u001b[0m\n"
          ]
        },
        {
          "output_type": "stream",
          "name": "stdout",
          "text": [
            "Trial 14 pruned. \n",
            "Trial 14 pruned. \n",
            "Trial 14 pruned. \n",
            "Trial 14 pruned. \n",
            "Trial 14 pruned. \n",
            "Trial 14 pruned. \n",
            "Trial 14 pruned. \n",
            "Trial 14 pruned. \n",
            "Trial 14 pruned. \n",
            "Trial 14 pruned. \n",
            "Trial 14 pruned. \n",
            "Trial 14 pruned. \n",
            "Trial 14 pruned. \n",
            "Trial 14 pruned. \n"
          ]
        },
        {
          "output_type": "stream",
          "name": "stderr",
          "text": [
            "\u001b[32m[I 2022-12-24 16:07:31,147]\u001b[0m Trial 15 finished with value: 0.26573426573426573 and parameters: {'alpha': 0.0022945765290248096}. Best is trial 10 with value: 0.06293706293706292.\u001b[0m\n"
          ]
        },
        {
          "output_type": "stream",
          "name": "stdout",
          "text": [
            "Trial 15 finished with value: 0.26573426573426573 and parameters: {'alpha': 0.0022945765290248096}. Best is trial 10 with value: 0.06293706293706292.\n",
            "Trial 15 finished with value: 0.26573426573426573 and parameters: {'alpha': 0.0022945765290248096}. Best is trial 10 with value: 0.06293706293706292.\n",
            "Trial 15 finished with value: 0.26573426573426573 and parameters: {'alpha': 0.0022945765290248096}. Best is trial 10 with value: 0.06293706293706292.\n",
            "Trial 15 finished with value: 0.26573426573426573 and parameters: {'alpha': 0.0022945765290248096}. Best is trial 10 with value: 0.06293706293706292.\n",
            "Trial 15 finished with value: 0.26573426573426573 and parameters: {'alpha': 0.0022945765290248096}. Best is trial 10 with value: 0.06293706293706292.\n",
            "Trial 15 finished with value: 0.26573426573426573 and parameters: {'alpha': 0.0022945765290248096}. Best is trial 10 with value: 0.06293706293706292.\n",
            "Trial 15 finished with value: 0.26573426573426573 and parameters: {'alpha': 0.0022945765290248096}. Best is trial 10 with value: 0.06293706293706292.\n",
            "Trial 15 finished with value: 0.26573426573426573 and parameters: {'alpha': 0.0022945765290248096}. Best is trial 10 with value: 0.06293706293706292.\n",
            "Trial 15 finished with value: 0.26573426573426573 and parameters: {'alpha': 0.0022945765290248096}. Best is trial 10 with value: 0.06293706293706292.\n",
            "Trial 15 finished with value: 0.26573426573426573 and parameters: {'alpha': 0.0022945765290248096}. Best is trial 10 with value: 0.06293706293706292.\n",
            "Trial 15 finished with value: 0.26573426573426573 and parameters: {'alpha': 0.0022945765290248096}. Best is trial 10 with value: 0.06293706293706292.\n",
            "Trial 15 finished with value: 0.26573426573426573 and parameters: {'alpha': 0.0022945765290248096}. Best is trial 10 with value: 0.06293706293706292.\n",
            "Trial 15 finished with value: 0.26573426573426573 and parameters: {'alpha': 0.0022945765290248096}. Best is trial 10 with value: 0.06293706293706292.\n",
            "Trial 15 finished with value: 0.26573426573426573 and parameters: {'alpha': 0.0022945765290248096}. Best is trial 10 with value: 0.06293706293706292.\n"
          ]
        },
        {
          "output_type": "stream",
          "name": "stderr",
          "text": [
            "\u001b[32m[I 2022-12-24 16:07:31,228]\u001b[0m Trial 16 pruned. \u001b[0m\n"
          ]
        },
        {
          "output_type": "stream",
          "name": "stdout",
          "text": [
            "Trial 16 pruned. \n",
            "Trial 16 pruned. \n",
            "Trial 16 pruned. \n",
            "Trial 16 pruned. \n",
            "Trial 16 pruned. \n",
            "Trial 16 pruned. \n",
            "Trial 16 pruned. \n",
            "Trial 16 pruned. \n",
            "Trial 16 pruned. \n",
            "Trial 16 pruned. \n",
            "Trial 16 pruned. \n",
            "Trial 16 pruned. \n",
            "Trial 16 pruned. \n",
            "Trial 16 pruned. \n"
          ]
        },
        {
          "output_type": "stream",
          "name": "stderr",
          "text": [
            "\u001b[32m[I 2022-12-24 16:07:31,292]\u001b[0m Trial 17 pruned. \u001b[0m\n"
          ]
        },
        {
          "output_type": "stream",
          "name": "stdout",
          "text": [
            "Trial 17 pruned. \n",
            "Trial 17 pruned. \n",
            "Trial 17 pruned. \n",
            "Trial 17 pruned. \n",
            "Trial 17 pruned. \n",
            "Trial 17 pruned. \n",
            "Trial 17 pruned. \n",
            "Trial 17 pruned. \n",
            "Trial 17 pruned. \n",
            "Trial 17 pruned. \n",
            "Trial 17 pruned. \n",
            "Trial 17 pruned. \n",
            "Trial 17 pruned. \n",
            "Trial 17 pruned. \n"
          ]
        },
        {
          "output_type": "stream",
          "name": "stderr",
          "text": [
            "\u001b[32m[I 2022-12-24 16:07:31,369]\u001b[0m Trial 18 pruned. \u001b[0m\n"
          ]
        },
        {
          "output_type": "stream",
          "name": "stdout",
          "text": [
            "Trial 18 pruned. \n",
            "Trial 18 pruned. \n",
            "Trial 18 pruned. \n",
            "Trial 18 pruned. \n",
            "Trial 18 pruned. \n",
            "Trial 18 pruned. \n",
            "Trial 18 pruned. \n",
            "Trial 18 pruned. \n",
            "Trial 18 pruned. \n",
            "Trial 18 pruned. \n",
            "Trial 18 pruned. \n",
            "Trial 18 pruned. \n",
            "Trial 18 pruned. \n",
            "Trial 18 pruned. \n"
          ]
        },
        {
          "output_type": "stream",
          "name": "stderr",
          "text": [
            "\u001b[32m[I 2022-12-24 16:07:31,442]\u001b[0m Trial 19 pruned. \u001b[0m\n"
          ]
        },
        {
          "output_type": "stream",
          "name": "stdout",
          "text": [
            "Trial 19 pruned. \n",
            "Trial 19 pruned. \n",
            "Trial 19 pruned. \n",
            "Trial 19 pruned. \n",
            "Trial 19 pruned. \n",
            "Trial 19 pruned. \n",
            "Trial 19 pruned. \n",
            "Trial 19 pruned. \n",
            "Trial 19 pruned. \n",
            "Trial 19 pruned. \n",
            "Trial 19 pruned. \n",
            "Trial 19 pruned. \n",
            "Trial 19 pruned. \n",
            "Trial 19 pruned. \n"
          ]
        },
        {
          "output_type": "stream",
          "name": "stderr",
          "text": [
            "\u001b[32m[I 2022-12-24 16:07:31,506]\u001b[0m Trial 20 pruned. \u001b[0m\n"
          ]
        },
        {
          "output_type": "stream",
          "name": "stdout",
          "text": [
            "Trial 20 pruned. \n",
            "Trial 20 pruned. \n",
            "Trial 20 pruned. \n",
            "Trial 20 pruned. \n",
            "Trial 20 pruned. \n",
            "Trial 20 pruned. \n",
            "Trial 20 pruned. \n",
            "Trial 20 pruned. \n",
            "Trial 20 pruned. \n",
            "Trial 20 pruned. \n",
            "Trial 20 pruned. \n",
            "Trial 20 pruned. \n",
            "Trial 20 pruned. \n",
            "Trial 20 pruned. \n"
          ]
        },
        {
          "output_type": "stream",
          "name": "stderr",
          "text": [
            "\u001b[32m[I 2022-12-24 16:07:31,563]\u001b[0m Trial 21 pruned. \u001b[0m\n"
          ]
        },
        {
          "output_type": "stream",
          "name": "stdout",
          "text": [
            "Trial 21 pruned. \n",
            "Trial 21 pruned. \n",
            "Trial 21 pruned. \n",
            "Trial 21 pruned. \n",
            "Trial 21 pruned. \n",
            "Trial 21 pruned. \n",
            "Trial 21 pruned. \n",
            "Trial 21 pruned. \n",
            "Trial 21 pruned. \n",
            "Trial 21 pruned. \n",
            "Trial 21 pruned. \n",
            "Trial 21 pruned. \n",
            "Trial 21 pruned. \n",
            "Trial 21 pruned. \n"
          ]
        },
        {
          "output_type": "stream",
          "name": "stderr",
          "text": [
            "\u001b[32m[I 2022-12-24 16:07:31,622]\u001b[0m Trial 22 pruned. \u001b[0m\n"
          ]
        },
        {
          "output_type": "stream",
          "name": "stdout",
          "text": [
            "Trial 22 pruned. \n",
            "Trial 22 pruned. \n",
            "Trial 22 pruned. \n",
            "Trial 22 pruned. \n",
            "Trial 22 pruned. \n",
            "Trial 22 pruned. \n",
            "Trial 22 pruned. \n",
            "Trial 22 pruned. \n",
            "Trial 22 pruned. \n",
            "Trial 22 pruned. \n",
            "Trial 22 pruned. \n",
            "Trial 22 pruned. \n",
            "Trial 22 pruned. \n",
            "Trial 22 pruned. \n"
          ]
        },
        {
          "output_type": "stream",
          "name": "stderr",
          "text": [
            "\u001b[32m[I 2022-12-24 16:07:31,682]\u001b[0m Trial 23 pruned. \u001b[0m\n"
          ]
        },
        {
          "output_type": "stream",
          "name": "stdout",
          "text": [
            "Trial 23 pruned. \n",
            "Trial 23 pruned. \n",
            "Trial 23 pruned. \n",
            "Trial 23 pruned. \n",
            "Trial 23 pruned. \n",
            "Trial 23 pruned. \n",
            "Trial 23 pruned. \n",
            "Trial 23 pruned. \n",
            "Trial 23 pruned. \n",
            "Trial 23 pruned. \n",
            "Trial 23 pruned. \n",
            "Trial 23 pruned. \n",
            "Trial 23 pruned. \n",
            "Trial 23 pruned. \n"
          ]
        },
        {
          "output_type": "stream",
          "name": "stderr",
          "text": [
            "\u001b[32m[I 2022-12-24 16:07:31,888]\u001b[0m Trial 24 finished with value: 0.09090909090909094 and parameters: {'alpha': 0.028675513070087588}. Best is trial 10 with value: 0.06293706293706292.\u001b[0m\n"
          ]
        },
        {
          "output_type": "stream",
          "name": "stdout",
          "text": [
            "Trial 24 finished with value: 0.09090909090909094 and parameters: {'alpha': 0.028675513070087588}. Best is trial 10 with value: 0.06293706293706292.\n",
            "Trial 24 finished with value: 0.09090909090909094 and parameters: {'alpha': 0.028675513070087588}. Best is trial 10 with value: 0.06293706293706292.\n",
            "Trial 24 finished with value: 0.09090909090909094 and parameters: {'alpha': 0.028675513070087588}. Best is trial 10 with value: 0.06293706293706292.\n",
            "Trial 24 finished with value: 0.09090909090909094 and parameters: {'alpha': 0.028675513070087588}. Best is trial 10 with value: 0.06293706293706292.\n",
            "Trial 24 finished with value: 0.09090909090909094 and parameters: {'alpha': 0.028675513070087588}. Best is trial 10 with value: 0.06293706293706292.\n",
            "Trial 24 finished with value: 0.09090909090909094 and parameters: {'alpha': 0.028675513070087588}. Best is trial 10 with value: 0.06293706293706292.\n",
            "Trial 24 finished with value: 0.09090909090909094 and parameters: {'alpha': 0.028675513070087588}. Best is trial 10 with value: 0.06293706293706292.\n",
            "Trial 24 finished with value: 0.09090909090909094 and parameters: {'alpha': 0.028675513070087588}. Best is trial 10 with value: 0.06293706293706292.\n",
            "Trial 24 finished with value: 0.09090909090909094 and parameters: {'alpha': 0.028675513070087588}. Best is trial 10 with value: 0.06293706293706292.\n",
            "Trial 24 finished with value: 0.09090909090909094 and parameters: {'alpha': 0.028675513070087588}. Best is trial 10 with value: 0.06293706293706292.\n",
            "Trial 24 finished with value: 0.09090909090909094 and parameters: {'alpha': 0.028675513070087588}. Best is trial 10 with value: 0.06293706293706292.\n",
            "Trial 24 finished with value: 0.09090909090909094 and parameters: {'alpha': 0.028675513070087588}. Best is trial 10 with value: 0.06293706293706292.\n",
            "Trial 24 finished with value: 0.09090909090909094 and parameters: {'alpha': 0.028675513070087588}. Best is trial 10 with value: 0.06293706293706292.\n",
            "Trial 24 finished with value: 0.09090909090909094 and parameters: {'alpha': 0.028675513070087588}. Best is trial 10 with value: 0.06293706293706292.\n"
          ]
        },
        {
          "output_type": "stream",
          "name": "stderr",
          "text": [
            "\u001b[32m[I 2022-12-24 16:07:31,969]\u001b[0m Trial 25 pruned. \u001b[0m\n"
          ]
        },
        {
          "output_type": "stream",
          "name": "stdout",
          "text": [
            "Trial 25 pruned. \n",
            "Trial 25 pruned. \n",
            "Trial 25 pruned. \n",
            "Trial 25 pruned. \n",
            "Trial 25 pruned. \n",
            "Trial 25 pruned. \n",
            "Trial 25 pruned. \n",
            "Trial 25 pruned. \n",
            "Trial 25 pruned. \n",
            "Trial 25 pruned. \n",
            "Trial 25 pruned. \n",
            "Trial 25 pruned. \n",
            "Trial 25 pruned. \n",
            "Trial 25 pruned. \n"
          ]
        },
        {
          "output_type": "stream",
          "name": "stderr",
          "text": [
            "\u001b[32m[I 2022-12-24 16:07:32,027]\u001b[0m Trial 26 pruned. \u001b[0m\n"
          ]
        },
        {
          "output_type": "stream",
          "name": "stdout",
          "text": [
            "Trial 26 pruned. \n",
            "Trial 26 pruned. \n",
            "Trial 26 pruned. \n",
            "Trial 26 pruned. \n",
            "Trial 26 pruned. \n",
            "Trial 26 pruned. \n",
            "Trial 26 pruned. \n",
            "Trial 26 pruned. \n",
            "Trial 26 pruned. \n",
            "Trial 26 pruned. \n",
            "Trial 26 pruned. \n",
            "Trial 26 pruned. \n",
            "Trial 26 pruned. \n",
            "Trial 26 pruned. \n"
          ]
        },
        {
          "output_type": "stream",
          "name": "stderr",
          "text": [
            "\u001b[32m[I 2022-12-24 16:07:32,215]\u001b[0m Trial 27 finished with value: 0.1398601398601399 and parameters: {'alpha': 0.0006191831859196377}. Best is trial 10 with value: 0.06293706293706292.\u001b[0m\n"
          ]
        },
        {
          "output_type": "stream",
          "name": "stdout",
          "text": [
            "Trial 27 finished with value: 0.1398601398601399 and parameters: {'alpha': 0.0006191831859196377}. Best is trial 10 with value: 0.06293706293706292.\n",
            "Trial 27 finished with value: 0.1398601398601399 and parameters: {'alpha': 0.0006191831859196377}. Best is trial 10 with value: 0.06293706293706292.\n",
            "Trial 27 finished with value: 0.1398601398601399 and parameters: {'alpha': 0.0006191831859196377}. Best is trial 10 with value: 0.06293706293706292.\n",
            "Trial 27 finished with value: 0.1398601398601399 and parameters: {'alpha': 0.0006191831859196377}. Best is trial 10 with value: 0.06293706293706292.\n",
            "Trial 27 finished with value: 0.1398601398601399 and parameters: {'alpha': 0.0006191831859196377}. Best is trial 10 with value: 0.06293706293706292.\n",
            "Trial 27 finished with value: 0.1398601398601399 and parameters: {'alpha': 0.0006191831859196377}. Best is trial 10 with value: 0.06293706293706292.\n",
            "Trial 27 finished with value: 0.1398601398601399 and parameters: {'alpha': 0.0006191831859196377}. Best is trial 10 with value: 0.06293706293706292.\n",
            "Trial 27 finished with value: 0.1398601398601399 and parameters: {'alpha': 0.0006191831859196377}. Best is trial 10 with value: 0.06293706293706292.\n",
            "Trial 27 finished with value: 0.1398601398601399 and parameters: {'alpha': 0.0006191831859196377}. Best is trial 10 with value: 0.06293706293706292.\n",
            "Trial 27 finished with value: 0.1398601398601399 and parameters: {'alpha': 0.0006191831859196377}. Best is trial 10 with value: 0.06293706293706292.\n",
            "Trial 27 finished with value: 0.1398601398601399 and parameters: {'alpha': 0.0006191831859196377}. Best is trial 10 with value: 0.06293706293706292.\n",
            "Trial 27 finished with value: 0.1398601398601399 and parameters: {'alpha': 0.0006191831859196377}. Best is trial 10 with value: 0.06293706293706292.\n",
            "Trial 27 finished with value: 0.1398601398601399 and parameters: {'alpha': 0.0006191831859196377}. Best is trial 10 with value: 0.06293706293706292.\n",
            "Trial 27 finished with value: 0.1398601398601399 and parameters: {'alpha': 0.0006191831859196377}. Best is trial 10 with value: 0.06293706293706292.\n"
          ]
        },
        {
          "output_type": "stream",
          "name": "stderr",
          "text": [
            "\u001b[32m[I 2022-12-24 16:07:32,274]\u001b[0m Trial 28 pruned. \u001b[0m\n"
          ]
        },
        {
          "output_type": "stream",
          "name": "stdout",
          "text": [
            "Trial 28 pruned. \n",
            "Trial 28 pruned. \n",
            "Trial 28 pruned. \n",
            "Trial 28 pruned. \n",
            "Trial 28 pruned. \n",
            "Trial 28 pruned. \n",
            "Trial 28 pruned. \n",
            "Trial 28 pruned. \n",
            "Trial 28 pruned. \n",
            "Trial 28 pruned. \n",
            "Trial 28 pruned. \n",
            "Trial 28 pruned. \n",
            "Trial 28 pruned. \n",
            "Trial 28 pruned. \n"
          ]
        },
        {
          "output_type": "stream",
          "name": "stderr",
          "text": [
            "\u001b[32m[I 2022-12-24 16:07:32,454]\u001b[0m Trial 29 finished with value: 0.12587412587412583 and parameters: {'alpha': 4.8128947865586555e-05}. Best is trial 10 with value: 0.06293706293706292.\u001b[0m\n"
          ]
        },
        {
          "output_type": "stream",
          "name": "stdout",
          "text": [
            "Trial 29 finished with value: 0.12587412587412583 and parameters: {'alpha': 4.8128947865586555e-05}. Best is trial 10 with value: 0.06293706293706292.\n",
            "Trial 29 finished with value: 0.12587412587412583 and parameters: {'alpha': 4.8128947865586555e-05}. Best is trial 10 with value: 0.06293706293706292.\n",
            "Trial 29 finished with value: 0.12587412587412583 and parameters: {'alpha': 4.8128947865586555e-05}. Best is trial 10 with value: 0.06293706293706292.\n",
            "Trial 29 finished with value: 0.12587412587412583 and parameters: {'alpha': 4.8128947865586555e-05}. Best is trial 10 with value: 0.06293706293706292.\n",
            "Trial 29 finished with value: 0.12587412587412583 and parameters: {'alpha': 4.8128947865586555e-05}. Best is trial 10 with value: 0.06293706293706292.\n",
            "Trial 29 finished with value: 0.12587412587412583 and parameters: {'alpha': 4.8128947865586555e-05}. Best is trial 10 with value: 0.06293706293706292.\n",
            "Trial 29 finished with value: 0.12587412587412583 and parameters: {'alpha': 4.8128947865586555e-05}. Best is trial 10 with value: 0.06293706293706292.\n",
            "Trial 29 finished with value: 0.12587412587412583 and parameters: {'alpha': 4.8128947865586555e-05}. Best is trial 10 with value: 0.06293706293706292.\n",
            "Trial 29 finished with value: 0.12587412587412583 and parameters: {'alpha': 4.8128947865586555e-05}. Best is trial 10 with value: 0.06293706293706292.\n",
            "Trial 29 finished with value: 0.12587412587412583 and parameters: {'alpha': 4.8128947865586555e-05}. Best is trial 10 with value: 0.06293706293706292.\n",
            "Trial 29 finished with value: 0.12587412587412583 and parameters: {'alpha': 4.8128947865586555e-05}. Best is trial 10 with value: 0.06293706293706292.\n",
            "Trial 29 finished with value: 0.12587412587412583 and parameters: {'alpha': 4.8128947865586555e-05}. Best is trial 10 with value: 0.06293706293706292.\n",
            "Trial 29 finished with value: 0.12587412587412583 and parameters: {'alpha': 4.8128947865586555e-05}. Best is trial 10 with value: 0.06293706293706292.\n",
            "Trial 29 finished with value: 0.12587412587412583 and parameters: {'alpha': 4.8128947865586555e-05}. Best is trial 10 with value: 0.06293706293706292.\n"
          ]
        },
        {
          "output_type": "stream",
          "name": "stderr",
          "text": [
            "\u001b[32m[I 2022-12-24 16:07:32,518]\u001b[0m Trial 30 pruned. \u001b[0m\n"
          ]
        },
        {
          "output_type": "stream",
          "name": "stdout",
          "text": [
            "Trial 30 pruned. \n",
            "Trial 30 pruned. \n",
            "Trial 30 pruned. \n",
            "Trial 30 pruned. \n",
            "Trial 30 pruned. \n",
            "Trial 30 pruned. \n",
            "Trial 30 pruned. \n",
            "Trial 30 pruned. \n",
            "Trial 30 pruned. \n",
            "Trial 30 pruned. \n",
            "Trial 30 pruned. \n",
            "Trial 30 pruned. \n",
            "Trial 30 pruned. \n",
            "Trial 30 pruned. \n"
          ]
        },
        {
          "output_type": "stream",
          "name": "stderr",
          "text": [
            "\u001b[32m[I 2022-12-24 16:07:32,594]\u001b[0m Trial 31 pruned. \u001b[0m\n"
          ]
        },
        {
          "output_type": "stream",
          "name": "stdout",
          "text": [
            "Trial 31 pruned. \n",
            "Trial 31 pruned. \n",
            "Trial 31 pruned. \n",
            "Trial 31 pruned. \n",
            "Trial 31 pruned. \n",
            "Trial 31 pruned. \n",
            "Trial 31 pruned. \n",
            "Trial 31 pruned. \n",
            "Trial 31 pruned. \n",
            "Trial 31 pruned. \n",
            "Trial 31 pruned. \n",
            "Trial 31 pruned. \n",
            "Trial 31 pruned. \n",
            "Trial 31 pruned. \n"
          ]
        },
        {
          "output_type": "stream",
          "name": "stderr",
          "text": [
            "\u001b[32m[I 2022-12-24 16:07:32,661]\u001b[0m Trial 32 pruned. \u001b[0m\n"
          ]
        },
        {
          "output_type": "stream",
          "name": "stdout",
          "text": [
            "Trial 32 pruned. \n",
            "Trial 32 pruned. \n",
            "Trial 32 pruned. \n",
            "Trial 32 pruned. \n",
            "Trial 32 pruned. \n",
            "Trial 32 pruned. \n",
            "Trial 32 pruned. \n",
            "Trial 32 pruned. \n",
            "Trial 32 pruned. \n",
            "Trial 32 pruned. \n",
            "Trial 32 pruned. \n",
            "Trial 32 pruned. \n",
            "Trial 32 pruned. \n",
            "Trial 32 pruned. \n"
          ]
        },
        {
          "output_type": "stream",
          "name": "stderr",
          "text": [
            "\u001b[32m[I 2022-12-24 16:07:32,722]\u001b[0m Trial 33 pruned. \u001b[0m\n"
          ]
        },
        {
          "output_type": "stream",
          "name": "stdout",
          "text": [
            "Trial 33 pruned. \n",
            "Trial 33 pruned. \n",
            "Trial 33 pruned. \n",
            "Trial 33 pruned. \n",
            "Trial 33 pruned. \n",
            "Trial 33 pruned. \n",
            "Trial 33 pruned. \n",
            "Trial 33 pruned. \n",
            "Trial 33 pruned. \n",
            "Trial 33 pruned. \n",
            "Trial 33 pruned. \n",
            "Trial 33 pruned. \n",
            "Trial 33 pruned. \n",
            "Trial 33 pruned. \n"
          ]
        },
        {
          "output_type": "stream",
          "name": "stderr",
          "text": [
            "\u001b[32m[I 2022-12-24 16:07:32,793]\u001b[0m Trial 34 pruned. \u001b[0m\n"
          ]
        },
        {
          "output_type": "stream",
          "name": "stdout",
          "text": [
            "Trial 34 pruned. \n",
            "Trial 34 pruned. \n",
            "Trial 34 pruned. \n",
            "Trial 34 pruned. \n",
            "Trial 34 pruned. \n",
            "Trial 34 pruned. \n",
            "Trial 34 pruned. \n",
            "Trial 34 pruned. \n",
            "Trial 34 pruned. \n",
            "Trial 34 pruned. \n",
            "Trial 34 pruned. \n",
            "Trial 34 pruned. \n",
            "Trial 34 pruned. \n",
            "Trial 34 pruned. \n"
          ]
        },
        {
          "output_type": "stream",
          "name": "stderr",
          "text": [
            "\u001b[32m[I 2022-12-24 16:07:33,010]\u001b[0m Trial 35 finished with value: 0.14685314685314688 and parameters: {'alpha': 0.0038866692966172426}. Best is trial 10 with value: 0.06293706293706292.\u001b[0m\n"
          ]
        },
        {
          "output_type": "stream",
          "name": "stdout",
          "text": [
            "Trial 35 finished with value: 0.14685314685314688 and parameters: {'alpha': 0.0038866692966172426}. Best is trial 10 with value: 0.06293706293706292.\n",
            "Trial 35 finished with value: 0.14685314685314688 and parameters: {'alpha': 0.0038866692966172426}. Best is trial 10 with value: 0.06293706293706292.\n",
            "Trial 35 finished with value: 0.14685314685314688 and parameters: {'alpha': 0.0038866692966172426}. Best is trial 10 with value: 0.06293706293706292.\n",
            "Trial 35 finished with value: 0.14685314685314688 and parameters: {'alpha': 0.0038866692966172426}. Best is trial 10 with value: 0.06293706293706292.\n",
            "Trial 35 finished with value: 0.14685314685314688 and parameters: {'alpha': 0.0038866692966172426}. Best is trial 10 with value: 0.06293706293706292.\n",
            "Trial 35 finished with value: 0.14685314685314688 and parameters: {'alpha': 0.0038866692966172426}. Best is trial 10 with value: 0.06293706293706292.\n",
            "Trial 35 finished with value: 0.14685314685314688 and parameters: {'alpha': 0.0038866692966172426}. Best is trial 10 with value: 0.06293706293706292.\n",
            "Trial 35 finished with value: 0.14685314685314688 and parameters: {'alpha': 0.0038866692966172426}. Best is trial 10 with value: 0.06293706293706292.\n",
            "Trial 35 finished with value: 0.14685314685314688 and parameters: {'alpha': 0.0038866692966172426}. Best is trial 10 with value: 0.06293706293706292.\n",
            "Trial 35 finished with value: 0.14685314685314688 and parameters: {'alpha': 0.0038866692966172426}. Best is trial 10 with value: 0.06293706293706292.\n",
            "Trial 35 finished with value: 0.14685314685314688 and parameters: {'alpha': 0.0038866692966172426}. Best is trial 10 with value: 0.06293706293706292.\n",
            "Trial 35 finished with value: 0.14685314685314688 and parameters: {'alpha': 0.0038866692966172426}. Best is trial 10 with value: 0.06293706293706292.\n",
            "Trial 35 finished with value: 0.14685314685314688 and parameters: {'alpha': 0.0038866692966172426}. Best is trial 10 with value: 0.06293706293706292.\n",
            "Trial 35 finished with value: 0.14685314685314688 and parameters: {'alpha': 0.0038866692966172426}. Best is trial 10 with value: 0.06293706293706292.\n"
          ]
        },
        {
          "output_type": "stream",
          "name": "stderr",
          "text": [
            "\u001b[32m[I 2022-12-24 16:07:33,194]\u001b[0m Trial 36 finished with value: 0.11888111888111885 and parameters: {'alpha': 0.04616997991899666}. Best is trial 10 with value: 0.06293706293706292.\u001b[0m\n"
          ]
        },
        {
          "output_type": "stream",
          "name": "stdout",
          "text": [
            "Trial 36 finished with value: 0.11888111888111885 and parameters: {'alpha': 0.04616997991899666}. Best is trial 10 with value: 0.06293706293706292.\n",
            "Trial 36 finished with value: 0.11888111888111885 and parameters: {'alpha': 0.04616997991899666}. Best is trial 10 with value: 0.06293706293706292.\n",
            "Trial 36 finished with value: 0.11888111888111885 and parameters: {'alpha': 0.04616997991899666}. Best is trial 10 with value: 0.06293706293706292.\n",
            "Trial 36 finished with value: 0.11888111888111885 and parameters: {'alpha': 0.04616997991899666}. Best is trial 10 with value: 0.06293706293706292.\n",
            "Trial 36 finished with value: 0.11888111888111885 and parameters: {'alpha': 0.04616997991899666}. Best is trial 10 with value: 0.06293706293706292.\n",
            "Trial 36 finished with value: 0.11888111888111885 and parameters: {'alpha': 0.04616997991899666}. Best is trial 10 with value: 0.06293706293706292.\n",
            "Trial 36 finished with value: 0.11888111888111885 and parameters: {'alpha': 0.04616997991899666}. Best is trial 10 with value: 0.06293706293706292.\n",
            "Trial 36 finished with value: 0.11888111888111885 and parameters: {'alpha': 0.04616997991899666}. Best is trial 10 with value: 0.06293706293706292.\n",
            "Trial 36 finished with value: 0.11888111888111885 and parameters: {'alpha': 0.04616997991899666}. Best is trial 10 with value: 0.06293706293706292.\n",
            "Trial 36 finished with value: 0.11888111888111885 and parameters: {'alpha': 0.04616997991899666}. Best is trial 10 with value: 0.06293706293706292.\n",
            "Trial 36 finished with value: 0.11888111888111885 and parameters: {'alpha': 0.04616997991899666}. Best is trial 10 with value: 0.06293706293706292.\n",
            "Trial 36 finished with value: 0.11888111888111885 and parameters: {'alpha': 0.04616997991899666}. Best is trial 10 with value: 0.06293706293706292.\n",
            "Trial 36 finished with value: 0.11888111888111885 and parameters: {'alpha': 0.04616997991899666}. Best is trial 10 with value: 0.06293706293706292.\n",
            "Trial 36 finished with value: 0.11888111888111885 and parameters: {'alpha': 0.04616997991899666}. Best is trial 10 with value: 0.06293706293706292.\n"
          ]
        },
        {
          "output_type": "stream",
          "name": "stderr",
          "text": [
            "\u001b[32m[I 2022-12-24 16:07:33,288]\u001b[0m Trial 37 pruned. \u001b[0m\n"
          ]
        },
        {
          "output_type": "stream",
          "name": "stdout",
          "text": [
            "Trial 37 pruned. \n",
            "Trial 37 pruned. \n",
            "Trial 37 pruned. \n",
            "Trial 37 pruned. \n",
            "Trial 37 pruned. \n",
            "Trial 37 pruned. \n",
            "Trial 37 pruned. \n",
            "Trial 37 pruned. \n",
            "Trial 37 pruned. \n",
            "Trial 37 pruned. \n",
            "Trial 37 pruned. \n",
            "Trial 37 pruned. \n",
            "Trial 37 pruned. \n",
            "Trial 37 pruned. \n"
          ]
        },
        {
          "output_type": "stream",
          "name": "stderr",
          "text": [
            "\u001b[32m[I 2022-12-24 16:07:33,355]\u001b[0m Trial 38 pruned. \u001b[0m\n"
          ]
        },
        {
          "output_type": "stream",
          "name": "stdout",
          "text": [
            "Trial 38 pruned. \n",
            "Trial 38 pruned. \n",
            "Trial 38 pruned. \n",
            "Trial 38 pruned. \n",
            "Trial 38 pruned. \n",
            "Trial 38 pruned. \n",
            "Trial 38 pruned. \n",
            "Trial 38 pruned. \n",
            "Trial 38 pruned. \n",
            "Trial 38 pruned. \n",
            "Trial 38 pruned. \n",
            "Trial 38 pruned. \n",
            "Trial 38 pruned. \n",
            "Trial 38 pruned. \n"
          ]
        },
        {
          "output_type": "stream",
          "name": "stderr",
          "text": [
            "\u001b[32m[I 2022-12-24 16:07:33,538]\u001b[0m Trial 39 finished with value: 0.0699300699300699 and parameters: {'alpha': 0.007361246295513337}. Best is trial 10 with value: 0.06293706293706292.\u001b[0m\n"
          ]
        },
        {
          "output_type": "stream",
          "name": "stdout",
          "text": [
            "Trial 39 finished with value: 0.0699300699300699 and parameters: {'alpha': 0.007361246295513337}. Best is trial 10 with value: 0.06293706293706292.\n",
            "Trial 39 finished with value: 0.0699300699300699 and parameters: {'alpha': 0.007361246295513337}. Best is trial 10 with value: 0.06293706293706292.\n",
            "Trial 39 finished with value: 0.0699300699300699 and parameters: {'alpha': 0.007361246295513337}. Best is trial 10 with value: 0.06293706293706292.\n",
            "Trial 39 finished with value: 0.0699300699300699 and parameters: {'alpha': 0.007361246295513337}. Best is trial 10 with value: 0.06293706293706292.\n",
            "Trial 39 finished with value: 0.0699300699300699 and parameters: {'alpha': 0.007361246295513337}. Best is trial 10 with value: 0.06293706293706292.\n",
            "Trial 39 finished with value: 0.0699300699300699 and parameters: {'alpha': 0.007361246295513337}. Best is trial 10 with value: 0.06293706293706292.\n",
            "Trial 39 finished with value: 0.0699300699300699 and parameters: {'alpha': 0.007361246295513337}. Best is trial 10 with value: 0.06293706293706292.\n",
            "Trial 39 finished with value: 0.0699300699300699 and parameters: {'alpha': 0.007361246295513337}. Best is trial 10 with value: 0.06293706293706292.\n",
            "Trial 39 finished with value: 0.0699300699300699 and parameters: {'alpha': 0.007361246295513337}. Best is trial 10 with value: 0.06293706293706292.\n",
            "Trial 39 finished with value: 0.0699300699300699 and parameters: {'alpha': 0.007361246295513337}. Best is trial 10 with value: 0.06293706293706292.\n",
            "Trial 39 finished with value: 0.0699300699300699 and parameters: {'alpha': 0.007361246295513337}. Best is trial 10 with value: 0.06293706293706292.\n",
            "Trial 39 finished with value: 0.0699300699300699 and parameters: {'alpha': 0.007361246295513337}. Best is trial 10 with value: 0.06293706293706292.\n",
            "Trial 39 finished with value: 0.0699300699300699 and parameters: {'alpha': 0.007361246295513337}. Best is trial 10 with value: 0.06293706293706292.\n",
            "Trial 39 finished with value: 0.0699300699300699 and parameters: {'alpha': 0.007361246295513337}. Best is trial 10 with value: 0.06293706293706292.\n"
          ]
        },
        {
          "output_type": "stream",
          "name": "stderr",
          "text": [
            "\u001b[32m[I 2022-12-24 16:07:33,596]\u001b[0m Trial 40 pruned. \u001b[0m\n"
          ]
        },
        {
          "output_type": "stream",
          "name": "stdout",
          "text": [
            "Trial 40 pruned. \n",
            "Trial 40 pruned. \n",
            "Trial 40 pruned. \n",
            "Trial 40 pruned. \n",
            "Trial 40 pruned. \n",
            "Trial 40 pruned. \n",
            "Trial 40 pruned. \n",
            "Trial 40 pruned. \n",
            "Trial 40 pruned. \n",
            "Trial 40 pruned. \n",
            "Trial 40 pruned. \n",
            "Trial 40 pruned. \n",
            "Trial 40 pruned. \n",
            "Trial 40 pruned. \n"
          ]
        },
        {
          "output_type": "stream",
          "name": "stderr",
          "text": [
            "\u001b[32m[I 2022-12-24 16:07:33,662]\u001b[0m Trial 41 pruned. \u001b[0m\n"
          ]
        },
        {
          "output_type": "stream",
          "name": "stdout",
          "text": [
            "Trial 41 pruned. \n",
            "Trial 41 pruned. \n",
            "Trial 41 pruned. \n",
            "Trial 41 pruned. \n",
            "Trial 41 pruned. \n",
            "Trial 41 pruned. \n",
            "Trial 41 pruned. \n",
            "Trial 41 pruned. \n",
            "Trial 41 pruned. \n",
            "Trial 41 pruned. \n",
            "Trial 41 pruned. \n",
            "Trial 41 pruned. \n",
            "Trial 41 pruned. \n",
            "Trial 41 pruned. \n"
          ]
        },
        {
          "output_type": "stream",
          "name": "stderr",
          "text": [
            "\u001b[32m[I 2022-12-24 16:07:33,720]\u001b[0m Trial 42 pruned. \u001b[0m\n"
          ]
        },
        {
          "output_type": "stream",
          "name": "stdout",
          "text": [
            "Trial 42 pruned. \n",
            "Trial 42 pruned. \n",
            "Trial 42 pruned. \n",
            "Trial 42 pruned. \n",
            "Trial 42 pruned. \n",
            "Trial 42 pruned. \n",
            "Trial 42 pruned. \n",
            "Trial 42 pruned. \n",
            "Trial 42 pruned. \n",
            "Trial 42 pruned. \n",
            "Trial 42 pruned. \n",
            "Trial 42 pruned. \n",
            "Trial 42 pruned. \n",
            "Trial 42 pruned. \n"
          ]
        },
        {
          "output_type": "stream",
          "name": "stderr",
          "text": [
            "\u001b[32m[I 2022-12-24 16:07:33,778]\u001b[0m Trial 43 pruned. \u001b[0m\n"
          ]
        },
        {
          "output_type": "stream",
          "name": "stdout",
          "text": [
            "Trial 43 pruned. \n",
            "Trial 43 pruned. \n",
            "Trial 43 pruned. \n",
            "Trial 43 pruned. \n",
            "Trial 43 pruned. \n",
            "Trial 43 pruned. \n",
            "Trial 43 pruned. \n",
            "Trial 43 pruned. \n",
            "Trial 43 pruned. \n",
            "Trial 43 pruned. \n",
            "Trial 43 pruned. \n",
            "Trial 43 pruned. \n",
            "Trial 43 pruned. \n",
            "Trial 43 pruned. \n"
          ]
        },
        {
          "output_type": "stream",
          "name": "stderr",
          "text": [
            "\u001b[32m[I 2022-12-24 16:07:33,848]\u001b[0m Trial 44 pruned. \u001b[0m\n"
          ]
        },
        {
          "output_type": "stream",
          "name": "stdout",
          "text": [
            "Trial 44 pruned. \n",
            "Trial 44 pruned. \n",
            "Trial 44 pruned. \n",
            "Trial 44 pruned. \n",
            "Trial 44 pruned. \n",
            "Trial 44 pruned. \n",
            "Trial 44 pruned. \n",
            "Trial 44 pruned. \n",
            "Trial 44 pruned. \n",
            "Trial 44 pruned. \n",
            "Trial 44 pruned. \n",
            "Trial 44 pruned. \n",
            "Trial 44 pruned. \n",
            "Trial 44 pruned. \n"
          ]
        },
        {
          "output_type": "stream",
          "name": "stderr",
          "text": [
            "\u001b[32m[I 2022-12-24 16:07:33,915]\u001b[0m Trial 45 pruned. \u001b[0m\n"
          ]
        },
        {
          "output_type": "stream",
          "name": "stdout",
          "text": [
            "Trial 45 pruned. \n",
            "Trial 45 pruned. \n",
            "Trial 45 pruned. \n",
            "Trial 45 pruned. \n",
            "Trial 45 pruned. \n",
            "Trial 45 pruned. \n",
            "Trial 45 pruned. \n",
            "Trial 45 pruned. \n",
            "Trial 45 pruned. \n",
            "Trial 45 pruned. \n",
            "Trial 45 pruned. \n",
            "Trial 45 pruned. \n",
            "Trial 45 pruned. \n",
            "Trial 45 pruned. \n"
          ]
        },
        {
          "output_type": "stream",
          "name": "stderr",
          "text": [
            "\u001b[32m[I 2022-12-24 16:07:33,973]\u001b[0m Trial 46 pruned. \u001b[0m\n"
          ]
        },
        {
          "output_type": "stream",
          "name": "stdout",
          "text": [
            "Trial 46 pruned. \n",
            "Trial 46 pruned. \n",
            "Trial 46 pruned. \n",
            "Trial 46 pruned. \n",
            "Trial 46 pruned. \n",
            "Trial 46 pruned. \n",
            "Trial 46 pruned. \n",
            "Trial 46 pruned. \n",
            "Trial 46 pruned. \n",
            "Trial 46 pruned. \n",
            "Trial 46 pruned. \n",
            "Trial 46 pruned. \n",
            "Trial 46 pruned. \n",
            "Trial 46 pruned. \n"
          ]
        },
        {
          "output_type": "stream",
          "name": "stderr",
          "text": [
            "\u001b[32m[I 2022-12-24 16:07:34,024]\u001b[0m Trial 47 pruned. \u001b[0m\n"
          ]
        },
        {
          "output_type": "stream",
          "name": "stdout",
          "text": [
            "Trial 47 pruned. \n",
            "Trial 47 pruned. \n",
            "Trial 47 pruned. \n",
            "Trial 47 pruned. \n",
            "Trial 47 pruned. \n",
            "Trial 47 pruned. \n",
            "Trial 47 pruned. \n",
            "Trial 47 pruned. \n",
            "Trial 47 pruned. \n",
            "Trial 47 pruned. \n",
            "Trial 47 pruned. \n",
            "Trial 47 pruned. \n",
            "Trial 47 pruned. \n",
            "Trial 47 pruned. \n"
          ]
        },
        {
          "output_type": "stream",
          "name": "stderr",
          "text": [
            "\u001b[32m[I 2022-12-24 16:07:34,094]\u001b[0m Trial 48 pruned. \u001b[0m\n"
          ]
        },
        {
          "output_type": "stream",
          "name": "stdout",
          "text": [
            "Trial 48 pruned. \n",
            "Trial 48 pruned. \n",
            "Trial 48 pruned. \n",
            "Trial 48 pruned. \n",
            "Trial 48 pruned. \n",
            "Trial 48 pruned. \n",
            "Trial 48 pruned. \n",
            "Trial 48 pruned. \n",
            "Trial 48 pruned. \n",
            "Trial 48 pruned. \n",
            "Trial 48 pruned. \n",
            "Trial 48 pruned. \n",
            "Trial 48 pruned. \n",
            "Trial 48 pruned. \n"
          ]
        },
        {
          "output_type": "stream",
          "name": "stderr",
          "text": [
            "\u001b[32m[I 2022-12-24 16:07:34,150]\u001b[0m Trial 49 pruned. \u001b[0m\n"
          ]
        },
        {
          "output_type": "stream",
          "name": "stdout",
          "text": [
            "Trial 49 pruned. \n",
            "Trial 49 pruned. \n",
            "Trial 49 pruned. \n",
            "Trial 49 pruned. \n",
            "Trial 49 pruned. \n",
            "Trial 49 pruned. \n",
            "Trial 49 pruned. \n",
            "Trial 49 pruned. \n",
            "Trial 49 pruned. \n",
            "Trial 49 pruned. \n",
            "Trial 49 pruned. \n",
            "Trial 49 pruned. \n",
            "Trial 49 pruned. \n",
            "Trial 49 pruned. \n"
          ]
        },
        {
          "output_type": "stream",
          "name": "stderr",
          "text": [
            "\u001b[32m[I 2022-12-24 16:07:34,206]\u001b[0m Trial 50 pruned. \u001b[0m\n"
          ]
        },
        {
          "output_type": "stream",
          "name": "stdout",
          "text": [
            "Trial 50 pruned. \n",
            "Trial 50 pruned. \n",
            "Trial 50 pruned. \n",
            "Trial 50 pruned. \n",
            "Trial 50 pruned. \n",
            "Trial 50 pruned. \n",
            "Trial 50 pruned. \n",
            "Trial 50 pruned. \n",
            "Trial 50 pruned. \n",
            "Trial 50 pruned. \n",
            "Trial 50 pruned. \n",
            "Trial 50 pruned. \n",
            "Trial 50 pruned. \n",
            "Trial 50 pruned. \n"
          ]
        },
        {
          "output_type": "stream",
          "name": "stderr",
          "text": [
            "\u001b[32m[I 2022-12-24 16:07:34,270]\u001b[0m Trial 51 pruned. \u001b[0m\n"
          ]
        },
        {
          "output_type": "stream",
          "name": "stdout",
          "text": [
            "Trial 51 pruned. \n",
            "Trial 51 pruned. \n",
            "Trial 51 pruned. \n",
            "Trial 51 pruned. \n",
            "Trial 51 pruned. \n",
            "Trial 51 pruned. \n",
            "Trial 51 pruned. \n",
            "Trial 51 pruned. \n",
            "Trial 51 pruned. \n",
            "Trial 51 pruned. \n",
            "Trial 51 pruned. \n",
            "Trial 51 pruned. \n",
            "Trial 51 pruned. \n",
            "Trial 51 pruned. \n"
          ]
        },
        {
          "output_type": "stream",
          "name": "stderr",
          "text": [
            "\u001b[32m[I 2022-12-24 16:07:34,326]\u001b[0m Trial 52 pruned. \u001b[0m\n"
          ]
        },
        {
          "output_type": "stream",
          "name": "stdout",
          "text": [
            "Trial 52 pruned. \n",
            "Trial 52 pruned. \n",
            "Trial 52 pruned. \n",
            "Trial 52 pruned. \n",
            "Trial 52 pruned. \n",
            "Trial 52 pruned. \n",
            "Trial 52 pruned. \n",
            "Trial 52 pruned. \n",
            "Trial 52 pruned. \n",
            "Trial 52 pruned. \n",
            "Trial 52 pruned. \n",
            "Trial 52 pruned. \n",
            "Trial 52 pruned. \n",
            "Trial 52 pruned. \n"
          ]
        },
        {
          "output_type": "stream",
          "name": "stderr",
          "text": [
            "\u001b[32m[I 2022-12-24 16:07:34,385]\u001b[0m Trial 53 pruned. \u001b[0m\n"
          ]
        },
        {
          "output_type": "stream",
          "name": "stdout",
          "text": [
            "Trial 53 pruned. \n",
            "Trial 53 pruned. \n",
            "Trial 53 pruned. \n",
            "Trial 53 pruned. \n",
            "Trial 53 pruned. \n",
            "Trial 53 pruned. \n",
            "Trial 53 pruned. \n",
            "Trial 53 pruned. \n",
            "Trial 53 pruned. \n",
            "Trial 53 pruned. \n",
            "Trial 53 pruned. \n",
            "Trial 53 pruned. \n",
            "Trial 53 pruned. \n",
            "Trial 53 pruned. \n"
          ]
        },
        {
          "output_type": "stream",
          "name": "stderr",
          "text": [
            "\u001b[32m[I 2022-12-24 16:07:34,445]\u001b[0m Trial 54 pruned. \u001b[0m\n"
          ]
        },
        {
          "output_type": "stream",
          "name": "stdout",
          "text": [
            "Trial 54 pruned. \n",
            "Trial 54 pruned. \n",
            "Trial 54 pruned. \n",
            "Trial 54 pruned. \n",
            "Trial 54 pruned. \n",
            "Trial 54 pruned. \n",
            "Trial 54 pruned. \n",
            "Trial 54 pruned. \n",
            "Trial 54 pruned. \n",
            "Trial 54 pruned. \n",
            "Trial 54 pruned. \n",
            "Trial 54 pruned. \n",
            "Trial 54 pruned. \n",
            "Trial 54 pruned. \n"
          ]
        },
        {
          "output_type": "stream",
          "name": "stderr",
          "text": [
            "\u001b[32m[I 2022-12-24 16:07:34,679]\u001b[0m Trial 55 finished with value: 0.15384615384615385 and parameters: {'alpha': 0.010533118855635359}. Best is trial 10 with value: 0.06293706293706292.\u001b[0m\n"
          ]
        },
        {
          "output_type": "stream",
          "name": "stdout",
          "text": [
            "Trial 55 finished with value: 0.15384615384615385 and parameters: {'alpha': 0.010533118855635359}. Best is trial 10 with value: 0.06293706293706292.\n",
            "Trial 55 finished with value: 0.15384615384615385 and parameters: {'alpha': 0.010533118855635359}. Best is trial 10 with value: 0.06293706293706292.\n",
            "Trial 55 finished with value: 0.15384615384615385 and parameters: {'alpha': 0.010533118855635359}. Best is trial 10 with value: 0.06293706293706292.\n",
            "Trial 55 finished with value: 0.15384615384615385 and parameters: {'alpha': 0.010533118855635359}. Best is trial 10 with value: 0.06293706293706292.\n",
            "Trial 55 finished with value: 0.15384615384615385 and parameters: {'alpha': 0.010533118855635359}. Best is trial 10 with value: 0.06293706293706292.\n",
            "Trial 55 finished with value: 0.15384615384615385 and parameters: {'alpha': 0.010533118855635359}. Best is trial 10 with value: 0.06293706293706292.\n",
            "Trial 55 finished with value: 0.15384615384615385 and parameters: {'alpha': 0.010533118855635359}. Best is trial 10 with value: 0.06293706293706292.\n",
            "Trial 55 finished with value: 0.15384615384615385 and parameters: {'alpha': 0.010533118855635359}. Best is trial 10 with value: 0.06293706293706292.\n",
            "Trial 55 finished with value: 0.15384615384615385 and parameters: {'alpha': 0.010533118855635359}. Best is trial 10 with value: 0.06293706293706292.\n",
            "Trial 55 finished with value: 0.15384615384615385 and parameters: {'alpha': 0.010533118855635359}. Best is trial 10 with value: 0.06293706293706292.\n",
            "Trial 55 finished with value: 0.15384615384615385 and parameters: {'alpha': 0.010533118855635359}. Best is trial 10 with value: 0.06293706293706292.\n",
            "Trial 55 finished with value: 0.15384615384615385 and parameters: {'alpha': 0.010533118855635359}. Best is trial 10 with value: 0.06293706293706292.\n",
            "Trial 55 finished with value: 0.15384615384615385 and parameters: {'alpha': 0.010533118855635359}. Best is trial 10 with value: 0.06293706293706292.\n",
            "Trial 55 finished with value: 0.15384615384615385 and parameters: {'alpha': 0.010533118855635359}. Best is trial 10 with value: 0.06293706293706292.\n"
          ]
        },
        {
          "output_type": "stream",
          "name": "stderr",
          "text": [
            "\u001b[32m[I 2022-12-24 16:07:34,739]\u001b[0m Trial 56 pruned. \u001b[0m\n"
          ]
        },
        {
          "output_type": "stream",
          "name": "stdout",
          "text": [
            "Trial 56 pruned. \n",
            "Trial 56 pruned. \n",
            "Trial 56 pruned. \n",
            "Trial 56 pruned. \n",
            "Trial 56 pruned. \n",
            "Trial 56 pruned. \n",
            "Trial 56 pruned. \n",
            "Trial 56 pruned. \n",
            "Trial 56 pruned. \n",
            "Trial 56 pruned. \n",
            "Trial 56 pruned. \n",
            "Trial 56 pruned. \n",
            "Trial 56 pruned. \n",
            "Trial 56 pruned. \n"
          ]
        },
        {
          "output_type": "stream",
          "name": "stderr",
          "text": [
            "\u001b[32m[I 2022-12-24 16:07:34,797]\u001b[0m Trial 57 pruned. \u001b[0m\n"
          ]
        },
        {
          "output_type": "stream",
          "name": "stdout",
          "text": [
            "Trial 57 pruned. \n",
            "Trial 57 pruned. \n",
            "Trial 57 pruned. \n",
            "Trial 57 pruned. \n",
            "Trial 57 pruned. \n",
            "Trial 57 pruned. \n",
            "Trial 57 pruned. \n",
            "Trial 57 pruned. \n",
            "Trial 57 pruned. \n",
            "Trial 57 pruned. \n",
            "Trial 57 pruned. \n",
            "Trial 57 pruned. \n",
            "Trial 57 pruned. \n",
            "Trial 57 pruned. \n"
          ]
        },
        {
          "output_type": "stream",
          "name": "stderr",
          "text": [
            "\u001b[32m[I 2022-12-24 16:07:34,855]\u001b[0m Trial 58 pruned. \u001b[0m\n"
          ]
        },
        {
          "output_type": "stream",
          "name": "stdout",
          "text": [
            "Trial 58 pruned. \n",
            "Trial 58 pruned. \n",
            "Trial 58 pruned. \n",
            "Trial 58 pruned. \n",
            "Trial 58 pruned. \n",
            "Trial 58 pruned. \n",
            "Trial 58 pruned. \n",
            "Trial 58 pruned. \n",
            "Trial 58 pruned. \n",
            "Trial 58 pruned. \n",
            "Trial 58 pruned. \n",
            "Trial 58 pruned. \n",
            "Trial 58 pruned. \n",
            "Trial 58 pruned. \n"
          ]
        },
        {
          "output_type": "stream",
          "name": "stderr",
          "text": [
            "\u001b[32m[I 2022-12-24 16:07:34,910]\u001b[0m Trial 59 pruned. \u001b[0m\n"
          ]
        },
        {
          "output_type": "stream",
          "name": "stdout",
          "text": [
            "Trial 59 pruned. \n",
            "Trial 59 pruned. \n",
            "Trial 59 pruned. \n",
            "Trial 59 pruned. \n",
            "Trial 59 pruned. \n",
            "Trial 59 pruned. \n",
            "Trial 59 pruned. \n",
            "Trial 59 pruned. \n",
            "Trial 59 pruned. \n",
            "Trial 59 pruned. \n",
            "Trial 59 pruned. \n",
            "Trial 59 pruned. \n",
            "Trial 59 pruned. \n",
            "Trial 59 pruned. \n"
          ]
        },
        {
          "output_type": "stream",
          "name": "stderr",
          "text": [
            "\u001b[32m[I 2022-12-24 16:07:34,971]\u001b[0m Trial 60 pruned. \u001b[0m\n"
          ]
        },
        {
          "output_type": "stream",
          "name": "stdout",
          "text": [
            "Trial 60 pruned. \n",
            "Trial 60 pruned. \n",
            "Trial 60 pruned. \n",
            "Trial 60 pruned. \n",
            "Trial 60 pruned. \n",
            "Trial 60 pruned. \n",
            "Trial 60 pruned. \n",
            "Trial 60 pruned. \n",
            "Trial 60 pruned. \n",
            "Trial 60 pruned. \n",
            "Trial 60 pruned. \n",
            "Trial 60 pruned. \n",
            "Trial 60 pruned. \n",
            "Trial 60 pruned. \n"
          ]
        },
        {
          "output_type": "stream",
          "name": "stderr",
          "text": [
            "\u001b[32m[I 2022-12-24 16:07:35,032]\u001b[0m Trial 61 pruned. \u001b[0m\n"
          ]
        },
        {
          "output_type": "stream",
          "name": "stdout",
          "text": [
            "Trial 61 pruned. \n",
            "Trial 61 pruned. \n",
            "Trial 61 pruned. \n",
            "Trial 61 pruned. \n",
            "Trial 61 pruned. \n",
            "Trial 61 pruned. \n",
            "Trial 61 pruned. \n",
            "Trial 61 pruned. \n",
            "Trial 61 pruned. \n",
            "Trial 61 pruned. \n",
            "Trial 61 pruned. \n",
            "Trial 61 pruned. \n",
            "Trial 61 pruned. \n",
            "Trial 61 pruned. \n"
          ]
        },
        {
          "output_type": "stream",
          "name": "stderr",
          "text": [
            "\u001b[32m[I 2022-12-24 16:07:35,087]\u001b[0m Trial 62 pruned. \u001b[0m\n"
          ]
        },
        {
          "output_type": "stream",
          "name": "stdout",
          "text": [
            "Trial 62 pruned. \n",
            "Trial 62 pruned. \n",
            "Trial 62 pruned. \n",
            "Trial 62 pruned. \n",
            "Trial 62 pruned. \n",
            "Trial 62 pruned. \n",
            "Trial 62 pruned. \n",
            "Trial 62 pruned. \n",
            "Trial 62 pruned. \n",
            "Trial 62 pruned. \n",
            "Trial 62 pruned. \n",
            "Trial 62 pruned. \n",
            "Trial 62 pruned. \n",
            "Trial 62 pruned. \n"
          ]
        },
        {
          "output_type": "stream",
          "name": "stderr",
          "text": [
            "\u001b[32m[I 2022-12-24 16:07:35,146]\u001b[0m Trial 63 pruned. \u001b[0m\n"
          ]
        },
        {
          "output_type": "stream",
          "name": "stdout",
          "text": [
            "Trial 63 pruned. \n",
            "Trial 63 pruned. \n",
            "Trial 63 pruned. \n",
            "Trial 63 pruned. \n",
            "Trial 63 pruned. \n",
            "Trial 63 pruned. \n",
            "Trial 63 pruned. \n",
            "Trial 63 pruned. \n",
            "Trial 63 pruned. \n",
            "Trial 63 pruned. \n",
            "Trial 63 pruned. \n",
            "Trial 63 pruned. \n",
            "Trial 63 pruned. \n",
            "Trial 63 pruned. \n"
          ]
        },
        {
          "output_type": "stream",
          "name": "stderr",
          "text": [
            "\u001b[32m[I 2022-12-24 16:07:35,202]\u001b[0m Trial 64 pruned. \u001b[0m\n"
          ]
        },
        {
          "output_type": "stream",
          "name": "stdout",
          "text": [
            "Trial 64 pruned. \n",
            "Trial 64 pruned. \n",
            "Trial 64 pruned. \n",
            "Trial 64 pruned. \n",
            "Trial 64 pruned. \n",
            "Trial 64 pruned. \n",
            "Trial 64 pruned. \n",
            "Trial 64 pruned. \n",
            "Trial 64 pruned. \n",
            "Trial 64 pruned. \n",
            "Trial 64 pruned. \n",
            "Trial 64 pruned. \n",
            "Trial 64 pruned. \n",
            "Trial 64 pruned. \n"
          ]
        },
        {
          "output_type": "stream",
          "name": "stderr",
          "text": [
            "\u001b[32m[I 2022-12-24 16:07:35,438]\u001b[0m Trial 65 finished with value: 0.15384615384615385 and parameters: {'alpha': 0.013301871615236945}. Best is trial 10 with value: 0.06293706293706292.\u001b[0m\n"
          ]
        },
        {
          "output_type": "stream",
          "name": "stdout",
          "text": [
            "Trial 65 finished with value: 0.15384615384615385 and parameters: {'alpha': 0.013301871615236945}. Best is trial 10 with value: 0.06293706293706292.\n",
            "Trial 65 finished with value: 0.15384615384615385 and parameters: {'alpha': 0.013301871615236945}. Best is trial 10 with value: 0.06293706293706292.\n",
            "Trial 65 finished with value: 0.15384615384615385 and parameters: {'alpha': 0.013301871615236945}. Best is trial 10 with value: 0.06293706293706292.\n",
            "Trial 65 finished with value: 0.15384615384615385 and parameters: {'alpha': 0.013301871615236945}. Best is trial 10 with value: 0.06293706293706292.\n",
            "Trial 65 finished with value: 0.15384615384615385 and parameters: {'alpha': 0.013301871615236945}. Best is trial 10 with value: 0.06293706293706292.\n",
            "Trial 65 finished with value: 0.15384615384615385 and parameters: {'alpha': 0.013301871615236945}. Best is trial 10 with value: 0.06293706293706292.\n",
            "Trial 65 finished with value: 0.15384615384615385 and parameters: {'alpha': 0.013301871615236945}. Best is trial 10 with value: 0.06293706293706292.\n",
            "Trial 65 finished with value: 0.15384615384615385 and parameters: {'alpha': 0.013301871615236945}. Best is trial 10 with value: 0.06293706293706292.\n",
            "Trial 65 finished with value: 0.15384615384615385 and parameters: {'alpha': 0.013301871615236945}. Best is trial 10 with value: 0.06293706293706292.\n",
            "Trial 65 finished with value: 0.15384615384615385 and parameters: {'alpha': 0.013301871615236945}. Best is trial 10 with value: 0.06293706293706292.\n",
            "Trial 65 finished with value: 0.15384615384615385 and parameters: {'alpha': 0.013301871615236945}. Best is trial 10 with value: 0.06293706293706292.\n",
            "Trial 65 finished with value: 0.15384615384615385 and parameters: {'alpha': 0.013301871615236945}. Best is trial 10 with value: 0.06293706293706292.\n",
            "Trial 65 finished with value: 0.15384615384615385 and parameters: {'alpha': 0.013301871615236945}. Best is trial 10 with value: 0.06293706293706292.\n",
            "Trial 65 finished with value: 0.15384615384615385 and parameters: {'alpha': 0.013301871615236945}. Best is trial 10 with value: 0.06293706293706292.\n"
          ]
        },
        {
          "output_type": "stream",
          "name": "stderr",
          "text": [
            "\u001b[32m[I 2022-12-24 16:07:35,493]\u001b[0m Trial 66 pruned. \u001b[0m\n"
          ]
        },
        {
          "output_type": "stream",
          "name": "stdout",
          "text": [
            "Trial 66 pruned. \n",
            "Trial 66 pruned. \n",
            "Trial 66 pruned. \n",
            "Trial 66 pruned. \n",
            "Trial 66 pruned. \n",
            "Trial 66 pruned. \n",
            "Trial 66 pruned. \n",
            "Trial 66 pruned. \n",
            "Trial 66 pruned. \n",
            "Trial 66 pruned. \n",
            "Trial 66 pruned. \n",
            "Trial 66 pruned. \n",
            "Trial 66 pruned. \n",
            "Trial 66 pruned. \n"
          ]
        },
        {
          "output_type": "stream",
          "name": "stderr",
          "text": [
            "\u001b[32m[I 2022-12-24 16:07:35,578]\u001b[0m Trial 67 pruned. \u001b[0m\n"
          ]
        },
        {
          "output_type": "stream",
          "name": "stdout",
          "text": [
            "Trial 67 pruned. \n",
            "Trial 67 pruned. \n",
            "Trial 67 pruned. \n",
            "Trial 67 pruned. \n",
            "Trial 67 pruned. \n",
            "Trial 67 pruned. \n",
            "Trial 67 pruned. \n",
            "Trial 67 pruned. \n",
            "Trial 67 pruned. \n",
            "Trial 67 pruned. \n",
            "Trial 67 pruned. \n",
            "Trial 67 pruned. \n",
            "Trial 67 pruned. \n",
            "Trial 67 pruned. \n"
          ]
        },
        {
          "output_type": "stream",
          "name": "stderr",
          "text": [
            "\u001b[32m[I 2022-12-24 16:07:35,635]\u001b[0m Trial 68 pruned. \u001b[0m\n"
          ]
        },
        {
          "output_type": "stream",
          "name": "stdout",
          "text": [
            "Trial 68 pruned. \n",
            "Trial 68 pruned. \n",
            "Trial 68 pruned. \n",
            "Trial 68 pruned. \n",
            "Trial 68 pruned. \n",
            "Trial 68 pruned. \n",
            "Trial 68 pruned. \n",
            "Trial 68 pruned. \n",
            "Trial 68 pruned. \n",
            "Trial 68 pruned. \n",
            "Trial 68 pruned. \n",
            "Trial 68 pruned. \n",
            "Trial 68 pruned. \n",
            "Trial 68 pruned. \n"
          ]
        },
        {
          "output_type": "stream",
          "name": "stderr",
          "text": [
            "\u001b[32m[I 2022-12-24 16:07:35,690]\u001b[0m Trial 69 pruned. \u001b[0m\n"
          ]
        },
        {
          "output_type": "stream",
          "name": "stdout",
          "text": [
            "Trial 69 pruned. \n",
            "Trial 69 pruned. \n",
            "Trial 69 pruned. \n",
            "Trial 69 pruned. \n",
            "Trial 69 pruned. \n",
            "Trial 69 pruned. \n",
            "Trial 69 pruned. \n",
            "Trial 69 pruned. \n",
            "Trial 69 pruned. \n",
            "Trial 69 pruned. \n",
            "Trial 69 pruned. \n",
            "Trial 69 pruned. \n",
            "Trial 69 pruned. \n",
            "Trial 69 pruned. \n"
          ]
        },
        {
          "output_type": "stream",
          "name": "stderr",
          "text": [
            "\u001b[32m[I 2022-12-24 16:07:35,752]\u001b[0m Trial 70 pruned. \u001b[0m\n"
          ]
        },
        {
          "output_type": "stream",
          "name": "stdout",
          "text": [
            "Trial 70 pruned. \n",
            "Trial 70 pruned. \n",
            "Trial 70 pruned. \n",
            "Trial 70 pruned. \n",
            "Trial 70 pruned. \n",
            "Trial 70 pruned. \n",
            "Trial 70 pruned. \n",
            "Trial 70 pruned. \n",
            "Trial 70 pruned. \n",
            "Trial 70 pruned. \n",
            "Trial 70 pruned. \n",
            "Trial 70 pruned. \n",
            "Trial 70 pruned. \n",
            "Trial 70 pruned. \n"
          ]
        },
        {
          "output_type": "stream",
          "name": "stderr",
          "text": [
            "\u001b[32m[I 2022-12-24 16:07:35,808]\u001b[0m Trial 71 pruned. \u001b[0m\n"
          ]
        },
        {
          "output_type": "stream",
          "name": "stdout",
          "text": [
            "Trial 71 pruned. \n",
            "Trial 71 pruned. \n",
            "Trial 71 pruned. \n",
            "Trial 71 pruned. \n",
            "Trial 71 pruned. \n",
            "Trial 71 pruned. \n",
            "Trial 71 pruned. \n",
            "Trial 71 pruned. \n",
            "Trial 71 pruned. \n",
            "Trial 71 pruned. \n",
            "Trial 71 pruned. \n",
            "Trial 71 pruned. \n",
            "Trial 71 pruned. \n",
            "Trial 71 pruned. \n"
          ]
        },
        {
          "output_type": "stream",
          "name": "stderr",
          "text": [
            "\u001b[32m[I 2022-12-24 16:07:35,868]\u001b[0m Trial 72 pruned. \u001b[0m\n"
          ]
        },
        {
          "output_type": "stream",
          "name": "stdout",
          "text": [
            "Trial 72 pruned. \n",
            "Trial 72 pruned. \n",
            "Trial 72 pruned. \n",
            "Trial 72 pruned. \n",
            "Trial 72 pruned. \n",
            "Trial 72 pruned. \n",
            "Trial 72 pruned. \n",
            "Trial 72 pruned. \n",
            "Trial 72 pruned. \n",
            "Trial 72 pruned. \n",
            "Trial 72 pruned. \n",
            "Trial 72 pruned. \n",
            "Trial 72 pruned. \n",
            "Trial 72 pruned. \n"
          ]
        },
        {
          "output_type": "stream",
          "name": "stderr",
          "text": [
            "\u001b[32m[I 2022-12-24 16:07:35,926]\u001b[0m Trial 73 pruned. \u001b[0m\n"
          ]
        },
        {
          "output_type": "stream",
          "name": "stdout",
          "text": [
            "Trial 73 pruned. \n",
            "Trial 73 pruned. \n",
            "Trial 73 pruned. \n",
            "Trial 73 pruned. \n",
            "Trial 73 pruned. \n",
            "Trial 73 pruned. \n",
            "Trial 73 pruned. \n",
            "Trial 73 pruned. \n",
            "Trial 73 pruned. \n",
            "Trial 73 pruned. \n",
            "Trial 73 pruned. \n",
            "Trial 73 pruned. \n",
            "Trial 73 pruned. \n",
            "Trial 73 pruned. \n"
          ]
        },
        {
          "output_type": "stream",
          "name": "stderr",
          "text": [
            "\u001b[32m[I 2022-12-24 16:07:35,986]\u001b[0m Trial 74 pruned. \u001b[0m\n"
          ]
        },
        {
          "output_type": "stream",
          "name": "stdout",
          "text": [
            "Trial 74 pruned. \n",
            "Trial 74 pruned. \n",
            "Trial 74 pruned. \n",
            "Trial 74 pruned. \n",
            "Trial 74 pruned. \n",
            "Trial 74 pruned. \n",
            "Trial 74 pruned. \n",
            "Trial 74 pruned. \n",
            "Trial 74 pruned. \n",
            "Trial 74 pruned. \n",
            "Trial 74 pruned. \n",
            "Trial 74 pruned. \n",
            "Trial 74 pruned. \n",
            "Trial 74 pruned. \n"
          ]
        },
        {
          "output_type": "stream",
          "name": "stderr",
          "text": [
            "\u001b[32m[I 2022-12-24 16:07:36,241]\u001b[0m Trial 75 finished with value: 0.30069930069930073 and parameters: {'alpha': 3.666368365863655e-05}. Best is trial 10 with value: 0.06293706293706292.\u001b[0m\n"
          ]
        },
        {
          "output_type": "stream",
          "name": "stdout",
          "text": [
            "Trial 75 finished with value: 0.30069930069930073 and parameters: {'alpha': 3.666368365863655e-05}. Best is trial 10 with value: 0.06293706293706292.\n",
            "Trial 75 finished with value: 0.30069930069930073 and parameters: {'alpha': 3.666368365863655e-05}. Best is trial 10 with value: 0.06293706293706292.\n",
            "Trial 75 finished with value: 0.30069930069930073 and parameters: {'alpha': 3.666368365863655e-05}. Best is trial 10 with value: 0.06293706293706292.\n",
            "Trial 75 finished with value: 0.30069930069930073 and parameters: {'alpha': 3.666368365863655e-05}. Best is trial 10 with value: 0.06293706293706292.\n",
            "Trial 75 finished with value: 0.30069930069930073 and parameters: {'alpha': 3.666368365863655e-05}. Best is trial 10 with value: 0.06293706293706292.\n",
            "Trial 75 finished with value: 0.30069930069930073 and parameters: {'alpha': 3.666368365863655e-05}. Best is trial 10 with value: 0.06293706293706292.\n",
            "Trial 75 finished with value: 0.30069930069930073 and parameters: {'alpha': 3.666368365863655e-05}. Best is trial 10 with value: 0.06293706293706292.\n",
            "Trial 75 finished with value: 0.30069930069930073 and parameters: {'alpha': 3.666368365863655e-05}. Best is trial 10 with value: 0.06293706293706292.\n",
            "Trial 75 finished with value: 0.30069930069930073 and parameters: {'alpha': 3.666368365863655e-05}. Best is trial 10 with value: 0.06293706293706292.\n",
            "Trial 75 finished with value: 0.30069930069930073 and parameters: {'alpha': 3.666368365863655e-05}. Best is trial 10 with value: 0.06293706293706292.\n",
            "Trial 75 finished with value: 0.30069930069930073 and parameters: {'alpha': 3.666368365863655e-05}. Best is trial 10 with value: 0.06293706293706292.\n",
            "Trial 75 finished with value: 0.30069930069930073 and parameters: {'alpha': 3.666368365863655e-05}. Best is trial 10 with value: 0.06293706293706292.\n",
            "Trial 75 finished with value: 0.30069930069930073 and parameters: {'alpha': 3.666368365863655e-05}. Best is trial 10 with value: 0.06293706293706292.\n",
            "Trial 75 finished with value: 0.30069930069930073 and parameters: {'alpha': 3.666368365863655e-05}. Best is trial 10 with value: 0.06293706293706292.\n"
          ]
        },
        {
          "output_type": "stream",
          "name": "stderr",
          "text": [
            "\u001b[32m[I 2022-12-24 16:07:36,296]\u001b[0m Trial 76 pruned. \u001b[0m\n"
          ]
        },
        {
          "output_type": "stream",
          "name": "stdout",
          "text": [
            "Trial 76 pruned. \n",
            "Trial 76 pruned. \n",
            "Trial 76 pruned. \n",
            "Trial 76 pruned. \n",
            "Trial 76 pruned. \n",
            "Trial 76 pruned. \n",
            "Trial 76 pruned. \n",
            "Trial 76 pruned. \n",
            "Trial 76 pruned. \n",
            "Trial 76 pruned. \n",
            "Trial 76 pruned. \n",
            "Trial 76 pruned. \n",
            "Trial 76 pruned. \n",
            "Trial 76 pruned. \n"
          ]
        },
        {
          "output_type": "stream",
          "name": "stderr",
          "text": [
            "\u001b[32m[I 2022-12-24 16:07:36,516]\u001b[0m Trial 77 finished with value: 0.1048951048951049 and parameters: {'alpha': 0.02610577717780858}. Best is trial 10 with value: 0.06293706293706292.\u001b[0m\n"
          ]
        },
        {
          "output_type": "stream",
          "name": "stdout",
          "text": [
            "Trial 77 finished with value: 0.1048951048951049 and parameters: {'alpha': 0.02610577717780858}. Best is trial 10 with value: 0.06293706293706292.\n",
            "Trial 77 finished with value: 0.1048951048951049 and parameters: {'alpha': 0.02610577717780858}. Best is trial 10 with value: 0.06293706293706292.\n",
            "Trial 77 finished with value: 0.1048951048951049 and parameters: {'alpha': 0.02610577717780858}. Best is trial 10 with value: 0.06293706293706292.\n",
            "Trial 77 finished with value: 0.1048951048951049 and parameters: {'alpha': 0.02610577717780858}. Best is trial 10 with value: 0.06293706293706292.\n",
            "Trial 77 finished with value: 0.1048951048951049 and parameters: {'alpha': 0.02610577717780858}. Best is trial 10 with value: 0.06293706293706292.\n",
            "Trial 77 finished with value: 0.1048951048951049 and parameters: {'alpha': 0.02610577717780858}. Best is trial 10 with value: 0.06293706293706292.\n",
            "Trial 77 finished with value: 0.1048951048951049 and parameters: {'alpha': 0.02610577717780858}. Best is trial 10 with value: 0.06293706293706292.\n",
            "Trial 77 finished with value: 0.1048951048951049 and parameters: {'alpha': 0.02610577717780858}. Best is trial 10 with value: 0.06293706293706292.\n",
            "Trial 77 finished with value: 0.1048951048951049 and parameters: {'alpha': 0.02610577717780858}. Best is trial 10 with value: 0.06293706293706292.\n",
            "Trial 77 finished with value: 0.1048951048951049 and parameters: {'alpha': 0.02610577717780858}. Best is trial 10 with value: 0.06293706293706292.\n",
            "Trial 77 finished with value: 0.1048951048951049 and parameters: {'alpha': 0.02610577717780858}. Best is trial 10 with value: 0.06293706293706292.\n",
            "Trial 77 finished with value: 0.1048951048951049 and parameters: {'alpha': 0.02610577717780858}. Best is trial 10 with value: 0.06293706293706292.\n",
            "Trial 77 finished with value: 0.1048951048951049 and parameters: {'alpha': 0.02610577717780858}. Best is trial 10 with value: 0.06293706293706292.\n",
            "Trial 77 finished with value: 0.1048951048951049 and parameters: {'alpha': 0.02610577717780858}. Best is trial 10 with value: 0.06293706293706292.\n"
          ]
        },
        {
          "output_type": "stream",
          "name": "stderr",
          "text": [
            "\u001b[32m[I 2022-12-24 16:07:36,576]\u001b[0m Trial 78 pruned. \u001b[0m\n"
          ]
        },
        {
          "output_type": "stream",
          "name": "stdout",
          "text": [
            "Trial 78 pruned. \n",
            "Trial 78 pruned. \n",
            "Trial 78 pruned. \n",
            "Trial 78 pruned. \n",
            "Trial 78 pruned. \n",
            "Trial 78 pruned. \n",
            "Trial 78 pruned. \n",
            "Trial 78 pruned. \n",
            "Trial 78 pruned. \n",
            "Trial 78 pruned. \n",
            "Trial 78 pruned. \n",
            "Trial 78 pruned. \n",
            "Trial 78 pruned. \n",
            "Trial 78 pruned. \n"
          ]
        },
        {
          "output_type": "stream",
          "name": "stderr",
          "text": [
            "\u001b[32m[I 2022-12-24 16:07:36,632]\u001b[0m Trial 79 pruned. \u001b[0m\n"
          ]
        },
        {
          "output_type": "stream",
          "name": "stdout",
          "text": [
            "Trial 79 pruned. \n",
            "Trial 79 pruned. \n",
            "Trial 79 pruned. \n",
            "Trial 79 pruned. \n",
            "Trial 79 pruned. \n",
            "Trial 79 pruned. \n",
            "Trial 79 pruned. \n",
            "Trial 79 pruned. \n",
            "Trial 79 pruned. \n",
            "Trial 79 pruned. \n",
            "Trial 79 pruned. \n",
            "Trial 79 pruned. \n",
            "Trial 79 pruned. \n",
            "Trial 79 pruned. \n"
          ]
        },
        {
          "output_type": "stream",
          "name": "stderr",
          "text": [
            "\u001b[32m[I 2022-12-24 16:07:36,690]\u001b[0m Trial 80 pruned. \u001b[0m\n"
          ]
        },
        {
          "output_type": "stream",
          "name": "stdout",
          "text": [
            "Trial 80 pruned. \n",
            "Trial 80 pruned. \n",
            "Trial 80 pruned. \n",
            "Trial 80 pruned. \n",
            "Trial 80 pruned. \n",
            "Trial 80 pruned. \n",
            "Trial 80 pruned. \n",
            "Trial 80 pruned. \n",
            "Trial 80 pruned. \n",
            "Trial 80 pruned. \n",
            "Trial 80 pruned. \n",
            "Trial 80 pruned. \n",
            "Trial 80 pruned. \n",
            "Trial 80 pruned. \n"
          ]
        },
        {
          "output_type": "stream",
          "name": "stderr",
          "text": [
            "\u001b[32m[I 2022-12-24 16:07:36,741]\u001b[0m Trial 81 pruned. \u001b[0m\n"
          ]
        },
        {
          "output_type": "stream",
          "name": "stdout",
          "text": [
            "Trial 81 pruned. \n",
            "Trial 81 pruned. \n",
            "Trial 81 pruned. \n",
            "Trial 81 pruned. \n",
            "Trial 81 pruned. \n",
            "Trial 81 pruned. \n",
            "Trial 81 pruned. \n",
            "Trial 81 pruned. \n",
            "Trial 81 pruned. \n",
            "Trial 81 pruned. \n",
            "Trial 81 pruned. \n",
            "Trial 81 pruned. \n",
            "Trial 81 pruned. \n",
            "Trial 81 pruned. \n"
          ]
        },
        {
          "output_type": "stream",
          "name": "stderr",
          "text": [
            "\u001b[32m[I 2022-12-24 16:07:36,806]\u001b[0m Trial 82 pruned. \u001b[0m\n"
          ]
        },
        {
          "output_type": "stream",
          "name": "stdout",
          "text": [
            "Trial 82 pruned. \n",
            "Trial 82 pruned. \n",
            "Trial 82 pruned. \n",
            "Trial 82 pruned. \n",
            "Trial 82 pruned. \n",
            "Trial 82 pruned. \n",
            "Trial 82 pruned. \n",
            "Trial 82 pruned. \n",
            "Trial 82 pruned. \n",
            "Trial 82 pruned. \n",
            "Trial 82 pruned. \n",
            "Trial 82 pruned. \n",
            "Trial 82 pruned. \n",
            "Trial 82 pruned. \n"
          ]
        },
        {
          "output_type": "stream",
          "name": "stderr",
          "text": [
            "\u001b[32m[I 2022-12-24 16:07:36,861]\u001b[0m Trial 83 pruned. \u001b[0m\n"
          ]
        },
        {
          "output_type": "stream",
          "name": "stdout",
          "text": [
            "Trial 83 pruned. \n",
            "Trial 83 pruned. \n",
            "Trial 83 pruned. \n",
            "Trial 83 pruned. \n",
            "Trial 83 pruned. \n",
            "Trial 83 pruned. \n",
            "Trial 83 pruned. \n",
            "Trial 83 pruned. \n",
            "Trial 83 pruned. \n",
            "Trial 83 pruned. \n",
            "Trial 83 pruned. \n",
            "Trial 83 pruned. \n",
            "Trial 83 pruned. \n",
            "Trial 83 pruned. \n"
          ]
        },
        {
          "output_type": "stream",
          "name": "stderr",
          "text": [
            "\u001b[32m[I 2022-12-24 16:07:36,916]\u001b[0m Trial 84 pruned. \u001b[0m\n"
          ]
        },
        {
          "output_type": "stream",
          "name": "stdout",
          "text": [
            "Trial 84 pruned. \n",
            "Trial 84 pruned. \n",
            "Trial 84 pruned. \n",
            "Trial 84 pruned. \n",
            "Trial 84 pruned. \n",
            "Trial 84 pruned. \n",
            "Trial 84 pruned. \n",
            "Trial 84 pruned. \n",
            "Trial 84 pruned. \n",
            "Trial 84 pruned. \n",
            "Trial 84 pruned. \n",
            "Trial 84 pruned. \n",
            "Trial 84 pruned. \n",
            "Trial 84 pruned. \n"
          ]
        },
        {
          "output_type": "stream",
          "name": "stderr",
          "text": [
            "\u001b[32m[I 2022-12-24 16:07:36,967]\u001b[0m Trial 85 pruned. \u001b[0m\n"
          ]
        },
        {
          "output_type": "stream",
          "name": "stdout",
          "text": [
            "Trial 85 pruned. \n",
            "Trial 85 pruned. \n",
            "Trial 85 pruned. \n",
            "Trial 85 pruned. \n",
            "Trial 85 pruned. \n",
            "Trial 85 pruned. \n",
            "Trial 85 pruned. \n",
            "Trial 85 pruned. \n",
            "Trial 85 pruned. \n",
            "Trial 85 pruned. \n",
            "Trial 85 pruned. \n",
            "Trial 85 pruned. \n",
            "Trial 85 pruned. \n",
            "Trial 85 pruned. \n"
          ]
        },
        {
          "output_type": "stream",
          "name": "stderr",
          "text": [
            "\u001b[32m[I 2022-12-24 16:07:37,027]\u001b[0m Trial 86 pruned. \u001b[0m\n"
          ]
        },
        {
          "output_type": "stream",
          "name": "stdout",
          "text": [
            "Trial 86 pruned. \n",
            "Trial 86 pruned. \n",
            "Trial 86 pruned. \n",
            "Trial 86 pruned. \n",
            "Trial 86 pruned. \n",
            "Trial 86 pruned. \n",
            "Trial 86 pruned. \n",
            "Trial 86 pruned. \n",
            "Trial 86 pruned. \n",
            "Trial 86 pruned. \n",
            "Trial 86 pruned. \n",
            "Trial 86 pruned. \n",
            "Trial 86 pruned. \n",
            "Trial 86 pruned. \n"
          ]
        },
        {
          "output_type": "stream",
          "name": "stderr",
          "text": [
            "\u001b[32m[I 2022-12-24 16:07:37,104]\u001b[0m Trial 87 pruned. \u001b[0m\n"
          ]
        },
        {
          "output_type": "stream",
          "name": "stdout",
          "text": [
            "Trial 87 pruned. \n",
            "Trial 87 pruned. \n",
            "Trial 87 pruned. \n",
            "Trial 87 pruned. \n",
            "Trial 87 pruned. \n",
            "Trial 87 pruned. \n",
            "Trial 87 pruned. \n",
            "Trial 87 pruned. \n",
            "Trial 87 pruned. \n",
            "Trial 87 pruned. \n",
            "Trial 87 pruned. \n",
            "Trial 87 pruned. \n",
            "Trial 87 pruned. \n",
            "Trial 87 pruned. \n"
          ]
        },
        {
          "output_type": "stream",
          "name": "stderr",
          "text": [
            "\u001b[32m[I 2022-12-24 16:07:37,157]\u001b[0m Trial 88 pruned. \u001b[0m\n"
          ]
        },
        {
          "output_type": "stream",
          "name": "stdout",
          "text": [
            "Trial 88 pruned. \n",
            "Trial 88 pruned. \n",
            "Trial 88 pruned. \n",
            "Trial 88 pruned. \n",
            "Trial 88 pruned. \n",
            "Trial 88 pruned. \n",
            "Trial 88 pruned. \n",
            "Trial 88 pruned. \n",
            "Trial 88 pruned. \n",
            "Trial 88 pruned. \n",
            "Trial 88 pruned. \n",
            "Trial 88 pruned. \n",
            "Trial 88 pruned. \n",
            "Trial 88 pruned. \n"
          ]
        },
        {
          "output_type": "stream",
          "name": "stderr",
          "text": [
            "\u001b[32m[I 2022-12-24 16:07:37,212]\u001b[0m Trial 89 pruned. \u001b[0m\n"
          ]
        },
        {
          "output_type": "stream",
          "name": "stdout",
          "text": [
            "Trial 89 pruned. \n",
            "Trial 89 pruned. \n",
            "Trial 89 pruned. \n",
            "Trial 89 pruned. \n",
            "Trial 89 pruned. \n",
            "Trial 89 pruned. \n",
            "Trial 89 pruned. \n",
            "Trial 89 pruned. \n",
            "Trial 89 pruned. \n",
            "Trial 89 pruned. \n",
            "Trial 89 pruned. \n",
            "Trial 89 pruned. \n",
            "Trial 89 pruned. \n",
            "Trial 89 pruned. \n"
          ]
        },
        {
          "output_type": "stream",
          "name": "stderr",
          "text": [
            "\u001b[32m[I 2022-12-24 16:07:37,271]\u001b[0m Trial 90 pruned. \u001b[0m\n"
          ]
        },
        {
          "output_type": "stream",
          "name": "stdout",
          "text": [
            "Trial 90 pruned. \n",
            "Trial 90 pruned. \n",
            "Trial 90 pruned. \n",
            "Trial 90 pruned. \n",
            "Trial 90 pruned. \n",
            "Trial 90 pruned. \n",
            "Trial 90 pruned. \n",
            "Trial 90 pruned. \n",
            "Trial 90 pruned. \n",
            "Trial 90 pruned. \n",
            "Trial 90 pruned. \n",
            "Trial 90 pruned. \n",
            "Trial 90 pruned. \n",
            "Trial 90 pruned. \n"
          ]
        },
        {
          "output_type": "stream",
          "name": "stderr",
          "text": [
            "\u001b[32m[I 2022-12-24 16:07:37,329]\u001b[0m Trial 91 pruned. \u001b[0m\n"
          ]
        },
        {
          "output_type": "stream",
          "name": "stdout",
          "text": [
            "Trial 91 pruned. \n",
            "Trial 91 pruned. \n",
            "Trial 91 pruned. \n",
            "Trial 91 pruned. \n",
            "Trial 91 pruned. \n",
            "Trial 91 pruned. \n",
            "Trial 91 pruned. \n",
            "Trial 91 pruned. \n",
            "Trial 91 pruned. \n",
            "Trial 91 pruned. \n",
            "Trial 91 pruned. \n",
            "Trial 91 pruned. \n",
            "Trial 91 pruned. \n",
            "Trial 91 pruned. \n"
          ]
        },
        {
          "output_type": "stream",
          "name": "stderr",
          "text": [
            "\u001b[32m[I 2022-12-24 16:07:37,560]\u001b[0m Trial 92 finished with value: 0.15384615384615385 and parameters: {'alpha': 5.770293066507061e-05}. Best is trial 10 with value: 0.06293706293706292.\u001b[0m\n"
          ]
        },
        {
          "output_type": "stream",
          "name": "stdout",
          "text": [
            "Trial 92 finished with value: 0.15384615384615385 and parameters: {'alpha': 5.770293066507061e-05}. Best is trial 10 with value: 0.06293706293706292.\n",
            "Trial 92 finished with value: 0.15384615384615385 and parameters: {'alpha': 5.770293066507061e-05}. Best is trial 10 with value: 0.06293706293706292.\n",
            "Trial 92 finished with value: 0.15384615384615385 and parameters: {'alpha': 5.770293066507061e-05}. Best is trial 10 with value: 0.06293706293706292.\n",
            "Trial 92 finished with value: 0.15384615384615385 and parameters: {'alpha': 5.770293066507061e-05}. Best is trial 10 with value: 0.06293706293706292.\n",
            "Trial 92 finished with value: 0.15384615384615385 and parameters: {'alpha': 5.770293066507061e-05}. Best is trial 10 with value: 0.06293706293706292.\n",
            "Trial 92 finished with value: 0.15384615384615385 and parameters: {'alpha': 5.770293066507061e-05}. Best is trial 10 with value: 0.06293706293706292.\n",
            "Trial 92 finished with value: 0.15384615384615385 and parameters: {'alpha': 5.770293066507061e-05}. Best is trial 10 with value: 0.06293706293706292.\n",
            "Trial 92 finished with value: 0.15384615384615385 and parameters: {'alpha': 5.770293066507061e-05}. Best is trial 10 with value: 0.06293706293706292.\n",
            "Trial 92 finished with value: 0.15384615384615385 and parameters: {'alpha': 5.770293066507061e-05}. Best is trial 10 with value: 0.06293706293706292.\n",
            "Trial 92 finished with value: 0.15384615384615385 and parameters: {'alpha': 5.770293066507061e-05}. Best is trial 10 with value: 0.06293706293706292.\n",
            "Trial 92 finished with value: 0.15384615384615385 and parameters: {'alpha': 5.770293066507061e-05}. Best is trial 10 with value: 0.06293706293706292.\n",
            "Trial 92 finished with value: 0.15384615384615385 and parameters: {'alpha': 5.770293066507061e-05}. Best is trial 10 with value: 0.06293706293706292.\n",
            "Trial 92 finished with value: 0.15384615384615385 and parameters: {'alpha': 5.770293066507061e-05}. Best is trial 10 with value: 0.06293706293706292.\n",
            "Trial 92 finished with value: 0.15384615384615385 and parameters: {'alpha': 5.770293066507061e-05}. Best is trial 10 with value: 0.06293706293706292.\n"
          ]
        },
        {
          "output_type": "stream",
          "name": "stderr",
          "text": [
            "\u001b[32m[I 2022-12-24 16:07:37,615]\u001b[0m Trial 93 pruned. \u001b[0m\n"
          ]
        },
        {
          "output_type": "stream",
          "name": "stdout",
          "text": [
            "Trial 93 pruned. \n",
            "Trial 93 pruned. \n",
            "Trial 93 pruned. \n",
            "Trial 93 pruned. \n",
            "Trial 93 pruned. \n",
            "Trial 93 pruned. \n",
            "Trial 93 pruned. \n",
            "Trial 93 pruned. \n",
            "Trial 93 pruned. \n",
            "Trial 93 pruned. \n",
            "Trial 93 pruned. \n",
            "Trial 93 pruned. \n",
            "Trial 93 pruned. \n",
            "Trial 93 pruned. \n"
          ]
        },
        {
          "output_type": "stream",
          "name": "stderr",
          "text": [
            "\u001b[32m[I 2022-12-24 16:07:37,668]\u001b[0m Trial 94 pruned. \u001b[0m\n"
          ]
        },
        {
          "output_type": "stream",
          "name": "stdout",
          "text": [
            "Trial 94 pruned. \n",
            "Trial 94 pruned. \n",
            "Trial 94 pruned. \n",
            "Trial 94 pruned. \n",
            "Trial 94 pruned. \n",
            "Trial 94 pruned. \n",
            "Trial 94 pruned. \n",
            "Trial 94 pruned. \n",
            "Trial 94 pruned. \n",
            "Trial 94 pruned. \n",
            "Trial 94 pruned. \n",
            "Trial 94 pruned. \n",
            "Trial 94 pruned. \n",
            "Trial 94 pruned. \n"
          ]
        },
        {
          "output_type": "stream",
          "name": "stderr",
          "text": [
            "\u001b[32m[I 2022-12-24 16:07:37,722]\u001b[0m Trial 95 pruned. \u001b[0m\n"
          ]
        },
        {
          "output_type": "stream",
          "name": "stdout",
          "text": [
            "Trial 95 pruned. \n",
            "Trial 95 pruned. \n",
            "Trial 95 pruned. \n",
            "Trial 95 pruned. \n",
            "Trial 95 pruned. \n",
            "Trial 95 pruned. \n",
            "Trial 95 pruned. \n",
            "Trial 95 pruned. \n",
            "Trial 95 pruned. \n",
            "Trial 95 pruned. \n",
            "Trial 95 pruned. \n",
            "Trial 95 pruned. \n",
            "Trial 95 pruned. \n",
            "Trial 95 pruned. \n"
          ]
        },
        {
          "output_type": "stream",
          "name": "stderr",
          "text": [
            "\u001b[32m[I 2022-12-24 16:07:37,778]\u001b[0m Trial 96 pruned. \u001b[0m\n"
          ]
        },
        {
          "output_type": "stream",
          "name": "stdout",
          "text": [
            "Trial 96 pruned. \n",
            "Trial 96 pruned. \n",
            "Trial 96 pruned. \n",
            "Trial 96 pruned. \n",
            "Trial 96 pruned. \n",
            "Trial 96 pruned. \n",
            "Trial 96 pruned. \n",
            "Trial 96 pruned. \n",
            "Trial 96 pruned. \n",
            "Trial 96 pruned. \n",
            "Trial 96 pruned. \n",
            "Trial 96 pruned. \n",
            "Trial 96 pruned. \n",
            "Trial 96 pruned. \n"
          ]
        },
        {
          "output_type": "stream",
          "name": "stderr",
          "text": [
            "\u001b[32m[I 2022-12-24 16:07:37,837]\u001b[0m Trial 97 pruned. \u001b[0m\n"
          ]
        },
        {
          "output_type": "stream",
          "name": "stdout",
          "text": [
            "Trial 97 pruned. \n",
            "Trial 97 pruned. \n",
            "Trial 97 pruned. \n",
            "Trial 97 pruned. \n",
            "Trial 97 pruned. \n",
            "Trial 97 pruned. \n",
            "Trial 97 pruned. \n",
            "Trial 97 pruned. \n",
            "Trial 97 pruned. \n",
            "Trial 97 pruned. \n",
            "Trial 97 pruned. \n",
            "Trial 97 pruned. \n",
            "Trial 97 pruned. \n",
            "Trial 97 pruned. \n"
          ]
        },
        {
          "output_type": "stream",
          "name": "stderr",
          "text": [
            "\u001b[32m[I 2022-12-24 16:07:38,101]\u001b[0m Trial 98 finished with value: 0.13286713286713292 and parameters: {'alpha': 0.0011078967403876482}. Best is trial 10 with value: 0.06293706293706292.\u001b[0m\n"
          ]
        },
        {
          "output_type": "stream",
          "name": "stdout",
          "text": [
            "Trial 98 finished with value: 0.13286713286713292 and parameters: {'alpha': 0.0011078967403876482}. Best is trial 10 with value: 0.06293706293706292.\n",
            "Trial 98 finished with value: 0.13286713286713292 and parameters: {'alpha': 0.0011078967403876482}. Best is trial 10 with value: 0.06293706293706292.\n",
            "Trial 98 finished with value: 0.13286713286713292 and parameters: {'alpha': 0.0011078967403876482}. Best is trial 10 with value: 0.06293706293706292.\n",
            "Trial 98 finished with value: 0.13286713286713292 and parameters: {'alpha': 0.0011078967403876482}. Best is trial 10 with value: 0.06293706293706292.\n",
            "Trial 98 finished with value: 0.13286713286713292 and parameters: {'alpha': 0.0011078967403876482}. Best is trial 10 with value: 0.06293706293706292.\n",
            "Trial 98 finished with value: 0.13286713286713292 and parameters: {'alpha': 0.0011078967403876482}. Best is trial 10 with value: 0.06293706293706292.\n",
            "Trial 98 finished with value: 0.13286713286713292 and parameters: {'alpha': 0.0011078967403876482}. Best is trial 10 with value: 0.06293706293706292.\n",
            "Trial 98 finished with value: 0.13286713286713292 and parameters: {'alpha': 0.0011078967403876482}. Best is trial 10 with value: 0.06293706293706292.\n",
            "Trial 98 finished with value: 0.13286713286713292 and parameters: {'alpha': 0.0011078967403876482}. Best is trial 10 with value: 0.06293706293706292.\n",
            "Trial 98 finished with value: 0.13286713286713292 and parameters: {'alpha': 0.0011078967403876482}. Best is trial 10 with value: 0.06293706293706292.\n",
            "Trial 98 finished with value: 0.13286713286713292 and parameters: {'alpha': 0.0011078967403876482}. Best is trial 10 with value: 0.06293706293706292.\n",
            "Trial 98 finished with value: 0.13286713286713292 and parameters: {'alpha': 0.0011078967403876482}. Best is trial 10 with value: 0.06293706293706292.\n",
            "Trial 98 finished with value: 0.13286713286713292 and parameters: {'alpha': 0.0011078967403876482}. Best is trial 10 with value: 0.06293706293706292.\n",
            "Trial 98 finished with value: 0.13286713286713292 and parameters: {'alpha': 0.0011078967403876482}. Best is trial 10 with value: 0.06293706293706292.\n"
          ]
        },
        {
          "output_type": "stream",
          "name": "stderr",
          "text": [
            "\u001b[32m[I 2022-12-24 16:07:38,156]\u001b[0m Trial 99 pruned. \u001b[0m\n"
          ]
        },
        {
          "output_type": "stream",
          "name": "stdout",
          "text": [
            "Trial 99 pruned. \n",
            "Trial 99 pruned. \n",
            "Trial 99 pruned. \n",
            "Trial 99 pruned. \n",
            "Trial 99 pruned. \n",
            "Trial 99 pruned. \n",
            "Trial 99 pruned. \n",
            "Trial 99 pruned. \n",
            "Trial 99 pruned. \n",
            "Trial 99 pruned. \n",
            "Trial 99 pruned. \n",
            "Trial 99 pruned. \n",
            "Trial 99 pruned. \n",
            "Trial 99 pruned. \n"
          ]
        }
      ]
    },
    {
      "cell_type": "code",
      "source": [
        "plot_optimization_history(study)"
      ],
      "metadata": {
        "colab": {
          "base_uri": "https://localhost:8080/",
          "height": 542
        },
        "id": "mhSjMAEu4VN0",
        "outputId": "138c9662-0c4f-445a-c9aa-5474dd630e30"
      },
      "execution_count": 211,
      "outputs": [
        {
          "output_type": "display_data",
          "data": {
            "text/html": [
              "<html>\n",
              "<head><meta charset=\"utf-8\" /></head>\n",
              "<body>\n",
              "    <div>            <script src=\"https://cdnjs.cloudflare.com/ajax/libs/mathjax/2.7.5/MathJax.js?config=TeX-AMS-MML_SVG\"></script><script type=\"text/javascript\">if (window.MathJax) {MathJax.Hub.Config({SVG: {font: \"STIX-Web\"}});}</script>                <script type=\"text/javascript\">window.PlotlyConfig = {MathJaxConfig: 'local'};</script>\n",
              "        <script src=\"https://cdn.plot.ly/plotly-2.8.3.min.js\"></script>                <div id=\"351ca842-d978-4c42-9532-99c2e01b984f\" class=\"plotly-graph-div\" style=\"height:525px; width:100%;\"></div>            <script type=\"text/javascript\">                                    window.PLOTLYENV=window.PLOTLYENV || {};                                    if (document.getElementById(\"351ca842-d978-4c42-9532-99c2e01b984f\")) {                    Plotly.newPlot(                        \"351ca842-d978-4c42-9532-99c2e01b984f\",                        [{\"mode\":\"markers\",\"name\":\"Objective Value\",\"x\":[0,1,2,3,4,10,11,15,24,27,29,35,36,39,55,65,75,77,92,98],\"y\":[0.21678321678321677,0.0699300699300699,0.07692307692307687,0.2027972027972028,0.3146853146853147,0.06293706293706292,0.08391608391608396,0.26573426573426573,0.09090909090909094,0.1398601398601399,0.12587412587412583,0.14685314685314688,0.11888111888111885,0.0699300699300699,0.15384615384615385,0.15384615384615385,0.30069930069930073,0.1048951048951049,0.15384615384615385,0.13286713286713292],\"type\":\"scatter\"},{\"name\":\"Best Value\",\"x\":[0,1,2,3,4,10,11,15,24,27,29,35,36,39,55,65,75,77,92,98],\"y\":[0.21678321678321677,0.0699300699300699,0.0699300699300699,0.0699300699300699,0.0699300699300699,0.06293706293706292,0.06293706293706292,0.06293706293706292,0.06293706293706292,0.06293706293706292,0.06293706293706292,0.06293706293706292,0.06293706293706292,0.06293706293706292,0.06293706293706292,0.06293706293706292,0.06293706293706292,0.06293706293706292,0.06293706293706292,0.06293706293706292],\"type\":\"scatter\"}],                        {\"title\":{\"text\":\"Optimization History Plot\"},\"xaxis\":{\"title\":{\"text\":\"Trial\"}},\"yaxis\":{\"title\":{\"text\":\"Objective Value\"}},\"template\":{\"data\":{\"bar\":[{\"error_x\":{\"color\":\"#2a3f5f\"},\"error_y\":{\"color\":\"#2a3f5f\"},\"marker\":{\"line\":{\"color\":\"#E5ECF6\",\"width\":0.5},\"pattern\":{\"fillmode\":\"overlay\",\"size\":10,\"solidity\":0.2}},\"type\":\"bar\"}],\"barpolar\":[{\"marker\":{\"line\":{\"color\":\"#E5ECF6\",\"width\":0.5},\"pattern\":{\"fillmode\":\"overlay\",\"size\":10,\"solidity\":0.2}},\"type\":\"barpolar\"}],\"carpet\":[{\"aaxis\":{\"endlinecolor\":\"#2a3f5f\",\"gridcolor\":\"white\",\"linecolor\":\"white\",\"minorgridcolor\":\"white\",\"startlinecolor\":\"#2a3f5f\"},\"baxis\":{\"endlinecolor\":\"#2a3f5f\",\"gridcolor\":\"white\",\"linecolor\":\"white\",\"minorgridcolor\":\"white\",\"startlinecolor\":\"#2a3f5f\"},\"type\":\"carpet\"}],\"choropleth\":[{\"colorbar\":{\"outlinewidth\":0,\"ticks\":\"\"},\"type\":\"choropleth\"}],\"contour\":[{\"colorbar\":{\"outlinewidth\":0,\"ticks\":\"\"},\"colorscale\":[[0.0,\"#0d0887\"],[0.1111111111111111,\"#46039f\"],[0.2222222222222222,\"#7201a8\"],[0.3333333333333333,\"#9c179e\"],[0.4444444444444444,\"#bd3786\"],[0.5555555555555556,\"#d8576b\"],[0.6666666666666666,\"#ed7953\"],[0.7777777777777778,\"#fb9f3a\"],[0.8888888888888888,\"#fdca26\"],[1.0,\"#f0f921\"]],\"type\":\"contour\"}],\"contourcarpet\":[{\"colorbar\":{\"outlinewidth\":0,\"ticks\":\"\"},\"type\":\"contourcarpet\"}],\"heatmap\":[{\"colorbar\":{\"outlinewidth\":0,\"ticks\":\"\"},\"colorscale\":[[0.0,\"#0d0887\"],[0.1111111111111111,\"#46039f\"],[0.2222222222222222,\"#7201a8\"],[0.3333333333333333,\"#9c179e\"],[0.4444444444444444,\"#bd3786\"],[0.5555555555555556,\"#d8576b\"],[0.6666666666666666,\"#ed7953\"],[0.7777777777777778,\"#fb9f3a\"],[0.8888888888888888,\"#fdca26\"],[1.0,\"#f0f921\"]],\"type\":\"heatmap\"}],\"heatmapgl\":[{\"colorbar\":{\"outlinewidth\":0,\"ticks\":\"\"},\"colorscale\":[[0.0,\"#0d0887\"],[0.1111111111111111,\"#46039f\"],[0.2222222222222222,\"#7201a8\"],[0.3333333333333333,\"#9c179e\"],[0.4444444444444444,\"#bd3786\"],[0.5555555555555556,\"#d8576b\"],[0.6666666666666666,\"#ed7953\"],[0.7777777777777778,\"#fb9f3a\"],[0.8888888888888888,\"#fdca26\"],[1.0,\"#f0f921\"]],\"type\":\"heatmapgl\"}],\"histogram\":[{\"marker\":{\"pattern\":{\"fillmode\":\"overlay\",\"size\":10,\"solidity\":0.2}},\"type\":\"histogram\"}],\"histogram2d\":[{\"colorbar\":{\"outlinewidth\":0,\"ticks\":\"\"},\"colorscale\":[[0.0,\"#0d0887\"],[0.1111111111111111,\"#46039f\"],[0.2222222222222222,\"#7201a8\"],[0.3333333333333333,\"#9c179e\"],[0.4444444444444444,\"#bd3786\"],[0.5555555555555556,\"#d8576b\"],[0.6666666666666666,\"#ed7953\"],[0.7777777777777778,\"#fb9f3a\"],[0.8888888888888888,\"#fdca26\"],[1.0,\"#f0f921\"]],\"type\":\"histogram2d\"}],\"histogram2dcontour\":[{\"colorbar\":{\"outlinewidth\":0,\"ticks\":\"\"},\"colorscale\":[[0.0,\"#0d0887\"],[0.1111111111111111,\"#46039f\"],[0.2222222222222222,\"#7201a8\"],[0.3333333333333333,\"#9c179e\"],[0.4444444444444444,\"#bd3786\"],[0.5555555555555556,\"#d8576b\"],[0.6666666666666666,\"#ed7953\"],[0.7777777777777778,\"#fb9f3a\"],[0.8888888888888888,\"#fdca26\"],[1.0,\"#f0f921\"]],\"type\":\"histogram2dcontour\"}],\"mesh3d\":[{\"colorbar\":{\"outlinewidth\":0,\"ticks\":\"\"},\"type\":\"mesh3d\"}],\"parcoords\":[{\"line\":{\"colorbar\":{\"outlinewidth\":0,\"ticks\":\"\"}},\"type\":\"parcoords\"}],\"pie\":[{\"automargin\":true,\"type\":\"pie\"}],\"scatter\":[{\"marker\":{\"colorbar\":{\"outlinewidth\":0,\"ticks\":\"\"}},\"type\":\"scatter\"}],\"scatter3d\":[{\"line\":{\"colorbar\":{\"outlinewidth\":0,\"ticks\":\"\"}},\"marker\":{\"colorbar\":{\"outlinewidth\":0,\"ticks\":\"\"}},\"type\":\"scatter3d\"}],\"scattercarpet\":[{\"marker\":{\"colorbar\":{\"outlinewidth\":0,\"ticks\":\"\"}},\"type\":\"scattercarpet\"}],\"scattergeo\":[{\"marker\":{\"colorbar\":{\"outlinewidth\":0,\"ticks\":\"\"}},\"type\":\"scattergeo\"}],\"scattergl\":[{\"marker\":{\"colorbar\":{\"outlinewidth\":0,\"ticks\":\"\"}},\"type\":\"scattergl\"}],\"scattermapbox\":[{\"marker\":{\"colorbar\":{\"outlinewidth\":0,\"ticks\":\"\"}},\"type\":\"scattermapbox\"}],\"scatterpolar\":[{\"marker\":{\"colorbar\":{\"outlinewidth\":0,\"ticks\":\"\"}},\"type\":\"scatterpolar\"}],\"scatterpolargl\":[{\"marker\":{\"colorbar\":{\"outlinewidth\":0,\"ticks\":\"\"}},\"type\":\"scatterpolargl\"}],\"scatterternary\":[{\"marker\":{\"colorbar\":{\"outlinewidth\":0,\"ticks\":\"\"}},\"type\":\"scatterternary\"}],\"surface\":[{\"colorbar\":{\"outlinewidth\":0,\"ticks\":\"\"},\"colorscale\":[[0.0,\"#0d0887\"],[0.1111111111111111,\"#46039f\"],[0.2222222222222222,\"#7201a8\"],[0.3333333333333333,\"#9c179e\"],[0.4444444444444444,\"#bd3786\"],[0.5555555555555556,\"#d8576b\"],[0.6666666666666666,\"#ed7953\"],[0.7777777777777778,\"#fb9f3a\"],[0.8888888888888888,\"#fdca26\"],[1.0,\"#f0f921\"]],\"type\":\"surface\"}],\"table\":[{\"cells\":{\"fill\":{\"color\":\"#EBF0F8\"},\"line\":{\"color\":\"white\"}},\"header\":{\"fill\":{\"color\":\"#C8D4E3\"},\"line\":{\"color\":\"white\"}},\"type\":\"table\"}]},\"layout\":{\"annotationdefaults\":{\"arrowcolor\":\"#2a3f5f\",\"arrowhead\":0,\"arrowwidth\":1},\"autotypenumbers\":\"strict\",\"coloraxis\":{\"colorbar\":{\"outlinewidth\":0,\"ticks\":\"\"}},\"colorscale\":{\"diverging\":[[0,\"#8e0152\"],[0.1,\"#c51b7d\"],[0.2,\"#de77ae\"],[0.3,\"#f1b6da\"],[0.4,\"#fde0ef\"],[0.5,\"#f7f7f7\"],[0.6,\"#e6f5d0\"],[0.7,\"#b8e186\"],[0.8,\"#7fbc41\"],[0.9,\"#4d9221\"],[1,\"#276419\"]],\"sequential\":[[0.0,\"#0d0887\"],[0.1111111111111111,\"#46039f\"],[0.2222222222222222,\"#7201a8\"],[0.3333333333333333,\"#9c179e\"],[0.4444444444444444,\"#bd3786\"],[0.5555555555555556,\"#d8576b\"],[0.6666666666666666,\"#ed7953\"],[0.7777777777777778,\"#fb9f3a\"],[0.8888888888888888,\"#fdca26\"],[1.0,\"#f0f921\"]],\"sequentialminus\":[[0.0,\"#0d0887\"],[0.1111111111111111,\"#46039f\"],[0.2222222222222222,\"#7201a8\"],[0.3333333333333333,\"#9c179e\"],[0.4444444444444444,\"#bd3786\"],[0.5555555555555556,\"#d8576b\"],[0.6666666666666666,\"#ed7953\"],[0.7777777777777778,\"#fb9f3a\"],[0.8888888888888888,\"#fdca26\"],[1.0,\"#f0f921\"]]},\"colorway\":[\"#636efa\",\"#EF553B\",\"#00cc96\",\"#ab63fa\",\"#FFA15A\",\"#19d3f3\",\"#FF6692\",\"#B6E880\",\"#FF97FF\",\"#FECB52\"],\"font\":{\"color\":\"#2a3f5f\"},\"geo\":{\"bgcolor\":\"white\",\"lakecolor\":\"white\",\"landcolor\":\"#E5ECF6\",\"showlakes\":true,\"showland\":true,\"subunitcolor\":\"white\"},\"hoverlabel\":{\"align\":\"left\"},\"hovermode\":\"closest\",\"mapbox\":{\"style\":\"light\"},\"paper_bgcolor\":\"white\",\"plot_bgcolor\":\"#E5ECF6\",\"polar\":{\"angularaxis\":{\"gridcolor\":\"white\",\"linecolor\":\"white\",\"ticks\":\"\"},\"bgcolor\":\"#E5ECF6\",\"radialaxis\":{\"gridcolor\":\"white\",\"linecolor\":\"white\",\"ticks\":\"\"}},\"scene\":{\"xaxis\":{\"backgroundcolor\":\"#E5ECF6\",\"gridcolor\":\"white\",\"gridwidth\":2,\"linecolor\":\"white\",\"showbackground\":true,\"ticks\":\"\",\"zerolinecolor\":\"white\"},\"yaxis\":{\"backgroundcolor\":\"#E5ECF6\",\"gridcolor\":\"white\",\"gridwidth\":2,\"linecolor\":\"white\",\"showbackground\":true,\"ticks\":\"\",\"zerolinecolor\":\"white\"},\"zaxis\":{\"backgroundcolor\":\"#E5ECF6\",\"gridcolor\":\"white\",\"gridwidth\":2,\"linecolor\":\"white\",\"showbackground\":true,\"ticks\":\"\",\"zerolinecolor\":\"white\"}},\"shapedefaults\":{\"line\":{\"color\":\"#2a3f5f\"}},\"ternary\":{\"aaxis\":{\"gridcolor\":\"white\",\"linecolor\":\"white\",\"ticks\":\"\"},\"baxis\":{\"gridcolor\":\"white\",\"linecolor\":\"white\",\"ticks\":\"\"},\"bgcolor\":\"#E5ECF6\",\"caxis\":{\"gridcolor\":\"white\",\"linecolor\":\"white\",\"ticks\":\"\"}},\"title\":{\"x\":0.05},\"xaxis\":{\"automargin\":true,\"gridcolor\":\"white\",\"linecolor\":\"white\",\"ticks\":\"\",\"title\":{\"standoff\":15},\"zerolinecolor\":\"white\",\"zerolinewidth\":2},\"yaxis\":{\"automargin\":true,\"gridcolor\":\"white\",\"linecolor\":\"white\",\"ticks\":\"\",\"title\":{\"standoff\":15},\"zerolinecolor\":\"white\",\"zerolinewidth\":2}}}},                        {\"responsive\": true}                    ).then(function(){\n",
              "                            \n",
              "var gd = document.getElementById('351ca842-d978-4c42-9532-99c2e01b984f');\n",
              "var x = new MutationObserver(function (mutations, observer) {{\n",
              "        var display = window.getComputedStyle(gd).display;\n",
              "        if (!display || display === 'none') {{\n",
              "            console.log([gd, 'removed!']);\n",
              "            Plotly.purge(gd);\n",
              "            observer.disconnect();\n",
              "        }}\n",
              "}});\n",
              "\n",
              "// Listen for the removal of the full notebook cells\n",
              "var notebookContainer = gd.closest('#notebook-container');\n",
              "if (notebookContainer) {{\n",
              "    x.observe(notebookContainer, {childList: true});\n",
              "}}\n",
              "\n",
              "// Listen for the clearing of the current output cell\n",
              "var outputEl = gd.closest('.output');\n",
              "if (outputEl) {{\n",
              "    x.observe(outputEl, {childList: true});\n",
              "}}\n",
              "\n",
              "                        })                };                            </script>        </div>\n",
              "</body>\n",
              "</html>"
            ]
          },
          "metadata": {}
        }
      ]
    },
    {
      "cell_type": "code",
      "source": [
        "plot_parallel_coordinate(study)"
      ],
      "metadata": {
        "colab": {
          "base_uri": "https://localhost:8080/",
          "height": 542
        },
        "id": "uLVY3YYo4Wb2",
        "outputId": "45c7799c-5071-4502-90fd-e629949f817c"
      },
      "execution_count": 212,
      "outputs": [
        {
          "output_type": "display_data",
          "data": {
            "text/html": [
              "<html>\n",
              "<head><meta charset=\"utf-8\" /></head>\n",
              "<body>\n",
              "    <div>            <script src=\"https://cdnjs.cloudflare.com/ajax/libs/mathjax/2.7.5/MathJax.js?config=TeX-AMS-MML_SVG\"></script><script type=\"text/javascript\">if (window.MathJax) {MathJax.Hub.Config({SVG: {font: \"STIX-Web\"}});}</script>                <script type=\"text/javascript\">window.PlotlyConfig = {MathJaxConfig: 'local'};</script>\n",
              "        <script src=\"https://cdn.plot.ly/plotly-2.8.3.min.js\"></script>                <div id=\"30d69905-2dbf-49d6-8b7a-1d90eef7303e\" class=\"plotly-graph-div\" style=\"height:525px; width:100%;\"></div>            <script type=\"text/javascript\">                                    window.PLOTLYENV=window.PLOTLYENV || {};                                    if (document.getElementById(\"30d69905-2dbf-49d6-8b7a-1d90eef7303e\")) {                    Plotly.newPlot(                        \"30d69905-2dbf-49d6-8b7a-1d90eef7303e\",                        [{\"dimensions\":[{\"label\":\"Objective Value\",\"range\":[0.06293706293706292,0.3146853146853147],\"values\":[0.21678321678321677,0.0699300699300699,0.07692307692307687,0.2027972027972028,0.3146853146853147,0.06293706293706292,0.08391608391608396,0.26573426573426573,0.09090909090909094,0.1398601398601399,0.12587412587412583,0.14685314685314688,0.11888111888111885,0.0699300699300699,0.15384615384615385,0.15384615384615385,0.30069930069930073,0.1048951048951049,0.15384615384615385,0.13286713286713292]},{\"label\":\"alpha\",\"range\":[-4.629787956686736,-1.3356403143392819],\"ticktext\":[\"2.35e-05\",\"0.0001\",\"0.001\",\"0.01\",\"0.0462\"],\"tickvals\":[-4.629787956686736,-4,-3,-2,-1.3356403143392819],\"values\":[-4.117593551243412,-1.7304969653827782,-1.908024972938122,-4.629787956686736,-2.5184409481089567,-2.2892073028183573,-2.2406566123807585,-2.6392974530798354,-1.5424888028420582,-3.208180845544586,-4.317593632217601,-2.4104224104272065,-1.3356403143392819,-2.1330486512273463,-1.9774430152116114,-1.8760872481319408,-4.435763902924006,-1.5832633731673214,-4.238802128969977,-2.95550071539246]}],\"labelangle\":30,\"labelside\":\"bottom\",\"line\":{\"color\":[0.21678321678321677,0.0699300699300699,0.07692307692307687,0.2027972027972028,0.3146853146853147,0.06293706293706292,0.08391608391608396,0.26573426573426573,0.09090909090909094,0.1398601398601399,0.12587412587412583,0.14685314685314688,0.11888111888111885,0.0699300699300699,0.15384615384615385,0.15384615384615385,0.30069930069930073,0.1048951048951049,0.15384615384615385,0.13286713286713292],\"colorbar\":{\"title\":{\"text\":\"Objective Value\"}},\"colorscale\":[[0.0,\"rgb(247,251,255)\"],[0.125,\"rgb(222,235,247)\"],[0.25,\"rgb(198,219,239)\"],[0.375,\"rgb(158,202,225)\"],[0.5,\"rgb(107,174,214)\"],[0.625,\"rgb(66,146,198)\"],[0.75,\"rgb(33,113,181)\"],[0.875,\"rgb(8,81,156)\"],[1.0,\"rgb(8,48,107)\"]],\"reversescale\":true,\"showscale\":true},\"type\":\"parcoords\"}],                        {\"title\":{\"text\":\"Parallel Coordinate Plot\"},\"template\":{\"data\":{\"bar\":[{\"error_x\":{\"color\":\"#2a3f5f\"},\"error_y\":{\"color\":\"#2a3f5f\"},\"marker\":{\"line\":{\"color\":\"#E5ECF6\",\"width\":0.5},\"pattern\":{\"fillmode\":\"overlay\",\"size\":10,\"solidity\":0.2}},\"type\":\"bar\"}],\"barpolar\":[{\"marker\":{\"line\":{\"color\":\"#E5ECF6\",\"width\":0.5},\"pattern\":{\"fillmode\":\"overlay\",\"size\":10,\"solidity\":0.2}},\"type\":\"barpolar\"}],\"carpet\":[{\"aaxis\":{\"endlinecolor\":\"#2a3f5f\",\"gridcolor\":\"white\",\"linecolor\":\"white\",\"minorgridcolor\":\"white\",\"startlinecolor\":\"#2a3f5f\"},\"baxis\":{\"endlinecolor\":\"#2a3f5f\",\"gridcolor\":\"white\",\"linecolor\":\"white\",\"minorgridcolor\":\"white\",\"startlinecolor\":\"#2a3f5f\"},\"type\":\"carpet\"}],\"choropleth\":[{\"colorbar\":{\"outlinewidth\":0,\"ticks\":\"\"},\"type\":\"choropleth\"}],\"contour\":[{\"colorbar\":{\"outlinewidth\":0,\"ticks\":\"\"},\"colorscale\":[[0.0,\"#0d0887\"],[0.1111111111111111,\"#46039f\"],[0.2222222222222222,\"#7201a8\"],[0.3333333333333333,\"#9c179e\"],[0.4444444444444444,\"#bd3786\"],[0.5555555555555556,\"#d8576b\"],[0.6666666666666666,\"#ed7953\"],[0.7777777777777778,\"#fb9f3a\"],[0.8888888888888888,\"#fdca26\"],[1.0,\"#f0f921\"]],\"type\":\"contour\"}],\"contourcarpet\":[{\"colorbar\":{\"outlinewidth\":0,\"ticks\":\"\"},\"type\":\"contourcarpet\"}],\"heatmap\":[{\"colorbar\":{\"outlinewidth\":0,\"ticks\":\"\"},\"colorscale\":[[0.0,\"#0d0887\"],[0.1111111111111111,\"#46039f\"],[0.2222222222222222,\"#7201a8\"],[0.3333333333333333,\"#9c179e\"],[0.4444444444444444,\"#bd3786\"],[0.5555555555555556,\"#d8576b\"],[0.6666666666666666,\"#ed7953\"],[0.7777777777777778,\"#fb9f3a\"],[0.8888888888888888,\"#fdca26\"],[1.0,\"#f0f921\"]],\"type\":\"heatmap\"}],\"heatmapgl\":[{\"colorbar\":{\"outlinewidth\":0,\"ticks\":\"\"},\"colorscale\":[[0.0,\"#0d0887\"],[0.1111111111111111,\"#46039f\"],[0.2222222222222222,\"#7201a8\"],[0.3333333333333333,\"#9c179e\"],[0.4444444444444444,\"#bd3786\"],[0.5555555555555556,\"#d8576b\"],[0.6666666666666666,\"#ed7953\"],[0.7777777777777778,\"#fb9f3a\"],[0.8888888888888888,\"#fdca26\"],[1.0,\"#f0f921\"]],\"type\":\"heatmapgl\"}],\"histogram\":[{\"marker\":{\"pattern\":{\"fillmode\":\"overlay\",\"size\":10,\"solidity\":0.2}},\"type\":\"histogram\"}],\"histogram2d\":[{\"colorbar\":{\"outlinewidth\":0,\"ticks\":\"\"},\"colorscale\":[[0.0,\"#0d0887\"],[0.1111111111111111,\"#46039f\"],[0.2222222222222222,\"#7201a8\"],[0.3333333333333333,\"#9c179e\"],[0.4444444444444444,\"#bd3786\"],[0.5555555555555556,\"#d8576b\"],[0.6666666666666666,\"#ed7953\"],[0.7777777777777778,\"#fb9f3a\"],[0.8888888888888888,\"#fdca26\"],[1.0,\"#f0f921\"]],\"type\":\"histogram2d\"}],\"histogram2dcontour\":[{\"colorbar\":{\"outlinewidth\":0,\"ticks\":\"\"},\"colorscale\":[[0.0,\"#0d0887\"],[0.1111111111111111,\"#46039f\"],[0.2222222222222222,\"#7201a8\"],[0.3333333333333333,\"#9c179e\"],[0.4444444444444444,\"#bd3786\"],[0.5555555555555556,\"#d8576b\"],[0.6666666666666666,\"#ed7953\"],[0.7777777777777778,\"#fb9f3a\"],[0.8888888888888888,\"#fdca26\"],[1.0,\"#f0f921\"]],\"type\":\"histogram2dcontour\"}],\"mesh3d\":[{\"colorbar\":{\"outlinewidth\":0,\"ticks\":\"\"},\"type\":\"mesh3d\"}],\"parcoords\":[{\"line\":{\"colorbar\":{\"outlinewidth\":0,\"ticks\":\"\"}},\"type\":\"parcoords\"}],\"pie\":[{\"automargin\":true,\"type\":\"pie\"}],\"scatter\":[{\"marker\":{\"colorbar\":{\"outlinewidth\":0,\"ticks\":\"\"}},\"type\":\"scatter\"}],\"scatter3d\":[{\"line\":{\"colorbar\":{\"outlinewidth\":0,\"ticks\":\"\"}},\"marker\":{\"colorbar\":{\"outlinewidth\":0,\"ticks\":\"\"}},\"type\":\"scatter3d\"}],\"scattercarpet\":[{\"marker\":{\"colorbar\":{\"outlinewidth\":0,\"ticks\":\"\"}},\"type\":\"scattercarpet\"}],\"scattergeo\":[{\"marker\":{\"colorbar\":{\"outlinewidth\":0,\"ticks\":\"\"}},\"type\":\"scattergeo\"}],\"scattergl\":[{\"marker\":{\"colorbar\":{\"outlinewidth\":0,\"ticks\":\"\"}},\"type\":\"scattergl\"}],\"scattermapbox\":[{\"marker\":{\"colorbar\":{\"outlinewidth\":0,\"ticks\":\"\"}},\"type\":\"scattermapbox\"}],\"scatterpolar\":[{\"marker\":{\"colorbar\":{\"outlinewidth\":0,\"ticks\":\"\"}},\"type\":\"scatterpolar\"}],\"scatterpolargl\":[{\"marker\":{\"colorbar\":{\"outlinewidth\":0,\"ticks\":\"\"}},\"type\":\"scatterpolargl\"}],\"scatterternary\":[{\"marker\":{\"colorbar\":{\"outlinewidth\":0,\"ticks\":\"\"}},\"type\":\"scatterternary\"}],\"surface\":[{\"colorbar\":{\"outlinewidth\":0,\"ticks\":\"\"},\"colorscale\":[[0.0,\"#0d0887\"],[0.1111111111111111,\"#46039f\"],[0.2222222222222222,\"#7201a8\"],[0.3333333333333333,\"#9c179e\"],[0.4444444444444444,\"#bd3786\"],[0.5555555555555556,\"#d8576b\"],[0.6666666666666666,\"#ed7953\"],[0.7777777777777778,\"#fb9f3a\"],[0.8888888888888888,\"#fdca26\"],[1.0,\"#f0f921\"]],\"type\":\"surface\"}],\"table\":[{\"cells\":{\"fill\":{\"color\":\"#EBF0F8\"},\"line\":{\"color\":\"white\"}},\"header\":{\"fill\":{\"color\":\"#C8D4E3\"},\"line\":{\"color\":\"white\"}},\"type\":\"table\"}]},\"layout\":{\"annotationdefaults\":{\"arrowcolor\":\"#2a3f5f\",\"arrowhead\":0,\"arrowwidth\":1},\"autotypenumbers\":\"strict\",\"coloraxis\":{\"colorbar\":{\"outlinewidth\":0,\"ticks\":\"\"}},\"colorscale\":{\"diverging\":[[0,\"#8e0152\"],[0.1,\"#c51b7d\"],[0.2,\"#de77ae\"],[0.3,\"#f1b6da\"],[0.4,\"#fde0ef\"],[0.5,\"#f7f7f7\"],[0.6,\"#e6f5d0\"],[0.7,\"#b8e186\"],[0.8,\"#7fbc41\"],[0.9,\"#4d9221\"],[1,\"#276419\"]],\"sequential\":[[0.0,\"#0d0887\"],[0.1111111111111111,\"#46039f\"],[0.2222222222222222,\"#7201a8\"],[0.3333333333333333,\"#9c179e\"],[0.4444444444444444,\"#bd3786\"],[0.5555555555555556,\"#d8576b\"],[0.6666666666666666,\"#ed7953\"],[0.7777777777777778,\"#fb9f3a\"],[0.8888888888888888,\"#fdca26\"],[1.0,\"#f0f921\"]],\"sequentialminus\":[[0.0,\"#0d0887\"],[0.1111111111111111,\"#46039f\"],[0.2222222222222222,\"#7201a8\"],[0.3333333333333333,\"#9c179e\"],[0.4444444444444444,\"#bd3786\"],[0.5555555555555556,\"#d8576b\"],[0.6666666666666666,\"#ed7953\"],[0.7777777777777778,\"#fb9f3a\"],[0.8888888888888888,\"#fdca26\"],[1.0,\"#f0f921\"]]},\"colorway\":[\"#636efa\",\"#EF553B\",\"#00cc96\",\"#ab63fa\",\"#FFA15A\",\"#19d3f3\",\"#FF6692\",\"#B6E880\",\"#FF97FF\",\"#FECB52\"],\"font\":{\"color\":\"#2a3f5f\"},\"geo\":{\"bgcolor\":\"white\",\"lakecolor\":\"white\",\"landcolor\":\"#E5ECF6\",\"showlakes\":true,\"showland\":true,\"subunitcolor\":\"white\"},\"hoverlabel\":{\"align\":\"left\"},\"hovermode\":\"closest\",\"mapbox\":{\"style\":\"light\"},\"paper_bgcolor\":\"white\",\"plot_bgcolor\":\"#E5ECF6\",\"polar\":{\"angularaxis\":{\"gridcolor\":\"white\",\"linecolor\":\"white\",\"ticks\":\"\"},\"bgcolor\":\"#E5ECF6\",\"radialaxis\":{\"gridcolor\":\"white\",\"linecolor\":\"white\",\"ticks\":\"\"}},\"scene\":{\"xaxis\":{\"backgroundcolor\":\"#E5ECF6\",\"gridcolor\":\"white\",\"gridwidth\":2,\"linecolor\":\"white\",\"showbackground\":true,\"ticks\":\"\",\"zerolinecolor\":\"white\"},\"yaxis\":{\"backgroundcolor\":\"#E5ECF6\",\"gridcolor\":\"white\",\"gridwidth\":2,\"linecolor\":\"white\",\"showbackground\":true,\"ticks\":\"\",\"zerolinecolor\":\"white\"},\"zaxis\":{\"backgroundcolor\":\"#E5ECF6\",\"gridcolor\":\"white\",\"gridwidth\":2,\"linecolor\":\"white\",\"showbackground\":true,\"ticks\":\"\",\"zerolinecolor\":\"white\"}},\"shapedefaults\":{\"line\":{\"color\":\"#2a3f5f\"}},\"ternary\":{\"aaxis\":{\"gridcolor\":\"white\",\"linecolor\":\"white\",\"ticks\":\"\"},\"baxis\":{\"gridcolor\":\"white\",\"linecolor\":\"white\",\"ticks\":\"\"},\"bgcolor\":\"#E5ECF6\",\"caxis\":{\"gridcolor\":\"white\",\"linecolor\":\"white\",\"ticks\":\"\"}},\"title\":{\"x\":0.05},\"xaxis\":{\"automargin\":true,\"gridcolor\":\"white\",\"linecolor\":\"white\",\"ticks\":\"\",\"title\":{\"standoff\":15},\"zerolinecolor\":\"white\",\"zerolinewidth\":2},\"yaxis\":{\"automargin\":true,\"gridcolor\":\"white\",\"linecolor\":\"white\",\"ticks\":\"\",\"title\":{\"standoff\":15},\"zerolinecolor\":\"white\",\"zerolinewidth\":2}}}},                        {\"responsive\": true}                    ).then(function(){\n",
              "                            \n",
              "var gd = document.getElementById('30d69905-2dbf-49d6-8b7a-1d90eef7303e');\n",
              "var x = new MutationObserver(function (mutations, observer) {{\n",
              "        var display = window.getComputedStyle(gd).display;\n",
              "        if (!display || display === 'none') {{\n",
              "            console.log([gd, 'removed!']);\n",
              "            Plotly.purge(gd);\n",
              "            observer.disconnect();\n",
              "        }}\n",
              "}});\n",
              "\n",
              "// Listen for the removal of the full notebook cells\n",
              "var notebookContainer = gd.closest('#notebook-container');\n",
              "if (notebookContainer) {{\n",
              "    x.observe(notebookContainer, {childList: true});\n",
              "}}\n",
              "\n",
              "// Listen for the clearing of the current output cell\n",
              "var outputEl = gd.closest('.output');\n",
              "if (outputEl) {{\n",
              "    x.observe(outputEl, {childList: true});\n",
              "}}\n",
              "\n",
              "                        })                };                            </script>        </div>\n",
              "</body>\n",
              "</html>"
            ]
          },
          "metadata": {}
        }
      ]
    },
    {
      "cell_type": "code",
      "source": [
        "plot_slice(study)"
      ],
      "metadata": {
        "colab": {
          "base_uri": "https://localhost:8080/",
          "height": 542
        },
        "id": "j3pA22Hd4WhU",
        "outputId": "d27435b3-3178-4164-91e5-4904cf39bed5"
      },
      "execution_count": 215,
      "outputs": [
        {
          "output_type": "display_data",
          "data": {
            "text/html": [
              "<html>\n",
              "<head><meta charset=\"utf-8\" /></head>\n",
              "<body>\n",
              "    <div>            <script src=\"https://cdnjs.cloudflare.com/ajax/libs/mathjax/2.7.5/MathJax.js?config=TeX-AMS-MML_SVG\"></script><script type=\"text/javascript\">if (window.MathJax) {MathJax.Hub.Config({SVG: {font: \"STIX-Web\"}});}</script>                <script type=\"text/javascript\">window.PlotlyConfig = {MathJaxConfig: 'local'};</script>\n",
              "        <script src=\"https://cdn.plot.ly/plotly-2.8.3.min.js\"></script>                <div id=\"fa78bf88-9b8e-426d-a590-32d22ca4ad0a\" class=\"plotly-graph-div\" style=\"height:525px; width:100%;\"></div>            <script type=\"text/javascript\">                                    window.PLOTLYENV=window.PLOTLYENV || {};                                    if (document.getElementById(\"fa78bf88-9b8e-426d-a590-32d22ca4ad0a\")) {                    Plotly.newPlot(                        \"fa78bf88-9b8e-426d-a590-32d22ca4ad0a\",                        [{\"marker\":{\"color\":[0,1,2,3,4,10,11,15,24,27,29,35,36,39,55,65,75,77,92,98],\"colorbar\":{\"title\":{\"text\":\"Trial\"},\"x\":1.0,\"xpad\":40},\"colorscale\":[[0.0,\"rgb(247,251,255)\"],[0.125,\"rgb(222,235,247)\"],[0.25,\"rgb(198,219,239)\"],[0.375,\"rgb(158,202,225)\"],[0.5,\"rgb(107,174,214)\"],[0.625,\"rgb(66,146,198)\"],[0.75,\"rgb(33,113,181)\"],[0.875,\"rgb(8,81,156)\"],[1.0,\"rgb(8,48,107)\"]],\"line\":{\"color\":\"Grey\",\"width\":0.5}},\"mode\":\"markers\",\"showlegend\":false,\"x\":[7.627925605474698e-05,0.01859957559564362,0.012358763656491106,2.3453736592775165e-05,0.003030812375404742,0.005137983404552893,0.005745705836684827,0.0022945765290248096,0.028675513070087588,0.0006191831859196377,4.8128947865586555e-05,0.0038866692966172426,0.04616997991899666,0.007361246295513337,0.010533118855635359,0.013301871615236945,3.666368365863655e-05,0.02610577717780858,5.770293066507061e-05,0.0011078967403876482],\"y\":[0.21678321678321677,0.0699300699300699,0.07692307692307687,0.2027972027972028,0.3146853146853147,0.06293706293706292,0.08391608391608396,0.26573426573426573,0.09090909090909094,0.1398601398601399,0.12587412587412583,0.14685314685314688,0.11888111888111885,0.0699300699300699,0.15384615384615385,0.15384615384615385,0.30069930069930073,0.1048951048951049,0.15384615384615385,0.13286713286713292],\"type\":\"scatter\"}],                        {\"title\":{\"text\":\"Slice Plot\"},\"template\":{\"data\":{\"bar\":[{\"error_x\":{\"color\":\"#2a3f5f\"},\"error_y\":{\"color\":\"#2a3f5f\"},\"marker\":{\"line\":{\"color\":\"#E5ECF6\",\"width\":0.5},\"pattern\":{\"fillmode\":\"overlay\",\"size\":10,\"solidity\":0.2}},\"type\":\"bar\"}],\"barpolar\":[{\"marker\":{\"line\":{\"color\":\"#E5ECF6\",\"width\":0.5},\"pattern\":{\"fillmode\":\"overlay\",\"size\":10,\"solidity\":0.2}},\"type\":\"barpolar\"}],\"carpet\":[{\"aaxis\":{\"endlinecolor\":\"#2a3f5f\",\"gridcolor\":\"white\",\"linecolor\":\"white\",\"minorgridcolor\":\"white\",\"startlinecolor\":\"#2a3f5f\"},\"baxis\":{\"endlinecolor\":\"#2a3f5f\",\"gridcolor\":\"white\",\"linecolor\":\"white\",\"minorgridcolor\":\"white\",\"startlinecolor\":\"#2a3f5f\"},\"type\":\"carpet\"}],\"choropleth\":[{\"colorbar\":{\"outlinewidth\":0,\"ticks\":\"\"},\"type\":\"choropleth\"}],\"contour\":[{\"colorbar\":{\"outlinewidth\":0,\"ticks\":\"\"},\"colorscale\":[[0.0,\"#0d0887\"],[0.1111111111111111,\"#46039f\"],[0.2222222222222222,\"#7201a8\"],[0.3333333333333333,\"#9c179e\"],[0.4444444444444444,\"#bd3786\"],[0.5555555555555556,\"#d8576b\"],[0.6666666666666666,\"#ed7953\"],[0.7777777777777778,\"#fb9f3a\"],[0.8888888888888888,\"#fdca26\"],[1.0,\"#f0f921\"]],\"type\":\"contour\"}],\"contourcarpet\":[{\"colorbar\":{\"outlinewidth\":0,\"ticks\":\"\"},\"type\":\"contourcarpet\"}],\"heatmap\":[{\"colorbar\":{\"outlinewidth\":0,\"ticks\":\"\"},\"colorscale\":[[0.0,\"#0d0887\"],[0.1111111111111111,\"#46039f\"],[0.2222222222222222,\"#7201a8\"],[0.3333333333333333,\"#9c179e\"],[0.4444444444444444,\"#bd3786\"],[0.5555555555555556,\"#d8576b\"],[0.6666666666666666,\"#ed7953\"],[0.7777777777777778,\"#fb9f3a\"],[0.8888888888888888,\"#fdca26\"],[1.0,\"#f0f921\"]],\"type\":\"heatmap\"}],\"heatmapgl\":[{\"colorbar\":{\"outlinewidth\":0,\"ticks\":\"\"},\"colorscale\":[[0.0,\"#0d0887\"],[0.1111111111111111,\"#46039f\"],[0.2222222222222222,\"#7201a8\"],[0.3333333333333333,\"#9c179e\"],[0.4444444444444444,\"#bd3786\"],[0.5555555555555556,\"#d8576b\"],[0.6666666666666666,\"#ed7953\"],[0.7777777777777778,\"#fb9f3a\"],[0.8888888888888888,\"#fdca26\"],[1.0,\"#f0f921\"]],\"type\":\"heatmapgl\"}],\"histogram\":[{\"marker\":{\"pattern\":{\"fillmode\":\"overlay\",\"size\":10,\"solidity\":0.2}},\"type\":\"histogram\"}],\"histogram2d\":[{\"colorbar\":{\"outlinewidth\":0,\"ticks\":\"\"},\"colorscale\":[[0.0,\"#0d0887\"],[0.1111111111111111,\"#46039f\"],[0.2222222222222222,\"#7201a8\"],[0.3333333333333333,\"#9c179e\"],[0.4444444444444444,\"#bd3786\"],[0.5555555555555556,\"#d8576b\"],[0.6666666666666666,\"#ed7953\"],[0.7777777777777778,\"#fb9f3a\"],[0.8888888888888888,\"#fdca26\"],[1.0,\"#f0f921\"]],\"type\":\"histogram2d\"}],\"histogram2dcontour\":[{\"colorbar\":{\"outlinewidth\":0,\"ticks\":\"\"},\"colorscale\":[[0.0,\"#0d0887\"],[0.1111111111111111,\"#46039f\"],[0.2222222222222222,\"#7201a8\"],[0.3333333333333333,\"#9c179e\"],[0.4444444444444444,\"#bd3786\"],[0.5555555555555556,\"#d8576b\"],[0.6666666666666666,\"#ed7953\"],[0.7777777777777778,\"#fb9f3a\"],[0.8888888888888888,\"#fdca26\"],[1.0,\"#f0f921\"]],\"type\":\"histogram2dcontour\"}],\"mesh3d\":[{\"colorbar\":{\"outlinewidth\":0,\"ticks\":\"\"},\"type\":\"mesh3d\"}],\"parcoords\":[{\"line\":{\"colorbar\":{\"outlinewidth\":0,\"ticks\":\"\"}},\"type\":\"parcoords\"}],\"pie\":[{\"automargin\":true,\"type\":\"pie\"}],\"scatter\":[{\"marker\":{\"colorbar\":{\"outlinewidth\":0,\"ticks\":\"\"}},\"type\":\"scatter\"}],\"scatter3d\":[{\"line\":{\"colorbar\":{\"outlinewidth\":0,\"ticks\":\"\"}},\"marker\":{\"colorbar\":{\"outlinewidth\":0,\"ticks\":\"\"}},\"type\":\"scatter3d\"}],\"scattercarpet\":[{\"marker\":{\"colorbar\":{\"outlinewidth\":0,\"ticks\":\"\"}},\"type\":\"scattercarpet\"}],\"scattergeo\":[{\"marker\":{\"colorbar\":{\"outlinewidth\":0,\"ticks\":\"\"}},\"type\":\"scattergeo\"}],\"scattergl\":[{\"marker\":{\"colorbar\":{\"outlinewidth\":0,\"ticks\":\"\"}},\"type\":\"scattergl\"}],\"scattermapbox\":[{\"marker\":{\"colorbar\":{\"outlinewidth\":0,\"ticks\":\"\"}},\"type\":\"scattermapbox\"}],\"scatterpolar\":[{\"marker\":{\"colorbar\":{\"outlinewidth\":0,\"ticks\":\"\"}},\"type\":\"scatterpolar\"}],\"scatterpolargl\":[{\"marker\":{\"colorbar\":{\"outlinewidth\":0,\"ticks\":\"\"}},\"type\":\"scatterpolargl\"}],\"scatterternary\":[{\"marker\":{\"colorbar\":{\"outlinewidth\":0,\"ticks\":\"\"}},\"type\":\"scatterternary\"}],\"surface\":[{\"colorbar\":{\"outlinewidth\":0,\"ticks\":\"\"},\"colorscale\":[[0.0,\"#0d0887\"],[0.1111111111111111,\"#46039f\"],[0.2222222222222222,\"#7201a8\"],[0.3333333333333333,\"#9c179e\"],[0.4444444444444444,\"#bd3786\"],[0.5555555555555556,\"#d8576b\"],[0.6666666666666666,\"#ed7953\"],[0.7777777777777778,\"#fb9f3a\"],[0.8888888888888888,\"#fdca26\"],[1.0,\"#f0f921\"]],\"type\":\"surface\"}],\"table\":[{\"cells\":{\"fill\":{\"color\":\"#EBF0F8\"},\"line\":{\"color\":\"white\"}},\"header\":{\"fill\":{\"color\":\"#C8D4E3\"},\"line\":{\"color\":\"white\"}},\"type\":\"table\"}]},\"layout\":{\"annotationdefaults\":{\"arrowcolor\":\"#2a3f5f\",\"arrowhead\":0,\"arrowwidth\":1},\"autotypenumbers\":\"strict\",\"coloraxis\":{\"colorbar\":{\"outlinewidth\":0,\"ticks\":\"\"}},\"colorscale\":{\"diverging\":[[0,\"#8e0152\"],[0.1,\"#c51b7d\"],[0.2,\"#de77ae\"],[0.3,\"#f1b6da\"],[0.4,\"#fde0ef\"],[0.5,\"#f7f7f7\"],[0.6,\"#e6f5d0\"],[0.7,\"#b8e186\"],[0.8,\"#7fbc41\"],[0.9,\"#4d9221\"],[1,\"#276419\"]],\"sequential\":[[0.0,\"#0d0887\"],[0.1111111111111111,\"#46039f\"],[0.2222222222222222,\"#7201a8\"],[0.3333333333333333,\"#9c179e\"],[0.4444444444444444,\"#bd3786\"],[0.5555555555555556,\"#d8576b\"],[0.6666666666666666,\"#ed7953\"],[0.7777777777777778,\"#fb9f3a\"],[0.8888888888888888,\"#fdca26\"],[1.0,\"#f0f921\"]],\"sequentialminus\":[[0.0,\"#0d0887\"],[0.1111111111111111,\"#46039f\"],[0.2222222222222222,\"#7201a8\"],[0.3333333333333333,\"#9c179e\"],[0.4444444444444444,\"#bd3786\"],[0.5555555555555556,\"#d8576b\"],[0.6666666666666666,\"#ed7953\"],[0.7777777777777778,\"#fb9f3a\"],[0.8888888888888888,\"#fdca26\"],[1.0,\"#f0f921\"]]},\"colorway\":[\"#636efa\",\"#EF553B\",\"#00cc96\",\"#ab63fa\",\"#FFA15A\",\"#19d3f3\",\"#FF6692\",\"#B6E880\",\"#FF97FF\",\"#FECB52\"],\"font\":{\"color\":\"#2a3f5f\"},\"geo\":{\"bgcolor\":\"white\",\"lakecolor\":\"white\",\"landcolor\":\"#E5ECF6\",\"showlakes\":true,\"showland\":true,\"subunitcolor\":\"white\"},\"hoverlabel\":{\"align\":\"left\"},\"hovermode\":\"closest\",\"mapbox\":{\"style\":\"light\"},\"paper_bgcolor\":\"white\",\"plot_bgcolor\":\"#E5ECF6\",\"polar\":{\"angularaxis\":{\"gridcolor\":\"white\",\"linecolor\":\"white\",\"ticks\":\"\"},\"bgcolor\":\"#E5ECF6\",\"radialaxis\":{\"gridcolor\":\"white\",\"linecolor\":\"white\",\"ticks\":\"\"}},\"scene\":{\"xaxis\":{\"backgroundcolor\":\"#E5ECF6\",\"gridcolor\":\"white\",\"gridwidth\":2,\"linecolor\":\"white\",\"showbackground\":true,\"ticks\":\"\",\"zerolinecolor\":\"white\"},\"yaxis\":{\"backgroundcolor\":\"#E5ECF6\",\"gridcolor\":\"white\",\"gridwidth\":2,\"linecolor\":\"white\",\"showbackground\":true,\"ticks\":\"\",\"zerolinecolor\":\"white\"},\"zaxis\":{\"backgroundcolor\":\"#E5ECF6\",\"gridcolor\":\"white\",\"gridwidth\":2,\"linecolor\":\"white\",\"showbackground\":true,\"ticks\":\"\",\"zerolinecolor\":\"white\"}},\"shapedefaults\":{\"line\":{\"color\":\"#2a3f5f\"}},\"ternary\":{\"aaxis\":{\"gridcolor\":\"white\",\"linecolor\":\"white\",\"ticks\":\"\"},\"baxis\":{\"gridcolor\":\"white\",\"linecolor\":\"white\",\"ticks\":\"\"},\"bgcolor\":\"#E5ECF6\",\"caxis\":{\"gridcolor\":\"white\",\"linecolor\":\"white\",\"ticks\":\"\"}},\"title\":{\"x\":0.05},\"xaxis\":{\"automargin\":true,\"gridcolor\":\"white\",\"linecolor\":\"white\",\"ticks\":\"\",\"title\":{\"standoff\":15},\"zerolinecolor\":\"white\",\"zerolinewidth\":2},\"yaxis\":{\"automargin\":true,\"gridcolor\":\"white\",\"linecolor\":\"white\",\"ticks\":\"\",\"title\":{\"standoff\":15},\"zerolinecolor\":\"white\",\"zerolinewidth\":2}}},\"xaxis\":{\"title\":{\"text\":\"alpha\"},\"type\":\"log\"},\"yaxis\":{\"title\":{\"text\":\"Objective Value\"}}},                        {\"responsive\": true}                    ).then(function(){\n",
              "                            \n",
              "var gd = document.getElementById('fa78bf88-9b8e-426d-a590-32d22ca4ad0a');\n",
              "var x = new MutationObserver(function (mutations, observer) {{\n",
              "        var display = window.getComputedStyle(gd).display;\n",
              "        if (!display || display === 'none') {{\n",
              "            console.log([gd, 'removed!']);\n",
              "            Plotly.purge(gd);\n",
              "            observer.disconnect();\n",
              "        }}\n",
              "}});\n",
              "\n",
              "// Listen for the removal of the full notebook cells\n",
              "var notebookContainer = gd.closest('#notebook-container');\n",
              "if (notebookContainer) {{\n",
              "    x.observe(notebookContainer, {childList: true});\n",
              "}}\n",
              "\n",
              "// Listen for the clearing of the current output cell\n",
              "var outputEl = gd.closest('.output');\n",
              "if (outputEl) {{\n",
              "    x.observe(outputEl, {childList: true});\n",
              "}}\n",
              "\n",
              "                        })                };                            </script>        </div>\n",
              "</body>\n",
              "</html>"
            ]
          },
          "metadata": {}
        }
      ]
    },
    {
      "cell_type": "code",
      "source": [
        "plot_edf(study)"
      ],
      "metadata": {
        "colab": {
          "base_uri": "https://localhost:8080/",
          "height": 542
        },
        "id": "UoklIZpd4ZjM",
        "outputId": "d94cda03-9ce0-4cc2-efe9-3e382f90fb9e"
      },
      "execution_count": 216,
      "outputs": [
        {
          "output_type": "display_data",
          "data": {
            "text/html": [
              "<html>\n",
              "<head><meta charset=\"utf-8\" /></head>\n",
              "<body>\n",
              "    <div>            <script src=\"https://cdnjs.cloudflare.com/ajax/libs/mathjax/2.7.5/MathJax.js?config=TeX-AMS-MML_SVG\"></script><script type=\"text/javascript\">if (window.MathJax) {MathJax.Hub.Config({SVG: {font: \"STIX-Web\"}});}</script>                <script type=\"text/javascript\">window.PlotlyConfig = {MathJaxConfig: 'local'};</script>\n",
              "        <script src=\"https://cdn.plot.ly/plotly-2.8.3.min.js\"></script>                <div id=\"5ad16cfa-378c-4d9f-ae1e-2eb3d1c8fdbb\" class=\"plotly-graph-div\" style=\"height:525px; width:100%;\"></div>            <script type=\"text/javascript\">                                    window.PLOTLYENV=window.PLOTLYENV || {};                                    if (document.getElementById(\"5ad16cfa-378c-4d9f-ae1e-2eb3d1c8fdbb\")) {                    Plotly.newPlot(                        \"5ad16cfa-378c-4d9f-ae1e-2eb3d1c8fdbb\",                        [{\"mode\":\"lines\",\"name\":\"no-name-8d186358-5f4d-449d-ad57-161e7de348c9\",\"x\":[0.06293706293706292,0.06547997457088364,0.06802288620470437,0.0705657978385251,0.07310870947234581,0.07565162110616654,0.07819453273998726,0.08073744437380799,0.08328035600762872,0.08582326764144943,0.08836617927527016,0.09090909090909088,0.09345200254291161,0.09599491417673234,0.09853782581055306,0.10108073744437379,0.10362364907819452,0.10616656071201525,0.10870947234583596,0.11125238397965669,0.11379529561347741,0.11633820724729813,0.11888111888111885,0.12142403051493958,0.1239669421487603,0.12650985378258103,0.12905276541640176,0.1315956770502225,0.13413858868404321,0.1366815003178639,0.13922441195168467,0.14176732358550537,0.14431023521932612,0.14685314685314682,0.14939605848696758,0.15193897012078827,0.154481881754609,0.15702479338842973,0.15956770502225046,0.16211061665607118,0.1646535282898919,0.16719643992371264,0.16973935155753334,0.1722822631913541,0.1748251748251748,0.17736808645899554,0.17991099809281624,0.182453909726637,0.1849968213604577,0.18753973299427842,0.19008264462809915,0.19262555626191988,0.1951684678957406,0.19771137952956133,0.20025429116338206,0.20279720279720279,0.2053401144310235,0.20788302606484424,0.21042593769866494,0.21296884933248567,0.2155117609663064,0.21805467260012712,0.22059758423394785,0.22314049586776857,0.2256834075015893,0.22822631913541003,0.23076923076923075,0.23331214240305148,0.2358550540368722,0.23839796567069294,0.24094087730451366,0.24348378893833436,0.2460267005721551,0.24856961220597582,0.25111252383979654,0.25365543547361724,0.256198347107438,0.25874125874125875,0.26128417037507945,0.26382708200890015,0.2663699936427209,0.26891290527654166,0.27145581691036236,0.27399872854418306,0.27654164017800376,0.2790845518118245,0.28162746344564527,0.28417037507946596,0.28671328671328666,0.2892561983471074,0.2917991099809282,0.29434202161474887,0.29688493324856957,0.2994278448823903,0.3019707565162111,0.3045136681500318,0.3070565797838525,0.3095994914176732,0.31214240305149393,0.3146853146853147],\"y\":[0.05,0.05,0.05,0.15,0.15,0.15,0.2,0.2,0.2,0.25,0.25,0.25,0.3,0.3,0.3,0.3,0.3,0.35,0.35,0.35,0.35,0.35,0.4,0.4,0.4,0.45,0.45,0.45,0.5,0.5,0.5,0.55,0.55,0.55,0.6,0.6,0.75,0.75,0.75,0.75,0.75,0.75,0.75,0.75,0.75,0.75,0.75,0.75,0.75,0.75,0.75,0.75,0.75,0.75,0.75,0.75,0.8,0.8,0.8,0.8,0.8,0.85,0.85,0.85,0.85,0.85,0.85,0.85,0.85,0.85,0.85,0.85,0.85,0.85,0.85,0.85,0.85,0.85,0.85,0.85,0.9,0.9,0.9,0.9,0.9,0.9,0.9,0.9,0.9,0.9,0.9,0.9,0.9,0.9,0.95,0.95,0.95,0.95,0.95,1.0],\"type\":\"scatter\"}],                        {\"title\":{\"text\":\"Empirical Distribution Function Plot\"},\"xaxis\":{\"title\":{\"text\":\"Objective Value\"}},\"yaxis\":{\"title\":{\"text\":\"Cumulative Probability\"},\"range\":[0,1]},\"template\":{\"data\":{\"bar\":[{\"error_x\":{\"color\":\"#2a3f5f\"},\"error_y\":{\"color\":\"#2a3f5f\"},\"marker\":{\"line\":{\"color\":\"#E5ECF6\",\"width\":0.5},\"pattern\":{\"fillmode\":\"overlay\",\"size\":10,\"solidity\":0.2}},\"type\":\"bar\"}],\"barpolar\":[{\"marker\":{\"line\":{\"color\":\"#E5ECF6\",\"width\":0.5},\"pattern\":{\"fillmode\":\"overlay\",\"size\":10,\"solidity\":0.2}},\"type\":\"barpolar\"}],\"carpet\":[{\"aaxis\":{\"endlinecolor\":\"#2a3f5f\",\"gridcolor\":\"white\",\"linecolor\":\"white\",\"minorgridcolor\":\"white\",\"startlinecolor\":\"#2a3f5f\"},\"baxis\":{\"endlinecolor\":\"#2a3f5f\",\"gridcolor\":\"white\",\"linecolor\":\"white\",\"minorgridcolor\":\"white\",\"startlinecolor\":\"#2a3f5f\"},\"type\":\"carpet\"}],\"choropleth\":[{\"colorbar\":{\"outlinewidth\":0,\"ticks\":\"\"},\"type\":\"choropleth\"}],\"contour\":[{\"colorbar\":{\"outlinewidth\":0,\"ticks\":\"\"},\"colorscale\":[[0.0,\"#0d0887\"],[0.1111111111111111,\"#46039f\"],[0.2222222222222222,\"#7201a8\"],[0.3333333333333333,\"#9c179e\"],[0.4444444444444444,\"#bd3786\"],[0.5555555555555556,\"#d8576b\"],[0.6666666666666666,\"#ed7953\"],[0.7777777777777778,\"#fb9f3a\"],[0.8888888888888888,\"#fdca26\"],[1.0,\"#f0f921\"]],\"type\":\"contour\"}],\"contourcarpet\":[{\"colorbar\":{\"outlinewidth\":0,\"ticks\":\"\"},\"type\":\"contourcarpet\"}],\"heatmap\":[{\"colorbar\":{\"outlinewidth\":0,\"ticks\":\"\"},\"colorscale\":[[0.0,\"#0d0887\"],[0.1111111111111111,\"#46039f\"],[0.2222222222222222,\"#7201a8\"],[0.3333333333333333,\"#9c179e\"],[0.4444444444444444,\"#bd3786\"],[0.5555555555555556,\"#d8576b\"],[0.6666666666666666,\"#ed7953\"],[0.7777777777777778,\"#fb9f3a\"],[0.8888888888888888,\"#fdca26\"],[1.0,\"#f0f921\"]],\"type\":\"heatmap\"}],\"heatmapgl\":[{\"colorbar\":{\"outlinewidth\":0,\"ticks\":\"\"},\"colorscale\":[[0.0,\"#0d0887\"],[0.1111111111111111,\"#46039f\"],[0.2222222222222222,\"#7201a8\"],[0.3333333333333333,\"#9c179e\"],[0.4444444444444444,\"#bd3786\"],[0.5555555555555556,\"#d8576b\"],[0.6666666666666666,\"#ed7953\"],[0.7777777777777778,\"#fb9f3a\"],[0.8888888888888888,\"#fdca26\"],[1.0,\"#f0f921\"]],\"type\":\"heatmapgl\"}],\"histogram\":[{\"marker\":{\"pattern\":{\"fillmode\":\"overlay\",\"size\":10,\"solidity\":0.2}},\"type\":\"histogram\"}],\"histogram2d\":[{\"colorbar\":{\"outlinewidth\":0,\"ticks\":\"\"},\"colorscale\":[[0.0,\"#0d0887\"],[0.1111111111111111,\"#46039f\"],[0.2222222222222222,\"#7201a8\"],[0.3333333333333333,\"#9c179e\"],[0.4444444444444444,\"#bd3786\"],[0.5555555555555556,\"#d8576b\"],[0.6666666666666666,\"#ed7953\"],[0.7777777777777778,\"#fb9f3a\"],[0.8888888888888888,\"#fdca26\"],[1.0,\"#f0f921\"]],\"type\":\"histogram2d\"}],\"histogram2dcontour\":[{\"colorbar\":{\"outlinewidth\":0,\"ticks\":\"\"},\"colorscale\":[[0.0,\"#0d0887\"],[0.1111111111111111,\"#46039f\"],[0.2222222222222222,\"#7201a8\"],[0.3333333333333333,\"#9c179e\"],[0.4444444444444444,\"#bd3786\"],[0.5555555555555556,\"#d8576b\"],[0.6666666666666666,\"#ed7953\"],[0.7777777777777778,\"#fb9f3a\"],[0.8888888888888888,\"#fdca26\"],[1.0,\"#f0f921\"]],\"type\":\"histogram2dcontour\"}],\"mesh3d\":[{\"colorbar\":{\"outlinewidth\":0,\"ticks\":\"\"},\"type\":\"mesh3d\"}],\"parcoords\":[{\"line\":{\"colorbar\":{\"outlinewidth\":0,\"ticks\":\"\"}},\"type\":\"parcoords\"}],\"pie\":[{\"automargin\":true,\"type\":\"pie\"}],\"scatter\":[{\"marker\":{\"colorbar\":{\"outlinewidth\":0,\"ticks\":\"\"}},\"type\":\"scatter\"}],\"scatter3d\":[{\"line\":{\"colorbar\":{\"outlinewidth\":0,\"ticks\":\"\"}},\"marker\":{\"colorbar\":{\"outlinewidth\":0,\"ticks\":\"\"}},\"type\":\"scatter3d\"}],\"scattercarpet\":[{\"marker\":{\"colorbar\":{\"outlinewidth\":0,\"ticks\":\"\"}},\"type\":\"scattercarpet\"}],\"scattergeo\":[{\"marker\":{\"colorbar\":{\"outlinewidth\":0,\"ticks\":\"\"}},\"type\":\"scattergeo\"}],\"scattergl\":[{\"marker\":{\"colorbar\":{\"outlinewidth\":0,\"ticks\":\"\"}},\"type\":\"scattergl\"}],\"scattermapbox\":[{\"marker\":{\"colorbar\":{\"outlinewidth\":0,\"ticks\":\"\"}},\"type\":\"scattermapbox\"}],\"scatterpolar\":[{\"marker\":{\"colorbar\":{\"outlinewidth\":0,\"ticks\":\"\"}},\"type\":\"scatterpolar\"}],\"scatterpolargl\":[{\"marker\":{\"colorbar\":{\"outlinewidth\":0,\"ticks\":\"\"}},\"type\":\"scatterpolargl\"}],\"scatterternary\":[{\"marker\":{\"colorbar\":{\"outlinewidth\":0,\"ticks\":\"\"}},\"type\":\"scatterternary\"}],\"surface\":[{\"colorbar\":{\"outlinewidth\":0,\"ticks\":\"\"},\"colorscale\":[[0.0,\"#0d0887\"],[0.1111111111111111,\"#46039f\"],[0.2222222222222222,\"#7201a8\"],[0.3333333333333333,\"#9c179e\"],[0.4444444444444444,\"#bd3786\"],[0.5555555555555556,\"#d8576b\"],[0.6666666666666666,\"#ed7953\"],[0.7777777777777778,\"#fb9f3a\"],[0.8888888888888888,\"#fdca26\"],[1.0,\"#f0f921\"]],\"type\":\"surface\"}],\"table\":[{\"cells\":{\"fill\":{\"color\":\"#EBF0F8\"},\"line\":{\"color\":\"white\"}},\"header\":{\"fill\":{\"color\":\"#C8D4E3\"},\"line\":{\"color\":\"white\"}},\"type\":\"table\"}]},\"layout\":{\"annotationdefaults\":{\"arrowcolor\":\"#2a3f5f\",\"arrowhead\":0,\"arrowwidth\":1},\"autotypenumbers\":\"strict\",\"coloraxis\":{\"colorbar\":{\"outlinewidth\":0,\"ticks\":\"\"}},\"colorscale\":{\"diverging\":[[0,\"#8e0152\"],[0.1,\"#c51b7d\"],[0.2,\"#de77ae\"],[0.3,\"#f1b6da\"],[0.4,\"#fde0ef\"],[0.5,\"#f7f7f7\"],[0.6,\"#e6f5d0\"],[0.7,\"#b8e186\"],[0.8,\"#7fbc41\"],[0.9,\"#4d9221\"],[1,\"#276419\"]],\"sequential\":[[0.0,\"#0d0887\"],[0.1111111111111111,\"#46039f\"],[0.2222222222222222,\"#7201a8\"],[0.3333333333333333,\"#9c179e\"],[0.4444444444444444,\"#bd3786\"],[0.5555555555555556,\"#d8576b\"],[0.6666666666666666,\"#ed7953\"],[0.7777777777777778,\"#fb9f3a\"],[0.8888888888888888,\"#fdca26\"],[1.0,\"#f0f921\"]],\"sequentialminus\":[[0.0,\"#0d0887\"],[0.1111111111111111,\"#46039f\"],[0.2222222222222222,\"#7201a8\"],[0.3333333333333333,\"#9c179e\"],[0.4444444444444444,\"#bd3786\"],[0.5555555555555556,\"#d8576b\"],[0.6666666666666666,\"#ed7953\"],[0.7777777777777778,\"#fb9f3a\"],[0.8888888888888888,\"#fdca26\"],[1.0,\"#f0f921\"]]},\"colorway\":[\"#636efa\",\"#EF553B\",\"#00cc96\",\"#ab63fa\",\"#FFA15A\",\"#19d3f3\",\"#FF6692\",\"#B6E880\",\"#FF97FF\",\"#FECB52\"],\"font\":{\"color\":\"#2a3f5f\"},\"geo\":{\"bgcolor\":\"white\",\"lakecolor\":\"white\",\"landcolor\":\"#E5ECF6\",\"showlakes\":true,\"showland\":true,\"subunitcolor\":\"white\"},\"hoverlabel\":{\"align\":\"left\"},\"hovermode\":\"closest\",\"mapbox\":{\"style\":\"light\"},\"paper_bgcolor\":\"white\",\"plot_bgcolor\":\"#E5ECF6\",\"polar\":{\"angularaxis\":{\"gridcolor\":\"white\",\"linecolor\":\"white\",\"ticks\":\"\"},\"bgcolor\":\"#E5ECF6\",\"radialaxis\":{\"gridcolor\":\"white\",\"linecolor\":\"white\",\"ticks\":\"\"}},\"scene\":{\"xaxis\":{\"backgroundcolor\":\"#E5ECF6\",\"gridcolor\":\"white\",\"gridwidth\":2,\"linecolor\":\"white\",\"showbackground\":true,\"ticks\":\"\",\"zerolinecolor\":\"white\"},\"yaxis\":{\"backgroundcolor\":\"#E5ECF6\",\"gridcolor\":\"white\",\"gridwidth\":2,\"linecolor\":\"white\",\"showbackground\":true,\"ticks\":\"\",\"zerolinecolor\":\"white\"},\"zaxis\":{\"backgroundcolor\":\"#E5ECF6\",\"gridcolor\":\"white\",\"gridwidth\":2,\"linecolor\":\"white\",\"showbackground\":true,\"ticks\":\"\",\"zerolinecolor\":\"white\"}},\"shapedefaults\":{\"line\":{\"color\":\"#2a3f5f\"}},\"ternary\":{\"aaxis\":{\"gridcolor\":\"white\",\"linecolor\":\"white\",\"ticks\":\"\"},\"baxis\":{\"gridcolor\":\"white\",\"linecolor\":\"white\",\"ticks\":\"\"},\"bgcolor\":\"#E5ECF6\",\"caxis\":{\"gridcolor\":\"white\",\"linecolor\":\"white\",\"ticks\":\"\"}},\"title\":{\"x\":0.05},\"xaxis\":{\"automargin\":true,\"gridcolor\":\"white\",\"linecolor\":\"white\",\"ticks\":\"\",\"title\":{\"standoff\":15},\"zerolinecolor\":\"white\",\"zerolinewidth\":2},\"yaxis\":{\"automargin\":true,\"gridcolor\":\"white\",\"linecolor\":\"white\",\"ticks\":\"\",\"title\":{\"standoff\":15},\"zerolinecolor\":\"white\",\"zerolinewidth\":2}}}},                        {\"responsive\": true}                    ).then(function(){\n",
              "                            \n",
              "var gd = document.getElementById('5ad16cfa-378c-4d9f-ae1e-2eb3d1c8fdbb');\n",
              "var x = new MutationObserver(function (mutations, observer) {{\n",
              "        var display = window.getComputedStyle(gd).display;\n",
              "        if (!display || display === 'none') {{\n",
              "            console.log([gd, 'removed!']);\n",
              "            Plotly.purge(gd);\n",
              "            observer.disconnect();\n",
              "        }}\n",
              "}});\n",
              "\n",
              "// Listen for the removal of the full notebook cells\n",
              "var notebookContainer = gd.closest('#notebook-container');\n",
              "if (notebookContainer) {{\n",
              "    x.observe(notebookContainer, {childList: true});\n",
              "}}\n",
              "\n",
              "// Listen for the clearing of the current output cell\n",
              "var outputEl = gd.closest('.output');\n",
              "if (outputEl) {{\n",
              "    x.observe(outputEl, {childList: true});\n",
              "}}\n",
              "\n",
              "                        })                };                            </script>        </div>\n",
              "</body>\n",
              "</html>"
            ]
          },
          "metadata": {}
        }
      ]
    }
  ]
}