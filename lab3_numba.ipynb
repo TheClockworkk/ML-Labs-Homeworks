{
  "nbformat": 4,
  "nbformat_minor": 0,
  "metadata": {
    "colab": {
      "provenance": [],
      "authorship_tag": "ABX9TyOzOYoetaQurxNSZfm0aUT2",
      "include_colab_link": true
    },
    "kernelspec": {
      "name": "python3",
      "display_name": "Python 3"
    },
    "language_info": {
      "name": "python"
    }
  },
  "cells": [
    {
      "cell_type": "markdown",
      "metadata": {
        "id": "view-in-github",
        "colab_type": "text"
      },
      "source": [
        "<a href=\"https://colab.research.google.com/github/TheClockworkk/ML-Labs-Homeworks/blob/main/lab3_numba.ipynb\" target=\"_parent\"><img src=\"https://colab.research.google.com/assets/colab-badge.svg\" alt=\"Open In Colab\"/></a>"
      ]
    },
    {
      "cell_type": "code",
      "execution_count": 25,
      "metadata": {
        "id": "SgG54r5qCz4_"
      },
      "outputs": [],
      "source": [
        "from matplotlib import pyplot as plt\n",
        "import numpy as np\n",
        "from numpy import linalg as la\n",
        "\n",
        "import numba\n",
        "from datetime import datetime"
      ]
    },
    {
      "cell_type": "code",
      "source": [
        "class Himmelblau():\n",
        "  @staticmethod\n",
        "  @numba.njit(fastmath=True)\n",
        "  def fuction(x):\n",
        "        return (x[0] * x[0] + x[1] - 11) ** 2 + (x[0] + x[1] * x[1] - 7) ** 2\n",
        "\n",
        "  @staticmethod\n",
        "  @numba.njit(fastmath=True)\n",
        "  def get_bounds():\n",
        "    return np.array([[-5, -5], [5, 5]])\n",
        "    \n",
        "  @staticmethod\n",
        "  @numba.njit(fastmath=True)\n",
        "  def get_min():\n",
        "        return np.array([3., 2., 0.])\n",
        "  \n",
        "  @staticmethod\n",
        "  @numba.njit(fastmath=True)\n",
        "  def gradient(x):\n",
        "        return np.array([4 * x[0] * (x[0] * x[0] + x[1] - 11) + 2 * (x[0] + x[1] * x[1] - 7), 4 * x[1] * (x[1] * x[1] + x[0] - 7) + 2 * (x[1] + x[0] * x[0] - 11)])"
      ],
      "metadata": {
        "id": "5Ndmq4RgC9_z"
      },
      "execution_count": 26,
      "outputs": []
    },
    {
      "cell_type": "code",
      "source": [
        "class Matyas():\n",
        "  @staticmethod\n",
        "  @numba.njit(fastmath=True)\n",
        "  def fuction(x):\n",
        "        return 0.26*(x[0]*x[0] + x[1]*x[1])-0.48*x[0]*x[1]\n",
        "\n",
        "  @staticmethod\n",
        "  @numba.njit(fastmath=True)\n",
        "  def get_bounds():\n",
        "    return np.array([[-10, -10], [10, 10]])\n",
        "    \n",
        "  @staticmethod\n",
        "  @numba.njit(fastmath=True)\n",
        "  def get_min():\n",
        "        return np.array([0., 0., 0.])\n",
        "  \n",
        "  @staticmethod\n",
        "  @numba.njit(fastmath=True)\n",
        "  def gradient(x):\n",
        "        return np.array([0.52*x[0] - 0.48 * x[1], 0.52*x[1] - 0.48 * x[0]])"
      ],
      "metadata": {
        "id": "OqTNRzAwFL5m"
      },
      "execution_count": 27,
      "outputs": []
    },
    {
      "cell_type": "code",
      "source": [
        "@numba.njit(fastmath=True)\n",
        "def my_GD(\n",
        "    fun: callable, grad: callable, start_params: np.ndarray, glob_min: np.ndarray, \n",
        "    max_iter: int = 1000, lr: float = 0.1, delta: float = 0.001\n",
        "    ) -> np.array:\n",
        "\n",
        "    \"\"\"Классический градиентный спуск\n",
        "\n",
        "    Args:\n",
        "        fun (callable): Функция искуственного ландшафта\n",
        "        start_params (np.ndarray): Стартовый набор параметров\n",
        "        glob_min (np.ndarray): Глобальный минимум рассматриваемой функции\n",
        "        max_iter (int, optional): Ограничение по кол-ву итераций. Defaults to 1000.\n",
        "        lr (float, optional): Шаг обучения. Defaults to 0.1.\n",
        "        delta (float, optional): Радиус сходимости. Defaults to 0.001.\n",
        "\n",
        "    Returns:\n",
        "        np.array: История градиентного спуска\n",
        "    \"\"\"\n",
        "\n",
        "    # Рассчитываем начальный набор параметров\n",
        "    params = start_params.copy()\n",
        "    path = [np.array([params[0], params[1], fun(params)])]\n",
        "    \n",
        "    step = 0\n",
        "    while (step < max_iter and la.norm(path[-1] - glob_min) > delta):\n",
        "\n",
        "        # Вычисляем новое значение параметров\n",
        "        params = params - lr * grad(params)\n",
        "\n",
        "        # Логируем результат\n",
        "        path.append(np.array([params[0], params[1], fun(params)]))\n",
        "        step += 1\n",
        "\n",
        "    return path"
      ],
      "metadata": {
        "id": "Zp3tQkXoOtc5"
      },
      "execution_count": 28,
      "outputs": []
    },
    {
      "cell_type": "code",
      "source": [
        "# Для Химмельблау\n",
        "start_time = datetime.now()\n",
        "path = my_GD(Himmelblau.fuction, Himmelblau.gradient, np.array([5.,5.]), Himmelblau.get_min(), max_iter = 1000, lr = 0.001)\n",
        "print(\"Himmelblau default sgd optimized\\n\", datetime.now() - start_time)"
      ],
      "metadata": {
        "colab": {
          "base_uri": "https://localhost:8080/"
        },
        "id": "RS1MHbVyPoWd",
        "outputId": "9dd06920-368f-42fe-fc7e-dca064929f48"
      },
      "execution_count": 29,
      "outputs": [
        {
          "output_type": "stream",
          "name": "stdout",
          "text": [
            "Himmelblau default sgd optimized\n",
            " 0:00:00.830353\n"
          ]
        }
      ]
    },
    {
      "cell_type": "code",
      "source": [
        "# Для Мак Кормика\n",
        "start_time = datetime.now()\n",
        "path = my_GD(Matyas.fuction, Matyas.gradient, np.array([-9.,5.]), Matyas.get_min(), max_iter = 1000, lr = 0.1)\n",
        "print(\"Matyas default sgd optimized\\n\", datetime.now() - start_time)"
      ],
      "metadata": {
        "id": "IX6OtZ2AFQZJ",
        "colab": {
          "base_uri": "https://localhost:8080/"
        },
        "outputId": "ec4bf0c1-5220-468b-a8bc-dbee14dc8d62"
      },
      "execution_count": 30,
      "outputs": [
        {
          "output_type": "stream",
          "name": "stdout",
          "text": [
            "Matyas default sgd optimized\n",
            " 0:00:00.838443\n"
          ]
        }
      ]
    },
    {
      "cell_type": "code",
      "source": [
        "@numba.njit(fastmath=True)\n",
        "def inertial_GD(\n",
        "    fun: callable, grad: callable, start_params: np.ndarray, glob_min: np.ndarray, \n",
        "    max_iter: int = 1000, lr: float = 0.1, delta: float = 0.001, beta: float = 0.5\n",
        "    ) -> np.array:\n",
        "    \n",
        "    \"\"\"Инертный градиентный спуск\n",
        "\n",
        "    Args:\n",
        "        fun (callable): Функция искуственного ландшафта\n",
        "        start_params (np.ndarray): Начальный набор параметров\n",
        "        glob_min (np.ndarray): Глобальный минимум рассматриваемой функции\n",
        "        max_iter (int, optional): Ограничение по кол-ву итераций. Defaults to 1000.\n",
        "        lr (float, optional): Шаг обучения. Defaults to 0.1.\n",
        "        delta (float, optional): Радиус сходимости. Defaults to 0.001.\n",
        "        beta (float, optional): Коэффициент энертности. Defaults to 0.5.\n",
        "\n",
        "    Returns:\n",
        "        np.array: История градиентного спуска\n",
        "    \"\"\"\n",
        "    # Рассчитываем начальный набор параметров\n",
        "    params_prev = start_params.copy()\n",
        "    params = start_params.copy()\n",
        "    path = [np.array([params[0], params[1], fun(params)])]\n",
        "    \n",
        "    step = 0\n",
        "    while (step < max_iter and la.norm(path[-1] - glob_min) > delta):\n",
        "\n",
        "        # Вычисляем новое значение параметров\n",
        "        params_new = params - lr * grad(params) + beta * (params - params_prev)\n",
        "        params_prev = params\n",
        "        params = params_new\n",
        "        \n",
        "        # Логируем результат\n",
        "        path.append(np.array([params[0], params[1], fun(params)]))\n",
        "        step += 1\n",
        "\n",
        "    return path"
      ],
      "metadata": {
        "id": "FYp_0_LEFQbG"
      },
      "execution_count": 31,
      "outputs": []
    },
    {
      "cell_type": "code",
      "source": [
        "# Для Химмельблау\n",
        "start_time = datetime.now()\n",
        "path = inertial_GD(Himmelblau.fuction, Himmelblau.gradient, np.array([5.,5.]), Himmelblau.get_min(), max_iter = 1000, lr = 0.001)\n",
        "print(\"Himmelblau inertial sgd optimized\\n\", datetime.now() - start_time)"
      ],
      "metadata": {
        "id": "RiEP6e7UFQcw",
        "colab": {
          "base_uri": "https://localhost:8080/"
        },
        "outputId": "8f9108b6-d478-43d6-ed47-40523dbd0b24"
      },
      "execution_count": 32,
      "outputs": [
        {
          "output_type": "stream",
          "name": "stdout",
          "text": [
            "Himmelblau inertial sgd optimized\n",
            " 0:00:00.473974\n"
          ]
        }
      ]
    },
    {
      "cell_type": "code",
      "source": [
        "# Для Матьяса\n",
        "start_time = datetime.now()\n",
        "path = inertial_GD(Matyas.fuction, Matyas.gradient, np.array([-9.,5.]), Matyas.get_min(), max_iter = 1000, lr = 0.1)\n",
        "print(\"Matyas inertial sgd optimized\\n\", datetime.now() - start_time)"
      ],
      "metadata": {
        "id": "HK2qqL_TFQez",
        "colab": {
          "base_uri": "https://localhost:8080/"
        },
        "outputId": "f07d7e5b-2146-4d8f-e013-781ec7e3edcf"
      },
      "execution_count": 33,
      "outputs": [
        {
          "output_type": "stream",
          "name": "stdout",
          "text": [
            "Matyas inertial sgd optimized\n",
            " 0:00:00.488622\n"
          ]
        }
      ]
    },
    {
      "cell_type": "code",
      "source": [
        "@numba.njit(fastmath=True)\n",
        "def Adam_GD(\n",
        "    fun: callable, grad: callable, start_params: np.ndarray, glob_min: np.ndarray, max_iter: int = 1000, \n",
        "    lr: float = 0.1, b1: float = 0.6, b2: float = 0.999, e: float = 10e-8, delta: float = 0.001\n",
        "    ) -> np.array:\n",
        "    \n",
        "    \"\"\"Адаптивный градиентный спуск: Adam\n",
        "\n",
        "    Args:\n",
        "        fun (callable): Функция искуственного ландшавта\n",
        "        start_params (np.ndarray): Стартовый набор параметров\n",
        "        glob_min (np.ndarray): Глобальный минимум рассматриваемой функции\n",
        "        max_iter (int, optional): Ограничение по кол-ву итераций. Defaults to 1000.\n",
        "        lr (float, optional): Шаг обучения. Defaults to 0.1.\n",
        "        b1 (float, optional): Параметр beta1. Defaults to 0.6.\n",
        "        b2 (float, optional): Параметр beta2. Defaults to 0.999.\n",
        "        e (float, optional): \"Бесконечно малое\" число. Defaults to 10e-8.\n",
        "        delta (float, optional): Радиус сходимости. Defaults to 0.001.\n",
        "\n",
        "    Returns:\n",
        "        np.array: История градиентного спуска\n",
        "    \"\"\"\n",
        "\n",
        "    # Рассчитываем начальный набор параметров\n",
        "    params = start_params.copy()\n",
        "    path = [np.array([params[0], params[1], fun(params)])]\n",
        "\n",
        "    # Инициализируем первый и второй моменты\n",
        "    m = np.array([0., 0.])\n",
        "    v = np.array([0., 0.])\n",
        "    \n",
        "    step = 0\n",
        "    while (step < max_iter and la.norm(path[-1] - glob_min) > delta):\n",
        "        \n",
        "        # Считаем первый первый и второй моменты\n",
        "        m = b1 * m + (1 - b1) * grad(params)\n",
        "        v = b2 * v + (1 - b2) * grad(params) ** 2\n",
        "\n",
        "        # Вычисляем новое значение параметров\n",
        "        params = params - lr * m / (np.sqrt(v) + e)\n",
        "        \n",
        "        # Логируем результат\n",
        "        path.append(np.array([params[0], params[1], fun(params)]))\n",
        "        step += 1\n",
        "\n",
        "    return path"
      ],
      "metadata": {
        "id": "4c6JbPLIFQgj"
      },
      "execution_count": 34,
      "outputs": []
    },
    {
      "cell_type": "code",
      "source": [
        "# Для Химмельблау\n",
        "start_time = datetime.now()\n",
        "path = Adam_GD(Himmelblau.fuction, Himmelblau.gradient, np.array([5.,5.]), Himmelblau.get_min(), max_iter = 1000, lr = 0.1)\n",
        "print(\"Himmelblau Adam sgd optimized\\n\", datetime.now() - start_time)"
      ],
      "metadata": {
        "id": "s4ihTWnzFQip",
        "colab": {
          "base_uri": "https://localhost:8080/"
        },
        "outputId": "c6473577-ec7e-4a1b-bfa7-16c470572d76"
      },
      "execution_count": 35,
      "outputs": [
        {
          "output_type": "stream",
          "name": "stdout",
          "text": [
            "Himmelblau Adam sgd optimized\n",
            " 0:00:00.647958\n"
          ]
        }
      ]
    },
    {
      "cell_type": "code",
      "source": [
        "# Для Матьяса\n",
        "start_time = datetime.now()\n",
        "path = Adam_GD(Matyas.fuction, Matyas.gradient, np.array([-9.,5.]), Matyas.get_min(), max_iter = 1000, lr = 0.1)\n",
        "print(\"Matyas Adam sgd optimized\\n\", datetime.now() - start_time)"
      ],
      "metadata": {
        "id": "6jkjS-GfFQkg",
        "colab": {
          "base_uri": "https://localhost:8080/"
        },
        "outputId": "1094ccff-4af7-4d15-f90d-9cc85cd2c838"
      },
      "execution_count": 36,
      "outputs": [
        {
          "output_type": "stream",
          "name": "stdout",
          "text": [
            "Matyas Adam sgd optimized\n",
            " 0:00:00.753242\n"
          ]
        }
      ]
    },
    {
      "cell_type": "markdown",
      "source": [
        "Himmelblau default sgd optimized\n",
        " 0:00:00.602195\n",
        "\n",
        "Himmelblau inertial sgd optimized\n",
        " 0:00:00.525529\n",
        "\n",
        " Himmelblau Adam sgd optimized\n",
        " 0:00:00.506014"
      ],
      "metadata": {
        "id": "MFRNatvZ5p29"
      }
    },
    {
      "cell_type": "markdown",
      "source": [
        "Himmelblau default sgd 0:00:00.602195\n",
        "\n",
        "Himmelblau inertial sgd 0:00:00.525529\n",
        "\n",
        "Himmelblau Adam sgd 0:00:00.506014"
      ],
      "metadata": {
        "id": "0Oz0dI2e6BJM"
      }
    },
    {
      "cell_type": "markdown",
      "source": [
        "Matyas default sgd optimized\n",
        " 0:00:00.542960\n",
        "\n",
        " Matyas inertial sgd optimized\n",
        " 0:00:00.374963\n",
        " \n",
        " Matyas Adam sgd optimized\n",
        " 0:00:00.626916"
      ],
      "metadata": {
        "id": "UGfgdq__6Boq"
      }
    },
    {
      "cell_type": "markdown",
      "source": [
        "Matyas default sgd 0:00:00.542960\n",
        "\n",
        "Matyas inertial sgd 0:00:00.374963\n",
        "\n",
        "Matyas Adam sgd 0:00:00.626916"
      ],
      "metadata": {
        "id": "WhPoYsO06B_y"
      }
    }
  ]
}